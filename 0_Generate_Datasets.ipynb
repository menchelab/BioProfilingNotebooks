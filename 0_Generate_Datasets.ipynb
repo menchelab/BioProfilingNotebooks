{
 "cells": [
  {
   "cell_type": "markdown",
   "metadata": {},
   "source": [
    "# Generate artificial data sets\n",
    "Here, we generate data sets to explore the behavior of scores describing differences between high-dimensional point clouds in presence of noise and outliers.  "
   ]
  },
  {
   "cell_type": "markdown",
   "metadata": {},
   "source": [
    "This script output the following datasets:\n",
    "\n",
    "* `matR.csv` - Reference dataset, following a centered multivariate normal distribution\n",
    "* `matN.csv` - Negative control dataset, using the same generator used for reference dataset\n",
    "* `matPS.csv` - Positive control dataset, shifted (center coordinates now follow a centered normal distribution with standard deviation 0.5) while the covariance is kept identical to reference dataset\n",
    "* `matPR.csv` - Positive control dataset, centered but with the squared covariance matrix compared to the reference dataset\n",
    "\n",
    "As well as `matRo.csv`, `matNo.csv`, `matPSo.csv` and `matPRo.csv` which follow the same rules but include outliers."
   ]
  },
  {
   "cell_type": "code",
   "execution_count": null,
   "metadata": {},
   "outputs": [],
   "source": [
    "using Random, Distributions, RCall\n",
    "using DataFrames, CSV\n",
    "\n",
    "using LinearAlgebra: I, Diagonal, diag, det, qr, Symmetric"
   ]
  },
  {
   "cell_type": "code",
   "execution_count": null,
   "metadata": {},
   "outputs": [],
   "source": [
    "@rlibrary ggplot2\n",
    "@rlibrary extrafont"
   ]
  },
  {
   "cell_type": "code",
   "execution_count": null,
   "metadata": {},
   "outputs": [],
   "source": [
    "R\"\"\"\n",
    "# Used later for MCD computation\n",
    "\n",
    "library(robustbase)\n",
    "\n",
    "# Customize ggplot appearance\n",
    "\n",
    "library(ggplot2)\n",
    "library(extrafont)\n",
    "\n",
    "\n",
    "# Load extra fonts\n",
    "ttf_import(paths = \"/tmp/.fonts/\")\n",
    "loadfonts()\n",
    "\n",
    "# Change theme\n",
    "customTheme <- theme_light() + \n",
    "               theme(panel.grid.minor=element_blank(), text=element_text(size=17, family=\"Arial\", colour = \"#333333\"),\n",
    "                     line=element_line(colour = \"#333333\"), \n",
    "                     legend.background = element_rect(fill=alpha('#CCCCCC', 0.1)), legend.key = element_blank())\n",
    "\n",
    "# Change default colors\n",
    "scale_colour_continuous <- function (..., begin = 0.1, end = 0.9, direction = -1, option = \"plasma\", \n",
    "                                     type = getOption(\"ggplot2.continuous.colour\", default = \"viridis\")) {\n",
    "    switch(type, gradient = scale_colour_gradient(...), \n",
    "        viridis = scale_colour_viridis_c(option = option, begin = begin, end = end, direction = direction, ...), \n",
    "        stop(\"Unknown scale type\", call. = FALSE))\n",
    "}\n",
    "scale_color_continuous <- scale_colour_continuous\n",
    "\n",
    "scale_fill_continuous <- function (..., begin = 0.1, end = 0.9, direction = -1, option = \"plasma\", \n",
    "                                     type = getOption(\"ggplot2.continuous.colour\", default = \"viridis\")) {\n",
    "    switch(type, gradient = scale_fill_gradient(...), \n",
    "        viridis = scale_fill_viridis_c(option = option, begin = begin, end = end, direction = direction, ...), \n",
    "        stop(\"Unknown scale type\", call. = FALSE))\n",
    "\n",
    "}\n",
    "\n",
    "cemm_pal = colorRampPalette(c(\"#5A463C\", \"#008CAD\", \"#40B9D4\", \"#D4ECF2\", \"#D2323C\", \"#F8B100\", \"#DFDC00\"))\n",
    "scale_fill_discrete <- function (..., type = \"CeMM\", h = c(0, 360) + 15, c = 100, l = 65, h.start = 0, \n",
    "    direction = 1, na.value = \"grey50\", aesthetics = \"fill\") \n",
    "{\n",
    "    if (type == \"CeMM\"){\n",
    "        discrete_scale(aesthetics, \"CeMM\", cemm_pal, na.value = na.value, ...)\n",
    "    } else {\n",
    "        discrete_scale(aesthetics, \"hue\", hue_pal(h, c, l, h.start, \n",
    "            direction), na.value = na.value, ...)\n",
    "    }\n",
    "}\n",
    "\n",
    "scale_color_discrete <- function (..., type = \"CeMM\", h = c(0, 360) + 15, c = 100, l = 65, h.start = 0, \n",
    "    direction = 1, na.value = \"grey50\", aesthetics = \"colour\") {\n",
    "    if (type == \"CeMM\"){\n",
    "        discrete_scale(aesthetics, \"CeMM\", cemm_pal, na.value = na.value, ...)\n",
    "    } else {\n",
    "        discrete_scale(aesthetics, \"hue\", scales::hue_pal(h, c, l, h.start, \n",
    "            direction), na.value = na.value, ...)\n",
    "    }\n",
    "}\n",
    "scale_colour_discrete <- scale_color_discrete\n",
    "\n",
    "noGridTheme <- function(...){\n",
    "    theme(panel.grid.major=element_blank(), axis.text.x=element_text(size=12), axis.text.y=element_text(size=12),\n",
    "                      axis.line=element_line(color=\"#333333\", size = 0.2), panel.border = element_blank(), ...)\n",
    "}\n",
    "\n",
    "darkTheme <- function(...){\n",
    "    theme(panel.background = element_rect(fill = '#333333'), plot.background = element_rect(fill = '#333333'), \n",
    "          axis.line=element_line(color=\"#CCCCCC\", size = 0.2), \n",
    "          text=element_text(size=17, family=\"Arial\", colour = \"#CCCCCC\"),\n",
    "          line=element_line(colour = \"#CCCCCC\"))\n",
    "}\n",
    "\n",
    "theme_set(customTheme)\n",
    "\n",
    "options(repr.plot.width=10, repr.plot.height=10)\n",
    "\"\"\""
   ]
  },
  {
   "cell_type": "code",
   "execution_count": null,
   "metadata": {},
   "outputs": [],
   "source": [
    "# Number of points in control dataset\n",
    "NR = 4500\n",
    "# Number of points in other datasets\n",
    "N = 1500\n",
    "# Number of dimensions in each dataset\n",
    "D = 100\n",
    "# Percentage of datasets contaminated with outliers\n",
    "pOutliers = 1/3\n",
    "# Scaling of the transformation for positive controls\n",
    "posScaling = 1.0;"
   ]
  },
  {
   "cell_type": "markdown",
   "metadata": {},
   "source": [
    "## Dataset 1 - Reference R\n",
    "We assume our data of interest to follow a multivariate normal distribution: In a morphological profiling, components are to some extent *independent (by removing correlated morphological features) and* normally distributed (by using a log-transformation)."
   ]
  },
  {
   "cell_type": "code",
   "execution_count": null,
   "metadata": {},
   "outputs": [],
   "source": [
    "Random.seed!(1);"
   ]
  },
  {
   "cell_type": "markdown",
   "metadata": {},
   "source": [
    "### Data center"
   ]
  },
  {
   "cell_type": "code",
   "execution_count": null,
   "metadata": {},
   "outputs": [],
   "source": [
    "# The reference is centered on 0\n",
    "µ = zeros(D);"
   ]
  },
  {
   "cell_type": "markdown",
   "metadata": {},
   "source": [
    "### Data covariance"
   ]
  },
  {
   "cell_type": "code",
   "execution_count": null,
   "metadata": {},
   "outputs": [],
   "source": [
    "# Diagonal: variances follow a Gamma distribution of shape and scale parameters equal to 1 and 2\n",
    "# Rationale: Some variability in scales with some high values, and no negative values\n",
    "# NB: Beta distribution could be used instead of Gamma distribution if long-tail is not needed\n",
    "# NB: Effects are smoothed by the orthogonal transformation anyway\n",
    "distrib = Gamma(1,2)\n",
    "sigma_diag = rand(distrib, D);"
   ]
  },
  {
   "cell_type": "code",
   "execution_count": null,
   "metadata": {},
   "outputs": [],
   "source": [
    "ggplot(DataFrame(x = sigma_diag)) + geom_histogram(aes(:x))"
   ]
  },
  {
   "cell_type": "code",
   "execution_count": null,
   "metadata": {},
   "outputs": [],
   "source": [
    "# Now we transform this space by multiplying by a random orthogonal matrix\n",
    "s = rand(D,D)\n",
    "Q, R = qr(s);"
   ]
  },
  {
   "cell_type": "code",
   "execution_count": null,
   "metadata": {},
   "outputs": [],
   "source": [
    "# NB: becomes really slow, do not try with D > 500\n",
    "∑ = Q' * Diagonal(sigma_diag) * Q;"
   ]
  },
  {
   "cell_type": "code",
   "execution_count": null,
   "metadata": {},
   "outputs": [],
   "source": [
    "# Check that the matrix is symmetrical (up to machine error)\n",
    "@assert all([∑[i,j] ≈ ∑[j,i] for i in 1:D for j in 1:D if j>i])\n",
    "# Make it perfectly symmetrical\n",
    "[∑[i,j] = ∑[j,i] for i in 1:D for j in 1:D if j>i]\n",
    "# Sylvester's criterion of positive semidefinite matrices\n",
    "@assert all([det(∑[1:size,1:size]) > 0 for size in 1:D])"
   ]
  },
  {
   "cell_type": "code",
   "execution_count": null,
   "metadata": {
    "scrolled": true
   },
   "outputs": [],
   "source": [
    "ggplot(DataFrame(x = diag(∑))) + geom_histogram(aes(:x)) "
   ]
  },
  {
   "cell_type": "markdown",
   "metadata": {},
   "source": [
    "### Output reference dataset"
   ]
  },
  {
   "cell_type": "code",
   "execution_count": null,
   "metadata": {},
   "outputs": [],
   "source": [
    "# The data will follow a multivariate normal distribution with the parameters\n",
    "# we generated previously\n",
    "distrib = MvNormal(µ, ∑);"
   ]
  },
  {
   "cell_type": "code",
   "execution_count": null,
   "metadata": {
    "scrolled": true
   },
   "outputs": [],
   "source": [
    "matR = DataFrame(rand(distrib, NR)')"
   ]
  },
  {
   "cell_type": "code",
   "execution_count": null,
   "metadata": {},
   "outputs": [],
   "source": [
    "mkpath(\"Data\")\n",
    "CSV.write(\"Data/matR.csv\", matR; delim=\",\", writeheader = false)"
   ]
  },
  {
   "cell_type": "markdown",
   "metadata": {},
   "source": [
    "### Covariance matrix (for exploration only)\n",
    "By definition, $\\text{cov}(x,y) = E[x,y] - E[x]E[y]$.\n",
    "Here because the distribution is centered, $E[x) = E(y) = 0$, so the covariance between 2 variables can be seen as the propension for both variables to jointly yield big values of the same sign."
   ]
  },
  {
   "cell_type": "code",
   "execution_count": null,
   "metadata": {},
   "outputs": [],
   "source": [
    "# Convert to covariance\n",
    "sds = 1 ./(sqrt.(diag(∑)))\n",
    "corSig = Diagonal(sds)*∑*Diagonal(sds)"
   ]
  },
  {
   "cell_type": "code",
   "execution_count": null,
   "metadata": {},
   "outputs": [],
   "source": [
    "ggplot(DataFrame(x = vcat(corSig - I...))) + geom_histogram(aes(:x))  "
   ]
  },
  {
   "cell_type": "code",
   "execution_count": null,
   "metadata": {
    "scrolled": true
   },
   "outputs": [],
   "source": [
    "println(maximum(corSig - I))\n",
    "println(minimum(corSig - I))\n",
    "println(var(corSig - I))"
   ]
  },
  {
   "cell_type": "markdown",
   "metadata": {},
   "source": [
    "## Dataset 2 - Negative control N\n",
    "This is generated with the same generator as the positive control"
   ]
  },
  {
   "cell_type": "code",
   "execution_count": null,
   "metadata": {},
   "outputs": [],
   "source": [
    "Random.seed!(2);"
   ]
  },
  {
   "cell_type": "markdown",
   "metadata": {},
   "source": [
    "### Output negative control dataset"
   ]
  },
  {
   "cell_type": "code",
   "execution_count": null,
   "metadata": {},
   "outputs": [],
   "source": [
    "matN = DataFrame(rand(distrib, N)')"
   ]
  },
  {
   "cell_type": "code",
   "execution_count": null,
   "metadata": {},
   "outputs": [],
   "source": [
    "mkpath(\"Data\")\n",
    "CSV.write(\"Data/matN.csv\", matN; delim=\",\", writeheader = false)"
   ]
  },
  {
   "cell_type": "markdown",
   "metadata": {},
   "source": [
    "## Dataset 3 - Positive control (shifted) PS"
   ]
  },
  {
   "cell_type": "code",
   "execution_count": null,
   "metadata": {},
   "outputs": [],
   "source": [
    "Random.seed!(3);"
   ]
  },
  {
   "cell_type": "markdown",
   "metadata": {},
   "source": [
    "### Data center"
   ]
  },
  {
   "cell_type": "code",
   "execution_count": null,
   "metadata": {},
   "outputs": [],
   "source": [
    "# The reference is not centered on 0 anymore\n",
    "distrib = Normal(0, 0.5*posScaling)\n",
    "µmod = rand(distrib, D)"
   ]
  },
  {
   "cell_type": "markdown",
   "metadata": {},
   "source": [
    "### Output shifted dataset"
   ]
  },
  {
   "cell_type": "code",
   "execution_count": null,
   "metadata": {},
   "outputs": [],
   "source": [
    "# The data will follow a multivariate normal distribution with the parameters\n",
    "# we generated previously\n",
    "distrib = MvNormal(µmod, ∑);"
   ]
  },
  {
   "cell_type": "code",
   "execution_count": null,
   "metadata": {},
   "outputs": [],
   "source": [
    "matPS = DataFrame(rand(distrib, N)')"
   ]
  },
  {
   "cell_type": "code",
   "execution_count": null,
   "metadata": {},
   "outputs": [],
   "source": [
    "mkpath(\"Data\")\n",
    "CSV.write(\"Data/matPS.csv\", matPS; delim=\",\", writeheader = false)"
   ]
  },
  {
   "cell_type": "markdown",
   "metadata": {},
   "source": [
    "## Dataset 4 - Positive control (reshaped) PR\n",
    "This is generated with a covariance increased in all direction, so the reshaped data is more spread than reference."
   ]
  },
  {
   "cell_type": "code",
   "execution_count": null,
   "metadata": {},
   "outputs": [],
   "source": [
    "Random.seed!(4);"
   ]
  },
  {
   "cell_type": "markdown",
   "metadata": {},
   "source": [
    "### Data covariance"
   ]
  },
  {
   "cell_type": "code",
   "execution_count": null,
   "metadata": {},
   "outputs": [],
   "source": [
    "# We increase the variation in all direction\n",
    "∑mod = ∑^(1+posScaling)"
   ]
  },
  {
   "cell_type": "code",
   "execution_count": null,
   "metadata": {},
   "outputs": [],
   "source": [
    "# Check that the matrix is symmetrical (up to machine error)\n",
    "@assert all([∑mod[i,j] ≈ ∑mod[j,i] for i in 1:D for j in 1:D if j>i])\n",
    "# Make it perfectly symmetrical\n",
    "if !(∑mod isa Symmetric)\n",
    "    [∑mod[i,j] = ∑mod[j,i] for i in 1:D for j in 1:D if j>i]\n",
    "end\n",
    "# Sylvester's criterion of positive semidefinite matrices\n",
    "@assert all([det(∑mod[1:size,1:size]) > 0 for size in 1:D])"
   ]
  },
  {
   "cell_type": "code",
   "execution_count": null,
   "metadata": {},
   "outputs": [],
   "source": [
    "ggplot(DataFrame(x = diag(∑mod))) + geom_histogram(aes(:x)) "
   ]
  },
  {
   "cell_type": "markdown",
   "metadata": {},
   "source": [
    "### Output reshaped dataset"
   ]
  },
  {
   "cell_type": "code",
   "execution_count": null,
   "metadata": {},
   "outputs": [],
   "source": [
    "# The data will follow a multivariate normal distribution with the parameters\n",
    "# we generated previously\n",
    "distrib = MvNormal(µ, ∑mod);"
   ]
  },
  {
   "cell_type": "code",
   "execution_count": null,
   "metadata": {},
   "outputs": [],
   "source": [
    "matPR = DataFrame(rand(distrib, N)')"
   ]
  },
  {
   "cell_type": "code",
   "execution_count": null,
   "metadata": {},
   "outputs": [],
   "source": [
    "mkpath(\"Data\")\n",
    "CSV.write(\"Data/matPR.csv\", matPR; delim=\",\", writeheader = false)"
   ]
  },
  {
   "cell_type": "markdown",
   "metadata": {},
   "source": [
    "## Dataset 5 - Reference with outliers Ro\n",
    "We add outliers from a different distribution to our reference set: In a morphological profiling, some outliers often result from technical artifacts (e.g. dye precipitation, bubbles) or biological confounders (e.g. cell cycle)."
   ]
  },
  {
   "cell_type": "code",
   "execution_count": null,
   "metadata": {},
   "outputs": [],
   "source": [
    "Random.seed!(5);"
   ]
  },
  {
   "cell_type": "markdown",
   "metadata": {},
   "source": [
    "### Data center"
   ]
  },
  {
   "cell_type": "code",
   "execution_count": null,
   "metadata": {},
   "outputs": [],
   "source": [
    "# The reference still is centered (center µ)\n",
    "# The outliers are not centered on 0 anymore\n",
    "distrib = Normal(0, 1)\n",
    "µOutliers = rand(distrib, D)"
   ]
  },
  {
   "cell_type": "markdown",
   "metadata": {},
   "source": [
    "### Data covariance"
   ]
  },
  {
   "cell_type": "code",
   "execution_count": null,
   "metadata": {},
   "outputs": [],
   "source": [
    "# The covariance of the outliers is similar but independent of the reference points\n",
    "distrib = Gamma(1,2)\n",
    "sigma_diagOutliers = rand(distrib, D);"
   ]
  },
  {
   "cell_type": "code",
   "execution_count": null,
   "metadata": {},
   "outputs": [],
   "source": [
    "# Now we transform this space by multiplying by a random orthogonal matrix\n",
    "s = rand(D,D)\n",
    "Q, R = qr(s);"
   ]
  },
  {
   "cell_type": "code",
   "execution_count": null,
   "metadata": {},
   "outputs": [],
   "source": [
    "# NB: becomes really slow, do not try with D > 500\n",
    "∑Outliers = Q' * Diagonal(sigma_diagOutliers) * Q;"
   ]
  },
  {
   "cell_type": "code",
   "execution_count": null,
   "metadata": {},
   "outputs": [],
   "source": [
    "# Check that the matrix is symmetrical (up to machine error)\n",
    "@assert all([∑Outliers[i,j] ≈ ∑Outliers[j,i] for i in 1:D for j in 1:D if j>i])\n",
    "# Make it perfectly symmetrical\n",
    "[∑Outliers[i,j] = ∑Outliers[j,i] for i in 1:D for j in 1:D if j>i]\n",
    "# Sylvester's criterion of positive semidefinite matrices\n",
    "@assert all([det(∑Outliers[1:size,1:size]) > 0 for size in 1:D])"
   ]
  },
  {
   "cell_type": "code",
   "execution_count": null,
   "metadata": {
    "scrolled": true
   },
   "outputs": [],
   "source": [
    "ggplot(DataFrame(x = diag(∑Outliers))) + geom_histogram(aes(:x)) "
   ]
  },
  {
   "cell_type": "markdown",
   "metadata": {},
   "source": [
    "### Output reference dataset"
   ]
  },
  {
   "cell_type": "code",
   "execution_count": null,
   "metadata": {},
   "outputs": [],
   "source": [
    "# 80% of the data will follow a multivariate normal distribution with the parameters\n",
    "# we generated previously\n",
    "distrib = MvNormal(µ, ∑);\n",
    "distribOutliers = MvNormal(µOutliers, ∑Outliers);"
   ]
  },
  {
   "cell_type": "code",
   "execution_count": null,
   "metadata": {
    "scrolled": true
   },
   "outputs": [],
   "source": [
    "matRo = DataFrame(hcat(rand(distrib, Int(round(NR*(1-pOutliers)))),\n",
    "                      rand(distribOutliers, Int(round(NR*pOutliers))))')"
   ]
  },
  {
   "cell_type": "code",
   "execution_count": null,
   "metadata": {},
   "outputs": [],
   "source": [
    "mkpath(\"Data\")\n",
    "CSV.write(\"Data/matRo.csv\", matRo; delim=\",\", writeheader = false)"
   ]
  },
  {
   "cell_type": "markdown",
   "metadata": {},
   "source": [
    "## Dataset 6 - Negative control with outliers No\n",
    "This is generated with the same generator as the positive control"
   ]
  },
  {
   "cell_type": "code",
   "execution_count": null,
   "metadata": {},
   "outputs": [],
   "source": [
    "Random.seed!(6);"
   ]
  },
  {
   "cell_type": "markdown",
   "metadata": {},
   "source": [
    "### Output negative control dataset"
   ]
  },
  {
   "cell_type": "code",
   "execution_count": null,
   "metadata": {
    "scrolled": true
   },
   "outputs": [],
   "source": [
    "matNo = DataFrame(hcat(rand(distrib, Int(round(N*(1-pOutliers)))),\n",
    "                      rand(distribOutliers, Int(round(N*pOutliers))))')"
   ]
  },
  {
   "cell_type": "code",
   "execution_count": null,
   "metadata": {},
   "outputs": [],
   "source": [
    "mkpath(\"Data\")\n",
    "CSV.write(\"Data/matNo.csv\", matNo; delim=\",\", writeheader = false)"
   ]
  },
  {
   "cell_type": "markdown",
   "metadata": {},
   "source": [
    "## Dataset 7 - Positive control (shifted) with outliers PSo"
   ]
  },
  {
   "cell_type": "code",
   "execution_count": null,
   "metadata": {},
   "outputs": [],
   "source": [
    "Random.seed!(7);"
   ]
  },
  {
   "cell_type": "markdown",
   "metadata": {},
   "source": [
    "### Data center\n",
    "The reference is centered on µmod as previously generated"
   ]
  },
  {
   "cell_type": "markdown",
   "metadata": {},
   "source": [
    "### Output shifted dataset"
   ]
  },
  {
   "cell_type": "code",
   "execution_count": null,
   "metadata": {},
   "outputs": [],
   "source": [
    "# The data will follow a multivariate normal distribution with the parameters\n",
    "# we generated previously\n",
    "distrib = MvNormal(µmod, ∑);"
   ]
  },
  {
   "cell_type": "code",
   "execution_count": null,
   "metadata": {},
   "outputs": [],
   "source": [
    "matPSo = DataFrame(hcat(rand(distrib, Int(round(N*(1-pOutliers)))),\n",
    "                        rand(distribOutliers, Int(round(N*pOutliers))))')"
   ]
  },
  {
   "cell_type": "code",
   "execution_count": null,
   "metadata": {},
   "outputs": [],
   "source": [
    "mkpath(\"Data\")\n",
    "CSV.write(\"Data/matPSo.csv\", matPSo; delim=\",\", writeheader = false)"
   ]
  },
  {
   "cell_type": "markdown",
   "metadata": {},
   "source": [
    "## Dataset 8 - Positive control (reshaped) with outliers PRo"
   ]
  },
  {
   "cell_type": "code",
   "execution_count": null,
   "metadata": {},
   "outputs": [],
   "source": [
    "Random.seed!(8);"
   ]
  },
  {
   "cell_type": "markdown",
   "metadata": {},
   "source": [
    "### Data covariance\n",
    "We use the larger covariance matrix ∑mod previously generated."
   ]
  },
  {
   "cell_type": "markdown",
   "metadata": {},
   "source": [
    "### Output reshaped dataset"
   ]
  },
  {
   "cell_type": "code",
   "execution_count": null,
   "metadata": {},
   "outputs": [],
   "source": [
    "# The data will follow a multivariate normal distribution with the parameters\n",
    "# we generated previously\n",
    "distrib = MvNormal(µ, ∑mod);"
   ]
  },
  {
   "cell_type": "code",
   "execution_count": null,
   "metadata": {
    "scrolled": true
   },
   "outputs": [],
   "source": [
    "matPRo = DataFrame(hcat(rand(distrib, Int(round(N*(1-pOutliers)))),\n",
    "                        rand(distribOutliers, Int(round(N*pOutliers))))')"
   ]
  },
  {
   "cell_type": "code",
   "execution_count": null,
   "metadata": {},
   "outputs": [],
   "source": [
    "mkpath(\"Data\")\n",
    "CSV.write(\"Data/matPRo.csv\", matPRo; delim=\",\", writeheader = false)"
   ]
  }
 ],
 "metadata": {
  "kernelspec": {
   "display_name": "Julia 1.1.0",
   "language": "julia",
   "name": "julia-1.1"
  },
  "language_info": {
   "file_extension": ".jl",
   "mimetype": "application/julia",
   "name": "julia",
   "version": "1.1.0"
  }
 },
 "nbformat": 4,
 "nbformat_minor": 2
}
