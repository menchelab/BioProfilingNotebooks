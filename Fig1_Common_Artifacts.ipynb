{
 "cells": [
  {
   "cell_type": "markdown",
   "id": "accepting-disorder",
   "metadata": {},
   "source": [
    "# Notebook 1 - Common artifacts quantification\n",
    "In this notebook, we quantify how common some imaging artifacts are across multiple datasets."
   ]
  },
  {
   "cell_type": "markdown",
   "id": "stuck-playback",
   "metadata": {},
   "source": [
    "## Settings"
   ]
  },
  {
   "cell_type": "markdown",
   "id": "verified-heater",
   "metadata": {},
   "source": [
    "Load packages"
   ]
  },
  {
   "cell_type": "code",
   "execution_count": 1,
   "id": "atlantic-freeze",
   "metadata": {},
   "outputs": [],
   "source": [
    "using StatsBase, Statistics, DataFrames, RCall, Random \n",
    "using CategoricalArrays\n",
    "using Dates: now\n",
    "using DataStructures: DefaultDict"
   ]
  },
  {
   "cell_type": "code",
   "execution_count": 2,
   "id": "cultural-article",
   "metadata": {},
   "outputs": [],
   "source": [
    "@rlibrary ggplot2\n",
    "@rlibrary extrafont"
   ]
  },
  {
   "cell_type": "code",
   "execution_count": 3,
   "id": "democratic-spine",
   "metadata": {},
   "outputs": [
    {
     "name": "stderr",
     "output_type": "stream",
     "text": [
      "┌ Warning: RCall.jl: Registering fonts with R\n",
      "└ @ RCall /opt/julia/packages/RCall/3mHXJ/src/io.jl:160\n",
      "┌ Warning: RCall.jl: Scanning ttf files in /tmp/.fonts/ ...\n",
      "│ Extracting .afm files from .ttf files...\n",
      "│ /tmp/.fonts/Arial.ttf : ArialMT already registered in fonts database. Skipping.\n",
      "│ Found FontName for 0 fonts.\n",
      "│ Scanning afm files in /opt/conda/lib/R/library/extrafontdb/metrics\n",
      "│ Warning in grepl(\"^FamilyName\", text) :\n",
      "│   input string 4 is invalid in this locale\n",
      "│ Warning in grepl(\"^FontName\", text) :\n",
      "│   input string 4 is invalid in this locale\n",
      "│ Warning in grepl(\"^FullName\", text) :\n",
      "│   input string 4 is invalid in this locale\n",
      "│ Warning in grepl(\"^Weight\", text) :\n",
      "│   input string 4 is invalid in this locale\n",
      "└ @ RCall /opt/julia/packages/RCall/3mHXJ/src/io.jl:160\n",
      "┌ Warning: RCall.jl: Arial already registered with pdfFonts().\n",
      "└ @ RCall /opt/julia/packages/RCall/3mHXJ/src/io.jl:160\n"
     ]
    },
    {
     "data": {
      "text/plain": [
       "RObject{VecSxp}\n",
       "$repr.plot.width\n",
       "NULL\n",
       "\n",
       "$repr.plot.height\n",
       "NULL\n",
       "\n"
      ]
     },
     "execution_count": 3,
     "metadata": {},
     "output_type": "execute_result"
    }
   ],
   "source": [
    "R\"\"\"\n",
    "\n",
    "# Customize ggplot appearance\n",
    "\n",
    "library(ggplot2)\n",
    "library(extrafont)\n",
    "\n",
    "\n",
    "# Load extra fonts\n",
    "ttf_import(paths = \"/tmp/.fonts/\")\n",
    "loadfonts()\n",
    "\n",
    "# Change theme\n",
    "customTheme <- theme_light() + \n",
    "               theme(panel.grid.minor=element_blank(), text=element_text(size=17, family=\"Arial\", colour = \"#333333\"),\n",
    "                     line=element_line(colour = \"#333333\"), \n",
    "                     legend.background = element_rect(fill=alpha('#CCCCCC', 0.1)), legend.key = element_blank())\n",
    "\n",
    "# Change default colors\n",
    "scale_colour_continuous <- function (..., begin = 0.1, end = 0.9, direction = -1, option = \"plasma\", \n",
    "                                     type = getOption(\"ggplot2.continuous.colour\", default = \"viridis\")) {\n",
    "    switch(type, gradient = scale_colour_gradient(...), \n",
    "        viridis = scale_colour_viridis_c(option = option, begin = begin, end = end, direction = direction, ...), \n",
    "        stop(\"Unknown scale type\", call. = FALSE))\n",
    "}\n",
    "scale_color_continuous <- scale_colour_continuous\n",
    "\n",
    "scale_fill_continuous <- function (..., begin = 0.1, end = 0.9, direction = -1, option = \"plasma\", \n",
    "                                     type = getOption(\"ggplot2.continuous.colour\", default = \"viridis\")) {\n",
    "    switch(type, gradient = scale_fill_gradient(...), \n",
    "        viridis = scale_fill_viridis_c(option = option, begin = begin, end = end, direction = direction, ...), \n",
    "        stop(\"Unknown scale type\", call. = FALSE))\n",
    "\n",
    "}\n",
    "\n",
    "cemm_pal = colorRampPalette(c(\"#5A463C\", \"#008CAD\", \"#40B9D4\", \"#D4ECF2\", \"#D2323C\", \"#F8B100\", \"#DFDC00\"))\n",
    "scale_fill_discrete <- function (..., type = \"CeMM\", h = c(0, 360) + 15, c = 100, l = 65, h.start = 0, \n",
    "    direction = 1, na.value = \"grey50\", aesthetics = \"fill\") \n",
    "{\n",
    "    if (type == \"CeMM\"){\n",
    "        discrete_scale(aesthetics, \"CeMM\", cemm_pal, na.value = na.value, ...)\n",
    "    } else {\n",
    "        discrete_scale(aesthetics, \"hue\", hue_pal(h, c, l, h.start, \n",
    "            direction), na.value = na.value, ...)\n",
    "    }\n",
    "}\n",
    "\n",
    "scale_color_discrete <- function (..., type = \"CeMM\", h = c(0, 360) + 15, c = 100, l = 65, h.start = 0, \n",
    "    direction = 1, na.value = \"grey50\", aesthetics = \"colour\") {\n",
    "    if (type == \"CeMM\"){\n",
    "        discrete_scale(aesthetics, \"CeMM\", cemm_pal, na.value = na.value, ...)\n",
    "    } else {\n",
    "        discrete_scale(aesthetics, \"hue\", scales::hue_pal(h, c, l, h.start, \n",
    "            direction), na.value = na.value, ...)\n",
    "    }\n",
    "}\n",
    "scale_colour_discrete <- scale_color_discrete\n",
    "\n",
    "noGridTheme <- function(...){\n",
    "    theme(panel.grid.major=element_blank(), axis.text.x=element_text(size=12), axis.text.y=element_text(size=12),\n",
    "                      axis.line=element_line(color=\"#333333\", size = 0.2), panel.border = element_blank(), ...)\n",
    "}\n",
    "\n",
    "darkTheme <- function(...){\n",
    "    theme(panel.background = element_rect(fill = '#333333'), plot.background = element_rect(fill = '#333333'), \n",
    "          axis.line=element_line(color=\"#CCCCCC\", size = 0.2),\n",
    "          text=element_text(size=17, family=\"Arial\", colour = \"#CCCCCC\"),\n",
    "          axis.text = element_text(size=12, family=\"Arial\", colour = \"#CCCCCC\"),\n",
    "          line=element_line(colour = \"#CCCCCC\"))\n",
    "}\n",
    "\n",
    "theme_set(customTheme)\n",
    "\n",
    "options(repr.plot.width=10, repr.plot.height=10)\n",
    "\"\"\""
   ]
  },
  {
   "cell_type": "markdown",
   "id": "remarkable-script",
   "metadata": {},
   "source": [
    "## Loading data"
   ]
  },
  {
   "cell_type": "code",
   "execution_count": 4,
   "id": "structural-microwave",
   "metadata": {
    "scrolled": true
   },
   "outputs": [
    {
     "data": {
      "text/plain": [
       "\"C\\tC\\t-\\tC\\t-\\tB,C\\tC\\t-\\t-\\n-\\tC\\t-\\tD\\t-\\t-\\tC\\t-\\t-\\nC\\t-\\t-\\tC\\tC\\tC\\t-\\t-\\t-\\n-\\t-\\t-\\tC\\t-\\t-\\t-\\t-\\t-\\n-\\t-\\tC\\t-\\t-\\t-\\t-\\t-\\t-\\n-\\t-\\t-\\t-\\tC\\tC\\t-\\t-\\t-\""
      ]
     },
     "execution_count": 4,
     "metadata": {},
     "output_type": "execute_result"
    }
   ],
   "source": [
    "# The following is copied directly from the Excel files in which artifacts were counted\n",
    "rawCounts = Dict{String, String}()\n",
    "rawCounts[\"Rohban et al\"] = \"\"\"-\t-\tC\tS3,C\tC\t-\t-\t-\tC\n",
    "S3\tC\tS3\tC,D\t-\tS3,C\tC\tS3\tS3\n",
    "-\tS3,C\tC\tC\tP\tC,D\tP\tS3,C\t-\n",
    "S3,S4\t-\t-\tS4,C\tC\tP\tS3,C\t-\t-\n",
    "C\tS3\tC\tC\tC\tC,D\tC\tS3\tC\n",
    "C\tS3,C\t-\tS3,C\tC\tC\tP\tC\tS3,C\"\"\"\n",
    "rawCounts[\"Breinig et al\"] = \"\"\"D,P\tD\tP\tP\n",
    "C\tC\tC,D\t-\n",
    "D\tC,D\tC\tC\n",
    "P\t-\tD\tD\n",
    "C\t-\tC\t-\n",
    "C,D\tS1\tC\tD,P\n",
    "D\tD\tD,P\tD,P\n",
    "S1,D\tC\tD\tC\n",
    "-\tC\tC\tC\n",
    "D\tS2,C\tD\tC\n",
    "C\tS1\tC\tC\n",
    "D,P\tS1,D,P\tD\tD,P\"\"\"\n",
    "rawCounts[\"Caldera et al\"] = \"\"\"-\t-\t-\tD\n",
    "-\tC\t-\t-\n",
    "C\tC,D\t-\t-\n",
    "C\t-\t-\t-\n",
    "-\t-\tC\tD\n",
    "B\t-\t-\t-\n",
    "-\t-\t-\tD\n",
    "-\tC\tC\t-\n",
    "D\t-\tC\t-\n",
    "B\tC\tB,C\tC\n",
    "C\tC\t-\t-\n",
    "-\t-\t-\t-\"\"\"\n",
    "rawCounts[\"Gustafsdottir,\\net al\"] = \"\"\"C\tC\t-\tC\t-\tB,C\tC\t-\t-\n",
    "-\tC\t-\tD\t-\t-\tC\t-\t-\n",
    "C\t-\t-\tC\tC\tC\t-\t-\t-\n",
    "-\t-\t-\tC\t-\t-\t-\t-\t-\n",
    "-\t-\tC\t-\t-\t-\t-\t-\t-\n",
    "-\t-\t-\t-\tC\tC\t-\t-\t-\"\"\""
   ]
  },
  {
   "cell_type": "code",
   "execution_count": 5,
   "id": "vertical-stability",
   "metadata": {},
   "outputs": [
    {
     "data": {
      "text/plain": [
       "Dict{String,Dict{SubString{String},Int64}} with 4 entries:\n",
       "  \"Rohban et al\"          => Dict{SubString{String},Int64}(\"S3,S4\"=>1,\"S3,C\"=>8…\n",
       "  \"Caldera et al\"         => Dict{SubString{String},Int64}(\"B\"=>2,\"C,D\"=>1,\"B,C…\n",
       "  \"Gustafsdottir,\\net al\" => Dict{SubString{String},Int64}(\"B,C\"=>1,\"-\"=>38,\"C\"…\n",
       "  \"Breinig et al\"         => Dict{SubString{String},Int64}(\"C,D\"=>3,\"S1\"=>2,\"-\"…"
      ]
     },
     "execution_count": 5,
     "metadata": {},
     "output_type": "execute_result"
    }
   ],
   "source": [
    "# We observe the frequence of each artifact type in the dataset\n",
    "countEachArtifact(x) = countmap(split(replace(x, '\\n' => '\\t'), '\\t'))\n",
    "artifactCounts = Dict((k,countEachArtifact(v)) for (k,v) in rawCounts)"
   ]
  },
  {
   "cell_type": "code",
   "execution_count": 6,
   "id": "graduate-mongolia",
   "metadata": {},
   "outputs": [],
   "source": [
    "# We transform these counts to a long DataFrame\n",
    "artifactTypes = [union([keys(v) for v in values(artifactCounts)]...)...]\n",
    "datasetNames = keys(artifactCounts)\n",
    "artifactDF = DataFrame(Artifact = repeat(artifactTypes, length(datasetNames)),\n",
    "                       Dataset = vcat([[d for _ in 1:length(artifactTypes)] for d in datasetNames]...),\n",
    "                       Count = 0);"
   ]
  },
  {
   "cell_type": "code",
   "execution_count": 7,
   "id": "changing-duplicate",
   "metadata": {},
   "outputs": [],
   "source": [
    "for (dataset, typeCounts) in artifactCounts\n",
    "    for (artifact, count) in typeCounts\n",
    "        artifactDF.Count[(artifactDF.Artifact .== artifact).&\n",
    "                         (artifactDF.Dataset .== dataset)] .= count\n",
    "    end\n",
    "end"
   ]
  },
  {
   "cell_type": "markdown",
   "id": "typical-berkeley",
   "metadata": {},
   "source": [
    "## Plot proportions"
   ]
  },
  {
   "cell_type": "code",
   "execution_count": 8,
   "id": "trained-incidence",
   "metadata": {
    "scrolled": true
   },
   "outputs": [
    {
     "data": {
      "text/html": [
       "<table class=\"data-frame\"><thead><tr><th></th><th>Artifact</th><th>Dataset</th><th>Count</th></tr><tr><th></th><th>SubStri…</th><th>String</th><th>Int64</th></tr></thead><tbody><p>64 rows × 3 columns</p><tr><th>1</th><td>S3,C</td><td>Rohban et al</td><td>8</td></tr><tr><th>2</th><td>B,C</td><td>Rohban et al</td><td>0</td></tr><tr><th>3</th><td>C</td><td>Rohban et al</td><td>18</td></tr><tr><th>4</th><td>P</td><td>Rohban et al</td><td>4</td></tr><tr><th>5</th><td>S1,D,P</td><td>Rohban et al</td><td>0</td></tr><tr><th>6</th><td>S2,C</td><td>Rohban et al</td><td>0</td></tr><tr><th>7</th><td>S3,S4</td><td>Rohban et al</td><td>1</td></tr><tr><th>8</th><td>B</td><td>Rohban et al</td><td>0</td></tr><tr><th>9</th><td>S1</td><td>Rohban et al</td><td>0</td></tr><tr><th>10</th><td>S3</td><td>Rohban et al</td><td>6</td></tr><tr><th>11</th><td>S1,D</td><td>Rohban et al</td><td>0</td></tr><tr><th>12</th><td>D</td><td>Rohban et al</td><td>0</td></tr><tr><th>13</th><td>C,D</td><td>Rohban et al</td><td>3</td></tr><tr><th>14</th><td>-</td><td>Rohban et al</td><td>13</td></tr><tr><th>15</th><td>S4,C</td><td>Rohban et al</td><td>1</td></tr><tr><th>16</th><td>D,P</td><td>Rohban et al</td><td>0</td></tr><tr><th>17</th><td>S3,C</td><td>Caldera et al</td><td>0</td></tr><tr><th>18</th><td>B,C</td><td>Caldera et al</td><td>1</td></tr><tr><th>19</th><td>C</td><td>Caldera et al</td><td>11</td></tr><tr><th>20</th><td>P</td><td>Caldera et al</td><td>0</td></tr><tr><th>21</th><td>S1,D,P</td><td>Caldera et al</td><td>0</td></tr><tr><th>22</th><td>S2,C</td><td>Caldera et al</td><td>0</td></tr><tr><th>23</th><td>S3,S4</td><td>Caldera et al</td><td>0</td></tr><tr><th>24</th><td>B</td><td>Caldera et al</td><td>2</td></tr><tr><th>25</th><td>S1</td><td>Caldera et al</td><td>0</td></tr><tr><th>26</th><td>S3</td><td>Caldera et al</td><td>0</td></tr><tr><th>27</th><td>S1,D</td><td>Caldera et al</td><td>0</td></tr><tr><th>28</th><td>D</td><td>Caldera et al</td><td>4</td></tr><tr><th>29</th><td>C,D</td><td>Caldera et al</td><td>1</td></tr><tr><th>30</th><td>-</td><td>Caldera et al</td><td>29</td></tr><tr><th>&vellip;</th><td>&vellip;</td><td>&vellip;</td><td>&vellip;</td></tr></tbody></table>"
      ],
      "text/latex": [
       "\\begin{tabular}{r|ccc}\n",
       "\t& Artifact & Dataset & Count\\\\\n",
       "\t\\hline\n",
       "\t& SubStri… & String & Int64\\\\\n",
       "\t\\hline\n",
       "\t1 & S3,C & Rohban et al & 8 \\\\\n",
       "\t2 & B,C & Rohban et al & 0 \\\\\n",
       "\t3 & C & Rohban et al & 18 \\\\\n",
       "\t4 & P & Rohban et al & 4 \\\\\n",
       "\t5 & S1,D,P & Rohban et al & 0 \\\\\n",
       "\t6 & S2,C & Rohban et al & 0 \\\\\n",
       "\t7 & S3,S4 & Rohban et al & 1 \\\\\n",
       "\t8 & B & Rohban et al & 0 \\\\\n",
       "\t9 & S1 & Rohban et al & 0 \\\\\n",
       "\t10 & S3 & Rohban et al & 6 \\\\\n",
       "\t11 & S1,D & Rohban et al & 0 \\\\\n",
       "\t12 & D & Rohban et al & 0 \\\\\n",
       "\t13 & C,D & Rohban et al & 3 \\\\\n",
       "\t14 & - & Rohban et al & 13 \\\\\n",
       "\t15 & S4,C & Rohban et al & 1 \\\\\n",
       "\t16 & D,P & Rohban et al & 0 \\\\\n",
       "\t17 & S3,C & Caldera et al & 0 \\\\\n",
       "\t18 & B,C & Caldera et al & 1 \\\\\n",
       "\t19 & C & Caldera et al & 11 \\\\\n",
       "\t20 & P & Caldera et al & 0 \\\\\n",
       "\t21 & S1,D,P & Caldera et al & 0 \\\\\n",
       "\t22 & S2,C & Caldera et al & 0 \\\\\n",
       "\t23 & S3,S4 & Caldera et al & 0 \\\\\n",
       "\t24 & B & Caldera et al & 2 \\\\\n",
       "\t25 & S1 & Caldera et al & 0 \\\\\n",
       "\t26 & S3 & Caldera et al & 0 \\\\\n",
       "\t27 & S1,D & Caldera et al & 0 \\\\\n",
       "\t28 & D & Caldera et al & 4 \\\\\n",
       "\t29 & C,D & Caldera et al & 1 \\\\\n",
       "\t30 & - & Caldera et al & 29 \\\\\n",
       "\t$\\dots$ & $\\dots$ & $\\dots$ & $\\dots$ \\\\\n",
       "\\end{tabular}\n"
      ],
      "text/plain": [
       "\u001b[1m64×3 DataFrame\u001b[0m\n",
       "\u001b[1m Row \u001b[0m│\u001b[1m Artifact  \u001b[0m\u001b[1m Dataset       \u001b[0m\u001b[1m Count \u001b[0m\n",
       "\u001b[1m     \u001b[0m│\u001b[90m SubStrin… \u001b[0m\u001b[90m String        \u001b[0m\u001b[90m Int64 \u001b[0m\n",
       "─────┼─────────────────────────────────\n",
       "   1 │ S3,C       Rohban et al       8\n",
       "   2 │ B,C        Rohban et al       0\n",
       "   3 │ C          Rohban et al      18\n",
       "   4 │ P          Rohban et al       4\n",
       "   5 │ S1,D,P     Rohban et al       0\n",
       "   6 │ S2,C       Rohban et al       0\n",
       "   7 │ S3,S4      Rohban et al       1\n",
       "   8 │ B          Rohban et al       0\n",
       "   9 │ S1         Rohban et al       0\n",
       "  10 │ S3         Rohban et al       6\n",
       "  11 │ S1,D       Rohban et al       0\n",
       "  ⋮  │     ⋮            ⋮          ⋮\n",
       "  55 │ S3,S4      Breinig et al      0\n",
       "  56 │ B          Breinig et al      0\n",
       "  57 │ S1         Breinig et al      2\n",
       "  58 │ S3         Breinig et al      0\n",
       "  59 │ S1,D       Breinig et al      1\n",
       "  60 │ D          Breinig et al     10\n",
       "  61 │ C,D        Breinig et al      3\n",
       "  62 │ -          Breinig et al      5\n",
       "  63 │ S4,C       Breinig et al      0\n",
       "  64 │ D,P        Breinig et al      6\n",
       "\u001b[36m                        43 rows omitted\u001b[0m"
      ]
     },
     "execution_count": 8,
     "metadata": {},
     "output_type": "execute_result"
    }
   ],
   "source": [
    "artifactDF"
   ]
  },
  {
   "cell_type": "code",
   "execution_count": 9,
   "id": "urban-sponsorship",
   "metadata": {},
   "outputs": [
    {
     "data": {
      "image/png": "[encoded data removed]"
     },
     "metadata": {},
     "output_type": "display_data"
    },
    {
     "data": {
      "text/plain": [
       "RObject{VecSxp}\n"
      ]
     },
     "execution_count": 9,
     "metadata": {},
     "output_type": "execute_result"
    }
   ],
   "source": [
    "ggplot(artifactDF, aes(fill=:Artifact, y=:Count, x=:Dataset)) + \n",
    "    geom_bar(position=\"fill\", stat=\"identity\") + ylab(\"Frequency\") +\n",
    "    #coord_flip() + \n",
    "    theme(var\"axis.text.x\" = element_text(angle = 45, hjust = 1))"
   ]
  },
  {
   "cell_type": "markdown",
   "id": "clinical-nylon",
   "metadata": {},
   "source": [
    "## Simplify"
   ]
  },
  {
   "cell_type": "code",
   "execution_count": 10,
   "id": "minute-skill",
   "metadata": {},
   "outputs": [],
   "source": [
    "newGroups = [\"-\" => s\"No artifact\",\n",
    "             r\"S.\" => s\"Other artifact\",\n",
    "             r\"B\" => s\"Other artifact\",\n",
    "             r\"P\" => s\"Precipitation\",\n",
    "             r\"C\" => s\"Precipitation\",\n",
    "             r\"D\" => s\"Detached cell\"];"
   ]
  },
  {
   "cell_type": "code",
   "execution_count": 11,
   "id": "expired-thursday",
   "metadata": {},
   "outputs": [],
   "source": [
    "simplifiedArtifactCounts = Dict(k => DefaultDict{SubString{String}, Int64}(0) for k in keys(artifactCounts))\n",
    "for (dataset, typeCounts) in artifactCounts\n",
    "    for (artifact, count) in typeCounts\n",
    "        simplifiedArtifact = reduce(replace, newGroups, init = artifact)\n",
    "        simplifiedArtifact = join(sort(unique(split(simplifiedArtifact, ','))), \", \")\n",
    "        simplifiedArtifactCounts[dataset][simplifiedArtifact] += count\n",
    "    end\n",
    "end"
   ]
  },
  {
   "cell_type": "code",
   "execution_count": 12,
   "id": "simplified-anniversary",
   "metadata": {},
   "outputs": [],
   "source": [
    "# We transform these counts to a long DataFrame\n",
    "artifactTypes = [union([keys(v) for v in values(simplifiedArtifactCounts)]...)...]\n",
    "datasetNames = keys(simplifiedArtifactCounts)\n",
    "artifactDF = DataFrame(Artifact = repeat(artifactTypes, length(datasetNames)),\n",
    "                       Dataset = vcat([[d for _ in 1:length(artifactTypes)] for d in datasetNames]...),\n",
    "                       Count = 0);"
   ]
  },
  {
   "cell_type": "code",
   "execution_count": 13,
   "id": "characteristic-fraction",
   "metadata": {},
   "outputs": [],
   "source": [
    "for (dataset, typeCounts) in simplifiedArtifactCounts\n",
    "    for (artifact, count) in typeCounts\n",
    "        artifactDF.Count[(artifactDF.Artifact .== artifact).&\n",
    "                         (artifactDF.Dataset .== dataset)] .= count\n",
    "    end\n",
    "end"
   ]
  },
  {
   "cell_type": "code",
   "execution_count": 14,
   "id": "auburn-jimmy",
   "metadata": {
    "scrolled": true
   },
   "outputs": [
    {
     "data": {
      "text/plain": [
       "32-element CategoricalArray{String,1,UInt32}:\n",
       " \"Detached cell, Other artifact\"\n",
       " \"Precipitation\"\n",
       " \"Detached cell, Other artifact, Precipitation\"\n",
       " \"Other artifact, Precipitation\"\n",
       " \"No artifact\"\n",
       " \"Detached cell, Precipitation\"\n",
       " \"Detached cell\"\n",
       " \"Other artifact\"\n",
       " \"Detached cell, Other artifact\"\n",
       " \"Precipitation\"\n",
       " \"Detached cell, Other artifact, Precipitation\"\n",
       " \"Other artifact, Precipitation\"\n",
       " \"No artifact\"\n",
       " ⋮\n",
       " \"No artifact\"\n",
       " \"Detached cell, Precipitation\"\n",
       " \"Detached cell\"\n",
       " \"Other artifact\"\n",
       " \"Detached cell, Other artifact\"\n",
       " \"Precipitation\"\n",
       " \"Detached cell, Other artifact, Precipitation\"\n",
       " \"Other artifact, Precipitation\"\n",
       " \"No artifact\"\n",
       " \"Detached cell, Precipitation\"\n",
       " \"Detached cell\"\n",
       " \"Other artifact\""
      ]
     },
     "execution_count": 14,
     "metadata": {},
     "output_type": "execute_result"
    }
   ],
   "source": [
    "# Reorder levels\n",
    "artifactDF.Artifact = CategoricalVector(artifactDF.Artifact)\n",
    "orderedLevels = [\"No artifact\",\n",
    "                 \"Precipitation\",\n",
    "                 \"Detached cell\",\n",
    "                 \"Detached cell, Other artifact\",\n",
    "                 \"Detached cell, Other artifact, Precipitation\",\n",
    "                 \"Detached cell, Precipitation\",\n",
    "                 \"Other artifact\",\n",
    "                 \"Other artifact, Precipitation\"                 \n",
    "]\n",
    "levels!(artifactDF.Artifact, orderedLevels)"
   ]
  },
  {
   "cell_type": "code",
   "execution_count": 15,
   "id": "curious-amateur",
   "metadata": {},
   "outputs": [
    {
     "data": {
      "image/png": "[encoded data removed]"
     },
     "metadata": {},
     "output_type": "display_data"
    },
    {
     "data": {
      "text/plain": [
       "RObject{VecSxp}\n"
      ]
     },
     "execution_count": 15,
     "metadata": {},
     "output_type": "execute_result"
    }
   ],
   "source": [
    "gp = ggplot(artifactDF, aes(fill=:Artifact, y=:Count, x=:Dataset))  + \n",
    "      geom_bar(position=\"fill\", stat=\"identity\", size = 3) + ylab(\"Frequency\") +  \n",
    "      guides(fill = guide_legend(nrow=3, title=\"\")) + coord_flip() +\n",
    "      theme(var\"legend.position\" = \"top\",\n",
    "            var\"legend.text\" = element_text(size=9), var\"legend.box\"=\"vertical\")"
   ]
  },
  {
   "cell_type": "code",
   "execution_count": 16,
   "id": "ethical-minnesota",
   "metadata": {
    "scrolled": true
   },
   "outputs": [
    {
     "data": {
      "text/plain": [
       "RObject{NilSxp}\n",
       "NULL\n"
      ]
     },
     "execution_count": 16,
     "metadata": {},
     "output_type": "execute_result"
    }
   ],
   "source": [
    "ggsave(\"fig/ArtifactsQuant_simple.pdf\", gp, width = 8, height = 7)"
   ]
  },
  {
   "cell_type": "code",
   "execution_count": 17,
   "id": "brazilian-montana",
   "metadata": {},
   "outputs": [
    {
     "name": "stdout",
     "output_type": "stream",
     "text": [
      "Rohban et al Float64[]\n",
      "Caldera et al Float64[]\n",
      "Gustafsdottir,\n",
      "et al Float64[]\n",
      "Breinig et al Float64[]\n"
     ]
    }
   ],
   "source": [
    "for ds in unique(artifactDF.Dataset)\n",
    "    p = artifactDF.Count[(artifactDF.Dataset .== ds).&(artifactDF.Artifact .== \"-\")]/\n",
    "        sum(artifactDF.Count[artifactDF.Dataset .== ds])\n",
    "    println(ds, \" \", p)\n",
    "end"
   ]
  }
 ],
 "metadata": {
  "kernelspec": {
   "display_name": "Julia 1.5.3",
   "language": "julia",
   "name": "julia-1.5"
  },
  "language_info": {
   "file_extension": ".jl",
   "mimetype": "application/julia",
   "name": "julia",
   "version": "1.5.3"
  }
 },
 "nbformat": 4,
 "nbformat_minor": 5
}
