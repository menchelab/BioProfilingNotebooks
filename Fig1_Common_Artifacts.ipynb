{
 "cells": [
  {
   "cell_type": "markdown",
   "id": "accepting-disorder",
   "metadata": {},
   "source": [
    "# Common artifacts quantification\n",
    "In this notebook, we quantify how common some imaging artifacts are across multiple datasets."
   ]
  },
  {
   "cell_type": "markdown",
   "id": "stuck-playback",
   "metadata": {},
   "source": [
    "## Settings"
   ]
  },
  {
   "cell_type": "markdown",
   "id": "verified-heater",
   "metadata": {},
   "source": [
    "Load packages"
   ]
  },
  {
   "cell_type": "code",
   "execution_count": null,
   "id": "atlantic-freeze",
   "metadata": {},
   "outputs": [],
   "source": [
    "using StatsBase, Statistics, DataFrames, RCall, Random \n",
    "using CategoricalArrays\n",
    "using Dates: now\n",
    "using DataStructures: DefaultDict"
   ]
  },
  {
   "cell_type": "code",
   "execution_count": null,
   "id": "cultural-article",
   "metadata": {},
   "outputs": [],
   "source": [
    "@rlibrary ggplot2\n",
    "@rlibrary extrafont"
   ]
  },
  {
   "cell_type": "code",
   "execution_count": null,
   "id": "democratic-spine",
   "metadata": {},
   "outputs": [],
   "source": [
    "R\"\"\"\n",
    "\n",
    "# Customize ggplot appearance\n",
    "\n",
    "library(ggplot2)\n",
    "library(extrafont)\n",
    "\n",
    "\n",
    "# Load extra fonts\n",
    "# ttf_import(paths = \"/tmp/.fonts/\")\n",
    "# loadfonts()\n",
    "\n",
    "# Change theme\n",
    "customTheme <- theme_light() + \n",
    "               theme(panel.grid.minor=element_blank(), text=element_text(size=17, family=\"Arial\", colour = \"#333333\"),\n",
    "                     line=element_line(colour = \"#333333\"), \n",
    "                     legend.background = element_rect(fill=alpha('#CCCCCC', 0.1)), legend.key = element_blank())\n",
    "\n",
    "# Change default colors\n",
    "scale_colour_continuous <- function (..., begin = 0.1, end = 0.9, direction = -1, option = \"plasma\", \n",
    "                                     type = getOption(\"ggplot2.continuous.colour\", default = \"viridis\")) {\n",
    "    switch(type, gradient = scale_colour_gradient(...), \n",
    "        viridis = scale_colour_viridis_c(option = option, begin = begin, end = end, direction = direction, ...), \n",
    "        stop(\"Unknown scale type\", call. = FALSE))\n",
    "}\n",
    "scale_color_continuous <- scale_colour_continuous\n",
    "\n",
    "scale_fill_continuous <- function (..., begin = 0.1, end = 0.9, direction = -1, option = \"plasma\", \n",
    "                                     type = getOption(\"ggplot2.continuous.colour\", default = \"viridis\")) {\n",
    "    switch(type, gradient = scale_fill_gradient(...), \n",
    "        viridis = scale_fill_viridis_c(option = option, begin = begin, end = end, direction = direction, ...), \n",
    "        stop(\"Unknown scale type\", call. = FALSE))\n",
    "\n",
    "}\n",
    "\n",
    "cemm_pal = colorRampPalette(c(\"#5A463C\", \"#008CAD\", \"#40B9D4\", \"#D4ECF2\", \"#D2323C\", \"#F8B100\", \"#DFDC00\"))\n",
    "scale_fill_discrete <- function (..., type = \"CeMM\", h = c(0, 360) + 15, c = 100, l = 65, h.start = 0, \n",
    "    direction = 1, na.value = \"grey50\", aesthetics = \"fill\") \n",
    "{\n",
    "    if (type == \"CeMM\"){\n",
    "        discrete_scale(aesthetics, \"CeMM\", cemm_pal, na.value = na.value, ...)\n",
    "    } else {\n",
    "        discrete_scale(aesthetics, \"hue\", hue_pal(h, c, l, h.start, \n",
    "            direction), na.value = na.value, ...)\n",
    "    }\n",
    "}\n",
    "\n",
    "scale_color_discrete <- function (..., type = \"CeMM\", h = c(0, 360) + 15, c = 100, l = 65, h.start = 0, \n",
    "    direction = 1, na.value = \"grey50\", aesthetics = \"colour\") {\n",
    "    if (type == \"CeMM\"){\n",
    "        discrete_scale(aesthetics, \"CeMM\", cemm_pal, na.value = na.value, ...)\n",
    "    } else {\n",
    "        discrete_scale(aesthetics, \"hue\", scales::hue_pal(h, c, l, h.start, \n",
    "            direction), na.value = na.value, ...)\n",
    "    }\n",
    "}\n",
    "scale_colour_discrete <- scale_color_discrete\n",
    "\n",
    "noGridTheme <- function(...){\n",
    "    theme(panel.grid.major=element_blank(), axis.text.x=element_text(size=12), axis.text.y=element_text(size=12),\n",
    "                      axis.line=element_line(color=\"#333333\", size = 0.2), panel.border = element_blank(), ...)\n",
    "}\n",
    "\n",
    "darkTheme <- function(...){\n",
    "    theme(panel.background = element_rect(fill = '#333333'), plot.background = element_rect(fill = '#333333'), \n",
    "          axis.line=element_line(color=\"#CCCCCC\", size = 0.2),\n",
    "          text=element_text(size=17, family=\"Arial\", colour = \"#CCCCCC\"),\n",
    "          axis.text = element_text(size=12, family=\"Arial\", colour = \"#CCCCCC\"),\n",
    "          line=element_line(colour = \"#CCCCCC\"))\n",
    "}\n",
    "\n",
    "theme_set(customTheme)\n",
    "\n",
    "options(repr.plot.width=10, repr.plot.height=10)\n",
    "\"\"\""
   ]
  },
  {
   "cell_type": "markdown",
   "id": "remarkable-script",
   "metadata": {},
   "source": [
    "## Loading data"
   ]
  },
  {
   "cell_type": "code",
   "execution_count": null,
   "id": "structural-microwave",
   "metadata": {
    "scrolled": true
   },
   "outputs": [],
   "source": [
    "# The following is copied directly from the Excel files in which artifacts were counted\n",
    "rawCounts = Dict{String, String}()\n",
    "rawCounts[\"Rohban et al\"] = \"\"\"-\t-\tC\tS3,C\tC\t-\t-\t-\tC\n",
    "S3\tC\tS3\tC,D\t-\tS3,C\tC\tS3\tS3\n",
    "-\tS3,C\tC\tC\tP\tC,D\tP\tS3,C\t-\n",
    "S3,S4\t-\t-\tS4,C\tC\tP\tS3,C\t-\t-\n",
    "C\tS3\tC\tC\tC\tC,D\tC\tS3\tC\n",
    "C\tS3,C\t-\tS3,C\tC\tC\tP\tC\tS3,C\"\"\"\n",
    "rawCounts[\"Breinig et al\"] = \"\"\"D,P\tD\tP\tP\n",
    "C\tC\tC,D\t-\n",
    "D\tC,D\tC\tC\n",
    "P\t-\tD\tD\n",
    "C\t-\tC\t-\n",
    "C,D\tS1\tC\tD,P\n",
    "D\tD\tD,P\tD,P\n",
    "S1,D\tC\tD\tC\n",
    "-\tC\tC\tC\n",
    "D\tS2,C\tD\tC\n",
    "C\tS1\tC\tC\n",
    "D,P\tS1,D,P\tD\tD,P\"\"\"\n",
    "rawCounts[\"Caldera et al\"] = \"\"\"-\t-\t-\tD\n",
    "-\tC\t-\t-\n",
    "C\tC,D\t-\t-\n",
    "C\t-\t-\t-\n",
    "-\t-\tC\tD\n",
    "B\t-\t-\t-\n",
    "-\t-\t-\tD\n",
    "-\tC\tC\t-\n",
    "D\t-\tC\t-\n",
    "B\tC\tB,C\tC\n",
    "C\tC\t-\t-\n",
    "-\t-\t-\t-\"\"\"\n",
    "rawCounts[\"Gustafsdottir,\\nLjosa et al\"] = \"\"\"C\tC\t-\tC\t-\tB,C\tC\t-\t-\n",
    "-\tC\t-\tD\t-\t-\tC\t-\t-\n",
    "C\t-\t-\tC\tC\tC\t-\t-\t-\n",
    "-\t-\t-\tC\t-\t-\t-\t-\t-\n",
    "-\t-\tC\t-\t-\t-\t-\t-\t-\n",
    "-\t-\t-\t-\tC\tC\t-\t-\t-\"\"\""
   ]
  },
  {
   "cell_type": "code",
   "execution_count": null,
   "id": "vertical-stability",
   "metadata": {},
   "outputs": [],
   "source": [
    "# We observe the frequence of each artifact type in the dataset\n",
    "countEachArtifact(x) = countmap(split(replace(x, '\\n' => '\\t'), '\\t'))\n",
    "artifactCounts = Dict((k,countEachArtifact(v)) for (k,v) in rawCounts)"
   ]
  },
  {
   "cell_type": "code",
   "execution_count": null,
   "id": "graduate-mongolia",
   "metadata": {},
   "outputs": [],
   "source": [
    "# We transform these counts to a long DataFrame\n",
    "artifactTypes = [union([keys(v) for v in values(artifactCounts)]...)...]\n",
    "datasetNames = keys(artifactCounts)\n",
    "artifactDF = DataFrame(Artifact = repeat(artifactTypes, length(datasetNames)),\n",
    "                       Dataset = vcat([[d for _ in 1:length(artifactTypes)] for d in datasetNames]...),\n",
    "                       Count = 0);"
   ]
  },
  {
   "cell_type": "code",
   "execution_count": null,
   "id": "changing-duplicate",
   "metadata": {},
   "outputs": [],
   "source": [
    "for (dataset, typeCounts) in artifactCounts\n",
    "    for (artifact, count) in typeCounts\n",
    "        artifactDF.Count[(artifactDF.Artifact .== artifact).&\n",
    "                         (artifactDF.Dataset .== dataset)] .= count\n",
    "    end\n",
    "end"
   ]
  },
  {
   "cell_type": "markdown",
   "id": "typical-berkeley",
   "metadata": {},
   "source": [
    "## Plot proportions"
   ]
  },
  {
   "cell_type": "code",
   "execution_count": null,
   "id": "trained-incidence",
   "metadata": {
    "scrolled": true
   },
   "outputs": [],
   "source": [
    "artifactDF"
   ]
  },
  {
   "cell_type": "code",
   "execution_count": null,
   "id": "urban-sponsorship",
   "metadata": {},
   "outputs": [],
   "source": [
    "ggplot(artifactDF, aes(fill=:Artifact, y=:Count, x=:Dataset)) + \n",
    "    geom_bar(position=\"fill\", stat=\"identity\") + ylab(\"Frequency\") +\n",
    "    #coord_flip() + \n",
    "    theme(var\"axis.text.x\" = element_text(angle = 45, hjust = 1))"
   ]
  },
  {
   "cell_type": "markdown",
   "id": "clinical-nylon",
   "metadata": {},
   "source": [
    "## Simplify"
   ]
  },
  {
   "cell_type": "code",
   "execution_count": null,
   "id": "minute-skill",
   "metadata": {},
   "outputs": [],
   "source": [
    "newGroups = [\"-\" => s\"No artifact\",\n",
    "             r\"S.\" => s\"Other artifact\",\n",
    "             r\"B\" => s\"Other artifact\",\n",
    "             r\"P\" => s\"Precipitation\",\n",
    "             r\"C\" => s\"Precipitation\",\n",
    "             r\"D\" => s\"Detached cell\"];"
   ]
  },
  {
   "cell_type": "code",
   "execution_count": null,
   "id": "expired-thursday",
   "metadata": {},
   "outputs": [],
   "source": [
    "simplifiedArtifactCounts = Dict(k => DefaultDict{SubString{String}, Int64}(0) for k in keys(artifactCounts))\n",
    "for (dataset, typeCounts) in artifactCounts\n",
    "    for (artifact, count) in typeCounts\n",
    "        simplifiedArtifact = reduce(replace, newGroups, init = artifact)\n",
    "        simplifiedArtifact = join(sort(unique(split(simplifiedArtifact, ','))), \", \")\n",
    "        simplifiedArtifactCounts[dataset][simplifiedArtifact] += count\n",
    "    end\n",
    "end"
   ]
  },
  {
   "cell_type": "code",
   "execution_count": null,
   "id": "simplified-anniversary",
   "metadata": {},
   "outputs": [],
   "source": [
    "# We transform these counts to a long DataFrame\n",
    "artifactTypes = [union([keys(v) for v in values(simplifiedArtifactCounts)]...)...]\n",
    "datasetNames = keys(simplifiedArtifactCounts)\n",
    "artifactDF = DataFrame(Artifact = repeat(artifactTypes, length(datasetNames)),\n",
    "                       Dataset = vcat([[d for _ in 1:length(artifactTypes)] for d in datasetNames]...),\n",
    "                       Count = 0);"
   ]
  },
  {
   "cell_type": "code",
   "execution_count": null,
   "id": "characteristic-fraction",
   "metadata": {},
   "outputs": [],
   "source": [
    "for (dataset, typeCounts) in simplifiedArtifactCounts\n",
    "    for (artifact, count) in typeCounts\n",
    "        artifactDF.Count[(artifactDF.Artifact .== artifact).&\n",
    "                         (artifactDF.Dataset .== dataset)] .= count\n",
    "    end\n",
    "end"
   ]
  },
  {
   "cell_type": "markdown",
   "id": "respective-circus",
   "metadata": {},
   "source": [
    "Alternatives:\n",
    "\n",
    "    customPalette = R\"\"\"\n",
    "    cemm_pal(8)\"\"\"\n",
    "\n",
    "Or:\n",
    "\n",
    "    customPalette = [\"#5A463C\", \"#0C829C\", \"#EBFF9C\", \"#FFFFC6\",\n",
    "                     \"#E8D8C6\", \"#DC562A\", \"#FFFF2A\", \"#DFDC00\"]\n",
    "                     \n",
    "    customPalette = [\"#5A463C\", \"#0000CC\", \"#00CCCC\", \"#CCCCCC\", \n",
    "                     \"#CC00CC\", \"#CC0000\", \"#CCCC00\", \"#00CC00\"]"
   ]
  },
  {
   "cell_type": "code",
   "execution_count": null,
   "id": "auburn-jimmy",
   "metadata": {
    "scrolled": true
   },
   "outputs": [],
   "source": [
    "# Reorder levels\n",
    "artifactDF.Artifact = CategoricalVector(artifactDF.Artifact)\n",
    "orderedLevels = [\"No artifact\",\n",
    "                 \"Precipitation\",\n",
    "                 \"Detached cell\",\n",
    "                 \"Detached cell, Other artifact\",\n",
    "                 \"Detached cell, Other artifact, Precipitation\",\n",
    "                 \"Detached cell, Precipitation\",\n",
    "                 \"Other artifact\",\n",
    "                 \"Other artifact, Precipitation\"                 \n",
    "]\n",
    "levels!(artifactDF.Artifact, orderedLevels)"
   ]
  },
  {
   "cell_type": "code",
   "execution_count": null,
   "id": "curious-amateur",
   "metadata": {},
   "outputs": [],
   "source": [
    "gp = ggplot(artifactDF, aes(fill=:Artifact, y=:Count, x=:Dataset))  + \n",
    "      geom_bar(position=\"fill\", stat=\"identity\", size = 3) + ylab(\"Frequency\") +  \n",
    "      guides(fill = guide_legend(nrow=3, title=\"\")) + coord_flip() +\n",
    "      theme(var\"legend.position\" = \"top\",\n",
    "            var\"legend.text\" = element_text(size=9), var\"legend.box\"=\"vertical\")"
   ]
  },
  {
   "cell_type": "code",
   "execution_count": null,
   "id": "ethical-minnesota",
   "metadata": {},
   "outputs": [],
   "source": [
    "ggsave(\"fig/ArtifactsQuant_simple.pdf\", gp, width = 8, height = 7)"
   ]
  },
  {
   "cell_type": "code",
   "execution_count": null,
   "id": "brazilian-montana",
   "metadata": {},
   "outputs": [],
   "source": [
    "for ds in unique(artifactDF.Dataset)\n",
    "    p = artifactDF.Count[(artifactDF.Dataset .== ds).&(artifactDF.Artifact .== \"-\")]/\n",
    "        sum(artifactDF.Count[artifactDF.Dataset .== ds])\n",
    "    println(ds, \" \", p)\n",
    "end"
   ]
  }
 ],
 "metadata": {
  "kernelspec": {
   "display_name": "Julia 1.5.3",
   "language": "julia",
   "name": "julia-1.5"
  },
  "language_info": {
   "file_extension": ".jl",
   "mimetype": "application/julia",
   "name": "julia",
   "version": "1.5.3"
  }
 },
 "nbformat": 4,
 "nbformat_minor": 5
}
