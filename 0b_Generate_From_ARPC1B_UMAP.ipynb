{
 "cells": [
  {
   "cell_type": "code",
   "execution_count": null,
   "metadata": {
    "scrolled": true
   },
   "outputs": [],
   "source": [
    "!pip install plotly"
   ]
  },
  {
   "cell_type": "code",
   "execution_count": null,
   "metadata": {},
   "outputs": [],
   "source": [
    "import numpy as np\n",
    "import pandas as pd\n",
    "import numba\n",
    "import sklearn.datasets\n",
    "import matplotlib.pyplot as plt\n",
    "import seaborn as sns\n",
    "from mpl_toolkits.mplot3d import Axes3D\n",
    "import umap\n",
    "import plotly.express as px\n",
    "\n",
    "%matplotlib inline"
   ]
  },
  {
   "cell_type": "code",
   "execution_count": null,
   "metadata": {},
   "outputs": [],
   "source": [
    "sns.set(style='white', rc={'figure.figsize':(10,10)})"
   ]
  },
  {
   "cell_type": "markdown",
   "metadata": {},
   "source": [
    "The dataset was obtained as processed in German, Vulliard et al., adding the following block to `LT_ARPC1B.ipynb`:\n",
    "\n",
    "    write.csv(file = \"Tab/Export_ARPC1B_filtered.csv\",\n",
    "    x = data.frame(Row = as.factor(LT$Metadata_Row[fieldToKeep]), \n",
    "                   Col = as.factor(LT$Metadata_Column[fieldToKeep]),\n",
    "                   URL = as.factor(LT$URL_Actin[fieldToKeep]),\n",
    "                   Coating = as.factor(LT$Coating[fieldToKeep]),\n",
    "                   Donor = as.factor(LT$Donor[fieldToKeep]),\n",
    "                   transformedLT))"
   ]
  },
  {
   "cell_type": "code",
   "execution_count": null,
   "metadata": {},
   "outputs": [],
   "source": [
    "# Number of points in control dataset\n",
    "NR = 3000\n",
    "# Number of points in other datasets\n",
    "N = 1000"
   ]
  },
  {
   "cell_type": "markdown",
   "metadata": {},
   "source": [
    "## Load and visualize original dataset"
   ]
  },
  {
   "cell_type": "code",
   "execution_count": null,
   "metadata": {},
   "outputs": [],
   "source": [
    "X = pd.read_csv(\"Export_ARPC1B_filtered.csv\", index_col = list(range(6)))"
   ]
  },
  {
   "cell_type": "code",
   "execution_count": null,
   "metadata": {},
   "outputs": [],
   "source": [
    "X.shape"
   ]
  },
  {
   "cell_type": "code",
   "execution_count": null,
   "metadata": {},
   "outputs": [],
   "source": [
    "plane_mapper = umap.UMAP(random_state=42, min_dist = 1, spread = 10, n_epochs = 200).fit(X)"
   ]
  },
  {
   "cell_type": "code",
   "execution_count": null,
   "metadata": {},
   "outputs": [],
   "source": [
    "y = X.index.get_level_values('Donor').astype('category').values.codes\n",
    "plt.scatter(plane_mapper.embedding_.T[0], plane_mapper.embedding_.T[1], \n",
    "            c=y, cmap='Spectral')"
   ]
  },
  {
   "cell_type": "code",
   "execution_count": null,
   "metadata": {},
   "outputs": [],
   "source": [
    "dfX = pd.DataFrame({'x': plane_mapper.embedding_.T[0], \n",
    "                    'y': plane_mapper.embedding_.T[1], \n",
    "                    'c': X.index.get_level_values('Donor')})\n",
    "fig = px.scatter(dfX, x='x', y='y', color='c')\n",
    "fig.show()"
   ]
  },
  {
   "cell_type": "markdown",
   "metadata": {},
   "source": [
    "## Dataset 1 - Reference R_ARPC1B"
   ]
  },
  {
   "cell_type": "code",
   "execution_count": null,
   "metadata": {},
   "outputs": [],
   "source": [
    "x,y = plane_mapper.embedding_.T\n",
    "rangeX = (min(x), max(x))\n",
    "rangeY = (min(y), max(y))\n",
    "xRef = x[X.index.get_level_values('Donor') == \"ND1\"]\n",
    "yRef = y[X.index.get_level_values('Donor') == \"ND1\"]\n",
    "rangeRefX = (min(xRef), max(xRef))\n",
    "rangeRefY = (min(yRef), max(yRef))"
   ]
  },
  {
   "cell_type": "code",
   "execution_count": null,
   "metadata": {},
   "outputs": [],
   "source": [
    "# We generate random points corresponding to a reference distribution\n",
    "refPts = np.random.uniform([rangeRefX[0], rangeRefY[0]], \n",
    "                           [rangeRefX[1], rangeRefY[1]], [NR,2])"
   ]
  },
  {
   "cell_type": "code",
   "execution_count": null,
   "metadata": {},
   "outputs": [],
   "source": [
    "# We then convert back these points to the original dimensions\n",
    "trRefPts = plane_mapper.inverse_transform(refPts)\n",
    "trRefPts.shape"
   ]
  },
  {
   "cell_type": "code",
   "execution_count": null,
   "metadata": {},
   "outputs": [],
   "source": [
    "trRefPts = pd.DataFrame(trRefPts)\n",
    "trRefPts.to_csv(\"Data/matR_ARPC1B.csv\", sep = ',', header = False, index = False)"
   ]
  },
  {
   "cell_type": "markdown",
   "metadata": {},
   "source": [
    "## Dataset 2 - Negative control N"
   ]
  },
  {
   "cell_type": "code",
   "execution_count": null,
   "metadata": {},
   "outputs": [],
   "source": [
    "# We sample random points from the reference distribution\n",
    "nPts = np.random.uniform([rangeRefX[0], rangeRefY[0]], \n",
    "                         [rangeRefX[1], rangeRefY[1]], [N,2])"
   ]
  },
  {
   "cell_type": "code",
   "execution_count": null,
   "metadata": {},
   "outputs": [],
   "source": [
    "# We then convert back these points to the original dimensions\n",
    "trNPts = plane_mapper.inverse_transform(nPts)\n",
    "trNPts.shape"
   ]
  },
  {
   "cell_type": "code",
   "execution_count": null,
   "metadata": {},
   "outputs": [],
   "source": [
    "trNPts = pd.DataFrame(trNPts)\n",
    "trNPts.to_csv(\"Data/matN_ARPC1B.csv\", sep = ',', header = False, index = False)"
   ]
  },
  {
   "cell_type": "markdown",
   "metadata": {},
   "source": [
    "## Dataset 3 - Positive control P"
   ]
  },
  {
   "cell_type": "code",
   "execution_count": null,
   "metadata": {},
   "outputs": [],
   "source": [
    "# We sample from the whole morphological space\n",
    "pPts = np.random.uniform([rangeX[0], rangeY[0]], \n",
    "                         [rangeX[1], rangeY[1]], [N,2])"
   ]
  },
  {
   "cell_type": "code",
   "execution_count": null,
   "metadata": {},
   "outputs": [],
   "source": [
    "# We then convert back these points to the original dimensions\n",
    "trPPts = plane_mapper.inverse_transform(pPts)\n",
    "trPPts.shape"
   ]
  },
  {
   "cell_type": "code",
   "execution_count": null,
   "metadata": {},
   "outputs": [],
   "source": [
    "trPPts = pd.DataFrame(trPPts)\n",
    "trPPts.to_csv(\"Data/matP_ARPC1B.csv\", sep = ',', header = False, index = False)"
   ]
  }
 ],
 "metadata": {
  "kernelspec": {
   "display_name": "Python 3",
   "language": "python",
   "name": "python3"
  },
  "language_info": {
   "codemirror_mode": {
    "name": "ipython",
    "version": 3
   },
   "file_extension": ".py",
   "mimetype": "text/x-python",
   "name": "python",
   "nbconvert_exporter": "python",
   "pygments_lexer": "ipython3",
   "version": "3.7.6"
  }
 },
 "nbformat": 4,
 "nbformat_minor": 2
}
