{
 "cells": [
  {
   "cell_type": "code",
   "execution_count": null,
   "metadata": {},
   "outputs": [],
   "source": [
    "import Pkg\n",
    "Pkg.add(\"CSV\")\n",
    "Pkg.add(\"StatsBase\")\n",
    "Pkg.add(\"DataFrames\")"
   ]
  },
  {
   "cell_type": "markdown",
   "metadata": {},
   "source": [
    "## Settings"
   ]
  },
  {
   "cell_type": "markdown",
   "metadata": {},
   "source": [
    "Load packages"
   ]
  },
  {
   "cell_type": "code",
   "execution_count": null,
   "metadata": {},
   "outputs": [],
   "source": [
    "using CSV, StatsBase, Statistics, DataFrames"
   ]
  },
  {
   "cell_type": "markdown",
   "metadata": {},
   "source": [
    "Load generated datasets and combine them"
   ]
  },
  {
   "cell_type": "code",
   "execution_count": null,
   "metadata": {},
   "outputs": [],
   "source": [
    "R = CSV.read(\"Data/matR.csv\", header = false) # Reference\n",
    "N = CSV.read(\"Data/matN.csv\", header = false) # Negative control\n",
    "PS = CSV.read(\"Data/matPS.csv\", header = false) # Shifted\n",
    "PR = CSV.read(\"Data/matPR.csv\", header = false) # Rescaled\n",
    "1 # Do not display last element"
   ]
  },
  {
   "cell_type": "code",
   "execution_count": null,
   "metadata": {},
   "outputs": [],
   "source": [
    "dataset = vcat(R, N, PS, PR)"
   ]
  },
  {
   "cell_type": "code",
   "execution_count": null,
   "metadata": {
    "scrolled": true
   },
   "outputs": [],
   "source": [
    "# Remember how these records were generated\n",
    "origDataset = vcat(repeat([\"Reference\"], size(R, 1)),\n",
    "                   repeat([\"Negative control\"], size(N, 1)),\n",
    "                   repeat([\"Shifted control\"], size(PS, 1)),\n",
    "                   repeat([\"Rescaled control\"], size(PR, 1)))"
   ]
  },
  {
   "cell_type": "markdown",
   "metadata": {},
   "source": [
    "## Feature filtering"
   ]
  },
  {
   "cell_type": "code",
   "execution_count": null,
   "metadata": {},
   "outputs": [],
   "source": [
    "FILT_MAX_CORR = 0.1 # Keep uncorrelated variables\n",
    "dimUMAP = 5"
   ]
  },
  {
   "cell_type": "code",
   "execution_count": null,
   "metadata": {},
   "outputs": [],
   "source": [
    "# Center and scale on control values\n",
    "transfNorm(x,y) = (x .- median(y)) ./ mad(y)\n",
    "indRef = origDataset .== \"Reference\"\n",
    "normDataset = DataFrame(map(x -> transfNorm(x, x[indRef]), eachcol(dataset)))\n",
    "1"
   ]
  },
  {
   "cell_type": "code",
   "execution_count": null,
   "metadata": {
    "scrolled": true
   },
   "outputs": [],
   "source": [
    "# Order features from biggest mad to smallest mad\n",
    "# Since features have mad(reference) = 1, it means that we rank features by how more variable they are\n",
    "# for all conditions compared to the reference\n",
    "orderFt = sortperm(convert(Array, map(x -> mad(x, normalize = true), eachcol(normDataset))), rev=true)"
   ]
  },
  {
   "cell_type": "code",
   "execution_count": null,
   "metadata": {},
   "outputs": [],
   "source": [
    "function decorrelate(data::DataFrame; orderCol = nothing, threshold = 0.8)\n",
    "    \"\"\"Returns column  of 'data' that are never pairwise-correlated more than 'threshold',\n",
    "    prioritizing columns by a giver order 'orderCol' (defaults to left to right).\n",
    "    \"\"\"\n",
    "    if isnothing(orderCol)\n",
    "        orderCol = 1:size(normDataset, 2)\n",
    "    end\n",
    "    # Columns to sort\n",
    "    L1 = orderCol\n",
    "    # Sorted columns to keep\n",
    "    L2 = Array{Int64,1}()\n",
    "    while length(L1) > 0\n",
    "        refFt = first(L1)\n",
    "        append!(L2, refFt)\n",
    "        popfirst!(L1)\n",
    "        stillToKeep = []\n",
    "        for (ift, ft) in enumerate(L1)\n",
    "            if abs(cor(data[refFt], data[ft])) < threshold\n",
    "                append!(stillToKeep, ift)\n",
    "            end\n",
    "        end\n",
    "        L1 = L1[stillToKeep]\n",
    "    end\n",
    "    return(L2)\n",
    "end"
   ]
  },
  {
   "cell_type": "code",
   "execution_count": null,
   "metadata": {},
   "outputs": [],
   "source": [
    "uncorrFt = decorrelate(normDataset, orderCol = orderFt, threshold = FILT_MAX_CORR)\n",
    "normDataset = normDataset[uncorrFt]"
   ]
  }
 ],
 "metadata": {
  "kernelspec": {
   "display_name": "Julia 1.1.0",
   "language": "julia",
   "name": "julia-1.1"
  },
  "language_info": {
   "file_extension": ".jl",
   "mimetype": "application/julia",
   "name": "julia",
   "version": "1.1.0"
  }
 },
 "nbformat": 4,
 "nbformat_minor": 2
}
