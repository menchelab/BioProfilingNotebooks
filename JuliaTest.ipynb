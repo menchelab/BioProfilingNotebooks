{
 "cells": [
  {
   "cell_type": "markdown",
   "metadata": {},
   "source": [
    "To install:\n",
    "    Pkg.add(\"CSV\")"
   ]
  },
  {
   "cell_type": "code",
   "execution_count": null,
   "metadata": {},
   "outputs": [],
   "source": [
    "using CSV"
   ]
  },
  {
   "cell_type": "code",
   "execution_count": null,
   "metadata": {},
   "outputs": [],
   "source": [
    "R = CSV.read(\"Data/matR.csv\", header = false) # Reference\n",
    "N = CSV.read(\"Data/matN.csv\", header = false) # Negative control\n",
    "PS = CSV.read(\"Data/matPS.csv\", header = false) # Shifted\n",
    "PR = CSV.read(\"Data/matPR.csv\", header = false) # Rescaled\n",
    "1 # Do not display last element"
   ]
  },
  {
   "cell_type": "code",
   "execution_count": null,
   "metadata": {},
   "outputs": [],
   "source": [
    "dataset = vcat(R, N, PS, PR)"
   ]
  },
  {
   "cell_type": "code",
   "execution_count": null,
   "metadata": {
    "scrolled": true
   },
   "outputs": [],
   "source": [
    "# Remember how these records were generated\n",
    "origDataset = vcat(repeat([\"Reference\"], size(R, 1)),\n",
    "                   repeat([\"Negative control\"], size(N, 1)),\n",
    "                   repeat([\"Shifted control\"], size(PS, 1)),\n",
    "                   repeat([\"Rescaled control\"], size(PR, 1)))"
   ]
  }
 ],
 "metadata": {
  "kernelspec": {
   "display_name": "Julia 1.1.0",
   "language": "julia",
   "name": "julia-1.1"
  },
  "language_info": {
   "file_extension": ".jl",
   "mimetype": "application/julia",
   "name": "julia",
   "version": "1.1.0"
  }
 },
 "nbformat": 4,
 "nbformat_minor": 2
}
