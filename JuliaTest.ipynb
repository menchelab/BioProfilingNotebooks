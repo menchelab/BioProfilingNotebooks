{
 "cells": [
  {
   "cell_type": "markdown",
   "metadata": {},
   "source": [
    "using Pkg\n",
    "Pkg.add(\"MultivariateStats\")\n",
    "Pkg.add(\"MultipleTesting\")"
   ]
  },
  {
   "cell_type": "markdown",
   "metadata": {},
   "source": [
    "## Settings"
   ]
  },
  {
   "cell_type": "markdown",
   "metadata": {},
   "source": [
    "Load packages"
   ]
  },
  {
   "cell_type": "code",
   "execution_count": null,
   "metadata": {},
   "outputs": [],
   "source": [
    "using CSV, StatsBase, Statistics, DataFrames, UMAP, RCall, Random, MultivariateStats, Distributed, MultipleTesting\n",
    "using Dates: now"
   ]
  },
  {
   "cell_type": "code",
   "execution_count": null,
   "metadata": {},
   "outputs": [],
   "source": [
    "@rlibrary ggplot2\n",
    "@rlibrary extrafont"
   ]
  },
  {
   "cell_type": "code",
   "execution_count": null,
   "metadata": {},
   "outputs": [],
   "source": [
    "R\"\"\"\n",
    "# Used later for MCD computation\n",
    "\n",
    "library(robustbase)\n",
    "\n",
    "# Customize ggplot appearance\n",
    "\n",
    "library(ggplot2)\n",
    "library(extrafont)\n",
    "\n",
    "\n",
    "# Load extra fonts\n",
    "ttf_import(paths = \"/tmp/.fonts/\")\n",
    "loadfonts()\n",
    "\n",
    "# Change theme\n",
    "customTheme <- theme_light() + \n",
    "               theme(panel.grid.minor=element_blank(), text=element_text(size=17, family=\"Arial\", colour = \"#333333\"),\n",
    "                     line=element_line(colour = \"#333333\"), \n",
    "                     legend.background = element_rect(fill=alpha('#CCCCCC', 0.1)), legend.key = element_blank())\n",
    "\n",
    "# Change default colors\n",
    "scale_colour_continuous <- function (..., begin = 0.1, end = 0.9, direction = -1, option = \"plasma\", \n",
    "                                     type = getOption(\"ggplot2.continuous.colour\", default = \"viridis\")) {\n",
    "    switch(type, gradient = scale_colour_gradient(...), \n",
    "        viridis = scale_colour_viridis_c(option = option, begin = begin, end = end, direction = direction, ...), \n",
    "        stop(\"Unknown scale type\", call. = FALSE))\n",
    "}\n",
    "scale_color_continuous <- scale_colour_continuous\n",
    "\n",
    "scale_fill_continuous <- function (..., begin = 0.1, end = 0.9, direction = -1, option = \"plasma\", \n",
    "                                     type = getOption(\"ggplot2.continuous.colour\", default = \"viridis\")) {\n",
    "    switch(type, gradient = scale_fill_gradient(...), \n",
    "        viridis = scale_fill_viridis_c(option = option, begin = begin, end = end, direction = direction, ...), \n",
    "        stop(\"Unknown scale type\", call. = FALSE))\n",
    "\n",
    "}\n",
    "\n",
    "cemm_pal = colorRampPalette(c(\"#5A463C\", \"#008CAD\", \"#40B9D4\", \"#D4ECF2\", \"#D2323C\", \"#F8B100\", \"#DFDC00\"))\n",
    "scale_fill_discrete <- function (..., type = \"CeMM\", h = c(0, 360) + 15, c = 100, l = 65, h.start = 0, \n",
    "    direction = 1, na.value = \"grey50\", aesthetics = \"fill\") \n",
    "{\n",
    "    if (type == \"CeMM\"){\n",
    "        discrete_scale(aesthetics, \"CeMM\", cemm_pal, na.value = na.value, ...)\n",
    "    } else {\n",
    "        discrete_scale(aesthetics, \"hue\", hue_pal(h, c, l, h.start, \n",
    "            direction), na.value = na.value, ...)\n",
    "    }\n",
    "}\n",
    "\n",
    "scale_color_discrete <- function (..., type = \"CeMM\", h = c(0, 360) + 15, c = 100, l = 65, h.start = 0, \n",
    "    direction = 1, na.value = \"grey50\", aesthetics = \"colour\") {\n",
    "    if (type == \"CeMM\"){\n",
    "        discrete_scale(aesthetics, \"CeMM\", cemm_pal, na.value = na.value, ...)\n",
    "    } else {\n",
    "        discrete_scale(aesthetics, \"hue\", scales::hue_pal(h, c, l, h.start, \n",
    "            direction), na.value = na.value, ...)\n",
    "    }\n",
    "}\n",
    "scale_colour_discrete <- scale_color_discrete\n",
    "\n",
    "noGridTheme <- function(...){\n",
    "    theme(panel.grid.major=element_blank(), axis.text.x=element_text(size=12), axis.text.y=element_text(size=12),\n",
    "                      axis.line=element_line(color=\"#333333\", size = 0.2), panel.border = element_blank(), ...)\n",
    "}\n",
    "\n",
    "darkTheme <- function(...){\n",
    "    theme(panel.background = element_rect(fill = '#333333'), plot.background = element_rect(fill = '#333333'), \n",
    "          axis.line=element_line(color=\"#CCCCCC\", size = 0.2), \n",
    "          text=element_text(size=17, family=\"Arial\", colour = \"#CCCCCC\"),\n",
    "          line=element_line(colour = \"#CCCCCC\"))\n",
    "}\n",
    "\n",
    "theme_set(customTheme)\n",
    "\n",
    "options(repr.plot.width=10, repr.plot.height=10)\n",
    "\"\"\""
   ]
  },
  {
   "cell_type": "markdown",
   "metadata": {},
   "source": [
    "## Loading"
   ]
  },
  {
   "cell_type": "markdown",
   "metadata": {},
   "source": [
    "Load generated datasets and combine them"
   ]
  },
  {
   "cell_type": "code",
   "execution_count": null,
   "metadata": {},
   "outputs": [],
   "source": [
    "R = CSV.read(\"Data/matR.csv\", header = false) # Reference\n",
    "N = CSV.read(\"Data/matN.csv\", header = false) # Negative control\n",
    "PS = CSV.read(\"Data/matPS.csv\", header = false) # Shifted\n",
    "PR = CSV.read(\"Data/matPR.csv\", header = false) # Rescaled\n",
    "1 # Do not display last element"
   ]
  },
  {
   "cell_type": "code",
   "execution_count": null,
   "metadata": {},
   "outputs": [],
   "source": [
    "dataset = vcat(R, N, PS, PR)"
   ]
  },
  {
   "cell_type": "code",
   "execution_count": null,
   "metadata": {
    "scrolled": true
   },
   "outputs": [],
   "source": [
    "# Remember how these records were generated\n",
    "origDataset = vcat(repeat([\"Reference\"], size(R, 1)),\n",
    "                   repeat([\"Negative control\"], size(N, 1)),\n",
    "                   repeat([\"Shifted control\"], size(PS, 1)),\n",
    "                   repeat([\"Rescaled control\"], size(PR, 1)))"
   ]
  },
  {
   "cell_type": "markdown",
   "metadata": {},
   "source": [
    "## Feature filtering"
   ]
  },
  {
   "cell_type": "code",
   "execution_count": null,
   "metadata": {},
   "outputs": [],
   "source": [
    "FILT_MAX_CORR = 0.6 # Keep uncorrelated variables\n",
    "dimUMAP = 5"
   ]
  },
  {
   "cell_type": "code",
   "execution_count": null,
   "metadata": {},
   "outputs": [],
   "source": [
    "# Center and scale on control values\n",
    "transfNorm(x,y) = (x .- median(y)) ./ mad(y)\n",
    "indRef = origDataset .== \"Reference\"\n",
    "normDataset = DataFrame(map(x -> transfNorm(x, x[indRef]), eachcol(dataset)))\n",
    "1"
   ]
  },
  {
   "cell_type": "code",
   "execution_count": null,
   "metadata": {
    "scrolled": true
   },
   "outputs": [],
   "source": [
    "# Order features from biggest mad to smallest mad\n",
    "# Since features have mad(reference) = 1, it means that we rank features by how more variable they are\n",
    "# for all conditions compared to the reference\n",
    "orderFt = sortperm(convert(Array, map(x -> mad(x, normalize = true), eachcol(normDataset))), rev=true)"
   ]
  },
  {
   "cell_type": "code",
   "execution_count": null,
   "metadata": {},
   "outputs": [],
   "source": [
    "function decorrelate(data::DataFrame; orderCol = nothing, threshold = 0.8)\n",
    "    \"\"\"Returns column  of 'data' that are never pairwise-correlated more than 'threshold',\n",
    "    prioritizing columns by a giver order 'orderCol' (defaults to left to right).\n",
    "    \"\"\"\n",
    "    if isnothing(orderCol)\n",
    "        orderCol = 1:size(normDataset, 2)\n",
    "    end\n",
    "    # Columns to sort\n",
    "    L1 = orderCol\n",
    "    # Sorted columns to keep\n",
    "    L2 = Array{Int64,1}()\n",
    "    while length(L1) > 0\n",
    "        refFt = first(L1)\n",
    "        append!(L2, refFt)\n",
    "        popfirst!(L1)\n",
    "        stillToKeep = []\n",
    "        for (ift, ft) in enumerate(L1)\n",
    "            if abs(cor(data[refFt], data[ft])) < threshold\n",
    "                append!(stillToKeep, ift)\n",
    "            end\n",
    "        end\n",
    "        L1 = L1[stillToKeep]\n",
    "    end\n",
    "    return(L2)\n",
    "end"
   ]
  },
  {
   "cell_type": "code",
   "execution_count": null,
   "metadata": {},
   "outputs": [],
   "source": [
    "uncorrFt = decorrelate(normDataset, orderCol = orderFt, threshold = FILT_MAX_CORR)\n",
    "normDataset = normDataset[uncorrFt]"
   ]
  },
  {
   "cell_type": "code",
   "execution_count": null,
   "metadata": {},
   "outputs": [],
   "source": [
    "# Visualization\n",
    "Random.seed!(3895)\n",
    "umND = umap(convert(Matrix, normDataset)', 2; min_dist = 0.01, n_epochs = 200)\n",
    "umND = convert(DataFrame, umND')\n",
    "names!(umND, [:UMAP1, :UMAP2])\n",
    "\n",
    "umND[:Condition] = origDataset\n",
    "\n",
    "gp = ggplot(umND, aes(:UMAP1, :UMAP2)) + geom_point(aes(color = :Condition), alpha = 0.3)\n",
    "print(gp)\n",
    "ggsave(\"Fig/UMAP_test.pdf\", gp)\n",
    "1"
   ]
  },
  {
   "cell_type": "code",
   "execution_count": null,
   "metadata": {},
   "outputs": [],
   "source": [
    "function mahalanobis(x::DataFrameRow, µ::Array{Float64,1}, S::Array{Float64,2})\n",
    "    \"\"\"Squared mahalanobis distance for covariance estimator S and center µ\"\"\"\n",
    "    arrX = convert(Vector, x)  \n",
    "    return((arrX - µ)'*inv(S)*(arrX - µ))\n",
    "end"
   ]
  },
  {
   "cell_type": "code",
   "execution_count": null,
   "metadata": {},
   "outputs": [],
   "source": [
    "function RMD(data, iPert, iRef)\n",
    "    \"\"\" Compute the median Robust Mahalanobis Distance (RMD)\n",
    "        in a dataset 'data' for a given perturbation of indices 'iPert' \n",
    "        compared to a reference of indices 'iRef'.\n",
    "        See https://e-archivo.uc3m.es/bitstream/handle/10016/24613/ws201710.pdf \"\"\"\n",
    "    setPert = data[iPert,:]\n",
    "    setRef = data[iRef,:] \n",
    "\n",
    "    # Ensure that we have enough points to compute distance\n",
    "    if ((size(setPert)[1] < 2*size(data, 2))|(size(setRef)[1] < 2*size(data, 2)))\n",
    "        return(missing)\n",
    "    end\n",
    "    # NB: having less points than twice the number of dimensions leads to singularity\n",
    "    \n",
    "    # Compute Minimum Covariance Determinant and corresponding Robust Mahalanobis Distance\n",
    "    @rput setRef\n",
    "\n",
    "    R\"\"\"\n",
    "    set.seed(3895)\n",
    "    mcd <- covMcd(setRef)\n",
    "    mcdCenter <- mcd$center\n",
    "    mcdCov <- mcd$cov\n",
    "    \"\"\"\n",
    "    @rget mcdCenter\n",
    "    @rget mcdCov\n",
    "    \n",
    "    RMD = median(map(x -> mahalanobis(x, mcdCenter, mcdCov), eachrow(setPert)))\n",
    "    return(RMD)\n",
    "end"
   ]
  },
  {
   "cell_type": "code",
   "execution_count": null,
   "metadata": {},
   "outputs": [],
   "source": [
    "function shuffRMD(data, iPert, iRef; nbRep = 250)\n",
    "    \"\"\" Permute labels and compute the median Robust Mahalanobis Distance (RMD)\n",
    "        in a dataset 'data' for a given perturbation of indices 'iPert' \n",
    "        compared to a reference of indices 'iRef', to create an empirical distribution.\"\"\"\n",
    "    setPert = data[iPert,:]\n",
    "    setRef = data[iRef,:]  \n",
    "    set = vcat(setRef, setPert)\n",
    "    \n",
    "    # Ensure that we have enough points to compute distance\n",
    "    if ((size(setPert)[1] < 2*size(data, 2))|(size(setRef)[1] < 2*size(data, 2)))\n",
    "        return(repeat([missing], nbRep))\n",
    "    end\n",
    "    # NB: having less points than twice the number of dimensions leads to singularity\n",
    "    \n",
    "    function iterShufRMD()\n",
    "        shuffSet = set[sample(1:nrow(set), nrow(set); replace = false),:]\n",
    "        # Take random subsets of corresponding sizes\n",
    "        shuffSetPert = shuffSet[1:nrow(setPert),:]\n",
    "        shuffSetRef = shuffSet[(nrow(setPert)+1):(nrow(setPert)+nrow(setRef)),:]\n",
    "\n",
    "        # Compute Minimum Covariance Determinant and corresponding Robust Mahalanobis Distance\n",
    "        @rput shuffSetRef\n",
    "        \n",
    "        R\"\"\"\n",
    "        set.seed(3895)\n",
    "        mcd <- covMcd(shuffSetRef)\n",
    "        mcdCenter <- mcd$center\n",
    "        mcdCov <- mcd$cov\n",
    "        \"\"\"\n",
    "        @rget mcdCenter\n",
    "        @rget mcdCov\n",
    "\n",
    "        RMD = median(map(x -> mahalanobis(x, mcdCenter, mcdCov), eachrow(shuffSetPert)))\n",
    "        return(RMD)\n",
    "    end       \n",
    "    \n",
    "    return(map(x -> iterShufRMD(), 1:nbRep))\n",
    "end"
   ]
  },
  {
   "cell_type": "code",
   "execution_count": null,
   "metadata": {},
   "outputs": [],
   "source": [
    "# Re-run UMAP with more dimensions (to preserve more of the total information)\n",
    "Random.seed!(3895)\n",
    "umND = umap(convert(Matrix, normDataset)', dimUMAP; min_dist = 0.01, n_epochs = 200)\n",
    "umND = convert(DataFrame, umND')\n",
    "names!(umND, Symbol.(string.(\"UMAP\", 1:dimUMAP)))\n",
    "\n",
    "umND[:Condition] = origDataset"
   ]
  },
  {
   "cell_type": "code",
   "execution_count": null,
   "metadata": {},
   "outputs": [],
   "source": [
    "allRMD = map(x -> RMD(umND[:,1:dimUMAP], umND.Condition.==x, umND.Condition.==\"Reference\"), unique(umND.Condition))"
   ]
  },
  {
   "cell_type": "code",
   "execution_count": null,
   "metadata": {},
   "outputs": [],
   "source": [
    "@time allShuffRMD = map(x -> shuffRMD(umND[:,1:dimUMAP], umND.Condition .== x, umND.Condition .== \"Reference\", nbRep = 250), \n",
    "    unique(umND.Condition))"
   ]
  },
  {
   "cell_type": "code",
   "execution_count": null,
   "metadata": {},
   "outputs": [],
   "source": [
    "# Missing values need to be handled in real case applications\n",
    "@assert !any(ismissing.(allRMD))"
   ]
  },
  {
   "cell_type": "code",
   "execution_count": null,
   "metadata": {},
   "outputs": [],
   "source": [
    "# Compute the Robust Morphological Perturbation Value\n",
    "plateRMPV = DataFrame()\n",
    "plateRMPV[:RMPV] = adjust([mean(obs .< sim) for (obs, sim) \n",
    "            in zip(allRMD, allShuffRMD)], BenjaminiHochberg())\n",
    "plateRMPV[:RMD] = allRMD\n",
    "plateRMPV[:Condition] = unique(umND.Condition)"
   ]
  },
  {
   "cell_type": "code",
   "execution_count": null,
   "metadata": {},
   "outputs": [],
   "source": [
    "allShuffRMD"
   ]
  },
  {
   "cell_type": "code",
   "execution_count": null,
   "metadata": {},
   "outputs": [],
   "source": [
    "plateRMPV"
   ]
  },
  {
   "cell_type": "code",
   "execution_count": null,
   "metadata": {},
   "outputs": [],
   "source": [
    "# Display number of active drugs\n",
    "gp = ggplot(plateRMPV) + geom_point(aes(:RMPV, :RMD, color = :Condition)) + \n",
    "    geom_vline(xintercept = 0.05, linetype = \"dashed\")\n",
    "print(gp)\n",
    "ggsave(\"Fig/RMPV_test.pdf\", gp)"
   ]
  },
  {
   "cell_type": "code",
   "execution_count": null,
   "metadata": {},
   "outputs": [],
   "source": [
    "modelPCA = fit(PCA, convert(Matrix, normDataset)'; pratio = 0.8)\n",
    "pcaND = transform(modelPCA, convert(Matrix, normDataset)')\n",
    "pcaND = convert(DataFrame, pcaND')\n",
    "# Scale by importance of each principal component\n",
    "pcaND = DataFrame(principalvars(modelPCA) .* eachcol(pcaND))\n",
    "names!(pcaND, Symbol.(string.(\"PC\", 1:outdim(modelPCA))))\n",
    "\n",
    "pcaND[:Condition] = origDataset\n",
    "\n",
    "gp = ggplot(pcaND, aes(:PC1, :PC2)) + geom_point(aes(color = :Condition), alpha = 0.3)\n",
    "print(gp)\n",
    "ggsave(\"Fig/PCA_test.pdf\", gp)\n",
    "1"
   ]
  }
 ],
 "metadata": {
  "kernelspec": {
   "display_name": "Julia 1.1.0",
   "language": "julia",
   "name": "julia-1.1"
  },
  "language_info": {
   "file_extension": ".jl",
   "mimetype": "application/julia",
   "name": "julia",
   "version": "1.1.0"
  }
 },
 "nbformat": 4,
 "nbformat_minor": 2
}
