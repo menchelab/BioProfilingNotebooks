{
 "cells": [
  {
   "cell_type": "code",
   "execution_count": null,
   "metadata": {},
   "outputs": [],
   "source": [
    "using CSV, StatsBase, Statistics, DataFrames, UMAP, RCall\n",
    "using Distributed, RMP, Random, Distributions\n",
    "using MultivariateStats, MultipleTesting\n",
    "using Dates: now\n",
    "using LinearAlgebra: I, Diagonal, diag, det, qr, Symmetric"
   ]
  },
  {
   "cell_type": "code",
   "execution_count": null,
   "metadata": {},
   "outputs": [],
   "source": [
    "@rlibrary ggplot2\n",
    "@rlibrary extrafont"
   ]
  },
  {
   "cell_type": "code",
   "execution_count": null,
   "metadata": {},
   "outputs": [],
   "source": [
    "R\"\"\"\n",
    "# Used later for MCD computation\n",
    "\n",
    "library(robustbase)\n",
    "\n",
    "# Customize ggplot appearance\n",
    "\n",
    "library(ggplot2)\n",
    "library(extrafont)\n",
    "\n",
    "\n",
    "# Load extra fonts\n",
    "ttf_import(paths = \"/tmp/.fonts/\")\n",
    "loadfonts()\n",
    "\n",
    "# Change theme\n",
    "customTheme <- theme_light() + \n",
    "               theme(panel.grid.minor=element_blank(), text=element_text(size=17, family=\"Arial\", colour = \"#333333\"),\n",
    "                     line=element_line(colour = \"#333333\"), \n",
    "                     legend.background = element_rect(fill=alpha('#CCCCCC', 0.1)), legend.key = element_blank())\n",
    "\n",
    "# Change default colors\n",
    "scale_colour_continuous <- function (..., begin = 0.1, end = 0.9, direction = -1, option = \"plasma\", \n",
    "                                     type = getOption(\"ggplot2.continuous.colour\", default = \"viridis\")) {\n",
    "    switch(type, gradient = scale_colour_gradient(...), \n",
    "        viridis = scale_colour_viridis_c(option = option, begin = begin, end = end, direction = direction, ...), \n",
    "        stop(\"Unknown scale type\", call. = FALSE))\n",
    "}\n",
    "scale_color_continuous <- scale_colour_continuous\n",
    "\n",
    "scale_fill_continuous <- function (..., begin = 0.1, end = 0.9, direction = -1, option = \"plasma\", \n",
    "                                     type = getOption(\"ggplot2.continuous.colour\", default = \"viridis\")) {\n",
    "    switch(type, gradient = scale_fill_gradient(...), \n",
    "        viridis = scale_fill_viridis_c(option = option, begin = begin, end = end, direction = direction, ...), \n",
    "        stop(\"Unknown scale type\", call. = FALSE))\n",
    "\n",
    "}\n",
    "\n",
    "cemm_pal = colorRampPalette(c(\"#5A463C\", \"#008CAD\", \"#40B9D4\", \"#D4ECF2\", \"#D2323C\", \"#F8B100\", \"#DFDC00\"))\n",
    "scale_fill_discrete <- function (..., type = \"CeMM\", h = c(0, 360) + 15, c = 100, l = 65, h.start = 0, \n",
    "    direction = 1, na.value = \"grey50\", aesthetics = \"fill\") \n",
    "{\n",
    "    if (type == \"CeMM\"){\n",
    "        discrete_scale(aesthetics, \"CeMM\", cemm_pal, na.value = na.value, ...)\n",
    "    } else {\n",
    "        discrete_scale(aesthetics, \"hue\", hue_pal(h, c, l, h.start, \n",
    "            direction), na.value = na.value, ...)\n",
    "    }\n",
    "}\n",
    "\n",
    "scale_color_discrete <- function (..., type = \"CeMM\", h = c(0, 360) + 15, c = 100, l = 65, h.start = 0, \n",
    "    direction = 1, na.value = \"grey50\", aesthetics = \"colour\") {\n",
    "    if (type == \"CeMM\"){\n",
    "        discrete_scale(aesthetics, \"CeMM\", cemm_pal, na.value = na.value, ...)\n",
    "    } else {\n",
    "        discrete_scale(aesthetics, \"hue\", scales::hue_pal(h, c, l, h.start, \n",
    "            direction), na.value = na.value, ...)\n",
    "    }\n",
    "}\n",
    "scale_colour_discrete <- scale_color_discrete\n",
    "\n",
    "noGridTheme <- function(...){\n",
    "    theme(panel.grid.major=element_blank(), axis.text.x=element_text(size=12), axis.text.y=element_text(size=12),\n",
    "                      axis.line=element_line(color=\"#333333\", size = 0.2), panel.border = element_blank(), ...)\n",
    "}\n",
    "\n",
    "darkTheme <- function(...){\n",
    "    theme(panel.background = element_rect(fill = '#333333'), plot.background = element_rect(fill = '#333333'), \n",
    "          axis.line=element_line(color=\"#CCCCCC\", size = 0.2), \n",
    "          text=element_text(size=17, family=\"Arial\", colour = \"#CCCCCC\"),\n",
    "          line=element_line(colour = \"#CCCCCC\"))\n",
    "}\n",
    "\n",
    "theme_set(customTheme)\n",
    "\n",
    "options(repr.plot.width=10, repr.plot.height=10)\n",
    "\"\"\""
   ]
  },
  {
   "cell_type": "code",
   "execution_count": null,
   "metadata": {},
   "outputs": [],
   "source": [
    "# Number of points in control dataset\n",
    "NR = 4500\n",
    "# Number of points in other datasets\n",
    "N = 1500\n",
    "# Number of dimensions in each dataset\n",
    "D = 100\n",
    "# Percentage of datasets contaminated with outliers\n",
    "pOutliers = 1/3\n",
    "# Scaling of the transformation for positive controls\n",
    "posScaling = 1.0;\n",
    "# Number of dimensions kept for UMAP distance computation\n",
    "dimUMAP = 10"
   ]
  },
  {
   "cell_type": "markdown",
   "metadata": {},
   "source": [
    "## Dataset 1 - Reference R\n",
    "We assume our data of interest to follow a multivariate normal distribution: In a morphological profiling, components are to some extent *independent (by removing correlated morphological features) and* normally distributed (by using a log-transformation)."
   ]
  },
  {
   "cell_type": "code",
   "execution_count": null,
   "metadata": {},
   "outputs": [],
   "source": [
    "Random.seed!(1);"
   ]
  },
  {
   "cell_type": "markdown",
   "metadata": {},
   "source": [
    "### Data center"
   ]
  },
  {
   "cell_type": "code",
   "execution_count": null,
   "metadata": {},
   "outputs": [],
   "source": [
    "# The reference is centered on 0\n",
    "µ = zeros(D);"
   ]
  },
  {
   "cell_type": "markdown",
   "metadata": {},
   "source": [
    "### Data covariance"
   ]
  },
  {
   "cell_type": "code",
   "execution_count": null,
   "metadata": {},
   "outputs": [],
   "source": [
    "# Diagonal: variances follow a Gamma distribution of shape and scale parameters equal to 1 and 2\n",
    "# Rationale: Some variability in scales with some high values, and no negative values\n",
    "# NB: Beta distribution could be used instead of Gamma distribution if long-tail is not needed\n",
    "# NB: Effects are smoothed by the orthogonal transformation anyway\n",
    "distrib = Gamma(1,2)\n",
    "sigma_diag = rand(distrib, D);"
   ]
  },
  {
   "cell_type": "code",
   "execution_count": null,
   "metadata": {},
   "outputs": [],
   "source": [
    "ggplot(DataFrame(x = sigma_diag)) + geom_histogram(aes(:x))"
   ]
  },
  {
   "cell_type": "code",
   "execution_count": null,
   "metadata": {},
   "outputs": [],
   "source": [
    "# Now we transform this space by multiplying by a random orthogonal matrix\n",
    "s = rand(D,D)\n",
    "Q, R = qr(s);"
   ]
  },
  {
   "cell_type": "code",
   "execution_count": null,
   "metadata": {},
   "outputs": [],
   "source": [
    "# NB: becomes really slow, do not try with D > 500\n",
    "∑ = Q' * Diagonal(sigma_diag) * Q;"
   ]
  },
  {
   "cell_type": "code",
   "execution_count": null,
   "metadata": {},
   "outputs": [],
   "source": [
    "# Check that the matrix is symmetrical (up to machine error)\n",
    "@assert all([∑[i,j] ≈ ∑[j,i] for i in 1:D for j in 1:D if j>i])\n",
    "# Make it perfectly symmetrical\n",
    "[∑[i,j] = ∑[j,i] for i in 1:D for j in 1:D if j>i]\n",
    "# Sylvester's criterion of positive semidefinite matrices\n",
    "@assert all([det(∑[1:size,1:size]) > 0 for size in 1:D])"
   ]
  },
  {
   "cell_type": "code",
   "execution_count": null,
   "metadata": {
    "scrolled": true
   },
   "outputs": [],
   "source": [
    "ggplot(DataFrame(x = diag(∑))) + geom_histogram(aes(:x)) "
   ]
  },
  {
   "cell_type": "markdown",
   "metadata": {},
   "source": [
    "### Data center"
   ]
  },
  {
   "cell_type": "code",
   "execution_count": null,
   "metadata": {
    "scrolled": true
   },
   "outputs": [],
   "source": [
    "# The reference still is centered (center µ)\n",
    "# The outliers are not centered on 0 anymore\n",
    "distrib = Normal(0, 1)\n",
    "µOutliers = rand(distrib, D)"
   ]
  },
  {
   "cell_type": "markdown",
   "metadata": {},
   "source": [
    "### Data covariance"
   ]
  },
  {
   "cell_type": "code",
   "execution_count": null,
   "metadata": {},
   "outputs": [],
   "source": [
    "# The covariance of the outliers is similar but independent of the reference points\n",
    "distrib = Gamma(1,2)\n",
    "sigma_diagOutliers = rand(distrib, D);"
   ]
  },
  {
   "cell_type": "code",
   "execution_count": null,
   "metadata": {},
   "outputs": [],
   "source": [
    "# Now we transform this space by multiplying by a random orthogonal matrix\n",
    "s = rand(D,D)\n",
    "Q, R = qr(s);"
   ]
  },
  {
   "cell_type": "code",
   "execution_count": null,
   "metadata": {},
   "outputs": [],
   "source": [
    "# NB: becomes really slow, do not try with D > 500\n",
    "∑Outliers = Q' * Diagonal(sigma_diagOutliers) * Q;"
   ]
  },
  {
   "cell_type": "code",
   "execution_count": null,
   "metadata": {},
   "outputs": [],
   "source": [
    "# Check that the matrix is symmetrical (up to machine error)\n",
    "@assert all([∑Outliers[i,j] ≈ ∑Outliers[j,i] for i in 1:D for j in 1:D if j>i])\n",
    "# Make it perfectly symmetrical\n",
    "[∑Outliers[i,j] = ∑Outliers[j,i] for i in 1:D for j in 1:D if j>i]\n",
    "# Sylvester's criterion of positive semidefinite matrices\n",
    "@assert all([det(∑Outliers[1:size,1:size]) > 0 for size in 1:D])"
   ]
  },
  {
   "cell_type": "code",
   "execution_count": null,
   "metadata": {
    "scrolled": true
   },
   "outputs": [],
   "source": [
    "ggplot(DataFrame(x = diag(∑Outliers))) + geom_histogram(aes(:x)) "
   ]
  },
  {
   "cell_type": "markdown",
   "metadata": {},
   "source": [
    "### Output reference dataset"
   ]
  },
  {
   "cell_type": "code",
   "execution_count": null,
   "metadata": {},
   "outputs": [],
   "source": [
    "# `100*pOutliers`% of the data will follow a multivariate normal distribution with the parameters\n",
    "# we generated previously\n",
    "distrib = MvNormal(µ, ∑);\n",
    "distribOutliers = MvNormal(µOutliers, ∑Outliers);"
   ]
  },
  {
   "cell_type": "code",
   "execution_count": null,
   "metadata": {
    "scrolled": true
   },
   "outputs": [],
   "source": [
    "matR = DataFrame(hcat(rand(distrib, Int(round(NR*(1-pOutliers)))),\n",
    "                      rand(distribOutliers, Int(round(NR*pOutliers))))')"
   ]
  },
  {
   "cell_type": "markdown",
   "metadata": {},
   "source": [
    "## Dataset 2 - Positive control (shifted) P"
   ]
  },
  {
   "cell_type": "code",
   "execution_count": null,
   "metadata": {},
   "outputs": [],
   "source": [
    "Random.seed!(2);"
   ]
  },
  {
   "cell_type": "markdown",
   "metadata": {},
   "source": [
    "### Data center"
   ]
  },
  {
   "cell_type": "code",
   "execution_count": null,
   "metadata": {},
   "outputs": [],
   "source": [
    "# The reference is not centered on 0 anymore\n",
    "distrib = Normal(0, 0.5*posScaling)\n",
    "µmod = rand(distrib, D)"
   ]
  },
  {
   "cell_type": "markdown",
   "metadata": {},
   "source": [
    "### Output shifted dataset"
   ]
  },
  {
   "cell_type": "code",
   "execution_count": null,
   "metadata": {},
   "outputs": [],
   "source": [
    "# The data will follow a multivariate normal distribution with the parameters\n",
    "# we generated previously\n",
    "distrib = MvNormal(µmod, ∑);"
   ]
  },
  {
   "cell_type": "code",
   "execution_count": null,
   "metadata": {
    "scrolled": true
   },
   "outputs": [],
   "source": [
    "matP = DataFrame(hcat(rand(distrib, Int(round(N*(1-pOutliers)))),\n",
    "                      rand(distribOutliers, Int(round(N*pOutliers))))')"
   ]
  },
  {
   "cell_type": "markdown",
   "metadata": {},
   "source": [
    "## Define distances of interest"
   ]
  },
  {
   "cell_type": "code",
   "execution_count": null,
   "metadata": {},
   "outputs": [],
   "source": [
    "\"\"\" Compute the Mahalanobis Distance to center (MDC)\n",
    "    in a dataset 'data' for a given perturbation of indices 'iPert' \n",
    "    compared to a reference of indices 'iRef'.\"\"\"\n",
    "function MDC(data, iPert, iRef)\n",
    "    setPert = Matrix(data[iPert,:])\n",
    "    setRef = Matrix(data[iRef,:])\n",
    "\n",
    "    mdCenter = dropdims(mean(setRef, dims = 1), dims = 1)\n",
    "    mdCov = cov(setRef)\n",
    "\n",
    "    pertCenter = dropdims(mean(setPert, dims = 1), dims = 1)\n",
    "    \n",
    "    MD = mahalanobis(pertCenter, mdCenter, mdCov)\n",
    "    \n",
    "    return(MD)\n",
    "end"
   ]
  },
  {
   "cell_type": "code",
   "execution_count": null,
   "metadata": {},
   "outputs": [],
   "source": [
    "\"\"\" Compute the median Mahalanobis Distance (MD)\n",
    "    in a dataset 'data' for a given perturbation of indices 'iPert' \n",
    "    compared to a reference of indices 'iRef'.\"\"\"\n",
    "function MD(data, iPert, iRef)\n",
    "    setPert = data[iPert,:]\n",
    "    setRef = Matrix(data[iRef,:])\n",
    "\n",
    "    mdCenter = dropdims(mean(setRef, dims = 1), dims = 1)\n",
    "    mdCov = cov(setRef)\n",
    "    \n",
    "    MD = median(map(x -> mahalanobis(x, mdCenter, mdCov), eachrow(setPert)))\n",
    "    return(MD)\n",
    "end"
   ]
  },
  {
   "cell_type": "code",
   "execution_count": null,
   "metadata": {},
   "outputs": [],
   "source": [
    "\"\"\" Compute the median Robust Mahalanobis Distance (RMD)\n",
    "    in a dataset 'data' for a given perturbation of indices 'iPert' \n",
    "    compared to a reference of indices 'iRef'.\n",
    "    See https://e-archivo.uc3m.es/bitstream/handle/10016/24613/ws201710.pdf \"\"\"\n",
    "function RMD(data, iPert, iRef)\n",
    "    setPert = data[iPert,:]\n",
    "    setRef = data[iRef,:] \n",
    "\n",
    "    # Ensure that we have enough points to compute distance\n",
    "    if ((size(setPert)[1] < 2*size(data, 2))|(size(setRef)[1] < 2*size(data, 2)))\n",
    "        return(missing)\n",
    "    end\n",
    "    # NB: having less points than twice the number of dimensions leads to singularity\n",
    "    \n",
    "    # Compute Minimum Covariance Determinant and corresponding Robust Mahalanobis Distance\n",
    "    @rput setRef\n",
    "\n",
    "    R\"\"\"\n",
    "    set.seed(3895)\n",
    "    mcd <- covMcd(setRef)\n",
    "    mcdCenter <- mcd$center\n",
    "    mcdCov <- mcd$cov\n",
    "    \"\"\"\n",
    "    @rget mcdCenter\n",
    "    @rget mcdCov\n",
    "    \n",
    "    RMD = median(map(x -> mahalanobis(x, mcdCenter, mcdCov), eachrow(setPert)))\n",
    "    return(RMD)\n",
    "end"
   ]
  },
  {
   "cell_type": "code",
   "execution_count": null,
   "metadata": {},
   "outputs": [],
   "source": [
    "\"\"\" Compute the Robust Hellinger Distance (RHD)\n",
    "    in a dataset `data` for a given perturbation of indices `iPert` \n",
    "    compared to a reference of indices `iRef`.\"\"\"\n",
    "function RHD(data, iPert, iRef)\n",
    "    setPert = data[iPert,:]\n",
    "    setRef = data[iRef,:] \n",
    "\n",
    "    # Ensure that we have enough points to compute distance\n",
    "    if ((size(setPert)[1] < 2*size(data, 2))|(size(setRef)[1] < 2*size(data, 2)))\n",
    "        return(missing)\n",
    "    end\n",
    "    # NB: having less points than twice the number of dimensions leads to singularity\n",
    "    \n",
    "    # Compute Minimum Covariance Determinant and corresponding Robust Hellinger Distance\n",
    "    @rput setRef\n",
    "    @rput setPert\n",
    "\n",
    "    R\"\"\"\n",
    "    set.seed(3895)\n",
    "    mcd1 <- covMcd(setRef)\n",
    "    mcdCenter1 <- mcd1$center\n",
    "    mcdCov1 <- mcd1$cov\n",
    "    \n",
    "    # We set the seed twice to always\n",
    "    # find the same estimators given\n",
    "    # the same sample\n",
    "    set.seed(3895)\n",
    "    mcd2 <- covMcd(setPert)\n",
    "    mcdCenter2 <- mcd2$center\n",
    "    mcdCov2 <- mcd2$cov\n",
    "    \"\"\"\n",
    "    @rget mcdCenter1\n",
    "    @rget mcdCov1\n",
    "    @rget mcdCenter2\n",
    "    @rget mcdCov2\n",
    "    \n",
    "    RHD = hellinger(mcdCenter1, mcdCov1, mcdCenter2, mcdCov2)\n",
    "    return(RHD)\n",
    "end"
   ]
  },
  {
   "cell_type": "markdown",
   "metadata": {},
   "source": [
    "## Compare raw distances"
   ]
  },
  {
   "cell_type": "code",
   "execution_count": null,
   "metadata": {
    "scrolled": true
   },
   "outputs": [],
   "source": [
    "df = vcat(matR, matP)\n",
    "# Remember how these records were generated\n",
    "origDataset = vcat(repeat([\"Reference\"], size(matR, 1)),\n",
    "                   repeat([\"Positive control\"], size(matP, 1)));"
   ]
  },
  {
   "cell_type": "code",
   "execution_count": null,
   "metadata": {
    "scrolled": true
   },
   "outputs": [],
   "source": [
    "# Actual observed MD to center\n",
    "allMDCraw = map(x -> MDC(df, origDataset.==x,\n",
    "                origDataset.==\"Reference\"), unique(origDataset))"
   ]
  },
  {
   "cell_type": "code",
   "execution_count": null,
   "metadata": {},
   "outputs": [],
   "source": [
    "allMDraw = map(x -> MD(df, origDataset.==x,\n",
    "                       origDataset.==\"Reference\"), unique(origDataset))"
   ]
  },
  {
   "cell_type": "code",
   "execution_count": null,
   "metadata": {},
   "outputs": [],
   "source": [
    "allRMDraw = map(x -> RMD(df, origDataset.==x, \n",
    "                origDataset.==\"Reference\"), unique(origDataset))"
   ]
  },
  {
   "cell_type": "code",
   "execution_count": null,
   "metadata": {},
   "outputs": [],
   "source": [
    "allRHDraw = map(x -> RHD(df, origDataset.==x, origDataset.==\"Reference\"),\n",
    "                unique(origDataset))"
   ]
  },
  {
   "cell_type": "markdown",
   "metadata": {},
   "source": [
    "## Compare PCA distances"
   ]
  },
  {
   "cell_type": "code",
   "execution_count": null,
   "metadata": {},
   "outputs": [],
   "source": [
    "Random.seed!(3895)\n",
    "modelPCA = fit(PCA, convert(Matrix, df)'; pratio = 0.9)\n",
    "dimPCA = min(outdim(modelPCA), 50)\n",
    "pcaND = MultivariateStats.transform(modelPCA, convert(Matrix, df)')\n",
    "pcaND = convert(DataFrame, pcaND')\n",
    "# Scale by importance of each principal component\n",
    "pcaND = DataFrame(principalvars(modelPCA) .* eachcol(pcaND))[:,1:dimPCA]\n",
    "names!(pcaND, Symbol.(string.(\"PC\", 1:dimPCA)))\n",
    "\n",
    "pcaND[:Condition] = origDataset;"
   ]
  },
  {
   "cell_type": "code",
   "execution_count": null,
   "metadata": {},
   "outputs": [],
   "source": [
    "gp = ggplot(pcaND, aes(:PC1, :PC2)) + geom_point(aes(color = :Condition), alpha = 0.3)\n",
    "print(gp)"
   ]
  },
  {
   "cell_type": "code",
   "execution_count": null,
   "metadata": {},
   "outputs": [],
   "source": [
    "allMDCpca = map(x -> MDC(pcaND[:,1:dimPCA], pcaND.Condition.==x,\n",
    "             pcaND.Condition.==\"Reference\"), unique(pcaND.Condition))"
   ]
  },
  {
   "cell_type": "code",
   "execution_count": null,
   "metadata": {},
   "outputs": [],
   "source": [
    "allMDpca = map(x -> MD(pcaND[:,1:dimPCA], pcaND.Condition.==x, \n",
    "                       pcaND.Condition.==\"Reference\"), unique(pcaND.Condition))"
   ]
  },
  {
   "cell_type": "code",
   "execution_count": null,
   "metadata": {},
   "outputs": [],
   "source": [
    "allRMDpca = map(x -> RMD(pcaND[:,1:dimPCA], pcaND.Condition.==x, \n",
    "                pcaND.Condition.==\"Reference\"), unique(pcaND.Condition))"
   ]
  },
  {
   "cell_type": "code",
   "execution_count": null,
   "metadata": {},
   "outputs": [],
   "source": [
    "allRHDpca = map(x -> RHD(pcaND[:,1:dimUMAP], pcaND.Condition.==x, pcaND.Condition.==\"Reference\"),\n",
    "                unique(pcaND.Condition))"
   ]
  },
  {
   "cell_type": "markdown",
   "metadata": {},
   "source": [
    "## Compare UMAP distances"
   ]
  },
  {
   "cell_type": "code",
   "execution_count": null,
   "metadata": {},
   "outputs": [],
   "source": [
    "# Visualization\n",
    "Random.seed!(3895)\n",
    "umND = umap(convert(Matrix, df)', 2; min_dist = 1, spread = 10, n_epochs = 200)\n",
    "umND = convert(DataFrame, umND')\n",
    "names!(umND, [:UMAP1, :UMAP2])\n",
    "\n",
    "umND[:Condition] = origDataset"
   ]
  },
  {
   "cell_type": "code",
   "execution_count": null,
   "metadata": {},
   "outputs": [],
   "source": [
    "gp = ggplot(umND, aes(:UMAP1, :UMAP2)) + geom_point(aes(color = :Condition), alpha = 0.3)\n",
    "print(gp)"
   ]
  },
  {
   "cell_type": "code",
   "execution_count": null,
   "metadata": {},
   "outputs": [],
   "source": [
    "# Re-run UMAP with more dimensions (to preserve more of the total information)\n",
    "Random.seed!(3895)\n",
    "umND = umap(convert(Matrix, df)', dimUMAP; min_dist = 1, spread = 10, n_epochs = 200)\n",
    "umND = convert(DataFrame, umND')\n",
    "names!(umND, Symbol.(string.(\"UMAP\", 1:dimUMAP)))\n",
    "\n",
    "umND[:Condition] = origDataset"
   ]
  },
  {
   "cell_type": "code",
   "execution_count": null,
   "metadata": {},
   "outputs": [],
   "source": [
    "allMDC = map(x -> MDC(umND[:,1:dimUMAP], umND.Condition.==x, umND.Condition.==\"Reference\"), unique(umND.Condition))"
   ]
  },
  {
   "cell_type": "code",
   "execution_count": null,
   "metadata": {},
   "outputs": [],
   "source": [
    "allMD = map(x -> MD(umND[:,1:dimUMAP], umND.Condition.==x, umND.Condition.==\"Reference\"), unique(umND.Condition))"
   ]
  },
  {
   "cell_type": "code",
   "execution_count": null,
   "metadata": {},
   "outputs": [],
   "source": [
    "allRMD = map(x -> RMD(umND[:,1:dimUMAP], umND.Condition.==x, umND.Condition.==\"Reference\"), unique(umND.Condition))"
   ]
  },
  {
   "cell_type": "code",
   "execution_count": null,
   "metadata": {},
   "outputs": [],
   "source": [
    "allRHD = map(x -> RHD(umND[:,1:dimUMAP], umND.Condition.==x, umND.Condition.==\"Reference\"), unique(umND.Condition))"
   ]
  }
 ],
 "metadata": {
  "kernelspec": {
   "display_name": "Julia 1.4.1",
   "language": "julia",
   "name": "julia-1.4"
  },
  "language_info": {
   "file_extension": ".jl",
   "mimetype": "application/julia",
   "name": "julia",
   "version": "1.4.1"
  }
 },
 "nbformat": 4,
 "nbformat_minor": 4
}
