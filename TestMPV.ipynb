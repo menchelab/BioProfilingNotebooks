{
 "cells": [
  {
   "cell_type": "code",
   "execution_count": null,
   "metadata": {},
   "outputs": [],
   "source": [
    "library(ggplot2)\n",
    "library(extrafont)\n",
    "library(stringr)\n",
    "library(heatmaply)\n",
    "library(ggrepel)\n",
    "library(reticulate)\n",
    "library(gridExtra)\n",
    "library(robustbase)"
   ]
  },
  {
   "cell_type": "code",
   "execution_count": null,
   "metadata": {},
   "outputs": [],
   "source": [
    "# Load external Python functions\n",
    "source_python(\"reticulate_functions.py\")\n",
    "# Load extra fonts\n",
    "ttf_import(paths = \".fonts\")\n",
    "loadfonts()\n",
    "# Set this to true for faster compilation or false for more precise results and all outputs\n",
    "TEST_MODE = F"
   ]
  },
  {
   "cell_type": "code",
   "execution_count": null,
   "metadata": {},
   "outputs": [],
   "source": [
    "# Number of permutations used for empirical p-value computations\n",
    "PERM_NB_ITER = ifelse(TEST_MODE, 20, 2000)"
   ]
  },
  {
   "cell_type": "code",
   "execution_count": null,
   "metadata": {},
   "outputs": [],
   "source": [
    "# Customize ggplot appearance\n",
    "\n",
    "# Change theme\n",
    "customTheme <- theme_light() + \n",
    "               theme(panel.grid.minor=element_blank(), text=element_text(size=17, family=\"Arial\", colour = \"#333333\"),\n",
    "                     line=element_line(colour = \"#333333\"), legend.background = element_rect(fill=alpha('#CCCCCC', 0.1)), legend.key = element_blank())\n",
    "\n",
    "# Change default colors\n",
    "scale_colour_continuous <- function (..., begin = 0.1, end = 0.9, direction = -1, option = \"plasma\", \n",
    "                                     type = getOption(\"ggplot2.continuous.colour\", default = \"viridis\")) {\n",
    "    switch(type, gradient = scale_colour_gradient(...), \n",
    "        viridis = scale_colour_viridis_c(option = option, begin = begin, end = end, direction = direction, ...), \n",
    "        stop(\"Unknown scale type\", call. = FALSE))\n",
    "}\n",
    "scale_color_continuous <- scale_colour_continuous\n",
    "\n",
    "scale_fill_continuous <- function (..., begin = 0.1, end = 0.9, direction = -1, option = \"plasma\", \n",
    "                                     type = getOption(\"ggplot2.continuous.colour\", default = \"viridis\")) {\n",
    "    switch(type, gradient = scale_fill_gradient(...), \n",
    "        viridis = scale_fill_viridis_c(option = option, begin = begin, end = end, direction = direction, ...), \n",
    "        stop(\"Unknown scale type\", call. = FALSE))\n",
    "\n",
    "}\n",
    "\n",
    "cemm_pal = colorRampPalette(c(\"#5A463C\", \"#008CAD\", \"#40B9D4\", \"#D4ECF2\", \"#D2323C\", \"#F8B100\", \"#DFDC00\"))\n",
    "cust_pal = colorRampPalette(c(\"#008CAD\", \"#40B9D4\", \"#D4ECF2\", \"#F8B100\", \"#C00000\", \"#2D0000\"))\n",
    "yolla_pal = colorRampPalette(c('#FD0F91', '#C00000', '#2D0000'))\n",
    "scale_fill_discrete <- function (..., type = \"Cust\", h = c(0, 360) + 15, c = 100, l = 65, h.start = 0, \n",
    "    direction = 1, na.value = \"grey50\", aesthetics = \"fill\") \n",
    "{\n",
    "    if (type == \"CeMM\"){\n",
    "        discrete_scale(aesthetics, \"CeMM\", cemm_pal, na.value = na.value, ...)\n",
    "    } else if (type == \"Yolla\"){\n",
    "        discrete_scale(aesthetics, \"Yolla\", yolla_pal, na.value = na.value, ...)\n",
    "    } else if (type == \"Cust\"){\n",
    "        discrete_scale(aesthetics, \"Cust\", cust_pal, na.value = na.value, ...)\n",
    "    } else {\n",
    "        discrete_scale(aesthetics, \"hue\", hue_pal(h, c, l, h.start, \n",
    "            direction), na.value = na.value, ...)\n",
    "    }\n",
    "}\n",
    "\n",
    "scale_color_discrete <- function (..., type = \"Cust\", h = c(0, 360) + 15, c = 100, l = 65, h.start = 0, \n",
    "    direction = 1, na.value = \"grey50\", aesthetics = \"colour\") {\n",
    "    if (type == \"CeMM\"){\n",
    "        discrete_scale(aesthetics, \"CeMM\", cemm_pal, na.value = na.value, ...)\n",
    "    } else if (type == \"Cust\"){\n",
    "        discrete_scale(aesthetics, \"Cust\", cust_pal, na.value = na.value, ...)\n",
    "    } else if (type == \"Yolla\"){\n",
    "        discrete_scale(aesthetics, \"Yolla\", yolla_pal, na.value = na.value, ...)\n",
    "    } else {\n",
    "        discrete_scale(aesthetics, \"hue\", scales::hue_pal(h, c, l, h.start, \n",
    "            direction), na.value = na.value, ...)\n",
    "    }\n",
    "}\n",
    "scale_colour_discrete <- scale_color_discrete\n",
    "\n",
    "noGridTheme <- function(...){\n",
    "    theme(panel.grid.major=element_blank(), axis.text.x=element_text(size=12), axis.text.y=element_text(size=12),\n",
    "                      axis.line=element_line(color=\"#333333\", size = 0.2), panel.border = element_blank(), ...)\n",
    "}\n",
    "\n",
    "darkTheme <- function(...){\n",
    "    theme(panel.background = element_rect(fill = '#333333'), plot.background = element_rect(fill = '#333333'), \n",
    "          axis.line=element_line(color=\"#CCCCCC\", size = 0.2), \n",
    "          text=element_text(size=17, family=\"Arial\", colour = \"#CCCCCC\"),\n",
    "          line=element_line(colour = \"#CCCCCC\"))\n",
    "}\n",
    "\n",
    "theme_set(customTheme)\n",
    "\n",
    "options(repr.plot.width=10, repr.plot.height=10)"
   ]
  },
  {
   "cell_type": "markdown",
   "metadata": {},
   "source": [
    "## NK92"
   ]
  },
  {
   "cell_type": "code",
   "execution_count": null,
   "metadata": {},
   "outputs": [],
   "source": [
    "# Fix t-SNE layout and random number generation\n",
    "set.seed(38)"
   ]
  },
  {
   "cell_type": "code",
   "execution_count": null,
   "metadata": {},
   "outputs": [],
   "source": [
    "NK = read.csv(\"./allImages_NK_Drugs.csv\", header=T)"
   ]
  },
  {
   "cell_type": "code",
   "execution_count": null,
   "metadata": {},
   "outputs": [],
   "source": [
    "Layout = read.csv(\"./DrugPlateLayout.csv\", header=T)\n",
    "Layout$Well <- paste0(Layout$Row, str_pad(Layout$Column, 2, pad = \"0\"))"
   ]
  },
  {
   "cell_type": "code",
   "execution_count": null,
   "metadata": {},
   "outputs": [],
   "source": [
    "NK$Drug = sapply(NK$Metadata_Well, function(x) Layout$Drug[x == Layout$Well])\n",
    "levels(NK$Drug)[levels(NK$Drug)==\"Y27\"] <- \"Y-27632\"\n",
    "NK$Concentration = sapply(NK$Metadata_Well, function(x) Layout$Concentration[x == Layout$Well])"
   ]
  },
  {
   "cell_type": "code",
   "execution_count": null,
   "metadata": {},
   "outputs": [],
   "source": [
    "gpNK = ggplot(NK[!is.na(NK$Count_FilteredNucleus),]) + geom_histogram(aes(Count_FilteredNucleus, fill = as.factor(Metadata_Row)), binwidth=2) +\n",
    "       scale_fill_discrete(name=\"Row\")\n",
    "gpNK\n",
    "\n",
    "if(!TEST_MODE){\n",
    "    ggsave(filename = \"Fig/NK_count.pdf\", plot = gpNK)\n",
    "}"
   ]
  },
  {
   "cell_type": "code",
   "execution_count": null,
   "metadata": {},
   "outputs": [],
   "source": [
    "gpNK = ggplot(NK[!is.na(NK$Mean_FilterCytoplasm_AreaShape_Area),]) + geom_histogram(aes(Mean_FilterCytoplasm_AreaShape_Area, \n",
    "                                                                                    fill = as.factor(Metadata_Row)), binwidth=100) +\n",
    "       scale_fill_discrete(name=\"Row\")\n",
    "gpNK\n",
    "if(!TEST_MODE){\n",
    "    ggsave(filename = \"Fig/NK_area.pdf\", plot = gpNK)\n",
    "}"
   ]
  },
  {
   "cell_type": "markdown",
   "metadata": {},
   "source": [
    "### Filtering"
   ]
  },
  {
   "cell_type": "code",
   "execution_count": null,
   "metadata": {},
   "outputs": [],
   "source": [
    "FILT_MAX_INT_DNA = 0.05 # Remove empty images and small DNA precipitations\n",
    "FILT_MIN_CELLS = 4 # 8 seems safe from distribution and images, 3 seems in poor shape\n",
    "FILT_NB_MAX_NA_IMAGE = 10\n",
    "FILT_MAX_CORR = 0.6 # Keep uncorrelated variables\n",
    "dimUMAP = 3"
   ]
  },
  {
   "cell_type": "code",
   "execution_count": null,
   "metadata": {},
   "outputs": [],
   "source": [
    "ftToKeep = 1:dim(NK)[2]\n",
    "# Make sure that the fields are numeric\n",
    "ftToKeep <- ftToKeep[which(sapply(NK[,ftToKeep], class) == \"numeric\")]\n",
    "# Remove execution time and count features\n",
    "ftToKeep <- ftToKeep[grep(\"(Execution)|(Count)\", colnames(NK)[ftToKeep], invert = T)]"
   ]
  },
  {
   "cell_type": "code",
   "execution_count": null,
   "metadata": {},
   "outputs": [],
   "source": [
    "# Store all remaining features before filtering for downstream comparison to selected set\n",
    "preFiltFt = colnames(NK)[ftToKeep]"
   ]
  },
  {
   "cell_type": "code",
   "execution_count": null,
   "metadata": {},
   "outputs": [],
   "source": [
    "# Remove wells with low max DNA intensity\n",
    "fieldToKeep <- which(NK$ImageQuality_MaxIntensity_DNA >= FILT_MAX_INT_DNA)\n",
    "# Remove wells with low cell count\n",
    "fieldToKeep <- fieldToKeep[NK[fieldToKeep,]$Count_FilteredNucleus >= FILT_MIN_CELLS]"
   ]
  },
  {
   "cell_type": "code",
   "execution_count": null,
   "metadata": {},
   "outputs": [],
   "source": [
    "# Few bad quality pictures are generating a lot of missing values and are removed\n",
    "fieldToKeep <- fieldToKeep[rowSums(is.na(NK[fieldToKeep,ftToKeep])) < FILT_NB_MAX_NA_IMAGE]\n",
    "# Remove remaining features with missing values\n",
    "ftToKeep <- ftToKeep[colSums(is.na(NK[fieldToKeep,ftToKeep])) == 0] \n",
    "# Remove constant columns\n",
    "indWT = NK[fieldToKeep,]$Drug == \"WT\"\n",
    "ftToKeep <- ftToKeep[sapply(NK[fieldToKeep,ftToKeep], function(x) mad(x) != 0)]\n",
    "ftToKeep <- ftToKeep[sapply(NK[fieldToKeep[indWT],ftToKeep], function(x) mad(x) != 0)]"
   ]
  },
  {
   "cell_type": "code",
   "execution_count": null,
   "metadata": {},
   "outputs": [],
   "source": [
    "print(dim(NK))\n",
    "print(length(ftToKeep))\n",
    "print(length(fieldToKeep))"
   ]
  },
  {
   "cell_type": "code",
   "execution_count": null,
   "metadata": {},
   "outputs": [],
   "source": [
    "# Approximate normal distribution\n",
    "transfLog <- function (x){\n",
    "    minVal = min(x)\n",
    "    return(log(x+1-minVal))\n",
    "}\n",
    "\n",
    "# Center and scale on control values\n",
    "transfNorm <- function(x, y){\n",
    "    return((x - median(y))/mad(y))\n",
    "}"
   ]
  },
  {
   "cell_type": "code",
   "execution_count": null,
   "metadata": {},
   "outputs": [],
   "source": [
    "transformedNK = apply(NK[fieldToKeep, ftToKeep], 2, transfLog)\n",
    "transformedNK = apply(transformedNK, 2, function(x) transfNorm(x, x[indWT]))"
   ]
  },
  {
   "cell_type": "code",
   "execution_count": null,
   "metadata": {},
   "outputs": [],
   "source": [
    "# Order features from biggest mad to smallest mad\n",
    "# Since features have mad(WT) = 1, it means that we rank features by how more variable they are\n",
    "# for drug perturbations than for WT\n",
    "orderFt = rev(order(apply(transformedNK, 2, mad)))"
   ]
  },
  {
   "cell_type": "code",
   "execution_count": null,
   "metadata": {},
   "outputs": [],
   "source": [
    "uncorrFt = uncorrelate(transformedNK, orderCol = orderFt-1, threshold = FILT_MAX_CORR)\n",
    "uncorrFt = unlist(uncorrFt) + 1"
   ]
  },
  {
   "cell_type": "code",
   "execution_count": null,
   "metadata": {},
   "outputs": [],
   "source": [
    "transformedNK = transformedNK[,uncorrFt]"
   ]
  },
  {
   "cell_type": "markdown",
   "metadata": {},
   "source": [
    "### Look at which types of features are kept"
   ]
  },
  {
   "cell_type": "code",
   "execution_count": null,
   "metadata": {},
   "outputs": [],
   "source": [
    "catChannel = c(\"CorrDNA\", \"CorrActin\", \"CorrPerf\")\n",
    "table(rowSums(sapply(catChannel, function(x) grepl(x, colnames(transformedNK)))))\n",
    "dtCat = data.frame(CountIni = sort(colSums(sapply(catChannel, function(x) grepl(x, preFiltFt)))), \n",
    "                   Count = sort(colSums(sapply(catChannel, function(x) grepl(x, colnames(transformedNK))))))\n",
    "\n",
    "dtCat$Order <- rank(dtCat$CountIni, ties.method = c(\"first\"))\n",
    "dtCat$Category <- factor(rownames(dtCat), levels=rownames(dtCat)[order(dtCat$CountIni)])\n",
    "dtCat$Ratio <- dtCat$Count / dtCat$CountIni\n",
    "dtCat$Ratio <- paste0(round(100*dtCat$Ratio, 1), \"%\")\n",
    "gp <- ggplot(dtCat) + geom_bar(aes(Category, weight = CountIni), fill = cust_pal(2)[1]) + ylim(c(0,675)) +\n",
    "              geom_bar(aes(Category, weight = Count), fill = cust_pal(2)[2]) + \n",
    "              geom_text(aes(x = Order, y = CountIni + 2, label = Ratio), hjust = 0) + coord_flip()\n",
    "gp"
   ]
  },
  {
   "cell_type": "code",
   "execution_count": null,
   "metadata": {},
   "outputs": [],
   "source": [
    "if(!TEST_MODE){\n",
    "    ggsave(filename = \"Fig/NK_SelecFt_Channel.pdf\", plot = gp, width = 10)\n",
    "}"
   ]
  },
  {
   "cell_type": "code",
   "execution_count": null,
   "metadata": {},
   "outputs": [],
   "source": [
    "catObjects = c(\"ActinGranules\", \"FilterCytoplasm\", \"ShrunkenCytoplasm\", \"FilteredNucleus\", \"PerfGranules\")\n",
    "table(rowSums(sapply(catObjects, function(x) grepl(x, colnames(transformedNK)))))\n",
    "dtCat = data.frame(CountIni = colSums(sapply(catObjects, function(x) grepl(x, preFiltFt))), \n",
    "                   Count = colSums(sapply(catObjects, function(x) grepl(x, colnames(transformedNK)))))\n",
    "\n",
    "dtCat$Order <- rank(dtCat$CountIni, ties.method = c(\"first\"))\n",
    "dtCat$Category <- factor(rownames(dtCat), levels=rownames(dtCat)[order(dtCat$CountIni)])\n",
    "dtCat$Ratio <- dtCat$Count / dtCat$CountIni\n",
    "dtCat$Ratio <- paste0(round(100*dtCat$Ratio, 1), \"%\")\n",
    "gp <- ggplot(dtCat) + geom_bar(aes(Category, weight = CountIni), fill = cust_pal(2)[1]) + ylim(c(0,510)) +\n",
    "              geom_bar(aes(Category, weight = Count), fill = cust_pal(2)[2]) + \n",
    "              geom_text(aes(x = Order, y = CountIni + 2, label = Ratio), hjust = 0) + coord_flip()\n",
    "gp"
   ]
  },
  {
   "cell_type": "code",
   "execution_count": null,
   "metadata": {},
   "outputs": [],
   "source": [
    "if(!TEST_MODE){\n",
    "    ggsave(filename = \"Fig/NK_SelecFt_Object.pdf\", plot = gp, width = 10)\n",
    "}"
   ]
  },
  {
   "cell_type": "code",
   "execution_count": null,
   "metadata": {},
   "outputs": [],
   "source": [
    "catType = c(\"Threshold\", \"Granularity\", \"ImageQuality\", \"Texture\", \"Distance\", \"AreaShape\", \"RadialDistribution\", \"Neighbors\", \n",
    "            \"Correlation\", \"Intensity\", \"Overlap\", \"Location\")\n",
    "which(rowSums(sapply(catType, function(x) grepl(x, colnames(transformedNK)))) == 0) # All features are covered\n",
    "\n",
    "dtCat = data.frame(CountIni = colSums(sapply(catType, function(x) grepl(x, preFiltFt))), \n",
    "                   Count = colSums(sapply(catType, function(x) grepl(x, colnames(transformedNK)))))\n",
    "dtCat$Order <- rank(dtCat$CountIni, ties.method = c(\"first\"))\n",
    "dtCat$Category <- factor(rownames(dtCat), levels=rownames(dtCat)[order(dtCat$CountIni)])\n",
    "dtCat$Ratio <- dtCat$Count / dtCat$CountIni\n",
    "dtCat$Ratio <- paste0(round(100*dtCat$Ratio, 1), \"%\")\n",
    "gp <- ggplot(dtCat) + geom_bar(aes(Category, weight = CountIni), fill = cust_pal(2)[1]) +\n",
    "              geom_bar(aes(Category, weight = Count), fill = cust_pal(2)[2]) + \n",
    "              geom_text(aes(x = Order, y = CountIni + 5, label = Ratio), hjust = 0) + coord_flip()\n",
    "gp"
   ]
  },
  {
   "cell_type": "code",
   "execution_count": null,
   "metadata": {},
   "outputs": [],
   "source": [
    "if(!TEST_MODE){\n",
    "    ggsave(filename = \"Fig/NK_SelecFt_Type_All.pdf\", plot = gp, width = 10)\n",
    "}"
   ]
  },
  {
   "cell_type": "code",
   "execution_count": null,
   "metadata": {},
   "outputs": [],
   "source": [
    "catType = c(\"Granularity\", \"Texture\", \"AreaShape\", \"RadialDistribution\",\n",
    "            \"Correlation\", \"Intensity\")\n",
    "table(rowSums(sapply(catType, function(x) grepl(x, colnames(transformedNK)))))\n",
    "\n",
    "dtCount = as.data.frame(sapply(catType, function(x) grepl(x, colnames(transformedNK))))\n",
    "dtCount$Other = !apply(dtCount, 1, any)\n",
    "dtCountIni = as.data.frame(sapply(catType, function(x) grepl(x, preFiltFt)))\n",
    "dtCountIni$Other = !apply(dtCountIni, 1, any)\n",
    "dtCat = data.frame(CountIni = colSums(dtCountIni), \n",
    "                   Count = colSums(dtCount))\n",
    "dtCat$Order <- rank(dtCat$CountIni, ties.method = c(\"first\"))\n",
    "dtCat$Category <- factor(rownames(dtCat), levels=rownames(dtCat)[order(dtCat$CountIni)])\n",
    "dtCat$Ratio <- dtCat$Count / dtCat$CountIni\n",
    "dtCat$Ratio <- paste0(round(100*dtCat$Ratio, 1), \"%\")\n",
    "gp <- ggplot(dtCat) + geom_bar(aes(Category, weight = CountIni), fill = cust_pal(2)[1]) +\n",
    "              geom_bar(aes(Category, weight = Count), fill = cust_pal(2)[2]) + \n",
    "              geom_text(aes(x = Order, y = CountIni + 5, label = Ratio), hjust = 0) + coord_flip()\n",
    "gp"
   ]
  },
  {
   "cell_type": "code",
   "execution_count": null,
   "metadata": {},
   "outputs": [],
   "source": [
    "if(!TEST_MODE){\n",
    "    ggsave(filename = \"Fig/NK_SelecFt_Type_Short.pdf\", plot = gp, width = 10)\n",
    "}"
   ]
  },
  {
   "cell_type": "code",
   "execution_count": null,
   "metadata": {},
   "outputs": [],
   "source": [
    "# Export list of features kept\n",
    "if(!TEST_MODE){\n",
    "    write.table(colnames(transformedNK), file = \"Tab/NK_list_features.csv\", col.names = F, row.names = F)\n",
    "}"
   ]
  },
  {
   "cell_type": "markdown",
   "metadata": {},
   "source": [
    "### Look at the morphological distribution of the fields of view"
   ]
  },
  {
   "cell_type": "markdown",
   "metadata": {},
   "source": [
    "#### UMAP visualizations"
   ]
  },
  {
   "cell_type": "code",
   "execution_count": null,
   "metadata": {},
   "outputs": [],
   "source": [
    "pcaTNK = prcomp(transformedNK, center = T, scale. = T)"
   ]
  },
  {
   "cell_type": "code",
   "execution_count": null,
   "metadata": {},
   "outputs": [],
   "source": [
    "sdevExplained = pcaTNK$sdev / sum(pcaTNK$sdev)\n",
    "# We keep enough components to explain 90% of the variance\n",
    "nbPCAcomp = min(which(cumsum(sdevExplained) > 0.9)) \n",
    "umTNK = t(t(pcaTNK$x[,1:nbPCAcomp]) * sdevExplained[1:nbPCAcomp])"
   ]
  },
  {
   "cell_type": "code",
   "execution_count": null,
   "metadata": {},
   "outputs": [],
   "source": [
    "umTNK = as.data.frame(umTNK)\n",
    "names(umTNK) = c(\"PC1\", \"PC2\")\n",
    "umTNK$Row <- as.factor(NK$Metadata_Row[fieldToKeep])\n",
    "umTNK$Col <- as.factor(NK$Metadata_Column[fieldToKeep])\n",
    "umTNK$Drug <- as.factor(NK$Drug[fieldToKeep])\n",
    "umTNK$Conc <- as.factor(NK$Concentration[fieldToKeep])\n",
    "umTNK$URL <- as.factor(NK$URL_Actin[fieldToKeep])"
   ]
  },
  {
   "cell_type": "code",
   "execution_count": null,
   "metadata": {},
   "outputs": [],
   "source": [
    "# Order levels to separate DMSO and WT from drugs\n",
    "lvDMSO = which(levels(umTNK$Drug) == \"DMSO\")\n",
    "lvWT = which(levels(umTNK$Drug) == \"WT\")\n",
    "umTNK$Drug <- factor(umTNK$Drug, levels = c(\"DMSO\", rev(levels(umTNK$Drug)[-c(lvDMSO, lvWT)]), \"WT\"))"
   ]
  },
  {
   "cell_type": "code",
   "execution_count": null,
   "metadata": {},
   "outputs": [],
   "source": [
    "umTNK$Shape = ifelse(umTNK$Drug %in% c(\"DMSO\", \"WT\"), \"2\", \"1\")"
   ]
  },
  {
   "cell_type": "code",
   "execution_count": null,
   "metadata": {},
   "outputs": [],
   "source": [
    "gp <- ggplot(umTNK) + geom_point(aes(PC1, PC2, color = Drug, shape = Shape)) + \n",
    "                      guides(color = guide_legend(reverse = TRUE, \n",
    "                               override.aes = list(shape = ifelse(levels(umTNK$Drug) %in% c(\"DMSO\", \"WT\"), 1, 16))),\n",
    "                             shape = F) + scale_shape_manual(values = c(16,1))\n",
    "gp"
   ]
  },
  {
   "cell_type": "code",
   "execution_count": null,
   "metadata": {},
   "outputs": [],
   "source": [
    "if(!TEST_MODE){\n",
    "    ggsave(filename = \"Fig/NK_UMAP_Drugs.pdf\", plot = gp, width = 10)\n",
    "}"
   ]
  },
  {
   "cell_type": "code",
   "execution_count": null,
   "metadata": {},
   "outputs": [],
   "source": [
    "umXlim = ggplot_build(gp)$layout$panel_scales_x[[1]]$range$range\n",
    "umYlim = ggplot_build(gp)$layout$panel_scales_y[[1]]$range$range"
   ]
  },
  {
   "cell_type": "code",
   "execution_count": null,
   "metadata": {},
   "outputs": [],
   "source": [
    "umTNK$DrugOrControl <- as.factor(ifelse(umTNK$Drug == \"DMSO\", \"DMSO\", ifelse(umTNK$Drug == \"WT\", \"WT\", \"Drug\")))\n",
    "\n",
    "gp <- ggplot(umTNK) + geom_point(aes(PC1, PC2, color = DrugOrControl, shape = Shape)) + \n",
    "    theme(legend.title = element_blank()) + guides(color = guide_legend(reverse = TRUE, \n",
    "                               override.aes = list(shape = ifelse(levels(umTNK$DrugOrControl) %in% c(\"DMSO\", \"WT\"), 1, 16))),\n",
    "                             shape = F) + scale_shape_manual(values = c(16,1))\n",
    "gp"
   ]
  },
  {
   "cell_type": "code",
   "execution_count": null,
   "metadata": {},
   "outputs": [],
   "source": [
    "if(!TEST_MODE){\n",
    "    ggsave(filename = \"Fig/NK_UMAP_Control.pdf\", plot = gp, width = 10)\n",
    "}"
   ]
  },
  {
   "cell_type": "code",
   "execution_count": null,
   "metadata": {},
   "outputs": [],
   "source": [
    "# Visualize drug perturbations one by one\n",
    "getDrugUmap <- function(drugPert){\n",
    "    drug = levels(umTNK$Drug)[drugPert]\n",
    "    rowPert = NK[fieldToKeep[NK[fieldToKeep,]$Drug == drug],]$Metadata_Row[1]\n",
    "\n",
    "    umDrug = umTNK[umTNK$Row == rowPert,]\n",
    "    cols = cust_pal(length(levels(umTNK$Drug)))[c(length(levels(umTNK$Drug)), drugPert, 1)]\n",
    "    names(cols) = c(\"WT\", drug, \"DMSO\")\n",
    "    gp <- ggplot(umDrug) + geom_point(aes(PC1, PC2, color = Drug, shape = Shape)) + \n",
    "        scale_color_manual(values = cols) + ggtitle(drug) +\n",
    "        theme(legend.title = element_blank(), legend.position = \"bottom\", legend.key.size = unit(0.08,\"cm\"),\n",
    "              legend.text = element_text(size = 10), legend.spacing.x = unit(0.08,\"cm\"), text=element_text(size=12)) +\n",
    "        xlim(umXlim) + ylim(umYlim) + scale_shape_manual(values = c(16,1)) +\n",
    "        guides(color = guide_legend(override.aes = list(shape = c(1, 16, 1))), shape = F)\n",
    "    return(gp)\n",
    "}"
   ]
  },
  {
   "cell_type": "code",
   "execution_count": null,
   "metadata": {},
   "outputs": [],
   "source": [
    "if(!TEST_MODE){\n",
    "    gpl = lapply(2:(length(levels(umTNK$Drug))-1), getDrugUmap)\n",
    "    gp = do.call(\"grid.arrange\", c(gpl, ncol=4))\n",
    "    gp\n",
    "    ggsave(filename = \"Fig/NK_UMAP_by_drug.pdf\", plot = gp, width = 10)\n",
    "}"
   ]
  },
  {
   "cell_type": "markdown",
   "metadata": {},
   "source": [
    "#### Distances to WT cells"
   ]
  },
  {
   "cell_type": "code",
   "execution_count": null,
   "metadata": {
    "scrolled": true
   },
   "outputs": [],
   "source": [
    "# Compute the (standard) Mahalanobis Distance (MD) between drugs\n",
    "drugMD <- function(drugPert){\n",
    "    # Find row containing this drug and split wells between WT and drug\n",
    "    rowPert = NK[fieldToKeep[NK[fieldToKeep,]$Drug == drugPert],]$Metadata_Row[1]\n",
    "    setUmapDrug = umTNK[NK[fieldToKeep,]$Drug == drugPert,1:dimUMAP]\n",
    "    setUmapWT = umTNK[which(indWT)[NK[fieldToKeep[indWT],]$Metadata_Row == rowPert],1:dimUMAP]\n",
    "    \n",
    "    # Ensure that we have enough points to compute distance\n",
    "    if ((dim(setUmapDrug)[1] < 2*dimUMAP)|(dim(setUmapWT)[1] < 2*dimUMAP)){\n",
    "            print(drugPert)\n",
    "            return(NA)\n",
    "    }\n",
    "    \n",
    "    # Compute variance and location estimators and corresponding Mahalanobis Distance\n",
    "    centerWT = colMeans(setUmapWT)\n",
    "    covWT = cov(setUmapWT)\n",
    "    \n",
    "    MD = median(apply(setUmapDrug, 1, function(x) mahalanobis(x, centerWT, covWT)))\n",
    "    return(MD)\n",
    "}"
   ]
  },
  {
   "cell_type": "code",
   "execution_count": null,
   "metadata": {},
   "outputs": [],
   "source": [
    "shuffDrugMD <- function(drugPert, nbRep = PERM_NB_ITER){\n",
    "    # Find row containing this drug and shuffle wells between WT and drug\n",
    "    rowPert = NK[fieldToKeep[NK[fieldToKeep,]$Drug == drugPert],]$Metadata_Row[1]\n",
    "    setUmapDrug = umTNK[NK[fieldToKeep,]$Drug == drugPert,1:dimUMAP]\n",
    "    setUmapWT = umTNK[which(indWT)[NK[fieldToKeep[indWT],]$Metadata_Row == rowPert],1:dimUMAP]\n",
    "    setUMAP = rbind(setUmapWT,setUmapDrug)\n",
    "    shuffleMD <- function(notUsed){\n",
    "        shuffSetUMAP = rbind(setUmapWT,setUmapDrug)[sample(nrow(setUMAP)),]\n",
    "        # Take random subsets of corresponding sizes\n",
    "        shuffSetDrug = shuffSetUMAP[1:nrow(setUmapDrug),]\n",
    "        shuffSetWT = shuffSetUMAP[(nrow(setUmapDrug)+1):(nrow(setUmapDrug)+nrow(setUmapWT)),]\n",
    "        \n",
    "        # Ensure that we have enough points to compute distance\n",
    "        if ((dim(shuffSetDrug)[1] < 2*dimUMAP)|(dim(shuffSetWT)[1] < 2*dimUMAP)){\n",
    "                print(drugPert)\n",
    "                return(NA)\n",
    "        }\n",
    "        \n",
    "        # Compute variance and location estimators and corresponding Mahalanobis Distance\n",
    "        centerWT = colMeans(shuffSetWT)\n",
    "        covWT = cov(shuffSetWT)\n",
    "\n",
    "        MD = median(apply(shuffSetDrug, 1, function(x) mahalanobis(x, centerWT, covWT)))\n",
    "        return(MD)\n",
    "    }\n",
    "    return(sapply(1:nbRep, shuffleMD))\n",
    "}"
   ]
  },
  {
   "cell_type": "code",
   "execution_count": null,
   "metadata": {},
   "outputs": [],
   "source": [
    "# Similar procedure for DMSO against WT\n",
    "dmsoMD <- function(rowDMSO){\n",
    "    setUmapDMSO = umTNK[(NK[fieldToKeep,]$Drug == \"DMSO\")&(NK[fieldToKeep,]$Metadata_Row == rowDMSO),1:dimUMAP]\n",
    "    setUmapWT = umTNK[which(indWT)[NK[fieldToKeep[indWT],]$Metadata_Row == rowDMSO],1:dimUMAP]\n",
    "   \n",
    "    # Ensure that we have enough points to compute distance\n",
    "    if ((dim(setUmapDMSO)[1] < 2*dimUMAP)|(dim(setUmapWT)[1] < 2*dimUMAP)){\n",
    "            return(NA)\n",
    "    }\n",
    "    \n",
    "    # Compute variance and location estimators and corresponding Mahalanobis Distance\n",
    "    centerWT = colMeans(setUmapWT)\n",
    "    covWT = cov(setUmapWT)\n",
    "    \n",
    "    MD = median(apply(setUmapDMSO, 1, function(x) mahalanobis(x, centerWT, covWT)))\n",
    "    return(MD)\n",
    "}\n",
    "shuffDmsoMD <- function(rowDMSO, nbRep = PERM_NB_ITER){\n",
    "    # Find row containing this drug and shuffle wells between WT and drug\n",
    "    setUmapDMSO = umTNK[(NK[fieldToKeep,]$Drug == \"DMSO\")&(NK[fieldToKeep,]$Metadata_Row == rowDMSO),1:dimUMAP]\n",
    "    setUmapWT = umTNK[which(indWT)[NK[fieldToKeep[indWT],]$Metadata_Row == rowDMSO],1:dimUMAP]\n",
    "    setUMAP = rbind(setUmapWT,setUmapDMSO)\n",
    "    shuffleMD <- function(notUsed){\n",
    "        shuffSetUMAP = rbind(setUmapWT,setUmapDMSO)[sample(nrow(setUMAP)),]\n",
    "        # Take random subsets of corresponding sizes\n",
    "        shuffSetDMSO = shuffSetUMAP[1:nrow(setUmapDMSO),]\n",
    "        shuffSetWT = shuffSetUMAP[(nrow(setUmapDMSO)+1):(nrow(setUmapDMSO)+nrow(setUmapWT)),]\n",
    "        \n",
    "        # Ensure that we have enough points to compute distance\n",
    "        if ((dim(shuffSetDMSO)[1] < 2*dimUMAP)|(dim(shuffSetWT)[1] < 2*dimUMAP)){\n",
    "                return(NA)\n",
    "        }\n",
    "        \n",
    "        # Compute variance and location estimators and corresponding Mahalanobis Distance\n",
    "        centerWT = colMeans(shuffSetWT)\n",
    "        covWT = cov(shuffSetWT)\n",
    "\n",
    "        MD = median(apply(shuffSetDMSO, 1, function(x) mahalanobis(x, centerWT, covWT)))\n",
    "        return(MD)   \n",
    "    }\n",
    "    return(sapply(1:nbRep, shuffleMD))\n",
    "}"
   ]
  },
  {
   "cell_type": "code",
   "execution_count": null,
   "metadata": {
    "scrolled": true
   },
   "outputs": [],
   "source": [
    "drugMD_NK = sapply(levels(NK$Drug), drugMD)"
   ]
  },
  {
   "cell_type": "code",
   "execution_count": null,
   "metadata": {},
   "outputs": [],
   "source": [
    "shuffDrugMD_NK = sapply(levels(NK$Drug), shuffDrugMD)"
   ]
  },
  {
   "cell_type": "code",
   "execution_count": null,
   "metadata": {},
   "outputs": [],
   "source": [
    "getMPV <- function(x){\n",
    "    ecdfMD = ecdf(x[-1])\n",
    "    return(1 - ecdfMD(x[1]))\n",
    "}\n",
    "dfMPV = data.frame(MPV = apply(rbind(drugMD_NK, shuffDrugMD_NK), 2, getMPV))"
   ]
  },
  {
   "cell_type": "code",
   "execution_count": null,
   "metadata": {},
   "outputs": [],
   "source": [
    "dfMPV$Drug = rownames(dfMPV)\n",
    "dfMPV$Strength = drugMD_NK\n",
    "dfMPV = dfMPV[!dfMPV$Drug %in% c(\"DMSO\", \"WT\"),]\n",
    "dfMPV$adjMPV = p.adjust(dfMPV$MPV, method = \"fdr\")"
   ]
  },
  {
   "cell_type": "code",
   "execution_count": null,
   "metadata": {},
   "outputs": [],
   "source": [
    "gp <- ggplot(dfMPV) + geom_point(aes(adjMPV, Strength, color = Drug)) + geom_vline(xintercept = 0.05, color=\"#CCCCCC\", linetype=\"dashed\")\n",
    "gp"
   ]
  },
  {
   "cell_type": "code",
   "execution_count": null,
   "metadata": {},
   "outputs": [],
   "source": [
    "if(!TEST_MODE){\n",
    "    ggsave(filename = \"Fig/NK_RMPV_Drugs.pdf\", gp, width = 10)\n",
    "}"
   ]
  },
  {
   "cell_type": "code",
   "execution_count": null,
   "metadata": {},
   "outputs": [],
   "source": [
    "dmsoMD_NK = sapply(1:8, dmsoMD)\n",
    "shuffDmsoMD_NK = sapply(1:8, shuffDmsoMD)"
   ]
  },
  {
   "cell_type": "code",
   "execution_count": null,
   "metadata": {},
   "outputs": [],
   "source": [
    "dmsoMPV = data.frame(MPV = apply(rbind(dmsoMD_NK, shuffDmsoMD_NK), 2, getMPV))\n",
    "dmsoMPV$Row = rownames(dmsoMPV)\n",
    "dmsoMPV$Strength = dmsoMD_NK\n",
    "dmsoMPV$adjMPV = p.adjust(dmsoMPV$MPV, method = \"fdr\")"
   ]
  },
  {
   "cell_type": "code",
   "execution_count": null,
   "metadata": {},
   "outputs": [],
   "source": [
    "gp <- ggplot(dmsoMPV) + geom_point(aes(adjMPV, Strength, color = Row)) + geom_vline(xintercept = 0.05, color=\"#CCCCCC\", linetype=\"dashed\")\n",
    "gp"
   ]
  },
  {
   "cell_type": "code",
   "execution_count": null,
   "metadata": {},
   "outputs": [],
   "source": [
    "if(!TEST_MODE){\n",
    "    ggsave(filename = \"Fig/NK_RMPV_DMSO.pdf\", plot = gp, width = 10)\n",
    "}"
   ]
  },
  {
   "cell_type": "markdown",
   "metadata": {},
   "source": [
    "### Concentration-dependency"
   ]
  },
  {
   "cell_type": "code",
   "execution_count": null,
   "metadata": {},
   "outputs": [],
   "source": [
    "# Compute the Robust Mahalanobis Distance (RMD) for all images of a given drug at a given concentration\n",
    "drugConcMD <- function(drugPert, concPert){\n",
    "    # Find row containing this drug and split wells between WT and drug\n",
    "    rowPert = NK[fieldToKeep[NK[fieldToKeep,]$Drug == drugPert],]$Metadata_Row[1]\n",
    "    pertInd = (umTNK$Drug == drugPert)&(umTNK$Conc == concPert)\n",
    "    setUmapDrug = umTNK[pertInd,1:dimUMAP]\n",
    "    setUmapWT = umTNK[which(indWT)[NK[fieldToKeep[indWT],]$Metadata_Row == rowPert],1:dimUMAP]\n",
    "    \n",
    "    # Ensure that we have enough points to compute distance\n",
    "    if ((dim(setUmapDrug)[1] < 2*dimUMAP)|(dim(setUmapWT)[1] < 2*dimUMAP)){\n",
    "            print(c(drugPert, concPert))\n",
    "            return(NA)\n",
    "    }\n",
    "    \n",
    "    # Compute variance and location estimators and corresponding Mahalanobis Distance\n",
    "    centerWT = colMeans(setUmapWT)\n",
    "    covWT = cov(setUmapWT)\n",
    "    \n",
    "    MD = median(apply(setUmapDrug, 1, function(x) mahalanobis(x, centerWT, covWT)))\n",
    "    return(MD)\n",
    "}"
   ]
  },
  {
   "cell_type": "code",
   "execution_count": null,
   "metadata": {},
   "outputs": [],
   "source": [
    "# Which drugs should be studied?\n",
    "sigDrugs = rownames(dfMPV)[dfMPV$adjMPV < 0.05]\n",
    "# Classify concentration per drug as follows\n",
    "concentrationLevels = c(\"Low\", \"Mid\", \"High\")\n",
    "\n",
    "getAllDrugConcMD <- function(d, rename = T){\n",
    "    dConc = levels(droplevels(umTNK[umTNK$Drug == d,]$Conc))\n",
    "    dList = sapply(dConc, function(c) drugConcMD(d,c), simplify = F)\n",
    "    if (rename){\n",
    "        names(dList) <- concentrationLevels[1:length(dConc)]\n",
    "    }\n",
    "    return(dList)\n",
    "}\n",
    "sigDrugConcMD = sapply(sigDrugs, getAllDrugConcMD, simplify = F)"
   ]
  },
  {
   "cell_type": "code",
   "execution_count": null,
   "metadata": {},
   "outputs": [],
   "source": [
    "getSublist <- function(x, y){\n",
    "    i = which(names(x) == y)\n",
    "    # If y is not a sublist of x, i is the empty integer (not null, not false but with zero-length)\n",
    "    if (length(i)){\n",
    "        return(x[[i]])\n",
    "}}\n",
    "\n",
    "concMPV = sapply(concentrationLevels, function(y) unlist(sapply(sigDrugConcMD, function(x) getSublist(x, y))))\n",
    "concMPV = as.data.frame(Reduce(rbind, Map(cbind, MPV = concMPV, Concentration = names(concMPV))))\n",
    "concMPV$MPV = as.numeric(concMPV$MPV)\n",
    "concMPV$Concentration = factor(concMPV$Concentration, levels = concentrationLevels)"
   ]
  },
  {
   "cell_type": "code",
   "execution_count": null,
   "metadata": {},
   "outputs": [],
   "source": [
    "gp <- ggplot(concMPV) + geom_violin(aes(Concentration, MPV, fill = Concentration)) + \n",
    "                         coord_flip() + theme(legend.title = element_blank()) + guides(fill = guide_legend(reverse = TRUE)) +\n",
    "                         scale_fill_discrete(type = \"Yolla\")\n",
    "gp"
   ]
  },
  {
   "cell_type": "code",
   "execution_count": null,
   "metadata": {},
   "outputs": [],
   "source": [
    "if(!TEST_MODE){\n",
    "    ggsave(filename = \"Fig/NK_ConcEffect_All.pdf\", plot = gp, width = 10)\n",
    "}"
   ]
  },
  {
   "cell_type": "code",
   "execution_count": null,
   "metadata": {},
   "outputs": [],
   "source": [
    "drugsConcMPV = sapply(sigDrugs, function(x) getAllDrugConcMD(x, rename = F), simplify = F)\n",
    "\n",
    "for (i in 1:length(drugsConcMPV)){\n",
    "    # Retrieve drug name and MPV values\n",
    "    drugName = names(drugsConcMPV)[i]\n",
    "    drugConcMPV = drugsConcMPV[[i]]\n",
    "    \n",
    "    # Structure into wide data frame\n",
    "    concMPV = as.data.frame(Reduce(rbind, Map(cbind, MPV = drugConcMPV, Concentration = names(drugConcMPV))))\n",
    "    concMPV$MPV = as.numeric(concMPV$MPV)\n",
    "    # Reorder concentrations in decreasing numerical order\n",
    "    concMPV$Concentration = factor(concMPV$Concentration, \n",
    "                                levels = as.character(sort(as.numeric(levels(concMPV$Concentration)))))\n",
    "\n",
    "    # Represent distribution per concentration for all significantly changed drug\n",
    "    gp <- ggplot(concMPV) + geom_violin(aes(Concentration, MPV, fill = Concentration)) + \n",
    "                             coord_flip() + theme(legend.title = element_blank()) + guides(fill = guide_legend(reverse = T)) +\n",
    "                             scale_fill_discrete(type = \"Yolla\")\n",
    "    if(!TEST_MODE){\n",
    "        ggsave(filename = paste(\"Fig/NK\", drugName, \"ConcEffect.pdf\", sep = \"_\"), plot = gp, width = 10)\n",
    "    }\n",
    "}"
   ]
  }
 ],
 "metadata": {
  "kernelspec": {
   "display_name": "R",
   "language": "R",
   "name": "ir"
  },
  "language_info": {
   "codemirror_mode": "r",
   "file_extension": ".r",
   "mimetype": "text/x-r-source",
   "name": "R",
   "pygments_lexer": "r",
   "version": "3.5.1"
  }
 },
 "nbformat": 4,
 "nbformat_minor": 2
}
