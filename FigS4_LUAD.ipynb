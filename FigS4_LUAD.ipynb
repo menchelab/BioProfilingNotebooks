{
 "cells": [
  {
   "cell_type": "markdown",
   "id": "classified-excitement",
   "metadata": {},
   "source": [
    "# Additional example on LUAD genetic screening\n"
   ]
  },
  {
   "cell_type": "markdown",
   "id": "coordinate-share",
   "metadata": {},
   "source": [
    "The data corresponds to two plates in an ORF overexpression genetic screen in A549 cells (ID: BBBC043). This dataset was used at the [CytoData Hackathon 2018](https://github.com/cytodata/cytodata-hackathon-2018).\n",
    "To access the data (<25MB), you will need to use the [AWS command line client]() (no account is required). You can then run the following commands to copy the three files required:\n",
    "\n",
    "    aws s3 cp \"s3://cytodata/datasets/LUAD-BBBC043-Caicedo/profiles_cp/LUAD-BBBC043-Caicedo/52649/52649.csv\" Data/ --no-sign-request\n",
    "    aws s3 cp \"s3://cytodata/datasets/LUAD-BBBC043-Caicedo/profiles_cp/LUAD-BBBC043-Caicedo/52653/52653.csv\" Data/ --no-sign-request\n",
    "    aws s3 cp \"s3://cytodata/datasets/LUAD-BBBC043-Caicedo/metadata/LUAD-BBBC043-Caicedo/combined_platemaps_AHB_20150506_ssedits.csv\" Data/ --no-sign-request"
   ]
  },
  {
   "cell_type": "code",
   "execution_count": 1,
   "id": "complex-brook",
   "metadata": {},
   "outputs": [],
   "source": [
    "using CSV, DataFrames, UMAP, RCall, FreqTables"
   ]
  },
  {
   "cell_type": "code",
   "execution_count": 2,
   "id": "flexible-marijuana",
   "metadata": {},
   "outputs": [],
   "source": [
    "using Statistics, StatsBase, Distances, Random"
   ]
  },
  {
   "cell_type": "code",
   "execution_count": 3,
   "id": "hired-precipitation",
   "metadata": {},
   "outputs": [],
   "source": [
    "using BioProfiling"
   ]
  },
  {
   "cell_type": "code",
   "execution_count": 4,
   "id": "normal-outdoors",
   "metadata": {},
   "outputs": [
    {
     "data": {
      "text/plain": [
       "2021-10-13T14:04:09.183"
      ]
     },
     "execution_count": 4,
     "metadata": {},
     "output_type": "execute_result"
    }
   ],
   "source": [
    "using Dates: now\n",
    "now()"
   ]
  },
  {
   "cell_type": "markdown",
   "id": "intermediate-facial",
   "metadata": {},
   "source": [
    "## R Calls"
   ]
  },
  {
   "cell_type": "code",
   "execution_count": 5,
   "id": "sacred-viewer",
   "metadata": {},
   "outputs": [],
   "source": [
    "@rlibrary ggplot2\n",
    "@rlibrary extrafont\n",
    "@rlibrary viridis\n",
    "@rlibrary heatmaply\n",
    "@rlibrary ggrepel"
   ]
  },
  {
   "cell_type": "code",
   "execution_count": 6,
   "id": "popular-violation",
   "metadata": {
    "scrolled": true
   },
   "outputs": [
    {
     "name": "stderr",
     "output_type": "stream",
     "text": [
      "┌ Warning: RCall.jl: Registering fonts with R\n",
      "└ @ RCall /opt/julia/packages/RCall/iMDW2/src/io.jl:160\n",
      "┌ Warning: RCall.jl: Scanning ttf files in /tmp/.fonts ...\n",
      "│ Extracting .afm files from .ttf files...\n",
      "│ /tmp/.fonts/Arial.ttf : ArialMT already registered in fonts database. Skipping.\n",
      "│ Found FontName for 0 fonts.\n",
      "│ Scanning afm files in /opt/conda/lib/R/library/extrafontdb/metrics\n",
      "│ Warning in grepl(\"^FamilyName\", text) :\n",
      "│   input string 4 is invalid in this locale\n",
      "│ Warning in grepl(\"^FontName\", text) :\n",
      "│   input string 4 is invalid in this locale\n",
      "│ Warning in grepl(\"^FullName\", text) :\n",
      "│   input string 4 is invalid in this locale\n",
      "│ Warning in grepl(\"^Weight\", text) :\n",
      "│   input string 4 is invalid in this locale\n",
      "└ @ RCall /opt/julia/packages/RCall/iMDW2/src/io.jl:160\n",
      "┌ Warning: RCall.jl: Arial already registered with pdfFonts().\n",
      "└ @ RCall /opt/julia/packages/RCall/iMDW2/src/io.jl:160\n"
     ]
    },
    {
     "data": {
      "text/plain": [
       "RObject{VecSxp}\n",
       "$repr.plot.width\n",
       "NULL\n",
       "\n",
       "$repr.plot.height\n",
       "NULL\n",
       "\n"
      ]
     },
     "execution_count": 6,
     "metadata": {},
     "output_type": "execute_result"
    }
   ],
   "source": [
    "R\"\"\"\n",
    "# Used later for MCD computation\n",
    "\n",
    "library(robustbase)\n",
    "\n",
    "# Customize ggplot appearance\n",
    "\n",
    "library(ggplot2)\n",
    "library(extrafont)\n",
    "\n",
    "\n",
    "# Load extra fonts\n",
    "ttf_import(\"/tmp/.fonts\")\n",
    "loadfonts()\n",
    "\n",
    "# Change theme\n",
    "customTheme <- theme_light() + \n",
    "               theme(panel.grid.minor=element_blank(), text=element_text(size=17, family=\"Arial\", colour = \"#333333\"),\n",
    "                     line=element_line(colour = \"#333333\"), \n",
    "                     legend.background = element_rect(fill=alpha('#CCCCCC', 0.1)), legend.key = element_blank())\n",
    "\n",
    "# Change default colors\n",
    "scale_colour_continuous <- function (..., begin = 0.1, end = 0.9, direction = -1, option = \"plasma\", \n",
    "                                     type = getOption(\"ggplot2.continuous.colour\", default = \"viridis\")) {\n",
    "    switch(type, gradient = scale_colour_gradient(...), \n",
    "        viridis = scale_colour_viridis_c(option = option, begin = begin, end = end, direction = direction, ...), \n",
    "        stop(\"Unknown scale type\", call. = FALSE))\n",
    "}\n",
    "scale_color_continuous <- scale_colour_continuous\n",
    "\n",
    "scale_fill_continuous <- function (..., begin = 0.1, end = 0.9, direction = -1, option = \"plasma\", \n",
    "                                     type = getOption(\"ggplot2.continuous.colour\", default = \"viridis\")) {\n",
    "    switch(type, gradient = scale_fill_gradient(...), \n",
    "        viridis = scale_fill_viridis_c(option = option, begin = begin, end = end, direction = direction, ...), \n",
    "        stop(\"Unknown scale type\", call. = FALSE))\n",
    "\n",
    "}\n",
    "\n",
    "cemm_pal = colorRampPalette(c(\"#5A463C\", \"#008CAD\", \"#40B9D4\", \"#D4ECF2\", \"#D2323C\", \"#F8B100\", \"#DFDC00\"))\n",
    "scale_fill_discrete <- function (..., type = \"CeMM\", h = c(0, 360) + 15, c = 100, l = 65, h.start = 0, \n",
    "    direction = 1, na.value = \"grey50\", aesthetics = \"fill\") \n",
    "{\n",
    "    if (type == \"CeMM\"){\n",
    "        discrete_scale(aesthetics, \"CeMM\", cemm_pal, na.value = na.value, ...)\n",
    "    } else {\n",
    "        discrete_scale(aesthetics, \"hue\", hue_pal(h, c, l, h.start, \n",
    "            direction), na.value = na.value, ...)\n",
    "    }\n",
    "}\n",
    "\n",
    "scale_color_discrete <- function (..., type = \"CeMM\", h = c(0, 360) + 15, c = 100, l = 65, h.start = 0, \n",
    "    direction = 1, na.value = \"grey50\", aesthetics = \"colour\") {\n",
    "    if (type == \"CeMM\"){\n",
    "        discrete_scale(aesthetics, \"CeMM\", cemm_pal, na.value = na.value, ...)\n",
    "    } else {\n",
    "        discrete_scale(aesthetics, \"hue\", scales::hue_pal(h, c, l, h.start, \n",
    "            direction), na.value = na.value, ...)\n",
    "    }\n",
    "}\n",
    "scale_colour_discrete <- scale_color_discrete\n",
    "\n",
    "noGridTheme <- function(...){\n",
    "    theme(panel.grid.major=element_blank(), axis.text.x=element_text(size=12), axis.text.y=element_text(size=12),\n",
    "                      axis.line=element_line(color=\"#333333\", size = 0.2), panel.border = element_blank(), ...)\n",
    "}\n",
    "\n",
    "darkTheme <- function(...){\n",
    "    theme(panel.background = element_rect(fill = '#333333'), plot.background = element_rect(fill = '#333333'), \n",
    "          axis.line=element_line(color=\"#CCCCCC\", size = 0.2), \n",
    "          text=element_text(size=17, family=\"Arial\", colour = \"#CCCCCC\"),\n",
    "          line=element_line(colour = \"#CCCCCC\"))\n",
    "}\n",
    "\n",
    "theme_set(customTheme)\n",
    "\n",
    "options(repr.plot.width=10, repr.plot.height=10)\n",
    "\"\"\""
   ]
  },
  {
   "cell_type": "code",
   "execution_count": 7,
   "id": "younger-cursor",
   "metadata": {},
   "outputs": [
    {
     "data": {
      "text/plain": [
       "Ptr{VecSxp} @0x000000000b967f90"
      ]
     },
     "execution_count": 7,
     "metadata": {},
     "output_type": "execute_result"
    }
   ],
   "source": [
    "# Larger inline plots\n",
    "RCall.rcall_p(:options, rcalljl_options=Dict(:width => 500, :height => 400))"
   ]
  },
  {
   "cell_type": "markdown",
   "id": "tested-correction",
   "metadata": {},
   "source": [
    "## Load data\n",
    "CytoData2018 LUAD dataset (see description above)."
   ]
  },
  {
   "cell_type": "markdown",
   "id": "third-peripheral",
   "metadata": {},
   "source": [
    "## Keeping plates separated"
   ]
  },
  {
   "cell_type": "code",
   "execution_count": 8,
   "id": "beneficial-actress",
   "metadata": {},
   "outputs": [],
   "source": [
    "luad1 = CSV.read(\"Data/52653.csv\", DataFrame, header = 1);\n",
    "luad2 = CSV.read(\"Data/52649.csv\", DataFrame, header = 1);\n",
    "# Needed for matching well with annotations\n",
    "luad1.Image_Metadata_Well = uppercase.(luad1.Image_Metadata_Well);\n",
    "luad2.Image_Metadata_Well = uppercase.(luad2.Image_Metadata_Well);\n",
    "luad_annotation = CSV.read(\"Data/combined_platemaps_AHB_20150506_ssedits.csv\", DataFrame, header = 1);\n",
    "# Plate(s) selected belong to the following plate group\n",
    "plategroup_ind = luad_annotation.PlateName .== \"DOC45.46.47.48\"\n",
    "luad1 = innerjoin(luad1, luad_annotation[plategroup_ind, :], on = :Image_Metadata_Well => :Well);\n",
    "luad2 = innerjoin(luad2, luad_annotation[plategroup_ind, :], on = :Image_Metadata_Well => :Well);"
   ]
  },
  {
   "cell_type": "code",
   "execution_count": 9,
   "id": "nearby-variety",
   "metadata": {},
   "outputs": [
    {
     "data": {
      "text/plain": [
       "\"Experiment with 384/384 entries and 1798/1798 features selected.\""
      ]
     },
     "execution_count": 9,
     "metadata": {},
     "output_type": "execute_result"
    }
   ],
   "source": [
    "# Create an Experiment object encapsulating the data\n",
    "xp1 = Experiment(copy(luad1), description = \"Aggregated spot measurements\")\n",
    "xp2 = Experiment(copy(luad2), description = \"Aggregated spot measurements\")"
   ]
  },
  {
   "cell_type": "code",
   "execution_count": 10,
   "id": "billion-press",
   "metadata": {
    "scrolled": true
   },
   "outputs": [
    {
     "data": {
      "text/plain": [
       "28-element Array{String15,1}:\n",
       " \"ABCB9\"\n",
       " \"ARAF\"\n",
       " \"BFP\"\n",
       " \"CTNNB1\"\n",
       " \"DCAF8\"\n",
       " \"EGFR\"\n",
       " \"FCGR3B\"\n",
       " \"HAVCR2\"\n",
       " \"HcRed\"\n",
       " \"KEAP1\"\n",
       " \"KRAS\"\n",
       " \"LUCIFERASE\"\n",
       " \"MAX\"\n",
       " ⋮\n",
       " \"PIK3R3\"\n",
       " \"RARA\"\n",
       " \"RBM10\"\n",
       " \"RBM45\"\n",
       " \"RIT1\"\n",
       " \"SERPINB5\"\n",
       " \"STC2\"\n",
       " \"STK11\"\n",
       " \"TP53\"\n",
       " \"TPK1\"\n",
       " \"ZBTB24\"\n",
       " \"eGFP\""
      ]
     },
     "execution_count": 10,
     "metadata": {},
     "output_type": "execute_result"
    }
   ],
   "source": [
    "# We want to focus on the genes targetted the most often\n",
    "symbolfreq = freqtable(vcat(luad1.Symbol, luad2.Symbol))\n",
    "keptsymbol = collect(skipmissing(names(symbolfreq[symbolfreq .>= 8])...))"
   ]
  },
  {
   "cell_type": "markdown",
   "id": "joined-cemetery",
   "metadata": {},
   "source": [
    "## Separate analyses"
   ]
  },
  {
   "cell_type": "code",
   "execution_count": 11,
   "id": "whole-nitrogen",
   "metadata": {},
   "outputs": [],
   "source": [
    "Random.seed!(3895);"
   ]
  },
  {
   "cell_type": "code",
   "execution_count": 12,
   "id": "hundred-picture",
   "metadata": {},
   "outputs": [
    {
     "data": {
      "text/plain": [
       "2-element Array{String,1}:\n",
       " \"CTNNB1\"\n",
       " \"KRAS\""
      ]
     },
     "execution_count": 12,
     "metadata": {},
     "output_type": "execute_result"
    }
   ],
   "source": [
    "ctrl_symbols = [\"eGFP\", \"LUCIFERASE\", \"HcRed\", \"BFP\"]\n",
    "strg_symbols = [\"CTNNB1\", \"KRAS\"]"
   ]
  },
  {
   "cell_type": "markdown",
   "id": "conventional-georgia",
   "metadata": {},
   "source": [
    "### Plate 1"
   ]
  },
  {
   "cell_type": "code",
   "execution_count": 13,
   "id": "variable-motel",
   "metadata": {},
   "outputs": [
    {
     "data": {
      "text/plain": [
       "1-element Array{BioProfiling.AbstractReduce,1}:\n",
       " NameSelector(var\"#1#2\"(), \"No description provided\")"
      ]
     },
     "execution_count": 13,
     "metadata": {},
     "output_type": "execute_result"
    }
   ],
   "source": [
    "# Remove position information\n",
    "strToRemove = [\"Orientation\", \"_X\", \"_Y\", \"Metadata\", names(luad_annotation)...]\n",
    "filters = Array{BioProfiling.AbstractReduce,1}([\n",
    "        NameSelector(x -> !any(occursin.(strToRemove, String(x)))) ])  "
   ]
  },
  {
   "cell_type": "code",
   "execution_count": 14,
   "id": "robust-hospital",
   "metadata": {},
   "outputs": [],
   "source": [
    "push!(filters, MissingFilter(:Symbol));"
   ]
  },
  {
   "cell_type": "code",
   "execution_count": 15,
   "id": "sensitive-gambling",
   "metadata": {},
   "outputs": [],
   "source": [
    "compare_in(x,y) = x in y\n",
    "Broadcast.broadcasted(::typeof(compare_in), x, y) = broadcast(in, x, Ref(y)) \n",
    "# We now only keep hit compounds\n",
    "push!(filters, Filter(keptsymbol, :Symbol, compare = compare_in));"
   ]
  },
  {
   "cell_type": "code",
   "execution_count": 16,
   "id": "pediatric-purchase",
   "metadata": {
    "scrolled": true
   },
   "outputs": [],
   "source": [
    "select!(xp1, filters);"
   ]
  },
  {
   "cell_type": "code",
   "execution_count": 17,
   "id": "located-devices",
   "metadata": {},
   "outputs": [],
   "source": [
    "logtransform!(xp1);"
   ]
  },
  {
   "cell_type": "code",
   "execution_count": 18,
   "id": "recent-apollo",
   "metadata": {},
   "outputs": [
    {
     "data": {
      "text/plain": [
       "Filter(\"ctl_vector\", :pert_type, isequal, \"Get control wells\")"
      ]
     },
     "execution_count": 18,
     "metadata": {},
     "output_type": "execute_result"
    }
   ],
   "source": [
    "ctrl_filter = Filter(\"ctl_vector\", :pert_type, description = \"Get control wells\")"
   ]
  },
  {
   "cell_type": "markdown",
   "id": "coordinate-vacation",
   "metadata": {},
   "source": [
    "Could be investigates further: this leads to really uninformative UMAPs:\n",
    "`normtransform!(xp1, ctrl_filter);`"
   ]
  },
  {
   "cell_type": "code",
   "execution_count": 19,
   "id": "killing-immune",
   "metadata": {},
   "outputs": [],
   "source": [
    "select_features!(xp1,\n",
    "                 Selector(x -> !any(isnan.(x)), \n",
    "                        description = \"Remove features with infinite values \" *\n",
    "                            \"(i.e. with no variation for a subset of the control wells)\"));"
   ]
  },
  {
   "cell_type": "code",
   "execution_count": 20,
   "id": "occupational-syria",
   "metadata": {},
   "outputs": [],
   "source": [
    "decorrelate_by_mad!(xp1);"
   ]
  },
  {
   "cell_type": "code",
   "execution_count": 21,
   "id": "wired-fortune",
   "metadata": {},
   "outputs": [
    {
     "name": "stdout",
     "output_type": "stream",
     "text": [
      "28709 milliseconds"
     ]
    }
   ],
   "source": [
    "stime = now()\n",
    "uxp1 = umap(xp1, spread = 10)\n",
    "print(now() - stime)"
   ]
  },
  {
   "cell_type": "code",
   "execution_count": 22,
   "id": "lonely-daily",
   "metadata": {},
   "outputs": [],
   "source": [
    "uxp1 = convert(DataFrame, uxp1')\n",
    "rename!(uxp1, [:UMAP1, :UMAP2]);"
   ]
  },
  {
   "cell_type": "code",
   "execution_count": 23,
   "id": "little-darkness",
   "metadata": {},
   "outputs": [
    {
     "data": {
      "image/png": "[encoded data removed]"
     },
     "metadata": {},
     "output_type": "display_data"
    },
    {
     "data": {
      "text/plain": [
       "RObject{VecSxp}\n"
      ]
     },
     "execution_count": 23,
     "metadata": {},
     "output_type": "execute_result"
    }
   ],
   "source": [
    "uxp1.Control = xp1.data[xp1.selected_entries, :pert_type];\n",
    "ggplot(uxp1, aes(:UMAP1, :UMAP2)) + \n",
    "    geom_point(aes(color = :Control)) +\n",
    "    coord_fixed() + \n",
    "    theme(var\"legend.position\"=\"bottom\", var\"legend.spacing.x\" = unit(0.35, \"cm\"), \n",
    "    var\"legend.spacing.y\" = unit(0, \"cm\")) + \n",
    "#     guides(color = false) +\n",
    "    RObject(nothing)"
   ]
  },
  {
   "cell_type": "code",
   "execution_count": 24,
   "id": "reasonable-truck",
   "metadata": {},
   "outputs": [
    {
     "data": {
      "image/png": "[encoded data removed]"
     },
     "metadata": {},
     "output_type": "display_data"
    },
    {
     "data": {
      "text/plain": [
       "RObject{VecSxp}\n"
      ]
     },
     "execution_count": 24,
     "metadata": {},
     "output_type": "execute_result"
    }
   ],
   "source": [
    "uxp1.Symbol = xp1.data[xp1.selected_entries, :Symbol];\n",
    "selected_genes = [strg_symbols..., ctrl_symbols...]\n",
    "selected_genes_ind = [ismissing(x) ? false : x in selected_genes for x in uxp1.Symbol]\n",
    "freqtable(uxp1[selected_genes_ind, :Symbol])\n",
    "gp1 = ggplot(uxp1[selected_genes_ind,:], aes(:UMAP1, :UMAP2)) + \n",
    "    geom_point(aes(color = :Symbol, shape = :Control), size = 3) +\n",
    "    coord_fixed() + \n",
    "    theme(var\"legend.position\"=\"bottom\", var\"legend.spacing.x\" = unit(0.35, \"cm\"), \n",
    "    var\"legend.spacing.y\" = unit(0, \"cm\")) + \n",
    "    scale_shape_manual(name = \"\",\n",
    "                       labels = [\"ctrl_vector\", \"trt_oe\"],\n",
    "                       values = [3, 4]) +\n",
    "    ggtitle(\"Morphological space - Plate 1\") +\n",
    "    guides(shape = false, color = guide_legend(title=\"\")) +\n",
    "    RObject(nothing)"
   ]
  },
  {
   "cell_type": "code",
   "execution_count": 25,
   "id": "magnetic-wellington",
   "metadata": {},
   "outputs": [
    {
     "data": {
      "text/plain": [
       "RObject{NilSxp}\n",
       "NULL\n"
      ]
     },
     "execution_count": 25,
     "metadata": {},
     "output_type": "execute_result"
    }
   ],
   "source": [
    "ggsave(\"fig/S2_1.pdf\", height = 6, width = 12, gp1)"
   ]
  },
  {
   "cell_type": "markdown",
   "id": "stopped-label",
   "metadata": {},
   "source": [
    "### Plate 2"
   ]
  },
  {
   "cell_type": "code",
   "execution_count": 26,
   "id": "confidential-triumph",
   "metadata": {},
   "outputs": [
    {
     "data": {
      "text/plain": [
       "1-element Array{BioProfiling.AbstractReduce,1}:\n",
       " NameSelector(var\"#7#8\"(), \"No description provided\")"
      ]
     },
     "execution_count": 26,
     "metadata": {},
     "output_type": "execute_result"
    }
   ],
   "source": [
    "# Remove position information\n",
    "strToRemove = [\"Orientation\", \"_X\", \"_Y\", \"Metadata\", names(luad_annotation)...]\n",
    "filters = Array{BioProfiling.AbstractReduce,1}([\n",
    "        NameSelector(x -> !any(occursin.(strToRemove, String(x)))) ])  "
   ]
  },
  {
   "cell_type": "code",
   "execution_count": 27,
   "id": "downtown-thumb",
   "metadata": {},
   "outputs": [],
   "source": [
    "push!(filters, MissingFilter(:Symbol));"
   ]
  },
  {
   "cell_type": "code",
   "execution_count": 28,
   "id": "framed-cream",
   "metadata": {},
   "outputs": [],
   "source": [
    "compare_in(x,y) = x in y\n",
    "Broadcast.broadcasted(::typeof(compare_in), x, y) = broadcast(in, x, Ref(y)) \n",
    "# We now only keep hit compounds\n",
    "push!(filters, Filter(keptsymbol, :Symbol, compare = compare_in));"
   ]
  },
  {
   "cell_type": "code",
   "execution_count": 29,
   "id": "parliamentary-stock",
   "metadata": {
    "scrolled": true
   },
   "outputs": [],
   "source": [
    "select!(xp2, filters);"
   ]
  },
  {
   "cell_type": "code",
   "execution_count": 30,
   "id": "leading-tulsa",
   "metadata": {},
   "outputs": [],
   "source": [
    "logtransform!(xp2);"
   ]
  },
  {
   "cell_type": "code",
   "execution_count": 31,
   "id": "frequent-aurora",
   "metadata": {},
   "outputs": [
    {
     "data": {
      "text/plain": [
       "Filter(\"ctl_vector\", :pert_type, isequal, \"Get control wells\")"
      ]
     },
     "execution_count": 31,
     "metadata": {},
     "output_type": "execute_result"
    }
   ],
   "source": [
    "ctrl_filter = Filter(\"ctl_vector\", :pert_type, description = \"Get control wells\")"
   ]
  },
  {
   "cell_type": "code",
   "execution_count": 32,
   "id": "weekly-aerospace",
   "metadata": {},
   "outputs": [],
   "source": [
    "select_features!(xp2,\n",
    "                 Selector(x -> !any(isnan.(x)), \n",
    "                        description = \"Remove features with infinite values \" *\n",
    "                            \"(i.e. with no variation for a subset of the control wells)\"));"
   ]
  },
  {
   "cell_type": "code",
   "execution_count": 33,
   "id": "antique-purpose",
   "metadata": {},
   "outputs": [],
   "source": [
    "decorrelate_by_mad!(xp2);"
   ]
  },
  {
   "cell_type": "code",
   "execution_count": 34,
   "id": "functional-holly",
   "metadata": {},
   "outputs": [
    {
     "name": "stdout",
     "output_type": "stream",
     "text": [
      "459 milliseconds"
     ]
    }
   ],
   "source": [
    "stime = now()\n",
    "uxp2 = umap(xp2, spread = 10)\n",
    "print(now() - stime)"
   ]
  },
  {
   "cell_type": "code",
   "execution_count": 35,
   "id": "fixed-alert",
   "metadata": {},
   "outputs": [],
   "source": [
    "uxp2 = convert(DataFrame, uxp2')\n",
    "rename!(uxp2, [:UMAP1, :UMAP2]);"
   ]
  },
  {
   "cell_type": "code",
   "execution_count": 36,
   "id": "american-wales",
   "metadata": {},
   "outputs": [
    {
     "data": {
      "image/png": "[encoded data removed]"
     },
     "metadata": {},
     "output_type": "display_data"
    },
    {
     "data": {
      "text/plain": [
       "RObject{VecSxp}\n"
      ]
     },
     "execution_count": 36,
     "metadata": {},
     "output_type": "execute_result"
    }
   ],
   "source": [
    "uxp2.Control = xp2.data[xp2.selected_entries, :pert_type];\n",
    "ggplot(uxp2, aes(:UMAP1, :UMAP2)) + \n",
    "    geom_point(aes(color = :Control)) +\n",
    "    coord_fixed() + \n",
    "    theme(var\"legend.position\"=\"bottom\", var\"legend.spacing.x\" = unit(0.35, \"cm\"), \n",
    "    var\"legend.spacing.y\" = unit(0, \"cm\")) + \n",
    "#     guides(color = false) +\n",
    "    RObject(nothing)"
   ]
  },
  {
   "cell_type": "code",
   "execution_count": 37,
   "id": "coupled-drink",
   "metadata": {},
   "outputs": [
    {
     "data": {
      "image/png": "[encoded data removed]"
     },
     "metadata": {},
     "output_type": "display_data"
    },
    {
     "data": {
      "text/plain": [
       "RObject{VecSxp}\n"
      ]
     },
     "execution_count": 37,
     "metadata": {},
     "output_type": "execute_result"
    }
   ],
   "source": [
    "uxp2.Symbol = xp2.data[xp2.selected_entries, :Symbol];\n",
    "selected_genes = [strg_symbols..., ctrl_symbols...]\n",
    "selected_genes_ind = [ismissing(x) ? false : x in selected_genes for x in uxp2.Symbol]\n",
    "freqtable(uxp2[selected_genes_ind, :Symbol])\n",
    "gp2 = ggplot(uxp2[selected_genes_ind,:], aes(:UMAP1, :UMAP2)) + \n",
    "    geom_point(aes(color = :Symbol, shape = :Control), size = 3) +\n",
    "    coord_fixed() + \n",
    "    theme(var\"legend.position\"=\"bottom\", var\"legend.spacing.x\" = unit(0.35, \"cm\"), \n",
    "    var\"legend.spacing.y\" = unit(0, \"cm\")) + \n",
    "    scale_shape_manual(name = \"\",\n",
    "                       labels = [\"Non-targeting control\", \"Perturbations\"],\n",
    "                       values = [3, 4]) +\n",
    "    ggtitle(\"Morphological space - Plate 2\") +\n",
    "    guides(color = false, shape = guide_legend(nrow=2,byrow=true)) +\n",
    "    RObject(nothing)"
   ]
  },
  {
   "cell_type": "code",
   "execution_count": 38,
   "id": "crucial-prevention",
   "metadata": {},
   "outputs": [
    {
     "data": {
      "text/plain": [
       "RObject{NilSxp}\n",
       "NULL\n"
      ]
     },
     "execution_count": 38,
     "metadata": {},
     "output_type": "execute_result"
    }
   ],
   "source": [
    "ggsave(\"fig/S2_2.pdf\", height = 6, width = 12, gp2)"
   ]
  },
  {
   "cell_type": "markdown",
   "id": "generic-genius",
   "metadata": {},
   "source": [
    "## Do distances to control wells correlate?"
   ]
  },
  {
   "cell_type": "code",
   "execution_count": 39,
   "id": "fifth-devices",
   "metadata": {},
   "outputs": [],
   "source": [
    "Random.seed!(3895);"
   ]
  },
  {
   "cell_type": "code",
   "execution_count": 40,
   "id": "certain-costa",
   "metadata": {},
   "outputs": [],
   "source": [
    "xp1_umap = Experiment(uxp1)\n",
    "xp2_umap = Experiment(uxp2)\n",
    "xp1_umap.selected_features = xp2_umap.selected_features = [1,2];"
   ]
  },
  {
   "cell_type": "code",
   "execution_count": 41,
   "id": "consolidated-waterproof",
   "metadata": {
    "scrolled": false
   },
   "outputs": [],
   "source": [
    "xp1_gene = xp1.data[xp1.selected_entries, :Symbol]\n",
    "xp2_gene = xp2.data[xp2.selected_entries, :Symbol]\n",
    "xp1_ctrl = xp1.data[xp1.selected_entries, :pert_type] .== \"ctl_vector\"\n",
    "xp2_ctrl = xp2.data[xp2.selected_entries, :pert_type] .== \"ctl_vector\"\n",
    "@assert xp1_gene == xp2_gene"
   ]
  },
  {
   "cell_type": "code",
   "execution_count": 42,
   "id": "distributed-estate",
   "metadata": {},
   "outputs": [],
   "source": [
    "xp_distances = DataFrame([(x, \"Control\") for x in levels(xp1_gene)])\n",
    "rename!(xp_distances, [:A, :B]);"
   ]
  },
  {
   "cell_type": "code",
   "execution_count": 43,
   "id": "scenic-roommate",
   "metadata": {
    "scrolled": true
   },
   "outputs": [],
   "source": [
    "xp_distances.distance1 = [distance_robust_hellinger(getdata(xp1_umap), \n",
    "                                                         xp1_gene.==x, \n",
    "                                                         xp1_ctrl) \n",
    "                                           for x in xp_distances[:,1]];"
   ]
  },
  {
   "cell_type": "code",
   "execution_count": 44,
   "id": "median-proceeding",
   "metadata": {
    "scrolled": true
   },
   "outputs": [],
   "source": [
    "xp_distances.distance2 = [distance_robust_hellinger(getdata(xp2_umap), \n",
    "                                                         xp2_gene.==x, \n",
    "                                                         xp2_ctrl) \n",
    "                                           for x in xp_distances[:,1]];"
   ]
  },
  {
   "cell_type": "code",
   "execution_count": 45,
   "id": "sophisticated-exhibition",
   "metadata": {
    "scrolled": true
   },
   "outputs": [
    {
     "data": {
      "text/html": [
       "<table class=\"data-frame\"><thead><tr><th></th><th>A</th><th>B</th><th>distance1</th><th>distance2</th></tr><tr><th></th><th>String15</th><th>String</th><th>Float64</th><th>Float64</th></tr></thead><tbody><p>28 rows × 4 columns</p><tr><th>1</th><td>ABCB9</td><td>Control</td><td>1.0</td><td>1.0</td></tr><tr><th>2</th><td>ARAF</td><td>Control</td><td>0.754547</td><td>0.83044</td></tr><tr><th>3</th><td>BFP</td><td>Control</td><td>0.377804</td><td>0.242321</td></tr><tr><th>4</th><td>CTNNB1</td><td>Control</td><td>1.0</td><td>1.0</td></tr><tr><th>5</th><td>DCAF8</td><td>Control</td><td>0.590784</td><td>0.317704</td></tr><tr><th>6</th><td>EGFR</td><td>Control</td><td>0.981347</td><td>0.999082</td></tr><tr><th>7</th><td>FCGR3B</td><td>Control</td><td>1.0</td><td>0.99997</td></tr><tr><th>8</th><td>HAVCR2</td><td>Control</td><td>1.0</td><td>1.0</td></tr><tr><th>9</th><td>HcRed</td><td>Control</td><td>0.384003</td><td>0.243498</td></tr><tr><th>10</th><td>KEAP1</td><td>Control</td><td>0.604404</td><td>0.597456</td></tr><tr><th>11</th><td>KRAS</td><td>Control</td><td>1.0</td><td>0.999983</td></tr><tr><th>12</th><td>LUCIFERASE</td><td>Control</td><td>0.99216</td><td>0.916835</td></tr><tr><th>13</th><td>MAX</td><td>Control</td><td>0.852438</td><td>0.746964</td></tr><tr><th>14</th><td>MDM2</td><td>Control</td><td>1.0</td><td>0.999966</td></tr><tr><th>15</th><td>NFE2L2</td><td>Control</td><td>0.999996</td><td>1.0</td></tr><tr><th>16</th><td>NR4A2</td><td>Control</td><td>0.96907</td><td>0.994327</td></tr><tr><th>17</th><td>PIK3R3</td><td>Control</td><td>0.329711</td><td>0.670287</td></tr><tr><th>18</th><td>RARA</td><td>Control</td><td>0.998457</td><td>0.981607</td></tr><tr><th>19</th><td>RBM10</td><td>Control</td><td>1.0</td><td>1.0</td></tr><tr><th>20</th><td>RBM45</td><td>Control</td><td>0.911768</td><td>0.909645</td></tr><tr><th>21</th><td>RIT1</td><td>Control</td><td>1.0</td><td>1.0</td></tr><tr><th>22</th><td>SERPINB5</td><td>Control</td><td>0.43508</td><td>0.803865</td></tr><tr><th>23</th><td>STC2</td><td>Control</td><td>1.0</td><td>1.0</td></tr><tr><th>24</th><td>STK11</td><td>Control</td><td>0.999992</td><td>0.999951</td></tr><tr><th>25</th><td>TP53</td><td>Control</td><td>1.0</td><td>1.0</td></tr><tr><th>26</th><td>TPK1</td><td>Control</td><td>0.439059</td><td>0.43293</td></tr><tr><th>27</th><td>ZBTB24</td><td>Control</td><td>0.990513</td><td>0.991513</td></tr><tr><th>28</th><td>eGFP</td><td>Control</td><td>0.506981</td><td>0.150303</td></tr></tbody></table>"
      ],
      "text/latex": [
       "\\begin{tabular}{r|cccc}\n",
       "\t& A & B & distance1 & distance2\\\\\n",
       "\t\\hline\n",
       "\t& String15 & String & Float64 & Float64\\\\\n",
       "\t\\hline\n",
       "\t1 & ABCB9 & Control & 1.0 & 1.0 \\\\\n",
       "\t2 & ARAF & Control & 0.754547 & 0.83044 \\\\\n",
       "\t3 & BFP & Control & 0.377804 & 0.242321 \\\\\n",
       "\t4 & CTNNB1 & Control & 1.0 & 1.0 \\\\\n",
       "\t5 & DCAF8 & Control & 0.590784 & 0.317704 \\\\\n",
       "\t6 & EGFR & Control & 0.981347 & 0.999082 \\\\\n",
       "\t7 & FCGR3B & Control & 1.0 & 0.99997 \\\\\n",
       "\t8 & HAVCR2 & Control & 1.0 & 1.0 \\\\\n",
       "\t9 & HcRed & Control & 0.384003 & 0.243498 \\\\\n",
       "\t10 & KEAP1 & Control & 0.604404 & 0.597456 \\\\\n",
       "\t11 & KRAS & Control & 1.0 & 0.999983 \\\\\n",
       "\t12 & LUCIFERASE & Control & 0.99216 & 0.916835 \\\\\n",
       "\t13 & MAX & Control & 0.852438 & 0.746964 \\\\\n",
       "\t14 & MDM2 & Control & 1.0 & 0.999966 \\\\\n",
       "\t15 & NFE2L2 & Control & 0.999996 & 1.0 \\\\\n",
       "\t16 & NR4A2 & Control & 0.96907 & 0.994327 \\\\\n",
       "\t17 & PIK3R3 & Control & 0.329711 & 0.670287 \\\\\n",
       "\t18 & RARA & Control & 0.998457 & 0.981607 \\\\\n",
       "\t19 & RBM10 & Control & 1.0 & 1.0 \\\\\n",
       "\t20 & RBM45 & Control & 0.911768 & 0.909645 \\\\\n",
       "\t21 & RIT1 & Control & 1.0 & 1.0 \\\\\n",
       "\t22 & SERPINB5 & Control & 0.43508 & 0.803865 \\\\\n",
       "\t23 & STC2 & Control & 1.0 & 1.0 \\\\\n",
       "\t24 & STK11 & Control & 0.999992 & 0.999951 \\\\\n",
       "\t25 & TP53 & Control & 1.0 & 1.0 \\\\\n",
       "\t26 & TPK1 & Control & 0.439059 & 0.43293 \\\\\n",
       "\t27 & ZBTB24 & Control & 0.990513 & 0.991513 \\\\\n",
       "\t28 & eGFP & Control & 0.506981 & 0.150303 \\\\\n",
       "\\end{tabular}\n"
      ],
      "text/plain": [
       "\u001b[1m28×4 DataFrame\u001b[0m\n",
       "\u001b[1m Row \u001b[0m│\u001b[1m A          \u001b[0m\u001b[1m B       \u001b[0m\u001b[1m distance1 \u001b[0m\u001b[1m distance2 \u001b[0m\n",
       "\u001b[1m     \u001b[0m│\u001b[90m String15   \u001b[0m\u001b[90m String  \u001b[0m\u001b[90m Float64   \u001b[0m\u001b[90m Float64   \u001b[0m\n",
       "─────┼───────────────────────────────────────────\n",
       "   1 │ ABCB9       Control   1.0        1.0\n",
       "   2 │ ARAF        Control   0.754547   0.83044\n",
       "   3 │ BFP         Control   0.377804   0.242321\n",
       "   4 │ CTNNB1      Control   1.0        1.0\n",
       "   5 │ DCAF8       Control   0.590784   0.317704\n",
       "   6 │ EGFR        Control   0.981347   0.999082\n",
       "   7 │ FCGR3B      Control   1.0        0.99997\n",
       "   8 │ HAVCR2      Control   1.0        1.0\n",
       "   9 │ HcRed       Control   0.384003   0.243498\n",
       "  10 │ KEAP1       Control   0.604404   0.597456\n",
       "  11 │ KRAS        Control   1.0        0.999983\n",
       "  ⋮  │     ⋮          ⋮         ⋮          ⋮\n",
       "  19 │ RBM10       Control   1.0        1.0\n",
       "  20 │ RBM45       Control   0.911768   0.909645\n",
       "  21 │ RIT1        Control   1.0        1.0\n",
       "  22 │ SERPINB5    Control   0.43508    0.803865\n",
       "  23 │ STC2        Control   1.0        1.0\n",
       "  24 │ STK11       Control   0.999992   0.999951\n",
       "  25 │ TP53        Control   1.0        1.0\n",
       "  26 │ TPK1        Control   0.439059   0.43293\n",
       "  27 │ ZBTB24      Control   0.990513   0.991513\n",
       "  28 │ eGFP        Control   0.506981   0.150303\n",
       "\u001b[36m                                   7 rows omitted\u001b[0m"
      ]
     },
     "execution_count": 45,
     "metadata": {},
     "output_type": "execute_result"
    }
   ],
   "source": [
    "xp_distances"
   ]
  },
  {
   "cell_type": "code",
   "execution_count": 46,
   "id": "ambient-surgeon",
   "metadata": {
    "scrolled": true
   },
   "outputs": [],
   "source": [
    "xp_distances.category = [x in ctrl_symbols ? \"Negative controls\" : \n",
    "                         x in strg_symbols ? \"Most active perturbations\" : \"Other perturbations\" \n",
    "                         for x in xp_distances.A];\n",
    "xp_distances.label = [x.category == \"Other perturbations\" ? \"\" : x.A\n",
    "                         for x in eachrow(xp_distances)];"
   ]
  },
  {
   "cell_type": "code",
   "execution_count": 47,
   "id": "hairy-scholarship",
   "metadata": {},
   "outputs": [
    {
     "data": {
      "image/png": "[encoded data removed]"
     },
     "metadata": {},
     "output_type": "display_data"
    },
    {
     "data": {
      "text/plain": [
       "RObject{VecSxp}\n"
      ]
     },
     "execution_count": 47,
     "metadata": {},
     "output_type": "execute_result"
    }
   ],
   "source": [
    "scor = corspearman(xp_distances.distance1, xp_distances.distance2)\n",
    "gp3 = ggplot(xp_distances, aes(x = :distance1, y = :distance2)) + \n",
    "    geom_point(aes(color = :category)) +\n",
    "    annotate(\"text\", label = \"Spearman correlation: \"*string(round(scor, digits = 3)), \n",
    "             x = 0.3, y = 1, size = 5) +\n",
    "    xlab(\"Distance on plate 1\") +\n",
    "    ylab(\"Distance on plate 2\") +\n",
    "    ggtitle(\"RHD to control wells\") +\n",
    "    guides(color=false)+\n",
    "    geom_label_repel(aes(label = :label), force = 1, var\"max.overlaps\" = 20)+\n",
    "    coord_fixed() + \n",
    "    xlim(0,1) +\n",
    "    ylim(0,1) +\n",
    "    RObject(nothing)"
   ]
  },
  {
   "cell_type": "code",
   "execution_count": 48,
   "id": "expensive-batch",
   "metadata": {},
   "outputs": [
    {
     "data": {
      "text/plain": [
       "RObject{NilSxp}\n",
       "NULL\n"
      ]
     },
     "execution_count": 48,
     "metadata": {},
     "output_type": "execute_result"
    }
   ],
   "source": [
    "ggsave(\"fig/S2_3.pdf\", height = 6, width = 7, gp3)"
   ]
  },
  {
   "cell_type": "code",
   "execution_count": 49,
   "id": "blond-consortium",
   "metadata": {
    "scrolled": true
   },
   "outputs": [
    {
     "data": {
      "text/plain": [
       "2021-10-13T14:06:30.892"
      ]
     },
     "execution_count": 49,
     "metadata": {},
     "output_type": "execute_result"
    }
   ],
   "source": [
    "now()"
   ]
  }
 ],
 "metadata": {
  "kernelspec": {
   "display_name": "Julia 1.5.3",
   "language": "julia",
   "name": "julia-1.5"
  },
  "language_info": {
   "file_extension": ".jl",
   "mimetype": "application/julia",
   "name": "julia",
   "version": "1.5.3"
  }
 },
 "nbformat": 4,
 "nbformat_minor": 5
}
