{
 "cells": [
  {
   "cell_type": "code",
   "execution_count": null,
   "metadata": {},
   "outputs": [],
   "source": [
    "using CSV, StatsBase, Statistics, DataFrames, UMAP, RCall, FreqTables\n",
    "using MultipleTesting, Random, MultivariateStats, Distributed\n",
    "using BioProfiling"
   ]
  },
  {
   "cell_type": "code",
   "execution_count": null,
   "metadata": {},
   "outputs": [],
   "source": [
    "using Dates: now\n",
    "now()"
   ]
  },
  {
   "cell_type": "code",
   "execution_count": null,
   "metadata": {},
   "outputs": [],
   "source": [
    "# This is the location where the images are stored\n",
    "# (useful to highlight cells of a given morphology)\n",
    "img_folder = \"/images/\""
   ]
  },
  {
   "cell_type": "code",
   "execution_count": null,
   "metadata": {},
   "outputs": [],
   "source": [
    "readdir(img_folder)"
   ]
  },
  {
   "cell_type": "markdown",
   "metadata": {},
   "source": [
    "## R Calls"
   ]
  },
  {
   "cell_type": "code",
   "execution_count": null,
   "metadata": {},
   "outputs": [],
   "source": [
    "@rlibrary ggplot2\n",
    "@rlibrary extrafont\n",
    "@rlibrary viridis\n",
    "@rlibrary heatmaply\n",
    "@rlibrary ggrepel"
   ]
  },
  {
   "cell_type": "code",
   "execution_count": null,
   "metadata": {
    "scrolled": true
   },
   "outputs": [],
   "source": [
    "R\"\"\"\n",
    "# Used later for MCD computation\n",
    "\n",
    "library(robustbase)\n",
    "\n",
    "# Customize ggplot appearance\n",
    "\n",
    "library(ggplot2)\n",
    "library(extrafont)\n",
    "\n",
    "\n",
    "# Load extra fonts\n",
    "# ttf_import(\"/tmp/.fonts\")\n",
    "# loadfonts()\n",
    "\n",
    "# Change theme\n",
    "customTheme <- theme_light() + \n",
    "               theme(panel.grid.minor=element_blank(), text=element_text(size=17, family=\"Arial\", colour = \"#333333\"),\n",
    "                     line=element_line(colour = \"#333333\"), \n",
    "                     legend.background = element_rect(fill=alpha('#CCCCCC', 0.1)), legend.key = element_blank())\n",
    "\n",
    "# Change default colors\n",
    "scale_colour_continuous <- function (..., begin = 0.1, end = 0.9, direction = -1, option = \"plasma\", \n",
    "                                     type = getOption(\"ggplot2.continuous.colour\", default = \"viridis\")) {\n",
    "    switch(type, gradient = scale_colour_gradient(...), \n",
    "        viridis = scale_colour_viridis_c(option = option, begin = begin, end = end, direction = direction, ...), \n",
    "        stop(\"Unknown scale type\", call. = FALSE))\n",
    "}\n",
    "scale_color_continuous <- scale_colour_continuous\n",
    "\n",
    "scale_fill_continuous <- function (..., begin = 0.1, end = 0.9, direction = -1, option = \"plasma\", \n",
    "                                     type = getOption(\"ggplot2.continuous.colour\", default = \"viridis\")) {\n",
    "    switch(type, gradient = scale_fill_gradient(...), \n",
    "        viridis = scale_fill_viridis_c(option = option, begin = begin, end = end, direction = direction, ...), \n",
    "        stop(\"Unknown scale type\", call. = FALSE))\n",
    "\n",
    "}\n",
    "\n",
    "cemm_pal = colorRampPalette(c(\"#5A463C\", \"#008CAD\", \"#40B9D4\", \"#D4ECF2\", \"#D2323C\", \"#F8B100\", \"#DFDC00\"))\n",
    "scale_fill_discrete <- function (..., type = \"CeMM\", h = c(0, 360) + 15, c = 100, l = 65, h.start = 0, \n",
    "    direction = 1, na.value = \"grey50\", aesthetics = \"fill\") \n",
    "{\n",
    "    if (type == \"CeMM\"){\n",
    "        discrete_scale(aesthetics, \"CeMM\", cemm_pal, na.value = na.value, ...)\n",
    "    } else {\n",
    "        discrete_scale(aesthetics, \"hue\", hue_pal(h, c, l, h.start, \n",
    "            direction), na.value = na.value, ...)\n",
    "    }\n",
    "}\n",
    "\n",
    "scale_color_discrete <- function (..., type = \"CeMM\", h = c(0, 360) + 15, c = 100, l = 65, h.start = 0, \n",
    "    direction = 1, na.value = \"grey50\", aesthetics = \"colour\") {\n",
    "    if (type == \"CeMM\"){\n",
    "        discrete_scale(aesthetics, \"CeMM\", cemm_pal, na.value = na.value, ...)\n",
    "    } else {\n",
    "        discrete_scale(aesthetics, \"hue\", scales::hue_pal(h, c, l, h.start, \n",
    "            direction), na.value = na.value, ...)\n",
    "    }\n",
    "}\n",
    "scale_colour_discrete <- scale_color_discrete\n",
    "\n",
    "noGridTheme <- function(...){\n",
    "    theme(panel.grid.major=element_blank(), axis.text.x=element_text(size=12), axis.text.y=element_text(size=12),\n",
    "                      axis.line=element_line(color=\"#333333\", size = 0.2), panel.border = element_blank(), ...)\n",
    "}\n",
    "\n",
    "darkTheme <- function(...){\n",
    "    theme(panel.background = element_rect(fill = '#333333'), plot.background = element_rect(fill = '#333333'), \n",
    "          axis.line=element_line(color=\"#CCCCCC\", size = 0.2), \n",
    "          text=element_text(size=17, family=\"Arial\", colour = \"#CCCCCC\"),\n",
    "          line=element_line(colour = \"#CCCCCC\"))\n",
    "}\n",
    "\n",
    "theme_set(customTheme)\n",
    "\n",
    "options(repr.plot.width=10, repr.plot.height=10)\n",
    "\"\"\""
   ]
  },
  {
   "cell_type": "markdown",
   "metadata": {},
   "source": [
    "## Load measurements"
   ]
  },
  {
   "cell_type": "markdown",
   "metadata": {},
   "source": [
    "### Load annotations"
   ]
  },
  {
   "cell_type": "code",
   "execution_count": null,
   "metadata": {},
   "outputs": [],
   "source": [
    "annotations = CSV.read(\"data/transferList.txt\", DataFrame, header = 1, delim = \"\\t\")\n",
    "# Convert plate number to strings to make clear it is an ID and should not be used for computations\n",
    "annotations[!, :DestinationPlate] = string.(annotations[:,:DestinationPlate])\n",
    "# Wells in the transfer list without any compound name are filled with DMSO only\n",
    "annotations[!, :CompoundName][ismissing.(annotations[:,:CompoundName])] .= \"DMSO\"\n",
    "# A non-ASCII characters needs to be converted\n",
    "annotations.CompoundName = replace.(annotations.CompoundName, \"\\xb1\" => s\"±\");"
   ]
  },
  {
   "cell_type": "code",
   "execution_count": null,
   "metadata": {
    "scrolled": true
   },
   "outputs": [],
   "source": [
    "annotations"
   ]
  },
  {
   "cell_type": "markdown",
   "metadata": {},
   "source": [
    "### Load image data"
   ]
  },
  {
   "cell_type": "code",
   "execution_count": null,
   "metadata": {
    "scrolled": true
   },
   "outputs": [],
   "source": [
    "image = CSV.read(\"data/compiled_PilotDrugScreen_Image_1500.csv\", DataFrame)\n",
    "println(string.(names(image))[1:8])\n",
    "# Number of images and features available\n",
    "println(nrow(image))\n",
    "println(ncol(image))"
   ]
  },
  {
   "cell_type": "markdown",
   "metadata": {},
   "source": [
    "### Load individual cell files"
   ]
  },
  {
   "cell_type": "code",
   "execution_count": null,
   "metadata": {
    "scrolled": true
   },
   "outputs": [],
   "source": [
    "nucleus = CSV.read(\"data/compiled_PilotDrugScreen_Nucleus_1500.csv\", DataFrame, header = 1);"
   ]
  },
  {
   "cell_type": "code",
   "execution_count": null,
   "metadata": {
    "scrolled": true
   },
   "outputs": [],
   "source": [
    "# Remove duplicated columns\n",
    "nucleus = nucleus[:, Not([1,6,8,12,14,16])];"
   ]
  },
  {
   "cell_type": "code",
   "execution_count": null,
   "metadata": {
    "scrolled": true
   },
   "outputs": [],
   "source": [
    "cytocm = CSV.read(\"data/compiled_PilotDrugScreen_CytoCM_1500.csv\", DataFrame, header = 1);"
   ]
  },
  {
   "cell_type": "code",
   "execution_count": null,
   "metadata": {},
   "outputs": [],
   "source": [
    "# Remove duplicated columns\n",
    "cytocm = cytocm[:, Not([1,6,8,12,14,16])];"
   ]
  },
  {
   "cell_type": "code",
   "execution_count": null,
   "metadata": {},
   "outputs": [],
   "source": [
    "cytoplasm = CSV.read(\"data/compiled_PilotDrugScreen_Cytoplasm_1500.csv\", DataFrame, header = 1);"
   ]
  },
  {
   "cell_type": "code",
   "execution_count": null,
   "metadata": {},
   "outputs": [],
   "source": [
    "# Remove duplicated columns\n",
    "cytoplasm = cytoplasm[:, Not([1,6,8,12,14,16])];"
   ]
  },
  {
   "cell_type": "markdown",
   "metadata": {},
   "source": [
    "### Merge measurements"
   ]
  },
  {
   "cell_type": "code",
   "execution_count": null,
   "metadata": {
    "scrolled": true
   },
   "outputs": [],
   "source": [
    "cell = innerjoin(cytoplasm, cytocm, on = [:ImageNumber => :ImageNumber, :Parent_CytoCM => :ObjectNumber], \n",
    "       makeunique = true)"
   ]
  },
  {
   "cell_type": "code",
   "execution_count": null,
   "metadata": {
    "scrolled": true
   },
   "outputs": [],
   "source": [
    "cell = innerjoin(cell, nucleus, on = [:ImageNumber => :ImageNumber, :Parent_Nucleus => :ObjectNumber], \n",
    "       makeunique = true)"
   ]
  },
  {
   "cell_type": "code",
   "execution_count": null,
   "metadata": {},
   "outputs": [],
   "source": [
    "# NB: columns with missing values should not be provided even if they are not used by ggplot\n",
    "ggplot(cell[1:10000,[:AreaShape_Center_X, :AreaShape_Center_X_1]], \n",
    "       aes(x = :AreaShape_Center_X, y = :AreaShape_Center_X_1)) + geom_point()"
   ]
  },
  {
   "cell_type": "code",
   "execution_count": null,
   "metadata": {},
   "outputs": [],
   "source": [
    "# NB: columns with missing values should not be provided even if they are not used by ggplot\n",
    "ggplot(cell[1:10000,[:AreaShape_Center_X_1, :AreaShape_Center_X_2]], \n",
    "       aes(x = :AreaShape_Center_X_1, y = :AreaShape_Center_X_2)) + geom_point()"
   ]
  },
  {
   "cell_type": "code",
   "execution_count": null,
   "metadata": {},
   "outputs": [],
   "source": [
    "# NB: columns with missing values should not be provided even if they are not used by ggplot\n",
    "ggplot(cell[1:10000,[:AreaShape_Center_X, :AreaShape_Center_X_2]], \n",
    "       aes(x = :AreaShape_Center_X, y = :AreaShape_Center_X_2)) + geom_point()"
   ]
  },
  {
   "cell_type": "code",
   "execution_count": null,
   "metadata": {
    "scrolled": true
   },
   "outputs": [],
   "source": [
    "# Free up memory\n",
    "nucleus = nothing\n",
    "cytoplasm = nothing\n",
    "cytocm = nothing"
   ]
  },
  {
   "cell_type": "markdown",
   "metadata": {},
   "source": [
    "## Experiment filtering"
   ]
  },
  {
   "cell_type": "code",
   "execution_count": null,
   "metadata": {},
   "outputs": [],
   "source": [
    "cell.URL = \"/images/r\".*lpad.(cell.Metadata_Row, 2, \"0\").*\n",
    "    \"c\".*lpad.(cell.Metadata_Column, 2, \"0\").*\n",
    "    \"f\".*lpad.(cell.Metadata_Field, 2, \"0\").*\"p01rc1-ch1sk1fk1fl1.tiff\";"
   ]
  },
  {
   "cell_type": "code",
   "execution_count": null,
   "metadata": {},
   "outputs": [],
   "source": [
    "cell.PlateNumber = [x == \"1500CellsPerWell\" ? \"1914001\" : \"1914011\" for x in cell.Metadata_Plate];"
   ]
  },
  {
   "cell_type": "code",
   "execution_count": null,
   "metadata": {},
   "outputs": [],
   "source": [
    "cell = leftjoin(cell, annotations[:,[:CompoundName,:DestWell,:DestinationPlate]], \n",
    "                    on = [:Metadata_Well => :DestWell, :PlateNumber => :DestinationPlate])\n",
    "\n",
    "# Wells absent of the transfer list do not have any compound in them\n",
    "cell.CompoundName[ismissing.(cell.CompoundName), :] .= \"None\";"
   ]
  },
  {
   "cell_type": "markdown",
   "metadata": {},
   "source": [
    "```julia\n",
    "# Export `cell` dataframe to avoid reprocessing if not needed\n",
    "CSV.write(\"data/compiled_cell_1500.csv\", cell)\n",
    "```"
   ]
  },
  {
   "cell_type": "markdown",
   "metadata": {},
   "source": [
    "```julia\n",
    "# If data was already compiled and exported, load the `cell` dataframe.\n",
    "cell = CSV.read(\"data/compiled_cell_1500.csv\", DataFrame)\n",
    "```"
   ]
  },
  {
   "cell_type": "code",
   "execution_count": null,
   "metadata": {},
   "outputs": [],
   "source": [
    "CSV.write(\"data/compiled_cell_1500.csv\", cell)"
   ]
  },
  {
   "cell_type": "code",
   "execution_count": null,
   "metadata": {},
   "outputs": [],
   "source": [
    "ftb = freqtable(cell.CompoundName)\n",
    "ftb[sortperm(ftb)]"
   ]
  },
  {
   "cell_type": "code",
   "execution_count": null,
   "metadata": {},
   "outputs": [],
   "source": [
    "xp = Experiment(cell, description = \"All measurements for plate @1500c/well.\")"
   ]
  },
  {
   "cell_type": "code",
   "execution_count": null,
   "metadata": {},
   "outputs": [],
   "source": [
    "# Make sure to remove columns that are not morphological measurements\n",
    "strToRemove = [\"Parent\", \"ObjectNumber\", \"ImageNumber\", \"Experiment\",\n",
    "                \"Object_Number\", \"Location\", \"Center\", \"Metadata\", \"Orientation\",\n",
    "                \"PlateNumber\", \"CompoundName\", \"Texture\", \"Neighbors_AngleBetweenNeighbors_5\",\n",
    "                \"Neighbors_SecondClosestDistance_5\", \"URL\"]\n",
    "# NB: Textural features have missing values\n",
    "filters = Array{BioProfiling.AbstractReduce}([NameSelector(x -> !any(occursin.(strToRemove, String(x))))])"
   ]
  },
  {
   "cell_type": "markdown",
   "metadata": {},
   "source": [
    "### Which cells to filter?"
   ]
  },
  {
   "cell_type": "code",
   "execution_count": null,
   "metadata": {
    "scrolled": true
   },
   "outputs": [],
   "source": [
    "RCall.rcall_p(:options, rcalljl_options=Dict(:width => 500, :height => 400))"
   ]
  },
  {
   "cell_type": "code",
   "execution_count": null,
   "metadata": {},
   "outputs": [],
   "source": [
    "# Cells with cytoCM much larger than nucleus\n",
    "ggplot(cell[1:10000,[:AreaShape_Area_2, :AreaShape_Area_1]], \n",
    "       aes(x = :AreaShape_Area_2, y = :AreaShape_Area_1)) + \n",
    "    geom_point() +\n",
    "    geom_abline(intercept = 0, slope = 4) +\n",
    "    xlab(\"Nucleus area\") +\n",
    "    ylab(\"Cytoplasm area\") +\n",
    "    RObject(nothing)"
   ]
  },
  {
   "cell_type": "code",
   "execution_count": null,
   "metadata": {},
   "outputs": [],
   "source": [
    "cell.Metadata_Ratio1 = cell.AreaShape_Area_1 ./ cell.AreaShape_Area_2\n",
    "push!(filters, Filter(4, :Metadata_Ratio1, \n",
    "        compare = <, \n",
    "        description = \"Exclude cells with really large cytoCM\"))\n",
    "negf1 = negation(filters[end]);"
   ]
  },
  {
   "cell_type": "code",
   "execution_count": null,
   "metadata": {},
   "outputs": [],
   "source": [
    "RCall.rcall_p(:options, rcalljl_options=Dict(:width => 500, :height => 500))"
   ]
  },
  {
   "cell_type": "code",
   "execution_count": null,
   "metadata": {},
   "outputs": [],
   "source": [
    "# Cells with cytoplasm much larger than cytoCM\n",
    "ggplot(cell[1:10000,[:AreaShape_Area, :AreaShape_Area_1]], \n",
    "       aes(x = :AreaShape_Area_1, y = :AreaShape_Area)) + geom_point() +\n",
    "    geom_abline(intercept = 0, slope = 10)"
   ]
  },
  {
   "cell_type": "code",
   "execution_count": null,
   "metadata": {},
   "outputs": [],
   "source": [
    "cell.Metadata_Ratio2 = cell.AreaShape_Area ./ cell.AreaShape_Area_1\n",
    "push!(filters, Filter(10, :Metadata_Ratio2, compare = <, description = \"Exclude cells with really large cytoplasm\"))\n",
    "negf2 = negation(filters[end]);"
   ]
  },
  {
   "cell_type": "code",
   "execution_count": null,
   "metadata": {},
   "outputs": [],
   "source": [
    "# Cells with non-round nuclei (mostly segmentation mistakes)\n",
    "ggplot(cell[1:10000,[:AreaShape_Area_2, :AreaShape_FormFactor_2]], \n",
    "       aes(x = :AreaShape_Area_2, y = :AreaShape_FormFactor_2)) + geom_point() +\n",
    "    geom_hline(yintercept = 0.5)"
   ]
  },
  {
   "cell_type": "code",
   "execution_count": null,
   "metadata": {},
   "outputs": [],
   "source": [
    "push!(filters, Filter(0.5, :AreaShape_FormFactor_2, compare = >, description = \"Keep roundish nuclei\"))\n",
    "negf3 = negation(filters[end]);"
   ]
  },
  {
   "cell_type": "code",
   "execution_count": null,
   "metadata": {},
   "outputs": [],
   "source": [
    "# Cells with CellMask clots\n",
    "ggplot(cell[1:10000,[:Intensity_MaxIntensity_CorrCM_1, :Intensity_StdIntensity_CorrCM_1]], \n",
    "       aes(x = :Intensity_MaxIntensity_CorrCM_1, y = :Intensity_StdIntensity_CorrCM_1)) + geom_point() +\n",
    "    geom_vline(xintercept = 0.1)"
   ]
  },
  {
   "cell_type": "code",
   "execution_count": null,
   "metadata": {},
   "outputs": [],
   "source": [
    "push!(filters, Filter(0.1, :Intensity_MaxIntensity_CorrCM_1, compare = <, description = \"Keep roundish nuclei\"))\n",
    "negf4 = negation(filters[end]);"
   ]
  },
  {
   "cell_type": "markdown",
   "metadata": {},
   "source": [
    "### Example images\n",
    "Here we highlight examples of cells which were filtered out and cells which were kept. "
   ]
  },
  {
   "cell_type": "code",
   "execution_count": null,
   "metadata": {},
   "outputs": [],
   "source": [
    "# Convert paths to all channels\n",
    "rgbrgx = [\n",
    "    [\"rc1\" => \"rc3\"],\n",
    "    [\"rc1\" => \"rc2\"],\n",
    "    []]"
   ]
  },
  {
   "cell_type": "code",
   "execution_count": null,
   "metadata": {},
   "outputs": [],
   "source": [
    "# This is the description of the cells highlighted (i.e. they have an usually large cytoCM)\n",
    "allImgToCopy = [diagnostic_path(xp, negf1, :URL, center = false)[1:3]...,\n",
    "diagnostic_path(xp, negf2, :URL, center = false)[1:3]...,\n",
    "diagnostic_path(xp, negf3, :URL, center = false)[1:3]...,\n",
    "diagnostic_path(xp, negf4, :URL, center = false)[1:3]...]"
   ]
  },
  {
   "cell_type": "code",
   "execution_count": null,
   "metadata": {
    "scrolled": false
   },
   "outputs": [],
   "source": [
    "# This is the description of the cells highlighted (i.e. they have an usually large cytoCM)\n",
    "println(negf1.description)\n",
    "diagnostic_images(xp, negf1, :URL, \n",
    "                    saveimages = false, show = true,\n",
    "                    rgb = rgbrgx, showlimit = 3, center = true)"
   ]
  },
  {
   "cell_type": "code",
   "execution_count": null,
   "metadata": {},
   "outputs": [],
   "source": [
    "println(negf2.description)\n",
    "diagnostic_images(xp, negf2, :URL, \n",
    "                    saveimages = false, show = true,\n",
    "                    rgb = rgbrgx, showlimit = 3, center = true)"
   ]
  },
  {
   "cell_type": "code",
   "execution_count": null,
   "metadata": {},
   "outputs": [],
   "source": [
    "println(negf3.description)\n",
    "diagnostic_images(xp, negf3, :URL, \n",
    "                    saveimages = false, show = true,\n",
    "                    rgb = rgbrgx, showlimit = 3, center = true)"
   ]
  },
  {
   "cell_type": "code",
   "execution_count": null,
   "metadata": {},
   "outputs": [],
   "source": [
    "println(negf4.description)\n",
    "diagnostic_images(xp, negf4, :URL, \n",
    "                    saveimages = false, show = true,\n",
    "                    rgb = rgbrgx, showlimit = 3, center = true)"
   ]
  },
  {
   "cell_type": "markdown",
   "metadata": {},
   "source": [
    "### Apply filters"
   ]
  },
  {
   "cell_type": "code",
   "execution_count": null,
   "metadata": {},
   "outputs": [],
   "source": [
    "select!(xp, filters)"
   ]
  },
  {
   "cell_type": "code",
   "execution_count": null,
   "metadata": {},
   "outputs": [],
   "source": [
    "# No measurements are missing!\n",
    "tdf = xp.data[xp.selected_entries, xp.selected_features]\n",
    "@assert sum(Array(mapcols(x -> sum(ismissing.(x)), tdf))[1,:]) == 0\n",
    "# Free up memory\n",
    "tdf = nothing"
   ]
  },
  {
   "cell_type": "markdown",
   "metadata": {},
   "source": [
    "```julia\n",
    "# Remove constant columns\n",
    "push!(filters, Selector(x -> mad(x, normalize = true) != 0, description = \"Remove constant features\"));\n",
    "push!(filters, Selector(x -> mad(x, normalize = true) != 0, \n",
    "                        subset = x -> x.CompoundName .== \"DMSO\", \n",
    "                        description = \"Remove features constant for reference\"));\n",
    "```"
   ]
  },
  {
   "cell_type": "code",
   "execution_count": null,
   "metadata": {},
   "outputs": [],
   "source": [
    "xp"
   ]
  },
  {
   "cell_type": "markdown",
   "metadata": {},
   "source": [
    "## Coarse-grain aggregation"
   ]
  },
  {
   "cell_type": "code",
   "execution_count": null,
   "metadata": {},
   "outputs": [],
   "source": [
    "gd = groupby(xp.data[xp.selected_entries,[xp.selected_features...,\n",
    "                                           findfirst(names(xp.data) .== \"Metadata_Well\"),\n",
    "                                           findfirst(names(xp.data) .== \"Metadata_Row\"),\n",
    "                                           findfirst(names(xp.data) .== \"Metadata_Column\"),\n",
    "                                           findfirst(names(xp.data) .== \"CompoundName\"),\n",
    "                                           findfirst(names(xp.data) .== \"Metadata_Field\")]],\n",
    "    [:Metadata_Well, :CompoundName, :Metadata_Field, :Metadata_Row, :Metadata_Column])\n",
    "aggregatedData = DataFrames.combine(gd, valuecols(gd) .=> median);"
   ]
  },
  {
   "cell_type": "code",
   "execution_count": null,
   "metadata": {
    "scrolled": true
   },
   "outputs": [],
   "source": [
    "# Checkpoint to avoid recomputing the whole filtering\n",
    "CSV.write(\"data/aggregatedData_1500cells.csv\", aggregatedData)"
   ]
  },
  {
   "cell_type": "markdown",
   "metadata": {},
   "source": [
    "If the data was already exported:\n",
    "```julia\n",
    "aggregatedData = CSV.read(\"data/aggregatedData_1500cells.csv\");\n",
    "```"
   ]
  },
  {
   "cell_type": "markdown",
   "metadata": {},
   "source": [
    "### Subset data to images with at least 3 cells"
   ]
  },
  {
   "cell_type": "code",
   "execution_count": null,
   "metadata": {},
   "outputs": [],
   "source": [
    "cell_per_image = freqtable(xp.data[xp.selected_entries,:ImageNumber])\n",
    "non_sparse_images = Set(k for (k,v) in cell_per_image.dicts[1] if cell_per_image.array[v] >= 3);"
   ]
  },
  {
   "cell_type": "code",
   "execution_count": null,
   "metadata": {
    "scrolled": true
   },
   "outputs": [],
   "source": [
    "compare_in(x,y) = x in y\n",
    "Broadcast.broadcasted(::typeof(compare_in), x, y) = broadcast(in, x, Ref(y))\n",
    "sparcity_filter = Filter(non_sparse_images, :ImageNumber, compare = compare_in)"
   ]
  },
  {
   "cell_type": "code",
   "execution_count": null,
   "metadata": {
    "scrolled": true
   },
   "outputs": [],
   "source": [
    "filter_entries!(xp, sparcity_filter);"
   ]
  },
  {
   "cell_type": "code",
   "execution_count": null,
   "metadata": {},
   "outputs": [],
   "source": [
    "gd = groupby(xp.data[xp.selected_entries,[xp.selected_features...,\n",
    "                                           findfirst(names(xp.data) .== \"Metadata_Well\"),\n",
    "                                           findfirst(names(xp.data) .== \"Metadata_Row\"),\n",
    "                                           findfirst(names(xp.data) .== \"Metadata_Column\"),\n",
    "                                           findfirst(names(xp.data) .== \"CompoundName\"),\n",
    "                                           findfirst(names(xp.data) .== \"Metadata_Field\")]],\n",
    "    [:Metadata_Well, :CompoundName, :Metadata_Field, :Metadata_Row, :Metadata_Column])\n",
    "aggregatedData = DataFrames.combine(gd, valuecols(gd) .=> median);"
   ]
  },
  {
   "cell_type": "code",
   "execution_count": null,
   "metadata": {
    "scrolled": true
   },
   "outputs": [],
   "source": [
    "# Checkpoint to avoid recomputing the whole filtering\n",
    "CSV.write(\"data/aggregatedData_1500cells_noSparse.csv\", aggregatedData)"
   ]
  }
 ],
 "metadata": {
  "kernelspec": {
   "display_name": "Julia 1.5.3",
   "language": "julia",
   "name": "julia-1.5"
  },
  "language_info": {
   "file_extension": ".jl",
   "mimetype": "application/julia",
   "name": "julia",
   "version": "1.5.3"
  }
 },
 "nbformat": 4,
 "nbformat_minor": 4
}
