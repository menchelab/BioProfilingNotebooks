{
 "cells": [
  {
   "cell_type": "code",
   "execution_count": null,
   "metadata": {},
   "outputs": [],
   "source": [
    "using CSV, StatsBase, Statistics, DataFrames, UMAP, RCall, FreqTables\n",
    "using MultipleTesting, Random, MultivariateStats, Distributed, CategoricalArrays\n",
    "using LightGraphs, SimpleWeightedGraphs\n",
    "using HTTP, JSON\n",
    "using BioProfiling\n",
    "using LightGraphs"
   ]
  },
  {
   "cell_type": "code",
   "execution_count": null,
   "metadata": {},
   "outputs": [],
   "source": [
    "using Dates: now\n",
    "now()"
   ]
  },
  {
   "cell_type": "markdown",
   "metadata": {},
   "source": [
    "## R Calls"
   ]
  },
  {
   "cell_type": "code",
   "execution_count": null,
   "metadata": {},
   "outputs": [],
   "source": [
    "@rlibrary ggplot2\n",
    "@rlibrary extrafont\n",
    "@rlibrary viridis\n",
    "@rlibrary heatmaply\n",
    "@rlibrary ggrepel"
   ]
  },
  {
   "cell_type": "code",
   "execution_count": null,
   "metadata": {
    "scrolled": true
   },
   "outputs": [],
   "source": [
    "R\"\"\"\n",
    "# Used later for MCD computation\n",
    "\n",
    "library(robustbase)\n",
    "\n",
    "# Customize ggplot appearance\n",
    "\n",
    "library(ggplot2)\n",
    "library(extrafont)\n",
    "\n",
    "\n",
    "# Load extra fonts\n",
    "# ttf_import(\"/tmp/.fonts\")\n",
    "# loadfonts()\n",
    "\n",
    "# Change theme\n",
    "customTheme <- theme_light() + \n",
    "               theme(panel.grid.minor=element_blank(), text=element_text(size=17, family=\"Arial\", colour = \"#333333\"),\n",
    "                     line=element_line(colour = \"#333333\"), \n",
    "                     legend.background = element_rect(fill=alpha('#CCCCCC', 0.1)), legend.key = element_blank())\n",
    "\n",
    "# Change default colors\n",
    "scale_colour_continuous <- function (..., begin = 0.1, end = 0.9, direction = -1, option = \"plasma\", \n",
    "                                     type = getOption(\"ggplot2.continuous.colour\", default = \"viridis\")) {\n",
    "    switch(type, gradient = scale_colour_gradient(...), \n",
    "        viridis = scale_colour_viridis_c(option = option, begin = begin, end = end, direction = direction, ...), \n",
    "        stop(\"Unknown scale type\", call. = FALSE))\n",
    "}\n",
    "scale_color_continuous <- scale_colour_continuous\n",
    "\n",
    "scale_fill_continuous <- function (..., begin = 0.1, end = 0.9, direction = -1, option = \"plasma\", \n",
    "                                     type = getOption(\"ggplot2.continuous.colour\", default = \"viridis\")) {\n",
    "    switch(type, gradient = scale_fill_gradient(...), \n",
    "        viridis = scale_fill_viridis_c(option = option, begin = begin, end = end, direction = direction, ...), \n",
    "        stop(\"Unknown scale type\", call. = FALSE))\n",
    "\n",
    "}\n",
    "\n",
    "cemm_pal = colorRampPalette(c(\"#5A463C\", \"#008CAD\", \"#40B9D4\", \"#D4ECF2\", \"#D2323C\", \"#F8B100\", \"#DFDC00\"))\n",
    "scale_fill_discrete <- function (..., type = \"CeMM\", h = c(0, 360) + 15, c = 100, l = 65, h.start = 0, \n",
    "    direction = 1, na.value = \"grey50\", aesthetics = \"fill\") \n",
    "{\n",
    "    if (type == \"CeMM\"){\n",
    "        discrete_scale(aesthetics, \"CeMM\", cemm_pal, na.value = na.value, ...)\n",
    "    } else {\n",
    "        discrete_scale(aesthetics, \"hue\", hue_pal(h, c, l, h.start, \n",
    "            direction), na.value = na.value, ...)\n",
    "    }\n",
    "}\n",
    "\n",
    "scale_color_discrete <- function (..., type = \"CeMM\", h = c(0, 360) + 15, c = 100, l = 65, h.start = 0, \n",
    "    direction = 1, na.value = \"grey50\", aesthetics = \"colour\") {\n",
    "    if (type == \"CeMM\"){\n",
    "        discrete_scale(aesthetics, \"CeMM\", cemm_pal, na.value = na.value, ...)\n",
    "    } else {\n",
    "        discrete_scale(aesthetics, \"hue\", scales::hue_pal(h, c, l, h.start, \n",
    "            direction), na.value = na.value, ...)\n",
    "    }\n",
    "}\n",
    "scale_colour_discrete <- scale_color_discrete\n",
    "\n",
    "noGridTheme <- function(...){\n",
    "    theme(panel.grid.major=element_blank(), axis.text.x=element_text(size=12), axis.text.y=element_text(size=12),\n",
    "                      axis.line=element_line(color=\"#333333\", size = 0.2), panel.border = element_blank(), ...)\n",
    "}\n",
    "\n",
    "darkTheme <- function(...){\n",
    "    theme(panel.background = element_rect(fill = '#333333'), plot.background = element_rect(fill = '#333333'), \n",
    "          axis.line=element_line(color=\"#CCCCCC\", size = 0.2), \n",
    "          text=element_text(size=17, family=\"Arial\", colour = \"#CCCCCC\"),\n",
    "          line=element_line(colour = \"#CCCCCC\"))\n",
    "}\n",
    "\n",
    "theme_set(customTheme)\n",
    "\n",
    "options(repr.plot.width=10, repr.plot.height=10)\n",
    "\"\"\""
   ]
  },
  {
   "cell_type": "markdown",
   "metadata": {},
   "source": [
    "## Load pre-computed statistical distances to DMSO"
   ]
  },
  {
   "cell_type": "code",
   "execution_count": null,
   "metadata": {
    "scrolled": true
   },
   "outputs": [],
   "source": [
    "RMPV = CSV.read(\"data/RMPV.csv\", DataFrame) "
   ]
  },
  {
   "cell_type": "code",
   "execution_count": null,
   "metadata": {
    "scrolled": true
   },
   "outputs": [],
   "source": [
    "RMPV.Condition[RMPV.RMPV .< 0.1]"
   ]
  },
  {
   "cell_type": "markdown",
   "metadata": {},
   "source": [
    "## Get annotations"
   ]
  },
  {
   "cell_type": "code",
   "execution_count": null,
   "metadata": {
    "scrolled": true
   },
   "outputs": [],
   "source": [
    "salt_to_remove = [\" maleate\", \" hydrochloride\", \" nitrate\", \n",
    "                  \" dihydrochloride\", \" chloride\", \" sulfate\", \n",
    "                  \" hydrate\", \" mesylate\", \" oxalate\", \" salt\",\n",
    "                  \" from Penicillium brefeldianum\", \" monohydrate\",\n",
    "                  \" trifluoroacetate\", \" acetate\", \" isethionate\",\n",
    "                  \" hemisulfate\", \" angular\", \" sodium\", \" fumarate\",\n",
    "                  \" methanesulfonate\", \" hemihydrate\", \" (MW = 374.83)\",\n",
    "                  \"(+/-)-\", \"(+)-\", \"(-)-\", \"S-(+)-\", \"(S)-\", \"(±)-\", \"D-\"]\n",
    "\n",
    "# It seems removing this set of enantiomer indications leads\n",
    "# to retrieving the correct compound annotation, as of the current release of the API.\n",
    "\n",
    "\"\"\"Other compounds might include salts but are anyway not found in the LINCS database at all:\n",
    "    AC-93253 iodide\n",
    "    N-p-Tosyl-L-phenylalanine chloromethyl ketone\n",
    "    4-(2-Aminoethyl)benzenesulfonyl fluoride hydrochloride\n",
    "    UNC0379 trifluoroacetate salt\"\"\"\n",
    "\n",
    "salt_dict = Dict(s => s\"\" for s in salt_to_remove)"
   ]
  },
  {
   "cell_type": "markdown",
   "metadata": {},
   "source": [
    "```\n",
    "https://api.clue.io/api/perts?filter={\"where\":{\"pert_iname\":\"(-)-Quinpirole\"}}&user_key=1fee664f310c86c5cb009c323de941db\n",
    "```"
   ]
  },
  {
   "cell_type": "code",
   "execution_count": null,
   "metadata": {
    "scrolled": true
   },
   "outputs": [],
   "source": [
    "\"\"\"\n",
    "This function parse a list of compound canonical IDs and extract mechanism of actions (MOA)\n",
    "annotated in the LINCS perturbation database when provided. Returns a list of annotates MOAs\n",
    "See https://clue.io/developer-resources#apisection\n",
    "\"\"\"\n",
    "function getMOA(cpd::String)\n",
    "    user_key = \"1fee664f310c86c5cb009c323de941db\"\n",
    "    rootURL = \"https://api.clue.io/api/perts?filter={\\\"where\\\":{\\\"pert_iname\\\":\\\"\"\n",
    "    typeURL = \"\\\"},\\\"fields\\\":{\\\"moa\\\":true}}&user_key=\"\n",
    "    # NB: case-dependent. Dashes are handled. Spaces are usually replaced by dashes.\n",
    "    \n",
    "    cpd_no_salt = reduce(replace, salt_dict, init=cpd)\n",
    "    \n",
    "    rq = rootURL * lowercase(cpd_no_salt) * typeURL * user_key\n",
    "    \n",
    "    try\n",
    "        resRq = HTTP.get(rq)\n",
    "        moaRQ = JSON.Parser.parse(String(resRq.body))[1]\n",
    "        return(moaRQ[\"moa\"])\n",
    "    catch e\n",
    "        if isa(e, BoundsError)\n",
    "            rq = rootURL * uppercase(cpd_no_salt) * typeURL * user_key\n",
    "            try\n",
    "                resRq = HTTP.get(rq)\n",
    "                moaRQ = JSON.Parser.parse(String(resRq.body))[1]\n",
    "                return(moaRQ[\"moa\"])\n",
    "            catch e\n",
    "                if isa(e, BoundsError)\n",
    "                println(cpd*\" does not have an MOA annotation.\")\n",
    "                end\n",
    "            end\n",
    "        elseif isa(e, HTTP.ExceptionRequest.StatusError)\n",
    "            println(cpd*\" raises a 502 error.\")\n",
    "        end\n",
    "        return()\n",
    "    end\n",
    "end"
   ]
  },
  {
   "cell_type": "code",
   "execution_count": null,
   "metadata": {},
   "outputs": [],
   "source": [
    "\"\"\"\n",
    "This function parse a list of compound canonical IDs and extract mechanism of actions (MOA)\n",
    "annotated in the LINCS perturbation database when provided. Returns a list of annotates MOAs\n",
    "See https://clue.io/developer-resources#apisection\n",
    "\"\"\"\n",
    "function get_MOA_and_target(cpd::String)\n",
    "    user_key = \"1fee664f310c86c5cb009c323de941db\"\n",
    "    rootURL = \"https://api.clue.io/api/perts?filter={\\\"where\\\":{\\\"pert_iname\\\":\\\"\"\n",
    "    typeURL = \"\\\"},\\\"fields\\\":{\\\"moa\\\":true,\\\"target\\\":true}}&user_key=\"\n",
    "    # NB: case-dependent. Dashes are handled. Spaces are usually replaced by dashes.\n",
    "    \n",
    "    cpd_no_salt = reduce(replace, salt_dict, init=cpd)\n",
    "    \n",
    "    rq = rootURL * lowercase(cpd_no_salt) * typeURL * user_key\n",
    "    \n",
    "    try\n",
    "        resRq = HTTP.get(rq)\n",
    "        moaRQ = JSON.Parser.parse(String(resRq.body))[1]\n",
    "        return(moaRQ)\n",
    "    catch e\n",
    "        if isa(e, BoundsError)\n",
    "            rq = rootURL * uppercase(cpd_no_salt) * typeURL * user_key\n",
    "            try\n",
    "                resRq = HTTP.get(rq)\n",
    "                moaRQ = JSON.Parser.parse(String(resRq.body))[1]\n",
    "                return(moaRQ)\n",
    "            catch e\n",
    "                if isa(e, BoundsError)\n",
    "                println(cpd*\" does not have an MOA annotation.\")\n",
    "                end\n",
    "            end\n",
    "        elseif isa(e, HTTP.ExceptionRequest.StatusError)\n",
    "            println(cpd*\" raises a 502 error.\")\n",
    "        end\n",
    "        return()\n",
    "    end\n",
    "end"
   ]
  },
  {
   "cell_type": "code",
   "execution_count": null,
   "metadata": {
    "scrolled": true
   },
   "outputs": [],
   "source": [
    "MOA = Dict()\n",
    "targets = Dict()\n",
    "for cpd in RMPV.Condition\n",
    "    moa = get_MOA_and_target(cpd)\n",
    "    if length(moa) > 0\n",
    "        if \"moa\" in keys(moa)\n",
    "            MOA[cpd] = moa[\"moa\"]\n",
    "        end\n",
    "        if \"target\" in keys(moa)\n",
    "            targets[cpd] = moa[\"target\"]\n",
    "        end\n",
    "    end\n",
    "end"
   ]
  },
  {
   "cell_type": "code",
   "execution_count": null,
   "metadata": {
    "scrolled": true
   },
   "outputs": [],
   "source": [
    "cpd_list = RMPV.Condition\n",
    "cpd_list = map(x -> reduce(replace, salt_dict, init=x), cpd_list)\n",
    "cpd_list = map(x -> replace(x,  \" \" => s\"-\"), cpd_list)"
   ]
  },
  {
   "cell_type": "code",
   "execution_count": null,
   "metadata": {
    "scrolled": true
   },
   "outputs": [],
   "source": [
    "short_to_initial_cpd = Dict(y => x for (x,y) in zip(RMPV.Condition, cpd_list))"
   ]
  },
  {
   "cell_type": "code",
   "execution_count": null,
   "metadata": {},
   "outputs": [],
   "source": [
    "for cpd in cpd_list\n",
    "    moa = get_MOA_and_target(cpd)\n",
    "    if length(moa) > 0\n",
    "        if \"moa\" in keys(moa)\n",
    "            MOA[short_to_initial_cpd[cpd]] = moa[\"moa\"]\n",
    "        end\n",
    "        if \"target\" in keys(moa)\n",
    "            targets[short_to_initial_cpd[cpd]] = moa[\"target\"]\n",
    "        end\n",
    "    end\n",
    "end"
   ]
  },
  {
   "cell_type": "code",
   "execution_count": null,
   "metadata": {},
   "outputs": [],
   "source": [
    "using HDF5, JLD\n",
    "save(\"data/MOA2.jld\", \"data\", MOA)\n",
    "save(\"data/target2.jld\", \"data\", targets)"
   ]
  },
  {
   "cell_type": "code",
   "execution_count": null,
   "metadata": {
    "scrolled": true
   },
   "outputs": [],
   "source": [
    "MOA"
   ]
  },
  {
   "cell_type": "code",
   "execution_count": null,
   "metadata": {
    "scrolled": true
   },
   "outputs": [],
   "source": [
    "targets"
   ]
  },
  {
   "cell_type": "markdown",
   "metadata": {},
   "source": [
    "You can save the MOA dictionary for later use:\n",
    "```julia\n",
    "using HDF5, JLD\n",
    "save(\"data/MOA.jld\", \"data\", MOA)\n",
    "save(\"data/target.jld\", \"data\", targets)\n",
    "MOA = load(\"data/MOA.jld\")[\"data\"]\n",
    "targets = load(\"data/target.jld\")[\"data\"]\n",
    "```"
   ]
  },
  {
   "cell_type": "code",
   "execution_count": null,
   "metadata": {},
   "outputs": [],
   "source": [
    "using HDF5, JLD\n",
    "MOA = load(\"data/MOA2.jld\")[\"data\"]\n",
    "targets = load(\"data/target2.jld\")[\"data\"]"
   ]
  },
  {
   "cell_type": "code",
   "execution_count": null,
   "metadata": {},
   "outputs": [],
   "source": [
    "freqMOA = sort(freqtable(vcat(collect(values(MOA))...)), rev = true);"
   ]
  },
  {
   "cell_type": "code",
   "execution_count": null,
   "metadata": {},
   "outputs": [],
   "source": [
    "hitMOA = Dict(x => MOA[x] for x in RMPV.Condition[RMPV.RMPV .< 0.1] if x in keys(MOA))\n",
    "freqHitMOA = sort(freqtable(vcat(collect(values(hitMOA))...)), rev = true);"
   ]
  },
  {
   "cell_type": "code",
   "execution_count": null,
   "metadata": {
    "scrolled": false
   },
   "outputs": [],
   "source": [
    "dfMOA = DataFrame()\n",
    "dfMOA.MOA = repeat(names(freqMOA)[1][freqMOA .> 3], 2)\n",
    "dfMOA.Hits = repeat([true, false], inner = Int(length(dfMOA.MOA)/2))\n",
    "dfMOA.Count = zeros(length(dfMOA.MOA));"
   ]
  },
  {
   "cell_type": "code",
   "execution_count": null,
   "metadata": {},
   "outputs": [],
   "source": [
    "for row in eachrow(dfMOA)\n",
    "    if row.Hits\n",
    "        if row.MOA in names(freqHitMOA)[1]\n",
    "            row.Count = Dict(freqHitMOA)[row.MOA]\n",
    "        end\n",
    "    else\n",
    "        if row.MOA in names(freqHitMOA)[1]\n",
    "            row.Count = Dict(freqMOA)[row.MOA] - Dict(freqHitMOA)[row.MOA]\n",
    "        else\n",
    "            row.Count = Dict(freqMOA)[row.MOA]\n",
    "        end\n",
    "        \n",
    "        \n",
    "    end\n",
    "end\n",
    "dfMOA.MOA = CategoricalArray{String,1}(dfMOA.MOA, levels = reverse(names(freqMOA)[1][freqMOA .> 3]), ordered=true);"
   ]
  },
  {
   "cell_type": "code",
   "execution_count": null,
   "metadata": {},
   "outputs": [],
   "source": [
    "gp = ggplot(dfMOA, aes(x = :MOA, y = :Count, fill = :Hits)) + \n",
    "     geom_bar(position=\"stack\", stat=\"identity\") + coord_flip() + \n",
    "     scale_y_continuous(breaks = 0:2:12) +\n",
    "     theme(var\"legend.position\"=\"bottom\") +\n",
    "     RObject(nothing)"
   ]
  },
  {
   "cell_type": "code",
   "execution_count": null,
   "metadata": {},
   "outputs": [],
   "source": [
    "ggsave(\"fig/HitEnrichment.pdf\", gp);"
   ]
  },
  {
   "cell_type": "markdown",
   "metadata": {},
   "source": [
    "## MOA analysis"
   ]
  },
  {
   "cell_type": "markdown",
   "metadata": {},
   "source": [
    "Now we focus on MOAs with at least 2 hit compounds:"
   ]
  },
  {
   "cell_type": "code",
   "execution_count": null,
   "metadata": {},
   "outputs": [],
   "source": [
    "top_moa = names(freqHitMOA)[1][freqHitMOA .>= 2]"
   ]
  },
  {
   "cell_type": "markdown",
   "metadata": {},
   "source": [
    "This means focusing on the following hit compounds:"
   ]
  },
  {
   "cell_type": "code",
   "execution_count": null,
   "metadata": {},
   "outputs": [],
   "source": [
    "top_moa_hit_cpd = Set([k for (k,v) in MOA \n",
    "                         for m in v \n",
    "                         if m in top_moa]) ∩\n",
    "                  RMPV.Condition[RMPV.RMPV .< 0.1]"
   ]
  },
  {
   "cell_type": "markdown",
   "metadata": {},
   "source": [
    "Targets are known for all these compounds:"
   ]
  },
  {
   "cell_type": "code",
   "execution_count": null,
   "metadata": {},
   "outputs": [],
   "source": [
    "@assert all([x in keys(targets) for x in top_moa_hit_cpd])"
   ]
  },
  {
   "cell_type": "markdown",
   "metadata": {},
   "source": [
    "### MOA morphological similarity"
   ]
  },
  {
   "cell_type": "markdown",
   "metadata": {},
   "source": [
    "#### Load aggregated data"
   ]
  },
  {
   "cell_type": "code",
   "execution_count": null,
   "metadata": {
    "scrolled": true
   },
   "outputs": [],
   "source": [
    "aggregatedData = CSV.read(\"data/aggregatedData_750cells.csv\", DataFrame);"
   ]
  },
  {
   "cell_type": "markdown",
   "metadata": {},
   "source": [
    "#### Transform aggregated data - Normalization\n",
    "We want to focus on variables that are changing more overall than inside of reference condition (untreated WT)."
   ]
  },
  {
   "cell_type": "code",
   "execution_count": null,
   "metadata": {},
   "outputs": [],
   "source": [
    "expAgg = Experiment(aggregatedData, description = \"Median values for aggregated FOV measurements\")"
   ]
  },
  {
   "cell_type": "code",
   "execution_count": null,
   "metadata": {},
   "outputs": [],
   "source": [
    "filters = Array{BioProfiling.AbstractSelector,1}()\n",
    "# Remove metadata\n",
    "strToRemove = [\"Metadata_Well\", \"CompoundName\", \"Metadata_Field\", \"Metadata_Row\", \"Metadata_Column\"]\n",
    "push!(filters, NameSelector(x -> !any(occursin.(strToRemove, String(x)))))\n",
    "# Remove constant columns\n",
    "push!(filters, Selector(x -> mad(x, normalize = true) != 0, description = \"Remove constant features\"));\n",
    "push!(filters, Selector(x -> mad(x, normalize = true) != 0, \n",
    "                        subset = x -> x.CompoundName .== \"DMSO\", \n",
    "                        description = \"Remove features constant for reference\"))\n",
    "select_features!(expAgg, filters)"
   ]
  },
  {
   "cell_type": "code",
   "execution_count": null,
   "metadata": {
    "scrolled": true
   },
   "outputs": [],
   "source": [
    "expTransformed = deepcopy(expAgg)\n",
    "logtransform!(expTransformed)\n",
    "expTransformed.description = \"Transformed values for aggregated FOV measurements\""
   ]
  },
  {
   "cell_type": "markdown",
   "metadata": {},
   "source": [
    "Here we apply a correction based on the specific details of the experimental design:\n",
    "All rows and columns include DMSO (negative) controls and we normalize all values based on these matchings controls (same row and column).  \n",
    "\n",
    "This examplifies how to directly modify the data of an `Experiment` object.  \n",
    "\n",
    "NB: One might want to check that more iterations are not needed (cf. Median-polish method)."
   ]
  },
  {
   "cell_type": "code",
   "execution_count": null,
   "metadata": {
    "scrolled": true
   },
   "outputs": [],
   "source": [
    "# Normalize on matching DMSO wells median values\n",
    "\n",
    "# Entries in both data frames are matching\n",
    "@assert nrow(aggregatedData) == nrow(getdata(expTransformed))\n",
    "\n",
    "# Copy data before correction\n",
    "ndf = getdata(expTransformed)\n",
    "\n",
    "for (i, (fx, fy)) in enumerate(eachrow(aggregatedData[:,[:Metadata_Row, :Metadata_Column]])) \n",
    "    c1 = aggregatedData.CompoundName .== \"DMSO\"\n",
    "    c2 = aggregatedData.Metadata_Row .== fx\n",
    "    c3 = aggregatedData.Metadata_Column .== fy\n",
    "    @assert sum((c1 .& (c2 .| c3))) > 0\n",
    "    expTransformed.data[i:i, expTransformed.selected_features] .-= \n",
    "        mapcols(median, ndf[(c1 .& (c2 .| c3)),:]) \n",
    "end"
   ]
  },
  {
   "cell_type": "code",
   "execution_count": null,
   "metadata": {},
   "outputs": [],
   "source": [
    "compare_in(x,y) = x in y\n",
    "Broadcast.broadcasted(::typeof(compare_in), x, y) = broadcast(in, x, Ref(y)) \n",
    "# We now only keep hit compounds\n",
    "filter_entries!(expTransformed, Filter(top_moa_hit_cpd, :CompoundName, compare = compare_in));"
   ]
  },
  {
   "cell_type": "code",
   "execution_count": null,
   "metadata": {},
   "outputs": [],
   "source": [
    "expTransformed"
   ]
  },
  {
   "cell_type": "markdown",
   "metadata": {},
   "source": [
    "### Dimensionality reduction"
   ]
  },
  {
   "cell_type": "code",
   "execution_count": null,
   "metadata": {},
   "outputs": [],
   "source": [
    "using Distances\n",
    "Random.seed!(3895)\n",
    "umTPM = umap(expTransformed, 4, metric = CosineDist())\n",
    "umTPM = convert(DataFrame, umTPM')\n",
    "rename!(umTPM, Symbol.(\"UMAP\" .* string.(1:ncol(umTPM))));"
   ]
  },
  {
   "cell_type": "code",
   "execution_count": null,
   "metadata": {},
   "outputs": [],
   "source": [
    "top_moa"
   ]
  },
  {
   "cell_type": "code",
   "execution_count": null,
   "metadata": {
    "scrolled": false
   },
   "outputs": [],
   "source": [
    "umTPM.Compound = expTransformed.data.CompoundName[expTransformed.selected_entries]\n",
    "umTPM.MOA = [[y for y in MOA[x] if y in top_moa] for x in umTPM.Compound]\n",
    "umTPM.MOA2 = CategoricalArray(string.(umTPM.MOA));"
   ]
  },
  {
   "cell_type": "code",
   "execution_count": null,
   "metadata": {},
   "outputs": [],
   "source": [
    "ggplot(umTPM, aes(:UMAP1, :UMAP2)) + \n",
    "    geom_point(aes(color = :MOA2), alpha = 0.8) +\n",
    "    coord_fixed() + \n",
    "    theme(var\"legend.position\"=\"bottom\", var\"legend.spacing.x\" = unit(0.35, \"cm\"), \n",
    "    var\"legend.spacing.y\" = unit(0, \"cm\")) + \n",
    "    guides(color=guide_legend(nrow=3,byrow=true))"
   ]
  },
  {
   "cell_type": "code",
   "execution_count": null,
   "metadata": {},
   "outputs": [],
   "source": [
    "ggplot(umTPM, aes(:UMAP3, :UMAP4)) + \n",
    "    geom_point(aes(color = :MOA2), alpha = 0.8) +\n",
    "    coord_fixed() + \n",
    "    theme(var\"legend.position\"=\"bottom\", var\"legend.spacing.x\" = unit(0.35, \"cm\"), \n",
    "    var\"legend.spacing.y\" = unit(0, \"cm\")) + \n",
    "    guides(color=guide_legend(nrow=3,byrow=true))"
   ]
  },
  {
   "cell_type": "code",
   "execution_count": null,
   "metadata": {},
   "outputs": [],
   "source": [
    "expUMAP = Experiment(umTPM, description = \"UMAP projection of profiling data\")\n",
    "filters = Array{BioProfiling.AbstractReduce,1}()\n",
    "# Remove (categorical) compound column from analysis\n",
    "push!(filters, NameSelector(x -> x != \"Compound\"))\n",
    "push!(filters, NameSelector(x -> x != \"MOA\"))\n",
    "push!(filters, NameSelector(x -> x != \"MOA2\"))\n",
    "# Apply filters\n",
    "filter!(expUMAP, filters)\n",
    "expUMAP"
   ]
  },
  {
   "cell_type": "code",
   "execution_count": null,
   "metadata": {
    "scrolled": true
   },
   "outputs": [],
   "source": [
    "pairwise_hellinger = DataFrame([(x, y) for x in levels(top_moa_hit_cpd) for y in levels(top_moa_hit_cpd) if x != y]);\n",
    "exp_cpd = expTransformed.data[expTransformed.selected_entries, :CompoundName]\n",
    "pairwise_hellinger.distance = [distance_robust_hellinger(getdata(expUMAP), \n",
    "                                                         exp_cpd.==x, \n",
    "                                                         exp_cpd.==y) \n",
    "                               for (x,y) in eachrow(pairwise_hellinger)]\n",
    "rename!(pairwise_hellinger, [\"X\", \"Y\", \"distance\"]);"
   ]
  },
  {
   "cell_type": "code",
   "execution_count": null,
   "metadata": {},
   "outputs": [],
   "source": [
    "RCall.rcall_p(:options, rcalljl_options=Dict(:width => 1000, :height => 800))\n",
    "ggplot(pairwise_hellinger, aes(x = :X, y = :Y, fill = :distance)) +\n",
    "    geom_tile() +\n",
    "    xlab(\"\") +\n",
    "    ylab(\"\") + \n",
    "    theme(var\"axis.text.x\" = element_text(angle = 45, hjust = 1)) +\n",
    "    RObject(nothing)"
   ]
  },
  {
   "cell_type": "code",
   "execution_count": null,
   "metadata": {},
   "outputs": [],
   "source": [
    "MOA[\"Nisoldipine\"]"
   ]
  },
  {
   "cell_type": "code",
   "execution_count": null,
   "metadata": {},
   "outputs": [],
   "source": [
    "MOA[\"Paroxetine hydrochloride hemihydrate (MW = 374.83)\"]"
   ]
  },
  {
   "cell_type": "code",
   "execution_count": null,
   "metadata": {},
   "outputs": [],
   "source": [
    "MOA[\"Fluoxetine hydrochloride\"]"
   ]
  },
  {
   "cell_type": "code",
   "execution_count": null,
   "metadata": {},
   "outputs": [],
   "source": [
    "MOA[\"Cilnidipine\"]"
   ]
  },
  {
   "cell_type": "code",
   "execution_count": null,
   "metadata": {},
   "outputs": [],
   "source": [
    "MOA[\"Flunarizine dihydrochloride\"]"
   ]
  },
  {
   "cell_type": "code",
   "execution_count": null,
   "metadata": {},
   "outputs": [],
   "source": [
    "top_hits_per_moa = Dict(moa => [x for x in top_moa_hit_cpd if moa in MOA[x]] for moa in top_moa)"
   ]
  },
  {
   "cell_type": "code",
   "execution_count": null,
   "metadata": {},
   "outputs": [],
   "source": [
    "moa1 = \"Selective serotonin reuptake inhibitor (SSRI)\"\n",
    "moa2 = \"Calcium channel blocker\""
   ]
  },
  {
   "cell_type": "code",
   "execution_count": null,
   "metadata": {},
   "outputs": [],
   "source": [
    "moa_pairwise_hellinger = DataFrame([(x, y) for x in top_moa \n",
    "                                           for y in top_moa if x != y]);\n",
    "moa_pairwise_hellinger.distance = [mean(pairwise_hellinger[\n",
    "                                        [x in top_hits_per_moa[moa1] for x in pairwise_hellinger.X] .&\n",
    "                                        [x in top_hits_per_moa[moa2] for x in pairwise_hellinger.Y],\n",
    "                                        :distance])\n",
    "                                   for (moa1,moa2) in eachrow(moa_pairwise_hellinger)]\n",
    "rename!(moa_pairwise_hellinger, [\"X\", \"Y\", \"distance\"]);"
   ]
  },
  {
   "cell_type": "code",
   "execution_count": null,
   "metadata": {},
   "outputs": [],
   "source": [
    "RCall.rcall_p(:options, rcalljl_options=Dict(:width => 1000, :height => 800))\n",
    "ggplot(moa_pairwise_hellinger, aes(x = :X, y = :Y, fill = :distance)) +\n",
    "    geom_tile() +\n",
    "    xlab(\"\") +\n",
    "    ylab(\"\") + \n",
    "    theme(var\"axis.text.x\" = element_text(angle = 45, hjust = 1)) +\n",
    "    RObject(nothing)"
   ]
  },
  {
   "cell_type": "markdown",
   "metadata": {},
   "source": [
    "### MOA target PPI similarity"
   ]
  },
  {
   "cell_type": "markdown",
   "metadata": {},
   "source": [
    "#### Load PPI from HIPPIE database"
   ]
  },
  {
   "cell_type": "code",
   "execution_count": null,
   "metadata": {
    "scrolled": true
   },
   "outputs": [],
   "source": [
    "# Fetch last version of HIPPIE database (2.2 when writing this notebook)\n",
    "hippie = HTTP.get(\"http://cbdm-01.zdv.uni-mainz.de/~mschaefer/hippie/hippie_current.txt\")\n",
    "hippie = CSV.read(hippie.body, DataFrame, header = false)\n",
    "rename!(hippie, [\"Uniprot1\", \"Entrez1\", \"Uniprot2\", \"Entrez2\", \"Confidence\", \"Experiments\"])"
   ]
  },
  {
   "cell_type": "markdown",
   "metadata": {},
   "source": [
    "HIPPIE's Q&A section suggests:  \n",
    "```medium confidence (0.63 - second quartile of the HIPPIE score distribution) or high confidence (0.73 - third quartile)```"
   ]
  },
  {
   "cell_type": "code",
   "execution_count": null,
   "metadata": {
    "scrolled": true
   },
   "outputs": [],
   "source": [
    "ggplot(hippie, aes(x = :Confidence, y = \"All\")) +\n",
    "    geom_violin() +\n",
    "    geom_vline(xintercept = 0.63)"
   ]
  },
  {
   "cell_type": "code",
   "execution_count": null,
   "metadata": {
    "scrolled": true
   },
   "outputs": [],
   "source": [
    "hippie = hippie[hippie.Confidence .>= 0.63, 1:4]\n",
    "hippie = hippie[.!(ismissing.(hippie.Entrez1)), :]\n",
    "hippie = hippie[.!(ismissing.(hippie.Entrez2)), :]"
   ]
  },
  {
   "cell_type": "markdown",
   "metadata": {},
   "source": [
    "#### Construct PPI network"
   ]
  },
  {
   "cell_type": "code",
   "execution_count": null,
   "metadata": {},
   "outputs": [],
   "source": [
    "allgenes = hippie.Entrez1 ∪ hippie.Entrez2\n",
    "gene_to_ID = Dict(v => i  for (i,v) in enumerate(allgenes))\n",
    "ID_to_gene = Dict(i => v  for (i,v) in enumerate(allgenes));"
   ]
  },
  {
   "cell_type": "code",
   "execution_count": null,
   "metadata": {},
   "outputs": [],
   "source": [
    "# Duplicated links and self-edges are discarded\n",
    "G = SimpleGraph(length(allgenes))\n",
    "map(x -> add_edge!(G, Tuple(x)), eachrow(map(x -> gene_to_ID[x], Array(hippie[:, [:Entrez1, :Entrez2]]))));"
   ]
  },
  {
   "cell_type": "code",
   "execution_count": null,
   "metadata": {},
   "outputs": [],
   "source": [
    "function symbol_to_entrez_mygeneinfo(s::AbstractString)\n",
    "    prefix = \"http://mygene.info/v3/query?q=symbol:\"\n",
    "    suffix = \"&species=human&fields=entrez\"\n",
    "    rq = prefix*s*suffix\n",
    "    resRq = HTTP.get(rq)\n",
    "    entrezRQ = JSON.Parser.parse(String(resRq.body))\n",
    "    if entrezRQ[\"total\"] > 0\n",
    "        return(entrezRQ[\"hits\"][1][\"_id\"])\n",
    "    else\n",
    "        return(NaN)\n",
    "    end\n",
    "end"
   ]
  },
  {
   "cell_type": "code",
   "execution_count": null,
   "metadata": {},
   "outputs": [],
   "source": [
    "alltargets = unique(collect(Iterators.flatten(values(targets))))\n",
    "alltargets_entrez = symbol_to_entrez_mygeneinfo.(alltargets);"
   ]
  },
  {
   "cell_type": "code",
   "execution_count": null,
   "metadata": {
    "scrolled": true
   },
   "outputs": [],
   "source": [
    "alltargets_dict = Dict(k => v for (k,v) in zip(alltargets, alltargets_entrez))"
   ]
  },
  {
   "cell_type": "markdown",
   "metadata": {},
   "source": [
    "To quantify closeness of drug modules, we use the $s_{AB}$ score from Menche et al. (Science, 2015) defined as follows:\n",
    "$s_{AB} = <d_{AB}> - \\frac{<d_{AA}>+<d_{BB}>}{2}$"
   ]
  },
  {
   "cell_type": "code",
   "execution_count": null,
   "metadata": {},
   "outputs": [],
   "source": [
    "function mean_shortest_distance(cpd1::AbstractString, cpd2::AbstractString)\n",
    "    entrez1 = [gene_to_ID[parse(Int, alltargets_dict[x])] for x in targets[cpd1]]\n",
    "    entrez2 = [gene_to_ID[parse(Int, alltargets_dict[x])] for x in targets[cpd2]]\n",
    "    mean([length(a_star(G, x, y)) for x in entrez1 for y in entrez2])\n",
    "end"
   ]
  },
  {
   "cell_type": "code",
   "execution_count": null,
   "metadata": {},
   "outputs": [],
   "source": [
    "function sAB(cpd1::AbstractString, cpd2::AbstractString)\n",
    "    dAA = mean_shortest_distance(cpd1, cpd1)\n",
    "    dAB = mean_shortest_distance(cpd1, cpd2)\n",
    "    dBB = mean_shortest_distance(cpd2, cpd2)\n",
    "    return(dAB - ((dAA + dBB)/2))\n",
    "end"
   ]
  },
  {
   "cell_type": "code",
   "execution_count": null,
   "metadata": {
    "scrolled": true
   },
   "outputs": [],
   "source": [
    "pairwise_sAB = DataFrame([(x, y) for x in levels(top_moa_hit_cpd) for y in levels(top_moa_hit_cpd) if x < y]);\n",
    "pairwise_sAB.sAB = [sAB(x, y) for (x,y) in eachrow(pairwise_sAB)]\n",
    "rename!(pairwise_sAB, [\"X\", \"Y\", \"s_AB\"]);"
   ]
  },
  {
   "cell_type": "markdown",
   "metadata": {},
   "source": [
    "```\n",
    "rename!(pairwise_sAB, [\"X\", \"Y\", \"s_AB\"]);\n",
    "save(\"data/target.jld\", \"data\", pairwise_sAB)\n",
    "```"
   ]
  },
  {
   "cell_type": "code",
   "execution_count": null,
   "metadata": {},
   "outputs": [],
   "source": [
    "RCall.rcall_p(:options, rcalljl_options=Dict(:width => 1000, :height => 800))\n",
    "ggplot(pairwise_sAB, aes(x = :X, y = :Y, fill = :s_AB)) +\n",
    "    geom_tile() +\n",
    "    xlab(\"\") +\n",
    "    ylab(\"\") + \n",
    "    theme(var\"axis.text.x\" = element_text(angle = 45, hjust = 1)) +\n",
    "    RObject(nothing)"
   ]
  },
  {
   "cell_type": "code",
   "execution_count": null,
   "metadata": {
    "scrolled": true
   },
   "outputs": [],
   "source": [
    "drug_pairwise_comparison = innerjoin(pairwise_sAB, pairwise_hellinger, on = [:X, :Y]);"
   ]
  },
  {
   "cell_type": "code",
   "execution_count": null,
   "metadata": {},
   "outputs": [],
   "source": [
    "ggplot(drug_pairwise_comparison, aes(x = :distance, y = :s_AB)) +\n",
    "    geom_point() +\n",
    "    ylab(\"Drug module separation\") +\n",
    "    xlab(\"Morphological distance\") +\n",
    "    RObject(nothing)"
   ]
  },
  {
   "cell_type": "code",
   "execution_count": null,
   "metadata": {
    "scrolled": false
   },
   "outputs": [],
   "source": [
    "drug_pairwise_comparison.modules = [x < 1 ? \"< 1\" : \"> 1\" for x in drug_pairwise_comparison.s_AB]\n",
    "drug_pairwise_comparison.closeness = 1.01 .- drug_pairwise_comparison.distance\n",
    "ggplot(drug_pairwise_comparison, aes(x = :closeness, y = :modules)) +\n",
    "    geom_violin(draw_quantiles = [0.25, 0.5, 0.75], fill = \"#eeeeee\") +\n",
    "    ylab(\"Drug module separation\") +\n",
    "    xlab(\"Morphological similarity\") +\n",
    "    scale_x_log10() +\n",
    "    RObject(nothing)"
   ]
  },
  {
   "cell_type": "code",
   "execution_count": null,
   "metadata": {},
   "outputs": [],
   "source": [
    "moa_targets = Dict(k => unique(vcat([targets[cpd] for cpd in v]...)) \n",
    "                   for (k,v) in top_hits_per_moa)"
   ]
  },
  {
   "cell_type": "code",
   "execution_count": null,
   "metadata": {},
   "outputs": [],
   "source": [
    "function moa_mean_shortest_distance(cpd1::AbstractString, cpd2::AbstractString)\n",
    "    entrez1 = [gene_to_ID[parse(Int, alltargets_dict[x])] for x in moa_targets[cpd1]]\n",
    "    entrez2 = [gene_to_ID[parse(Int, alltargets_dict[x])] for x in moa_targets[cpd2]]\n",
    "    mean([length(a_star(G, x, y)) for x in entrez1 for y in entrez2])\n",
    "end"
   ]
  },
  {
   "cell_type": "code",
   "execution_count": null,
   "metadata": {
    "scrolled": true
   },
   "outputs": [],
   "source": [
    "function moa_sAB(cpd1::AbstractString, cpd2::AbstractString)\n",
    "    dAA = moa_mean_shortest_distance(cpd1, cpd1)\n",
    "    dAB = moa_mean_shortest_distance(cpd1, cpd2)\n",
    "    dBB = moa_mean_shortest_distance(cpd2, cpd2)\n",
    "    return(dAB - ((dAA + dBB)/2))\n",
    "end"
   ]
  },
  {
   "cell_type": "code",
   "execution_count": null,
   "metadata": {},
   "outputs": [],
   "source": [
    "moa_pairwise_sAB = DataFrame([(x, y) for x in keys(moa_targets) for y in keys(moa_targets) if x < y]);\n",
    "moa_pairwise_sAB.sAB = [moa_sAB(x, y) for (x,y) in eachrow(moa_pairwise_sAB)]\n",
    "rename!(moa_pairwise_sAB, [\"X\", \"Y\", \"s_AB\"]);"
   ]
  },
  {
   "cell_type": "code",
   "execution_count": null,
   "metadata": {},
   "outputs": [],
   "source": [
    "RCall.rcall_p(:options, rcalljl_options=Dict(:width => 1000, :height => 800))\n",
    "ggplot(moa_pairwise_sAB, aes(x = :X, y = :Y, fill = :s_AB)) +\n",
    "    geom_tile() +\n",
    "    xlab(\"\") +\n",
    "    ylab(\"\") + \n",
    "    theme(var\"axis.text.x\" = element_text(angle = 45, hjust = 1)) +\n",
    "    RObject(nothing)"
   ]
  },
  {
   "cell_type": "code",
   "execution_count": null,
   "metadata": {},
   "outputs": [],
   "source": [
    "moa_pairwise_comparison = innerjoin(moa_pairwise_sAB, moa_pairwise_hellinger, on = [:X, :Y]);"
   ]
  },
  {
   "cell_type": "code",
   "execution_count": null,
   "metadata": {},
   "outputs": [],
   "source": [
    "ggplot(moa_pairwise_comparison, aes(x = :distance, y = :s_AB)) +\n",
    "    geom_point() +\n",
    "    ylab(\"Drug module separation\") +\n",
    "    xlab(\"Morphological distance\") +\n",
    "    ggtitle(\"Spearman correlation: \" * \n",
    "        string(round(\n",
    "        corspearman(moa_pairwise_comparison.s_AB, moa_pairwise_comparison.distance), digits = 3))) + \n",
    "    RObject(nothing)"
   ]
  },
  {
   "cell_type": "code",
   "execution_count": null,
   "metadata": {},
   "outputs": [],
   "source": [
    "moa_pairwise_comparison.modules = [x < 0.2 ? \"< 0.2\" : \n",
    "                                   x < 0.4 ? \"< 0.4\" : \n",
    "                                   x < 0.6 ? \"< 0.6\" : \n",
    "                                   x < 0.8 ? \"< 0.8\" : \">= 0.8\" for x in moa_pairwise_comparison.s_AB]\n",
    "moa_pairwise_comparison.closeness = 1.01 .- moa_pairwise_comparison.distance\n",
    "ggplot(moa_pairwise_comparison, aes(x = :closeness, y = :modules)) +\n",
    "    geom_violin(draw_quantiles = [0.25, 0.5, 0.75], fill = \"#eeeeee\") +\n",
    "    ylab(\"Drug module separation\") +\n",
    "    xlab(\"Morphological similarity\") +\n",
    "    scale_x_log10() +\n",
    "    RObject(nothing)"
   ]
  },
  {
   "cell_type": "code",
   "execution_count": null,
   "metadata": {},
   "outputs": [],
   "source": [
    "moa_pairwise_comparison.modules = string.(round.(moa_pairwise_comparison.s_AB, digits = 1))\n",
    "moa_pairwise_comparison.closeness = 1.01 .- moa_pairwise_comparison.distance\n",
    "ggplot(moa_pairwise_comparison, aes(x = :closeness, y = :modules)) +\n",
    "    geom_boxplot(fill = \"#eeeeee\", var\"outlier.alpha\" = 0) +\n",
    "    geom_jitter(height = 0.2) +\n",
    "    ylab(\"Drug module separation\") +\n",
    "    xlab(\"Morphological similarity\") +\n",
    "    scale_x_log10() +\n",
    "    coord_flip() +\n",
    "    RObject(nothing)"
   ]
  }
 ],
 "metadata": {
  "kernelspec": {
   "display_name": "Julia 1.5.3",
   "language": "julia",
   "name": "julia-1.5"
  },
  "language_info": {
   "file_extension": ".jl",
   "mimetype": "application/julia",
   "name": "julia",
   "version": "1.5.3"
  }
 },
 "nbformat": 4,
 "nbformat_minor": 4
}
