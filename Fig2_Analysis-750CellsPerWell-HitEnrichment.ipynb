{
 "cells": [
  {
   "cell_type": "code",
   "execution_count": null,
   "metadata": {},
   "outputs": [],
   "source": [
    "using CSV, StatsBase, Statistics, DataFrames, UMAP, RCall, FreqTables\n",
    "using MultipleTesting, Random, MultivariateStats, Distributed, CategoricalArrays\n",
    "using HTTP, JSON\n",
    "using RMP"
   ]
  },
  {
   "cell_type": "code",
   "execution_count": null,
   "metadata": {},
   "outputs": [],
   "source": [
    "using Dates: now\n",
    "now()"
   ]
  },
  {
   "cell_type": "markdown",
   "metadata": {},
   "source": [
    "## R Calls"
   ]
  },
  {
   "cell_type": "code",
   "execution_count": null,
   "metadata": {},
   "outputs": [],
   "source": [
    "@rlibrary ggplot2\n",
    "@rlibrary extrafont\n",
    "@rlibrary viridis\n",
    "@rlibrary heatmaply\n",
    "@rlibrary ggrepel"
   ]
  },
  {
   "cell_type": "code",
   "execution_count": null,
   "metadata": {
    "scrolled": true
   },
   "outputs": [],
   "source": [
    "R\"\"\"\n",
    "# Used later for MCD computation\n",
    "\n",
    "library(robustbase)\n",
    "\n",
    "# Customize ggplot appearance\n",
    "\n",
    "library(ggplot2)\n",
    "library(extrafont)\n",
    "\n",
    "\n",
    "# Load extra fonts\n",
    "ttf_import(\"/tmp/.fonts\")\n",
    "loadfonts()\n",
    "\n",
    "# Change theme\n",
    "customTheme <- theme_light() + \n",
    "               theme(panel.grid.minor=element_blank(), text=element_text(size=17, family=\"Arial\", colour = \"#333333\"),\n",
    "                     line=element_line(colour = \"#333333\"), \n",
    "                     legend.background = element_rect(fill=alpha('#CCCCCC', 0.1)), legend.key = element_blank())\n",
    "\n",
    "# Change default colors\n",
    "scale_colour_continuous <- function (..., begin = 0.1, end = 0.9, direction = -1, option = \"plasma\", \n",
    "                                     type = getOption(\"ggplot2.continuous.colour\", default = \"viridis\")) {\n",
    "    switch(type, gradient = scale_colour_gradient(...), \n",
    "        viridis = scale_colour_viridis_c(option = option, begin = begin, end = end, direction = direction, ...), \n",
    "        stop(\"Unknown scale type\", call. = FALSE))\n",
    "}\n",
    "scale_color_continuous <- scale_colour_continuous\n",
    "\n",
    "scale_fill_continuous <- function (..., begin = 0.1, end = 0.9, direction = -1, option = \"plasma\", \n",
    "                                     type = getOption(\"ggplot2.continuous.colour\", default = \"viridis\")) {\n",
    "    switch(type, gradient = scale_fill_gradient(...), \n",
    "        viridis = scale_fill_viridis_c(option = option, begin = begin, end = end, direction = direction, ...), \n",
    "        stop(\"Unknown scale type\", call. = FALSE))\n",
    "\n",
    "}\n",
    "\n",
    "cemm_pal = colorRampPalette(c(\"#5A463C\", \"#008CAD\", \"#40B9D4\", \"#D4ECF2\", \"#D2323C\", \"#F8B100\", \"#DFDC00\"))\n",
    "scale_fill_discrete <- function (..., type = \"CeMM\", h = c(0, 360) + 15, c = 100, l = 65, h.start = 0, \n",
    "    direction = 1, na.value = \"grey50\", aesthetics = \"fill\") \n",
    "{\n",
    "    if (type == \"CeMM\"){\n",
    "        discrete_scale(aesthetics, \"CeMM\", cemm_pal, na.value = na.value, ...)\n",
    "    } else {\n",
    "        discrete_scale(aesthetics, \"hue\", hue_pal(h, c, l, h.start, \n",
    "            direction), na.value = na.value, ...)\n",
    "    }\n",
    "}\n",
    "\n",
    "scale_color_discrete <- function (..., type = \"CeMM\", h = c(0, 360) + 15, c = 100, l = 65, h.start = 0, \n",
    "    direction = 1, na.value = \"grey50\", aesthetics = \"colour\") {\n",
    "    if (type == \"CeMM\"){\n",
    "        discrete_scale(aesthetics, \"CeMM\", cemm_pal, na.value = na.value, ...)\n",
    "    } else {\n",
    "        discrete_scale(aesthetics, \"hue\", scales::hue_pal(h, c, l, h.start, \n",
    "            direction), na.value = na.value, ...)\n",
    "    }\n",
    "}\n",
    "scale_colour_discrete <- scale_color_discrete\n",
    "\n",
    "noGridTheme <- function(...){\n",
    "    theme(panel.grid.major=element_blank(), axis.text.x=element_text(size=12), axis.text.y=element_text(size=12),\n",
    "                      axis.line=element_line(color=\"#333333\", size = 0.2), panel.border = element_blank(), ...)\n",
    "}\n",
    "\n",
    "darkTheme <- function(...){\n",
    "    theme(panel.background = element_rect(fill = '#333333'), plot.background = element_rect(fill = '#333333'), \n",
    "          axis.line=element_line(color=\"#CCCCCC\", size = 0.2), \n",
    "          text=element_text(size=17, family=\"Arial\", colour = \"#CCCCCC\"),\n",
    "          line=element_line(colour = \"#CCCCCC\"))\n",
    "}\n",
    "\n",
    "theme_set(customTheme)\n",
    "\n",
    "options(repr.plot.width=10, repr.plot.height=10)\n",
    "\"\"\""
   ]
  },
  {
   "cell_type": "markdown",
   "metadata": {},
   "source": [
    "## Load pre-computed statistical distances to DMSO"
   ]
  },
  {
   "cell_type": "code",
   "execution_count": null,
   "metadata": {
    "scrolled": true
   },
   "outputs": [],
   "source": [
    "RMPV = CSV.read(\"data/DrugScreen/RMPV.csv\", DataFrame) "
   ]
  },
  {
   "cell_type": "code",
   "execution_count": null,
   "metadata": {
    "scrolled": true
   },
   "outputs": [],
   "source": [
    "RMPV.Condition[RMPV.RMPV .< 0.05]"
   ]
  },
  {
   "cell_type": "markdown",
   "metadata": {},
   "source": [
    "## Get annotations"
   ]
  },
  {
   "cell_type": "code",
   "execution_count": null,
   "metadata": {},
   "outputs": [],
   "source": [
    "salt_to_remove = [\" maleate\", \" hydrochloride\", \" nitrate\", \n",
    "                  \" dihydrochloride\", \" chloride\", \" sulfate\", \n",
    "                  \" hydrate\", \" mesylate\", \" oxalate\", \" salt\",\n",
    "                  \" from Penicillium brefeldianum\", \" monohydrate\",\n",
    "                  \" trifluoroacetate\", \" acetate\", \" isethionate\",\n",
    "                  \" hemisulfate\", \" angular\", \" sodium\", \" fumarate\",\n",
    "                  \" methanesulfonate\", \" hemihydrate\", \" (MW = 374.83)\"]\n",
    "\n",
    "\"\"\"Other compounds might include salts but are anyway not found in the LINCS database at all:\n",
    "    AC-93253 iodide\n",
    "    N-p-Tosyl-L-phenylalanine chloromethyl ketone\n",
    "    4-(2-Aminoethyl)benzenesulfonyl fluoride hydrochloride\n",
    "    UNC0379 trifluoroacetate salt\"\"\"\n",
    "\n",
    "salt_dict = Dict(s => s\"\" for s in salt_to_remove)\n",
    "salt_dict[\" \"] = s\"-\";"
   ]
  },
  {
   "cell_type": "code",
   "execution_count": null,
   "metadata": {},
   "outputs": [],
   "source": [
    "\"\"\"\n",
    "This function parse a list of compound canonical IDs and extract mechanism of actions (MOA)\n",
    "annotated in the LINCS perturbation database when provided. Returns a list of annotates MOAs\n",
    "See https://clue.io/developer-resources#apisection\n",
    "\"\"\"\n",
    "function getMOA(cpd::String)\n",
    "    user_key = \"3a73a242e38f9fb6375a1100354e4107\"\n",
    "    rootURL = \"https://api.clue.io/api/perts?filter={\\\"where\\\":{\\\"pert_iname\\\":\\\"\"\n",
    "    typeURL = \"\\\"},\\\"fields\\\":{\\\"moa\\\":true}}&user_key=\"\n",
    "    # NB: case-dependent. Dashes are handled. Spaces are usually replaced by dashes.\n",
    "    \n",
    "    cpd_no_salt = reduce(replace, salt_dict, init=cpd)\n",
    "    \n",
    "    rq = rootURL * lowercase(cpd_no_salt) * typeURL * user_key\n",
    "    \n",
    "    try\n",
    "        resRq = HTTP.get(rq)\n",
    "        moaRQ = JSON.Parser.parse(String(resRq.body))[1]\n",
    "        return(moaRQ[\"moa\"])\n",
    "    catch e\n",
    "        if isa(e, BoundsError)\n",
    "            rq = rootURL * uppercase(cpd_no_salt) * typeURL * user_key\n",
    "            try\n",
    "                resRq = HTTP.get(rq)\n",
    "                moaRQ = JSON.Parser.parse(String(resRq.body))[1]\n",
    "                return(moaRQ[\"moa\"])\n",
    "            catch e\n",
    "                if isa(e, BoundsError)\n",
    "                println(cpd*\" does not have an MOA annotation.\")\n",
    "                end\n",
    "            end\n",
    "        elseif isa(e, HTTP.ExceptionRequest.StatusError)\n",
    "            println(cpd*\" raises a 502 error.\")\n",
    "        end\n",
    "        return()\n",
    "    end\n",
    "end"
   ]
  },
  {
   "cell_type": "code",
   "execution_count": null,
   "metadata": {
    "scrolled": true
   },
   "outputs": [],
   "source": [
    "MOA = Dict()\n",
    "for cpd in RMPV.Condition\n",
    "    moa = getMOA(cpd)\n",
    "    if length(moa) > 0\n",
    "        MOA[cpd] = moa\n",
    "    end\n",
    "end"
   ]
  },
  {
   "cell_type": "code",
   "execution_count": null,
   "metadata": {},
   "outputs": [],
   "source": [
    "cpd_list = Set(RMPV.Condition)\n",
    "map(x -> pop!(cpd_list, x), collect(keys(MOA)));"
   ]
  },
  {
   "cell_type": "code",
   "execution_count": null,
   "metadata": {
    "scrolled": true
   },
   "outputs": [],
   "source": [
    "for cpd in cpd_list\n",
    "    moa = getMOA(cpd)\n",
    "    if length(moa) > 0\n",
    "        MOA[cpd] = moa\n",
    "    end\n",
    "end"
   ]
  },
  {
   "cell_type": "code",
   "execution_count": null,
   "metadata": {},
   "outputs": [],
   "source": [
    "length(MOA)"
   ]
  },
  {
   "cell_type": "code",
   "execution_count": null,
   "metadata": {
    "scrolled": true
   },
   "outputs": [],
   "source": [
    "MOA"
   ]
  },
  {
   "cell_type": "markdown",
   "metadata": {},
   "source": [
    "You can save the MOA dictionary for later use:\n",
    "```julia\n",
    "using HDF5, JLD\n",
    "save(\"Data/MOA.jld\", \"data\", MOA)\n",
    "MOA = load(\"Data/MOA.jld\")[\"data\"]\n",
    "```"
   ]
  },
  {
   "cell_type": "code",
   "execution_count": null,
   "metadata": {},
   "outputs": [],
   "source": [
    "using HDF5, JLD\n",
    "MOA = load(\"Data/MOA.jld\")[\"data\"]"
   ]
  },
  {
   "cell_type": "code",
   "execution_count": null,
   "metadata": {},
   "outputs": [],
   "source": [
    "freqMOA = sort(freqtable(vcat(collect(values(MOA))...)), rev = true);"
   ]
  },
  {
   "cell_type": "code",
   "execution_count": null,
   "metadata": {},
   "outputs": [],
   "source": [
    "hitMOA = Dict(x => MOA[x] for x in RMPV.Condition[RMPV.RMPV .< 0.1] if x in keys(MOA))\n",
    "freqHitMOA = sort(freqtable(vcat(collect(values(hitMOA))...)), rev = true);"
   ]
  },
  {
   "cell_type": "code",
   "execution_count": null,
   "metadata": {
    "scrolled": false
   },
   "outputs": [],
   "source": [
    "dfMOA = DataFrame()\n",
    "dfMOA.MOA = repeat(names(freqMOA)[1][freqMOA .> 3], 2)\n",
    "dfMOA.Hits = repeat([true, false], inner = Int(length(dfMOA.MOA)/2))\n",
    "dfMOA.Count = zeros(length(dfMOA.MOA));"
   ]
  },
  {
   "cell_type": "code",
   "execution_count": null,
   "metadata": {},
   "outputs": [],
   "source": [
    "for row in eachrow(dfMOA)\n",
    "    if row.Hits\n",
    "        if row.MOA in names(freqHitMOA)[1]\n",
    "            row.Count = Dict(freqHitMOA)[row.MOA]\n",
    "        end\n",
    "    else\n",
    "        if row.MOA in names(freqHitMOA)[1]\n",
    "            row.Count = Dict(freqMOA)[row.MOA] - Dict(freqHitMOA)[row.MOA]\n",
    "        else\n",
    "            row.Count = Dict(freqMOA)[row.MOA]\n",
    "        end\n",
    "        \n",
    "        \n",
    "    end\n",
    "end\n",
    "dfMOA.MOA = CategoricalArray{String,1}(dfMOA.MOA, levels = reverse(names(freqMOA)[1][freqMOA .> 3]), ordered=true);"
   ]
  },
  {
   "cell_type": "code",
   "execution_count": null,
   "metadata": {},
   "outputs": [],
   "source": [
    "gp = ggplot(dfMOA, aes(x = :MOA, y = :Count, fill = :Hits)) + \n",
    "     geom_bar(position=\"stack\", stat=\"identity\") + coord_flip() + \n",
    "     theme(var\"legend.position\"=\"bottom\")"
   ]
  },
  {
   "cell_type": "code",
   "execution_count": null,
   "metadata": {
    "scrolled": true
   },
   "outputs": [],
   "source": [
    "ggsave(\"Fig/HitEnrichment.pdf\", gp)"
   ]
  },
  {
   "cell_type": "markdown",
   "metadata": {},
   "source": [
    "## UMAP of top MOAs"
   ]
  },
  {
   "cell_type": "code",
   "execution_count": null,
   "metadata": {
    "scrolled": true
   },
   "outputs": [],
   "source": [
    "cpdTopMOA = Set([k for (k,v) in MOA for m in v if m in names(freqMOA)[1][freqMOA .> 3]])"
   ]
  },
  {
   "cell_type": "markdown",
   "metadata": {},
   "source": [
    ".\n",
    "```\n",
    "[\"Serotonin receptor antagonist\"\n",
    "\"Serotonin reuptake inhibitor\"\n",
    "\"Tubulin inhibitor\"\n",
    "```"
   ]
  },
  {
   "cell_type": "markdown",
   "metadata": {},
   "source": [
    "\n",
    "```\n",
    "@0.05 FDR\n",
    "Norepinephrine reuptake inhibitor\n",
    "Tubulin inhibitor\n",
    "Calcium channel blocker\n",
    "```"
   ]
  },
  {
   "cell_type": "markdown",
   "metadata": {},
   "source": [
    "\n",
    "```\n",
    "@0.1 FDR\n",
    "Tubulin inhibitor\n",
    "Dopamine receptor antagonist\n",
    "Calcium channel blocker\n",
    "```"
   ]
  },
  {
   "cell_type": "markdown",
   "metadata": {},
   "source": [
    "Is there overlap in drugs? Overlap in morphological space? Map of the 9 Compounds."
   ]
  },
  {
   "cell_type": "code",
   "execution_count": null,
   "metadata": {
    "scrolled": true
   },
   "outputs": [],
   "source": [
    "freqHitMOA"
   ]
  },
  {
   "cell_type": "markdown",
   "metadata": {},
   "source": [
    "### Load aggregated data"
   ]
  },
  {
   "cell_type": "code",
   "execution_count": null,
   "metadata": {
    "scrolled": true
   },
   "outputs": [],
   "source": [
    "aggregatedData = CSV.read(\"data/aggregatedData_750cells.csv\", DataFrame);"
   ]
  },
  {
   "cell_type": "markdown",
   "metadata": {},
   "source": [
    "### Transform aggregated data - Normalization\n",
    "We want to focus on variables that are changing more overall than inside of reference condition (untreated WT)."
   ]
  },
  {
   "cell_type": "code",
   "execution_count": null,
   "metadata": {},
   "outputs": [],
   "source": [
    "expAgg = Experiment(aggregatedData, description = \"Median values for aggregated FOV measurements\")"
   ]
  },
  {
   "cell_type": "code",
   "execution_count": null,
   "metadata": {},
   "outputs": [],
   "source": [
    "filters = Array{RMP.AbstractSelector,1}()\n",
    "# Remove metadata\n",
    "strToRemove = [\"Metadata_Well\", \"CompoundName\", \"Metadata_Field\", \"Metadata_Row\", \"Metadata_Column\"]\n",
    "push!(filters, NameSelector(x -> !any(occursin.(strToRemove, String(x)))))\n",
    "# Remove constant columns\n",
    "push!(filters, Selector(x -> mad(x, normalize = true) != 0, description = \"Remove constant features\"));\n",
    "push!(filters, Selector(x -> mad(x, normalize = true) != 0, \n",
    "                        subset = x -> x.CompoundName .== \"DMSO\", \n",
    "                        description = \"Remove features constant for reference\"))\n",
    "selectFeaturesExperiment!(expAgg, filters)"
   ]
  },
  {
   "cell_type": "code",
   "execution_count": null,
   "metadata": {
    "scrolled": true
   },
   "outputs": [],
   "source": [
    "expTransformed = deepcopy(expAgg)\n",
    "logtransform!(expTransformed)\n",
    "expTransformed.description = \"Transformed values for aggregated FOV measurements\""
   ]
  },
  {
   "cell_type": "markdown",
   "metadata": {},
   "source": [
    "Here we apply a correction based on the specific details of the experimental design:\n",
    "All rows and columns include DMSO (negative) controls and we normalize all values based on these matchings controls (same row and column).  \n",
    "\n",
    "This examplifies how to directly modify the data of an `Experiment` object.  \n",
    "\n",
    "NB: One might want to check that more iterations are not needed (cf. Median-polish method)."
   ]
  },
  {
   "cell_type": "code",
   "execution_count": null,
   "metadata": {
    "scrolled": true
   },
   "outputs": [],
   "source": [
    "# Normalize on matching DMSO wells median values\n",
    "\n",
    "# Entries in both data frames are matching\n",
    "@assert nrow(aggregatedData) == nrow(getdata(expTransformed))\n",
    "\n",
    "# Copy data before correction\n",
    "ndf = getdata(expTransformed)\n",
    "\n",
    "for (i, (fx, fy)) in enumerate(eachrow(aggregatedData[:,[:Metadata_Row, :Metadata_Column]])) \n",
    "    c1 = aggregatedData.CompoundName .== \"DMSO\"\n",
    "    c2 = aggregatedData.Metadata_Row .== fx\n",
    "    c3 = aggregatedData.Metadata_Column .== fy\n",
    "    @assert sum((c1 .& (c2 .| c3))) > 0\n",
    "    expTransformed.data[i:i, expTransformed.selectedFeatures] .-= \n",
    "        mapcols(median, ndf[(c1 .& (c2 .| c3)),:]) \n",
    "end"
   ]
  },
  {
   "cell_type": "code",
   "execution_count": null,
   "metadata": {
    "scrolled": true
   },
   "outputs": [],
   "source": [
    "compare_in(x,y) = x in y\n",
    "Broadcast.broadcasted(::typeof(compare_in), x, y) = broadcast(in, x, Ref(y)) \n",
    "# We now only keep compounds having one of the most common MOA\n",
    "filterEntriesExperiment!(expTransformed, Filter(cpdTopMOA, :CompoundName, compare = compare_in));"
   ]
  },
  {
   "cell_type": "markdown",
   "metadata": {},
   "source": [
    "## Visualization"
   ]
  },
  {
   "cell_type": "code",
   "execution_count": null,
   "metadata": {
    "scrolled": true
   },
   "outputs": [],
   "source": [
    "Random.seed!(3895)\n",
    "umTPM = umap(expTransformed)\n",
    "umTPM = convert(DataFrame, umTPM')\n",
    "names!(umTPM, [:UMAP1, :UMAP2]);\n",
    "umTPM.Compound = expTransformed.data.CompoundName[expTransformed.selectedEntries]\n",
    "umTPM.MOA = CategoricalArray([MOA[x] for x in umTPM.Compound]);"
   ]
  },
  {
   "cell_type": "code",
   "execution_count": null,
   "metadata": {
    "scrolled": true
   },
   "outputs": [],
   "source": [
    "umTPM"
   ]
  },
  {
   "cell_type": "code",
   "execution_count": null,
   "metadata": {},
   "outputs": [],
   "source": [
    "ggplot(umTPM, aes(:UMAP1, :UMAP2)) + \n",
    "    geom_point(aes(color = :MOA), alpha = 0.8) +\n",
    "    coord_fixed() + \n",
    "    theme(var\"legend.position\"=\"bottom\", var\"legend.spacing.x\" = unit(0.35, \"cm\"), \n",
    "    var\"legend.spacing.y\" = unit(0, \"cm\")) + \n",
    "    guides(color=guide_legend(nrow=3,byrow=true))"
   ]
  },
  {
   "cell_type": "markdown",
   "metadata": {},
   "source": [
    "NB: Morphological distance between MOA?\n",
    "Start with 2 MOAs that could be similar and 2 that should be distinct."
   ]
  },
  {
   "cell_type": "code",
   "execution_count": null,
   "metadata": {},
   "outputs": [],
   "source": [
    "\"Serotonin receptor antagonist\"\n",
    "\"Serotonin reuptake inhibitor\"\n",
    "\"Tubulin inhibitor\""
   ]
  },
  {
   "cell_type": "markdown",
   "metadata": {},
   "source": [
    "## MOA similarity network"
   ]
  },
  {
   "cell_type": "markdown",
   "metadata": {},
   "source": [
    "### Based on median cosine similarity at the image-level."
   ]
  },
  {
   "cell_type": "code",
   "execution_count": null,
   "metadata": {
    "scrolled": true
   },
   "outputs": [],
   "source": [
    "# We focus on MOAs with at least 2 compounds\n",
    "selected_moa = names(freqHitMOA)[1][freqHitMOA .>= 2]\n",
    "selected_cpd = [k for (k,v) in hitMOA if any([x in v for x in selected_moa])]"
   ]
  },
  {
   "cell_type": "code",
   "execution_count": null,
   "metadata": {
    "scrolled": true
   },
   "outputs": [],
   "source": [
    "expTransformed = deepcopy(expAgg)\n",
    "logtransform!(expTransformed)\n",
    "expTransformed.description = \"Transformed values for aggregated FOV measurements\""
   ]
  },
  {
   "cell_type": "markdown",
   "metadata": {},
   "source": [
    "Here we apply a correction based on the specific details of the experimental design:\n",
    "All rows and columns include DMSO (negative) controls and we normalize all values based on these matchings controls (same row and column).  \n",
    "\n",
    "This examplifies how to directly modify the data of an `Experiment` object.  \n",
    "\n",
    "NB: One might want to check that more iterations are not needed (cf. Median-polish method)."
   ]
  },
  {
   "cell_type": "code",
   "execution_count": null,
   "metadata": {
    "scrolled": true
   },
   "outputs": [],
   "source": [
    "# Normalize on matching DMSO wells median values\n",
    "\n",
    "# Entries in both data frames are matching\n",
    "@assert nrow(aggregatedData) == nrow(getdata(expTransformed))\n",
    "\n",
    "# Copy data before correction\n",
    "ndf = getdata(expTransformed)\n",
    "\n",
    "for (i, (fx, fy)) in enumerate(eachrow(aggregatedData[:,[:Metadata_Row, :Metadata_Column]])) \n",
    "    c1 = aggregatedData.CompoundName .== \"DMSO\"\n",
    "    c2 = aggregatedData.Metadata_Row .== fx\n",
    "    c3 = aggregatedData.Metadata_Column .== fy\n",
    "    @assert sum((c1 .& (c2 .| c3))) > 0\n",
    "    expTransformed.data[i:i, expTransformed.selectedFeatures] .-= \n",
    "        mapcols(median, ndf[(c1 .& (c2 .| c3)),:]) \n",
    "end"
   ]
  },
  {
   "cell_type": "code",
   "execution_count": null,
   "metadata": {
    "scrolled": true
   },
   "outputs": [],
   "source": [
    "compare_in(x,y) = x in y\n",
    "Broadcast.broadcasted(::typeof(compare_in), x, y) = broadcast(in, x, Ref(y)) \n",
    "# We now only keep compounds having one of the most common MOA\n",
    "filterEntriesExperiment!(expTransformed, Filter(selected_cpd, :CompoundName, compare = compare_in));"
   ]
  },
  {
   "cell_type": "code",
   "execution_count": null,
   "metadata": {
    "scrolled": true
   },
   "outputs": [],
   "source": [
    "# Image cosine similarities\n",
    "imgCosSim = 1 .- pairwise(CosineDist(), Array(getdata(expTransformed))');"
   ]
  },
  {
   "cell_type": "code",
   "execution_count": null,
   "metadata": {},
   "outputs": [],
   "source": [
    "# Store MOA cosine similarity\n",
    "moaCosSim = Dict()\n",
    "cmp_names = expTransformed.data[expTransformed.selectedEntries, :CompoundName] \n",
    "# For all combinations (avoiding duplicates)\n",
    "for (moa1, moa2) in [(x,y) for (x,y) in Iterators.product(selected_moa, selected_moa) if x >= y]\n",
    "    # Get compounds and corresponding images for each MOA\n",
    "    cmp_moa1 = [k for (k,v) in hitMOA if moa1 in v]\n",
    "    ind_moa1 = findall([x in cmp_moa1 for x in cmp_names])\n",
    "    cmp_moa2 = [k for (k,v) in hitMOA if moa2 in v]\n",
    "    ind_moa2 = findall([x in cmp_moa2 for x in cmp_names])\n",
    "    # Take median value\n",
    "    moaCosSim[(moa1, moa2)] = median([imgCosSim[x...] for x in Iterators.product(ind_moa1, ind_moa2)])\n",
    "end"
   ]
  },
  {
   "cell_type": "code",
   "execution_count": null,
   "metadata": {},
   "outputs": [],
   "source": [
    "# Display for MOA self-similarity\n",
    "for moa in selected_moa\n",
    "    println(moa, \": \", moaCosSim[(moa, moa)])\n",
    "end"
   ]
  },
  {
   "cell_type": "code",
   "execution_count": null,
   "metadata": {},
   "outputs": [],
   "source": [
    "# Get all link with values higher than x\n",
    "edgesMoaNet = Dict(k => v for (k,v) in moaCosSim if v > 0.35)\n",
    "println(length(unique([y for x in keys(edgesMoaNet) for y in x ])))\n",
    "length(edgesMoaNet)"
   ]
  },
  {
   "cell_type": "code",
   "execution_count": null,
   "metadata": {
    "scrolled": true
   },
   "outputs": [],
   "source": [
    "moaToInt = Dict(x => i for (i, x) in enumerate(selected_moa))\n",
    "g = SimpleWeightedGraph(11)\n",
    "# NB: self-edges are kept\n",
    "[add_edge!(g, moaToInt[k[1]], moaToInt[k[2]], v) for (k,v) in edgesMoaNet];"
   ]
  },
  {
   "cell_type": "code",
   "execution_count": null,
   "metadata": {},
   "outputs": [],
   "source": [
    "moaToInt"
   ]
  },
  {
   "cell_type": "code",
   "execution_count": null,
   "metadata": {},
   "outputs": [],
   "source": [
    "savegraph(\"Fig/MOA_similarity_per_image.gml\", g, \"MOA_similarity\", GraphIO.GML.GMLFormat())"
   ]
  },
  {
   "cell_type": "markdown",
   "metadata": {},
   "source": [
    "### Based on cosine similarity of median profile at the MOA-level."
   ]
  },
  {
   "cell_type": "code",
   "execution_count": null,
   "metadata": {},
   "outputs": [],
   "source": [
    "cmp_moas = [MOA[x] for x in cmp_names];"
   ]
  },
  {
   "cell_type": "code",
   "execution_count": null,
   "metadata": {},
   "outputs": [],
   "source": [
    "\"\"\" For a given `moa`, return the median profile across all\n",
    "    selected images.\n",
    "\"\"\"\n",
    "function moaMedProfile(moa::String)\n",
    "    moa_ind = [moa in cm for cm in cmp_moas]\n",
    "    return(map(median, eachcol(getdata(expTransformed)[moa_ind,:])))\n",
    "end"
   ]
  },
  {
   "cell_type": "code",
   "execution_count": null,
   "metadata": {
    "scrolled": true
   },
   "outputs": [],
   "source": [
    "moaProf = hcat(map(moaMedProfile, selected_moa)...)\n",
    "moaCosSim2 = 1 .- pairwise(CosineDist(), moaProf);"
   ]
  },
  {
   "cell_type": "code",
   "execution_count": null,
   "metadata": {},
   "outputs": [],
   "source": [
    "# Get all link with values higher than x\n",
    "edgesMoaNet2 = Dict((x,y) => moaCosSim2[x,y] for x in 1:11 for y in 1:11 if (x < y) & (moaCosSim2[x,y] > 0.74))\n",
    "println(length(unique([y for x in keys(edgesMoaNet2) for y in x ])))\n",
    "length(edgesMoaNet2)"
   ]
  },
  {
   "cell_type": "code",
   "execution_count": null,
   "metadata": {},
   "outputs": [],
   "source": [
    "g = SimpleWeightedGraph(11)\n",
    "[add_edge!(g, k[1], k[2], v) for (k,v) in edgesMoaNet2];"
   ]
  },
  {
   "cell_type": "markdown",
   "metadata": {},
   "source": [
    "We export \"manually\" to GML format a the GraphIO library does not export edge weights."
   ]
  },
  {
   "cell_type": "code",
   "execution_count": null,
   "metadata": {},
   "outputs": [],
   "source": [
    "io = open(\"Fig/MOA_similarity_per_moa.gml\", \"w\")\n",
    "\n",
    "str_pre = \"\"\"graph\n",
    "[\n",
    "label \"MOA_similarity\" \"\"\"\n",
    "\n",
    "write(io, str_pre);"
   ]
  },
  {
   "cell_type": "code",
   "execution_count": null,
   "metadata": {
    "scrolled": true
   },
   "outputs": [],
   "source": [
    "str1 = \"\\n\tnode\\n\t[\\n\t\tid \"\n",
    "str2 = \"\\n\t\tmoa \\\"\"\n",
    "str3 = \"\\\"\\n\t]\"\n",
    "for (k,v) in moaToInt\n",
    "    str_moa = str1 * string(v) * str2 * k * str3\n",
    "    write(io, str_moa)\n",
    "end"
   ]
  },
  {
   "cell_type": "code",
   "execution_count": null,
   "metadata": {},
   "outputs": [],
   "source": [
    "str1 = \"\\n\tedge\\n\t[\\n\t\tsource \"\n",
    "str2 = \"\\n\t\ttarget \"\n",
    "str3 = \"\\n\t\tweight \"\n",
    "str4 = \"\\n\t]\"\n",
    "\n",
    "for e in edges(g)\n",
    "    str_moa = str1 * string(e.src) * str2 *\n",
    "        string(e.dst) * str3 * string(e.weight) * str4\n",
    "    write(io, str_moa)\n",
    "end"
   ]
  },
  {
   "cell_type": "code",
   "execution_count": null,
   "metadata": {},
   "outputs": [],
   "source": [
    "str_post = \"\\n]\\n\"\n",
    "write(io, str_post);"
   ]
  },
  {
   "cell_type": "code",
   "execution_count": null,
   "metadata": {},
   "outputs": [],
   "source": [
    "close(io);"
   ]
  },
  {
   "cell_type": "markdown",
   "metadata": {},
   "source": [
    "## UMAP of 3 hits per top 3 hit MOAs"
   ]
  },
  {
   "cell_type": "code",
   "execution_count": null,
   "metadata": {
    "scrolled": true
   },
   "outputs": [],
   "source": [
    "selected_moa = [\"Tubulin inhibitor\", \"Dopamine receptor antagonist\", \"Calcium channel blocker\"]\n",
    "selected_cpd = [k for (k,v) in hitMOA if any([x in v for x in selected_moa])]"
   ]
  },
  {
   "cell_type": "code",
   "execution_count": null,
   "metadata": {},
   "outputs": [],
   "source": [
    "[MOA[x] for x in selected_cpd]"
   ]
  },
  {
   "cell_type": "code",
   "execution_count": null,
   "metadata": {},
   "outputs": [],
   "source": [
    "selected_cpd"
   ]
  },
  {
   "cell_type": "code",
   "execution_count": null,
   "metadata": {
    "scrolled": true
   },
   "outputs": [],
   "source": [
    "expTransformed = deepcopy(expAgg)\n",
    "logtransform!(expTransformed)\n",
    "expTransformed.description = \"Transformed values for aggregated FOV measurements\""
   ]
  },
  {
   "cell_type": "markdown",
   "metadata": {},
   "source": [
    "Here we apply a correction based on the specific details of the experimental design:\n",
    "All rows and columns include DMSO (negative) controls and we normalize all values based on these matchings controls (same row and column).  \n",
    "\n",
    "This examplifies how to directly modify the data of an `Experiment` object.  \n",
    "\n",
    "NB: One might want to check that more iterations are not needed (cf. Median-polish method)."
   ]
  },
  {
   "cell_type": "code",
   "execution_count": null,
   "metadata": {
    "scrolled": true
   },
   "outputs": [],
   "source": [
    "# Normalize on matching DMSO wells median values\n",
    "\n",
    "# Entries in both data frames are matching\n",
    "@assert nrow(aggregatedData) == nrow(getdata(expTransformed))\n",
    "\n",
    "# Copy data before correction\n",
    "ndf = getdata(expTransformed)\n",
    "\n",
    "for (i, (fx, fy)) in enumerate(eachrow(aggregatedData[:,[:Metadata_Row, :Metadata_Column]])) \n",
    "    c1 = aggregatedData.CompoundName .== \"DMSO\"\n",
    "    c2 = aggregatedData.Metadata_Row .== fx\n",
    "    c3 = aggregatedData.Metadata_Column .== fy\n",
    "    @assert sum((c1 .& (c2 .| c3))) > 0\n",
    "    expTransformed.data[i:i, expTransformed.selectedFeatures] .-= \n",
    "        mapcols(median, ndf[(c1 .& (c2 .| c3)),:]) \n",
    "end"
   ]
  },
  {
   "cell_type": "code",
   "execution_count": null,
   "metadata": {
    "scrolled": true
   },
   "outputs": [],
   "source": [
    "compare_in(x,y) = x in y\n",
    "Broadcast.broadcasted(::typeof(compare_in), x, y) = broadcast(in, x, Ref(y)) \n",
    "# We now only keep compounds having one of the most common MOA\n",
    "filterEntriesExperiment!(expTransformed, Filter(selected_cpd, :CompoundName, compare = compare_in));"
   ]
  },
  {
   "cell_type": "code",
   "execution_count": null,
   "metadata": {
    "scrolled": true
   },
   "outputs": [],
   "source": [
    "Random.seed!(3895)\n",
    "umTPM = umap(expTransformed, 2, n_neighbors = 5, spread = 1, min_dist = 0.5)\n",
    "umTPM = convert(DataFrame, umTPM')\n",
    "names!(umTPM, [:UMAP1, :UMAP2]);\n",
    "umTPM.Compound = expTransformed.data.CompoundName[expTransformed.selectedEntries]\n",
    "umTPM.allMOAs = [MOA[x] for x in umTPM.Compound]\n",
    "umTPM.MOA = [length(m) > 1 ? m[2] : m[1] for m in umTPM.allMOAs];"
   ]
  },
  {
   "cell_type": "code",
   "execution_count": null,
   "metadata": {},
   "outputs": [],
   "source": [
    "umTPM.Compound = replace.(umTPM.Compound, \" dihydrochloride\" => s\"\")\n",
    "umTPM.Compound = replace.(umTPM.Compound, \" hydrochloride\" => s\"\");"
   ]
  },
  {
   "cell_type": "code",
   "execution_count": null,
   "metadata": {},
   "outputs": [],
   "source": [
    "# Order levels by MOA and alphabetical order\n",
    "cpd_lvl = [\"Albendazole\", \"Nocodazole\", \"Vinblastine\", \n",
    "           \"Domperidone\", \"Pimozide\", \"Triflupromazine\", \n",
    "           \"Cilnidipine\", \"Flunarizine\", \"Nisoldipine\"]\n",
    "umTPM.Compound = CategoricalArray(umTPM.Compound, levels = cpd_lvl, ordered = true);"
   ]
  },
  {
   "cell_type": "code",
   "execution_count": null,
   "metadata": {},
   "outputs": [],
   "source": [
    "# Highlight MOAs of each compound\n",
    "moa_palette = [\"#5A463C\",\"#8B726A\",\"#BDA7A3\",\"#463C5A\",\"#7D768B\",\"#B5B1BD\",\"#3C5A46\",\"#768B7D\",\"#B1BDB5\"];"
   ]
  },
  {
   "cell_type": "code",
   "execution_count": null,
   "metadata": {},
   "outputs": [],
   "source": [
    "moa_palette = [\"#FF1998\",\"#FF5FB9\",\"#FFA3D7\",\"#1B9CFF\",\"#5FB9FF\",\"#A3D7FF\",\"#9CFF1B\",\"#B9FF5F\",\"#D7FFA3\"];"
   ]
  },
  {
   "cell_type": "code",
   "execution_count": null,
   "metadata": {
    "scrolled": false
   },
   "outputs": [],
   "source": [
    "gp = ggplot(umTPM, aes(:UMAP1, :UMAP2)) + \n",
    "    geom_point(aes(color = :Compound), alpha = 1) +\n",
    "    coord_fixed() + scale_color_manual(values = moa_palette) + \n",
    "    theme(var\"legend.position\"=\"bottom\", var\"legend.spacing.x\" = unit(0.35, \"cm\"), \n",
    "    var\"legend.spacing.y\" = unit(0, \"cm\")) + \n",
    "    guides(color=guide_legend(nrow=3,byrow=false))"
   ]
  },
  {
   "cell_type": "code",
   "execution_count": null,
   "metadata": {},
   "outputs": [],
   "source": [
    "ggsave(\"Fig/topMOA_UMAP2.pdf\", gp)"
   ]
  }
 ],
 "metadata": {
  "kernelspec": {
   "display_name": "Julia 1.5.3",
   "language": "julia",
   "name": "julia-1.5"
  },
  "language_info": {
   "file_extension": ".jl",
   "mimetype": "application/julia",
   "name": "julia",
   "version": "1.5.3"
  }
 },
 "nbformat": 4,
 "nbformat_minor": 4
}
