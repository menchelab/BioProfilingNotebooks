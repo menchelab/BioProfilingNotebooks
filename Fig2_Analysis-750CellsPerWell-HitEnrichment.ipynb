{
 "cells": [
  {
   "cell_type": "markdown",
   "metadata": {},
   "source": [
    "using Revise"
   ]
  },
  {
   "cell_type": "markdown",
   "metadata": {},
   "source": [
    "```julia\n",
    "import Pkg; \n",
    "Pkg.add(\"HTTP\")\n",
    "Pkg.add(\"JSON\")\n",
    "Pkg.add(\"JLD\")\n",
    "Pkg.add(\"FreqTables\")\n",
    "Pkg.update(\"DataStructures\")\n",
    "```"
   ]
  },
  {
   "cell_type": "code",
   "execution_count": null,
   "metadata": {},
   "outputs": [],
   "source": [
    "import Pkg; \n",
    "Pkg.add(\"Distances\")\n",
    "using Distances\n",
    "Pkg.add(\"LightGraphs\")\n",
    "Pkg.add(\"SimpleWeightedGraphs\")\n",
    "Pkg.add(\"GraphIO\")\n",
    "Pkg.add(\"ParserCombinator\")\n",
    "using SimpleWeightedGraphs, GraphIO, ParserCombinator"
   ]
  },
  {
   "cell_type": "code",
   "execution_count": null,
   "metadata": {},
   "outputs": [],
   "source": [
    "Pkg.update(\"CSV\")"
   ]
  },
  {
   "cell_type": "code",
   "execution_count": null,
   "metadata": {},
   "outputs": [],
   "source": [
    "import Pkg; \n",
    "Pkg.add(\"HTTP\")\n",
    "Pkg.add(\"JSON\")\n",
    "Pkg.add(\"JLD\")\n",
    "Pkg.add(\"FreqTables\")\n",
    "Pkg.update(\"DataStructures\")\n",
    "Pkg.add(Pkg.PackageSpec(url = \"https://github.com/menchelab/RMP.jl.git\"))"
   ]
  },
  {
   "cell_type": "markdown",
   "metadata": {},
   "source": [
    "```julia\n",
    "    import Pkg\n",
    "    Pkg.add(Pkg.PackageSpec(url = \"https://github.com/menchelab/RMP.jl.git\"))\n",
    "    using RMP\n",
    "```"
   ]
  },
  {
   "cell_type": "code",
   "execution_count": null,
   "metadata": {},
   "outputs": [],
   "source": [
    "Pkg.add(\"FreqTables\")"
   ]
  },
  {
   "cell_type": "code",
   "execution_count": 1,
   "metadata": {},
   "outputs": [
    {
     "name": "stderr",
     "output_type": "stream",
     "text": [
      "┌ Info: Precompiling CSV [336ed68f-0bac-5ca0-87d4-7b16caf5d00b]\n",
      "└ @ Base loading.jl:1260\n",
      "┌ Info: Precompiling DataFrames [a93c6f00-e57d-5684-b7b6-d8193f3e46c0]\n",
      "└ @ Base loading.jl:1260\n",
      "┌ Info: Precompiling RCall [6f49c342-dc21-5d91-9882-a32aef131414]\n",
      "└ @ Base loading.jl:1260\n",
      "┌ Info: Precompiling FreqTables [da1fdf0e-e0ff-5433-a45f-9bb5ff651cb1]\n",
      "└ @ Base loading.jl:1260\n",
      "┌ Info: Precompiling HTTP [cd3eb016-35fb-5094-929b-558a96fad6f3]\n",
      "└ @ Base loading.jl:1260\n",
      "┌ Info: Precompiling RMP [cef322dc-4d82-11ea-04a7-113231db804d]\n",
      "└ @ Base loading.jl:1260\n"
     ]
    }
   ],
   "source": [
    "using CSV, StatsBase, Statistics, DataFrames, UMAP, RCall, FreqTables\n",
    "using MultipleTesting, Random, MultivariateStats, Distributed\n",
    "using HTTP, JSON\n",
    "using RMP"
   ]
  },
  {
   "cell_type": "code",
   "execution_count": 2,
   "metadata": {},
   "outputs": [
    {
     "data": {
      "text/plain": [
       "2020-12-29T17:19:44.389"
      ]
     },
     "execution_count": 2,
     "metadata": {},
     "output_type": "execute_result"
    }
   ],
   "source": [
    "using Dates: now\n",
    "now()"
   ]
  },
  {
   "cell_type": "markdown",
   "metadata": {},
   "source": [
    "## R Calls"
   ]
  },
  {
   "cell_type": "code",
   "execution_count": 3,
   "metadata": {},
   "outputs": [],
   "source": [
    "@rlibrary ggplot2\n",
    "@rlibrary extrafont\n",
    "@rlibrary viridis\n",
    "@rlibrary heatmaply\n",
    "@rlibrary ggrepel"
   ]
  },
  {
   "cell_type": "code",
   "execution_count": 4,
   "metadata": {
    "scrolled": true
   },
   "outputs": [
    {
     "name": "stderr",
     "output_type": "stream",
     "text": [
      "┌ Warning: RCall.jl: Registering fonts with R\n",
      "└ @ RCall /opt/julia/packages/RCall/eRsxl/src/io.jl:160\n",
      "┌ Warning: RCall.jl: Scanning ttf files in /tmp/.fonts ...\n",
      "│ Extracting .afm files from .ttf files...\n",
      "│ /tmp/.fonts/Arial.ttf : ArialMT already registered in fonts database. Skipping.\n",
      "│ Found FontName for 0 fonts.\n",
      "│ Scanning afm files in /opt/conda/lib/R/library/extrafontdb/metrics\n",
      "│ Warning in grepl(\"^FamilyName\", text) :\n",
      "│   input string 4 is invalid in this locale\n",
      "│ Warning in grepl(\"^FontName\", text) :\n",
      "│   input string 4 is invalid in this locale\n",
      "│ Warning in grepl(\"^FullName\", text) :\n",
      "│   input string 4 is invalid in this locale\n",
      "│ Warning in grepl(\"^Weight\", text) :\n",
      "│   input string 4 is invalid in this locale\n",
      "└ @ RCall /opt/julia/packages/RCall/eRsxl/src/io.jl:160\n",
      "┌ Warning: RCall.jl: Arial already registered with pdfFonts().\n",
      "└ @ RCall /opt/julia/packages/RCall/eRsxl/src/io.jl:160\n"
     ]
    },
    {
     "data": {
      "text/plain": [
       "RObject{VecSxp}\n",
       "$repr.plot.width\n",
       "NULL\n",
       "\n",
       "$repr.plot.height\n",
       "NULL\n",
       "\n"
      ]
     },
     "execution_count": 4,
     "metadata": {},
     "output_type": "execute_result"
    }
   ],
   "source": [
    "R\"\"\"\n",
    "# Used later for MCD computation\n",
    "\n",
    "library(robustbase)\n",
    "\n",
    "# Customize ggplot appearance\n",
    "\n",
    "library(ggplot2)\n",
    "library(extrafont)\n",
    "\n",
    "\n",
    "# Load extra fonts\n",
    "ttf_import(\"/tmp/.fonts\")\n",
    "loadfonts()\n",
    "\n",
    "# Change theme\n",
    "customTheme <- theme_light() + \n",
    "               theme(panel.grid.minor=element_blank(), text=element_text(size=17, family=\"Arial\", colour = \"#333333\"),\n",
    "                     line=element_line(colour = \"#333333\"), \n",
    "                     legend.background = element_rect(fill=alpha('#CCCCCC', 0.1)), legend.key = element_blank())\n",
    "\n",
    "# Change default colors\n",
    "scale_colour_continuous <- function (..., begin = 0.1, end = 0.9, direction = -1, option = \"plasma\", \n",
    "                                     type = getOption(\"ggplot2.continuous.colour\", default = \"viridis\")) {\n",
    "    switch(type, gradient = scale_colour_gradient(...), \n",
    "        viridis = scale_colour_viridis_c(option = option, begin = begin, end = end, direction = direction, ...), \n",
    "        stop(\"Unknown scale type\", call. = FALSE))\n",
    "}\n",
    "scale_color_continuous <- scale_colour_continuous\n",
    "\n",
    "scale_fill_continuous <- function (..., begin = 0.1, end = 0.9, direction = -1, option = \"plasma\", \n",
    "                                     type = getOption(\"ggplot2.continuous.colour\", default = \"viridis\")) {\n",
    "    switch(type, gradient = scale_fill_gradient(...), \n",
    "        viridis = scale_fill_viridis_c(option = option, begin = begin, end = end, direction = direction, ...), \n",
    "        stop(\"Unknown scale type\", call. = FALSE))\n",
    "\n",
    "}\n",
    "\n",
    "cemm_pal = colorRampPalette(c(\"#5A463C\", \"#008CAD\", \"#40B9D4\", \"#D4ECF2\", \"#D2323C\", \"#F8B100\", \"#DFDC00\"))\n",
    "scale_fill_discrete <- function (..., type = \"CeMM\", h = c(0, 360) + 15, c = 100, l = 65, h.start = 0, \n",
    "    direction = 1, na.value = \"grey50\", aesthetics = \"fill\") \n",
    "{\n",
    "    if (type == \"CeMM\"){\n",
    "        discrete_scale(aesthetics, \"CeMM\", cemm_pal, na.value = na.value, ...)\n",
    "    } else {\n",
    "        discrete_scale(aesthetics, \"hue\", hue_pal(h, c, l, h.start, \n",
    "            direction), na.value = na.value, ...)\n",
    "    }\n",
    "}\n",
    "\n",
    "scale_color_discrete <- function (..., type = \"CeMM\", h = c(0, 360) + 15, c = 100, l = 65, h.start = 0, \n",
    "    direction = 1, na.value = \"grey50\", aesthetics = \"colour\") {\n",
    "    if (type == \"CeMM\"){\n",
    "        discrete_scale(aesthetics, \"CeMM\", cemm_pal, na.value = na.value, ...)\n",
    "    } else {\n",
    "        discrete_scale(aesthetics, \"hue\", scales::hue_pal(h, c, l, h.start, \n",
    "            direction), na.value = na.value, ...)\n",
    "    }\n",
    "}\n",
    "scale_colour_discrete <- scale_color_discrete\n",
    "\n",
    "noGridTheme <- function(...){\n",
    "    theme(panel.grid.major=element_blank(), axis.text.x=element_text(size=12), axis.text.y=element_text(size=12),\n",
    "                      axis.line=element_line(color=\"#333333\", size = 0.2), panel.border = element_blank(), ...)\n",
    "}\n",
    "\n",
    "darkTheme <- function(...){\n",
    "    theme(panel.background = element_rect(fill = '#333333'), plot.background = element_rect(fill = '#333333'), \n",
    "          axis.line=element_line(color=\"#CCCCCC\", size = 0.2), \n",
    "          text=element_text(size=17, family=\"Arial\", colour = \"#CCCCCC\"),\n",
    "          line=element_line(colour = \"#CCCCCC\"))\n",
    "}\n",
    "\n",
    "theme_set(customTheme)\n",
    "\n",
    "options(repr.plot.width=10, repr.plot.height=10)\n",
    "\"\"\""
   ]
  },
  {
   "cell_type": "markdown",
   "metadata": {},
   "source": [
    "## Load pre-computed statistical distances to DMSO"
   ]
  },
  {
   "cell_type": "code",
   "execution_count": 16,
   "metadata": {
    "scrolled": true
   },
   "outputs": [
    {
     "data": {
      "text/html": [
       "<table class=\"data-frame\"><thead><tr><th></th><th>RawPVal</th><th>RMPV</th><th>RHD</th><th>Condition</th></tr><tr><th></th><th>Float64</th><th>Float64</th><th>Float64</th><th>String</th></tr></thead><tbody><p>293 rows × 4 columns</p><tr><th>1</th><td>0.2702</td><td>0.355804</td><td>0.133976</td><td>(+)-Butaclamol hydrochloride</td></tr><tr><th>2</th><td>0.8128</td><td>0.826911</td><td>0.0399052</td><td>(+)-Cyclazocine</td></tr><tr><th>3</th><td>0.2826</td><td>0.364766</td><td>0.149507</td><td>(+/-)-Sulfinpyrazone</td></tr><tr><th>4</th><td>0.0788</td><td>0.13993</td><td>0.245043</td><td>(-)-JQ1</td></tr><tr><th>5</th><td>0.0004</td><td>0.00124681</td><td>0.542844</td><td>(-)-Perillic acid</td></tr><tr><th>6</th><td>0.1192</td><td>0.188087</td><td>0.222888</td><td>(-)-Quinpirole hydrochloride</td></tr><tr><th>7</th><td>0.1194</td><td>0.188087</td><td>0.257347</td><td>(-)-trans-(1S,2S)-U-50488 hydrochloride</td></tr><tr><th>8</th><td>0.0</td><td>0.0</td><td>0.999016</td><td>(S)-(+)-Camptothecin</td></tr><tr><th>9</th><td>0.341</td><td>0.418046</td><td>0.122715</td><td>(S)-Propranolol hydrochloride</td></tr><tr><th>10</th><td>0.3928</td><td>0.453112</td><td>0.12625</td><td>(±)-Isoproterenol hydrochloride</td></tr><tr><th>11</th><td>0.0238</td><td>0.0544797</td><td>0.344094</td><td>(±)-Methoxyverapamil hydrochloride</td></tr><tr><th>12</th><td>0.7764</td><td>0.792631</td><td>0.0471702</td><td>(±)-Metoprolol (+)-tartrate</td></tr><tr><th>13</th><td>0.0</td><td>0.0</td><td>0.773837</td><td>(±)-Octoclothepin maleate</td></tr><tr><th>14</th><td>0.0138</td><td>0.0331426</td><td>0.385288</td><td>(±)-SKF-38393 hydrochloride</td></tr><tr><th>15</th><td>0.4044</td><td>0.462416</td><td>0.122147</td><td>(±)-Sulpiride</td></tr><tr><th>16</th><td>0.185</td><td>0.263131</td><td>0.192587</td><td>(±)-Verapamil hydrochloride</td></tr><tr><th>17</th><td>0.05</td><td>0.0996599</td><td>0.327023</td><td>(±)-alpha-Lipoic Acid</td></tr><tr><th>18</th><td>0.1998</td><td>0.280102</td><td>0.178155</td><td>1,10-Phenanthroline monohydrate</td></tr><tr><th>19</th><td>0.2542</td><td>0.338548</td><td>0.163619</td><td>1,7-Dimethylxanthine</td></tr><tr><th>20</th><td>0.078</td><td>0.139354</td><td>0.268766</td><td>2,2'-Bipyridyl</td></tr><tr><th>21</th><td>0.7538</td><td>0.77225</td><td>0.0442147</td><td>2,3-Dimethoxy-1,4-naphthoquinone</td></tr><tr><th>22</th><td>0.5442</td><td>0.586</td><td>0.0750568</td><td>2-Phenylaminoadenosine</td></tr><tr><th>23</th><td>0.0</td><td>0.0</td><td>0.914104</td><td>2-methoxyestradiol</td></tr><tr><th>24</th><td>0.2256</td><td>0.303215</td><td>0.157284</td><td>4-(2-Aminoethyl)benzenesulfonyl fluoride hydrochloride</td></tr><tr><th>25</th><td>0.2658</td><td>0.352395</td><td>0.160824</td><td>4-Hydroxy-3-methoxyphenylacetic acid</td></tr><tr><th>26</th><td>0.0</td><td>0.0</td><td>0.987762</td><td>5-(N,N-hexamethylene)amiloride</td></tr><tr><th>27</th><td>0.0</td><td>0.0</td><td>0.94462</td><td>5-(N-Ethyl-N-isopropyl)amiloride</td></tr><tr><th>28</th><td>0.0638</td><td>0.119829</td><td>0.257837</td><td>5-Bromo-2'-deoxyuridine</td></tr><tr><th>29</th><td>0.0</td><td>0.0</td><td>0.928581</td><td>5-Fluorouracil</td></tr><tr><th>30</th><td>0.0</td><td>0.0</td><td>0.944433</td><td>5-azacytidine</td></tr><tr><th>&vellip;</th><td>&vellip;</td><td>&vellip;</td><td>&vellip;</td><td>&vellip;</td></tr></tbody></table>"
      ],
      "text/latex": [
       "\\begin{tabular}{r|cccc}\n",
       "\t& RawPVal & RMPV & RHD & Condition\\\\\n",
       "\t\\hline\n",
       "\t& Float64 & Float64 & Float64 & String\\\\\n",
       "\t\\hline\n",
       "\t1 & 0.2702 & 0.355804 & 0.133976 & (+)-Butaclamol hydrochloride \\\\\n",
       "\t2 & 0.8128 & 0.826911 & 0.0399052 & (+)-Cyclazocine \\\\\n",
       "\t3 & 0.2826 & 0.364766 & 0.149507 & (+/-)-Sulfinpyrazone \\\\\n",
       "\t4 & 0.0788 & 0.13993 & 0.245043 & (-)-JQ1 \\\\\n",
       "\t5 & 0.0004 & 0.00124681 & 0.542844 & (-)-Perillic acid \\\\\n",
       "\t6 & 0.1192 & 0.188087 & 0.222888 & (-)-Quinpirole hydrochloride \\\\\n",
       "\t7 & 0.1194 & 0.188087 & 0.257347 & (-)-trans-(1S,2S)-U-50488 hydrochloride \\\\\n",
       "\t8 & 0.0 & 0.0 & 0.999016 & (S)-(+)-Camptothecin \\\\\n",
       "\t9 & 0.341 & 0.418046 & 0.122715 & (S)-Propranolol hydrochloride \\\\\n",
       "\t10 & 0.3928 & 0.453112 & 0.12625 & (±)-Isoproterenol hydrochloride \\\\\n",
       "\t11 & 0.0238 & 0.0544797 & 0.344094 & (±)-Methoxyverapamil hydrochloride \\\\\n",
       "\t12 & 0.7764 & 0.792631 & 0.0471702 & (±)-Metoprolol (+)-tartrate \\\\\n",
       "\t13 & 0.0 & 0.0 & 0.773837 & (±)-Octoclothepin maleate \\\\\n",
       "\t14 & 0.0138 & 0.0331426 & 0.385288 & (±)-SKF-38393 hydrochloride \\\\\n",
       "\t15 & 0.4044 & 0.462416 & 0.122147 & (±)-Sulpiride \\\\\n",
       "\t16 & 0.185 & 0.263131 & 0.192587 & (±)-Verapamil hydrochloride \\\\\n",
       "\t17 & 0.05 & 0.0996599 & 0.327023 & (±)-alpha-Lipoic Acid \\\\\n",
       "\t18 & 0.1998 & 0.280102 & 0.178155 & 1,10-Phenanthroline monohydrate \\\\\n",
       "\t19 & 0.2542 & 0.338548 & 0.163619 & 1,7-Dimethylxanthine \\\\\n",
       "\t20 & 0.078 & 0.139354 & 0.268766 & 2,2'-Bipyridyl \\\\\n",
       "\t21 & 0.7538 & 0.77225 & 0.0442147 & 2,3-Dimethoxy-1,4-naphthoquinone \\\\\n",
       "\t22 & 0.5442 & 0.586 & 0.0750568 & 2-Phenylaminoadenosine \\\\\n",
       "\t23 & 0.0 & 0.0 & 0.914104 & 2-methoxyestradiol \\\\\n",
       "\t24 & 0.2256 & 0.303215 & 0.157284 & 4-(2-Aminoethyl)benzenesulfonyl fluoride hydrochloride \\\\\n",
       "\t25 & 0.2658 & 0.352395 & 0.160824 & 4-Hydroxy-3-methoxyphenylacetic acid \\\\\n",
       "\t26 & 0.0 & 0.0 & 0.987762 & 5-(N,N-hexamethylene)amiloride \\\\\n",
       "\t27 & 0.0 & 0.0 & 0.94462 & 5-(N-Ethyl-N-isopropyl)amiloride \\\\\n",
       "\t28 & 0.0638 & 0.119829 & 0.257837 & 5-Bromo-2'-deoxyuridine \\\\\n",
       "\t29 & 0.0 & 0.0 & 0.928581 & 5-Fluorouracil \\\\\n",
       "\t30 & 0.0 & 0.0 & 0.944433 & 5-azacytidine \\\\\n",
       "\t$\\dots$ & $\\dots$ & $\\dots$ & $\\dots$ & $\\dots$ \\\\\n",
       "\\end{tabular}\n"
      ],
      "text/plain": [
       "293×4 DataFrame. Omitted printing of 1 columns\n",
       "│ Row │ RawPVal │ RMPV       │ RHD       │\n",
       "│     │ \u001b[90mFloat64\u001b[39m │ \u001b[90mFloat64\u001b[39m    │ \u001b[90mFloat64\u001b[39m   │\n",
       "├─────┼─────────┼────────────┼───────────┤\n",
       "│ 1   │ 0.2702  │ 0.355804   │ 0.133976  │\n",
       "│ 2   │ 0.8128  │ 0.826911   │ 0.0399052 │\n",
       "│ 3   │ 0.2826  │ 0.364766   │ 0.149507  │\n",
       "│ 4   │ 0.0788  │ 0.13993    │ 0.245043  │\n",
       "│ 5   │ 0.0004  │ 0.00124681 │ 0.542844  │\n",
       "│ 6   │ 0.1192  │ 0.188087   │ 0.222888  │\n",
       "│ 7   │ 0.1194  │ 0.188087   │ 0.257347  │\n",
       "│ 8   │ 0.0     │ 0.0        │ 0.999016  │\n",
       "│ 9   │ 0.341   │ 0.418046   │ 0.122715  │\n",
       "│ 10  │ 0.3928  │ 0.453112   │ 0.12625   │\n",
       "⋮\n",
       "│ 283 │ 0.0496  │ 0.0995397  │ 0.317202  │\n",
       "│ 284 │ 0.5954  │ 0.63271    │ 0.0752056 │\n",
       "│ 285 │ 0.0     │ 0.0        │ 0.998221  │\n",
       "│ 286 │ 0.1974  │ 0.278068   │ 0.198635  │\n",
       "│ 287 │ 0.0     │ 0.0        │ 0.972459  │\n",
       "│ 288 │ 0.0168  │ 0.0396968  │ 0.357478  │\n",
       "│ 289 │ 0.0     │ 0.0        │ 0.896387  │\n",
       "│ 290 │ 0.3886  │ 0.450965   │ 0.146425  │\n",
       "│ 291 │ 0.0922  │ 0.15985    │ 0.241954  │\n",
       "│ 292 │ 0.5684  │ 0.607815   │ 0.0882714 │\n",
       "│ 293 │ 0.0     │ 0.0        │ 0.999994  │"
      ]
     },
     "execution_count": 16,
     "metadata": {},
     "output_type": "execute_result"
    }
   ],
   "source": [
    "RMPV = CSV.read(\"data/DrugScreen/RMPV.csv\", DataFrame) "
   ]
  },
  {
   "cell_type": "code",
   "execution_count": 17,
   "metadata": {
    "scrolled": true
   },
   "outputs": [
    {
     "data": {
      "text/plain": [
       "126-element Array{String,1}:\n",
       " \"(-)-Perillic acid\"\n",
       " \"(S)-(+)-Camptothecin\"\n",
       " \"(±)-Octoclothepin maleate\"\n",
       " \"(±)-SKF-38393 hydrochloride\"\n",
       " \"2-methoxyestradiol\"\n",
       " \"5-(N,N-hexamethylene)amiloride\"\n",
       " \"5-(N-Ethyl-N-isopropyl)amiloride\"\n",
       " \"5-Fluorouracil\"\n",
       " \"5-azacytidine\"\n",
       " \"6-Nitroso-1,2-benzopyrone\"\n",
       " \"7-Cyclopentyl-5-(4-phenoxy)phenyl-7H-pyrrolo[2,3-d]pyrimidin-4-ylamine\"\n",
       " \"AEG 3482\"\n",
       " \"AZ191\"\n",
       " ⋮\n",
       " \"Thiocolchicine\"\n",
       " \"Tizanidine hydrochloride\"\n",
       " \"Trifluperidol hydrochloride\"\n",
       " \"Triflupromazine hydrochloride\"\n",
       " \"Trilostane\"\n",
       " \"Tyrphostin AG 879\"\n",
       " \"U0126\"\n",
       " \"Vorinostat\"\n",
       " \"WZ4003\"\n",
       " \"Wiskostatin\"\n",
       " \"XL388\"\n",
       " \"beta-Lapachone\""
      ]
     },
     "execution_count": 17,
     "metadata": {},
     "output_type": "execute_result"
    }
   ],
   "source": [
    "RMPV.Condition[RMPV.RMPV .< 0.05]"
   ]
  },
  {
   "cell_type": "markdown",
   "metadata": {},
   "source": [
    "## Get annotations"
   ]
  },
  {
   "cell_type": "code",
   "execution_count": 7,
   "metadata": {},
   "outputs": [],
   "source": [
    "salt_to_remove = [\" maleate\", \" hydrochloride\", \" nitrate\", \n",
    "                  \" dihydrochloride\", \" chloride\", \" sulfate\", \n",
    "                  \" hydrate\", \" mesylate\", \" oxalate\", \" salt\",\n",
    "                  \" from Penicillium brefeldianum\", \" monohydrate\",\n",
    "                  \" trifluoroacetate\", \" acetate\", \" isethionate\",\n",
    "                  \" hemisulfate\", \" angular\", \" sodium\", \" fumarate\",\n",
    "                  \" methanesulfonate\", \" hemihydrate\", \" (MW = 374.83)\"]\n",
    "\n",
    "\"\"\"Other compounds might include salts but are anyway not found in the LINCS database at all:\n",
    "    AC-93253 iodide\n",
    "    N-p-Tosyl-L-phenylalanine chloromethyl ketone\n",
    "    4-(2-Aminoethyl)benzenesulfonyl fluoride hydrochloride\n",
    "    UNC0379 trifluoroacetate salt\"\"\"\n",
    "\n",
    "salt_dict = Dict(s => s\"\" for s in salt_to_remove)\n",
    "salt_dict[\" \"] = s\"-\";"
   ]
  },
  {
   "cell_type": "code",
   "execution_count": 8,
   "metadata": {},
   "outputs": [
    {
     "data": {
      "text/plain": [
       "getMOA"
      ]
     },
     "execution_count": 8,
     "metadata": {},
     "output_type": "execute_result"
    }
   ],
   "source": [
    "\"\"\"\n",
    "This function parse a list of compound canonical IDs and extract mechanism of actions (MOA)\n",
    "annotated in the LINCS perturbation database when provided. Returns a list of annotates MOAs\n",
    "See https://clue.io/developer-resources#apisection\n",
    "\"\"\"\n",
    "function getMOA(cpd::String)\n",
    "    user_key = \"3a73a242e38f9fb6375a1100354e4107\"\n",
    "    rootURL = \"https://api.clue.io/api/perts?filter={\\\"where\\\":{\\\"pert_iname\\\":\\\"\"\n",
    "    typeURL = \"\\\"},\\\"fields\\\":{\\\"moa\\\":true}}&user_key=\"\n",
    "    # NB: case-dependent. Dashes are handled. Spaces are usually replaced by dashes.\n",
    "    \n",
    "    cpd_no_salt = reduce(replace, salt_dict, init=cpd)\n",
    "    \n",
    "    rq = rootURL * lowercase(cpd_no_salt) * typeURL * user_key\n",
    "    \n",
    "    try\n",
    "        resRq = HTTP.get(rq)\n",
    "        moaRQ = JSON.Parser.parse(String(resRq.body))[1]\n",
    "        return(moaRQ[\"moa\"])\n",
    "    catch e\n",
    "        if isa(e, BoundsError)\n",
    "            rq = rootURL * uppercase(cpd_no_salt) * typeURL * user_key\n",
    "            try\n",
    "                resRq = HTTP.get(rq)\n",
    "                moaRQ = JSON.Parser.parse(String(resRq.body))[1]\n",
    "                return(moaRQ[\"moa\"])\n",
    "            catch e\n",
    "                if isa(e, BoundsError)\n",
    "                println(cpd*\" does not have an MOA annotation.\")\n",
    "                end\n",
    "            end\n",
    "        elseif isa(e, HTTP.ExceptionRequest.StatusError)\n",
    "            println(cpd*\" raises a 502 error.\")\n",
    "        end\n",
    "        return()\n",
    "    end\n",
    "end"
   ]
  },
  {
   "cell_type": "code",
   "execution_count": null,
   "metadata": {
    "scrolled": true
   },
   "outputs": [],
   "source": [
    "MOA = Dict()\n",
    "for cpd in RMPV.Condition\n",
    "    moa = getMOA(cpd)\n",
    "    if length(moa) > 0\n",
    "        MOA[cpd] = moa\n",
    "    end\n",
    "end"
   ]
  },
  {
   "cell_type": "code",
   "execution_count": null,
   "metadata": {},
   "outputs": [],
   "source": [
    "cpd_list = Set(RMPV.Condition)\n",
    "map(x -> pop!(cpd_list, x), collect(keys(MOA)));"
   ]
  },
  {
   "cell_type": "code",
   "execution_count": null,
   "metadata": {
    "scrolled": true
   },
   "outputs": [],
   "source": [
    "for cpd in cpd_list\n",
    "    moa = getMOA(cpd)\n",
    "    if length(moa) > 0\n",
    "        MOA[cpd] = moa\n",
    "    end\n",
    "end"
   ]
  },
  {
   "cell_type": "code",
   "execution_count": null,
   "metadata": {},
   "outputs": [],
   "source": [
    "length(MOA)"
   ]
  },
  {
   "cell_type": "code",
   "execution_count": null,
   "metadata": {
    "scrolled": true
   },
   "outputs": [],
   "source": [
    "MOA"
   ]
  },
  {
   "cell_type": "markdown",
   "metadata": {},
   "source": [
    "You can save the MOA dictionary for later use:\n",
    "```julia\n",
    "using HDF5, JLD\n",
    "save(\"Data/MOA.jld\", \"data\", MOA)\n",
    "MOA = load(\"Data/MOA.jld\")[\"data\"]\n",
    "```"
   ]
  },
  {
   "cell_type": "code",
   "execution_count": 10,
   "metadata": {},
   "outputs": [],
   "source": [
    "freqMOA = sort(freqtable(vcat(collect(values(MOA))...)), rev = true);"
   ]
  },
  {
   "cell_type": "code",
   "execution_count": 18,
   "metadata": {},
   "outputs": [],
   "source": [
    "hitMOA = Dict(x => MOA[x] for x in RMPV.Condition[RMPV.RMPV .< 0.1] if x in keys(MOA))\n",
    "freqHitMOA = sort(freqtable(vcat(collect(values(hitMOA))...)), rev = true);"
   ]
  },
  {
   "cell_type": "code",
   "execution_count": 19,
   "metadata": {
    "scrolled": false
   },
   "outputs": [],
   "source": [
    "dfMOA = DataFrame()\n",
    "dfMOA.MOA = repeat(names(freqMOA)[1][freqMOA .> 3], 2)\n",
    "dfMOA.Hits = repeat([true, false], inner = Int(length(dfMOA.MOA)/2))\n",
    "dfMOA.Count = zeros(length(dfMOA.MOA));"
   ]
  },
  {
   "cell_type": "code",
   "execution_count": 20,
   "metadata": {},
   "outputs": [],
   "source": [
    "for row in eachrow(dfMOA)\n",
    "    if row.Hits\n",
    "        if row.MOA in names(freqHitMOA)[1]\n",
    "            row.Count = Dict(freqHitMOA)[row.MOA]\n",
    "        end\n",
    "    else\n",
    "        if row.MOA in names(freqHitMOA)[1]\n",
    "            row.Count = Dict(freqMOA)[row.MOA] - Dict(freqHitMOA)[row.MOA]\n",
    "        else\n",
    "            row.Count = Dict(freqMOA)[row.MOA]\n",
    "        end\n",
    "        \n",
    "        \n",
    "    end\n",
    "end\n",
    "dfMOA.MOA = CategoricalArray{String,1}(dfMOA.MOA, levels = reverse(names(freqMOA)[1][freqMOA .> 3]), ordered=true);"
   ]
  },
  {
   "cell_type": "code",
   "execution_count": 21,
   "metadata": {},
   "outputs": [
    {
     "data": {
      "image/png": "[encoded data removed]"
     },
     "metadata": {},
     "output_type": "display_data"
    },
    {
     "data": {
      "text/plain": [
       "RObject{VecSxp}\n"
      ]
     },
     "execution_count": 21,
     "metadata": {},
     "output_type": "execute_result"
    }
   ],
   "source": [
    "gp = ggplot(dfMOA, aes(x = :MOA, y = :Count, fill = :Hits)) + \n",
    "     geom_bar(position=\"stack\", stat=\"identity\") + coord_flip() + \n",
    "     theme(var\"legend.position\"=\"bottom\")"
   ]
  },
  {
   "cell_type": "code",
   "execution_count": null,
   "metadata": {
    "scrolled": true
   },
   "outputs": [],
   "source": [
    "ggsave(\"Fig/HitEnrichment.pdf\", gp)"
   ]
  },
  {
   "cell_type": "markdown",
   "metadata": {},
   "source": [
    "## UMAP of top MOAs"
   ]
  },
  {
   "cell_type": "code",
   "execution_count": 22,
   "metadata": {
    "scrolled": true
   },
   "outputs": [
    {
     "data": {
      "text/plain": [
       "Set{String} with 41 elements:\n",
       "  \"Pimozide\"\n",
       "  \"Amsacrine hydrochloride\"\n",
       "  \"Droperidol\"\n",
       "  \"Mitoxantrone\"\n",
       "  \"Irinotecan\"\n",
       "  \"Protriptyline hydrochloride\"\n",
       "  \"Nicardipine hydrochloride\"\n",
       "  \"Acepromazine maleate\"\n",
       "  \"Albendazole\"\n",
       "  \"Maprotiline hydrochloride\"\n",
       "  \"Pazopanib\"\n",
       "  \"Imatinib mesylate\"\n",
       "  \"Imipramine hydrochloride\"\n",
       "  \"Trimipramine maleate\"\n",
       "  \"Levetiracetam\"\n",
       "  \"Nocodazole\"\n",
       "  \"Ellipticine\"\n",
       "  \"Flunarizine dihydrochloride\"\n",
       "  \"Doxazosin mesylate\"\n",
       "  \"Podophyllotoxin\"\n",
       "  \"Maprotiline\"\n",
       "  \"Promazine hydrochloride\"\n",
       "  \"Sunitinib\"\n",
       "  \"Dantrolene sodium\"\n",
       "  \"Domperidone\"\n",
       "  ⋮ "
      ]
     },
     "execution_count": 22,
     "metadata": {},
     "output_type": "execute_result"
    }
   ],
   "source": [
    "cpdTopMOA = Set([k for (k,v) in MOA for m in v if m in names(freqMOA)[1][freqMOA .> 3]])"
   ]
  },
  {
   "cell_type": "markdown",
   "metadata": {},
   "source": [
    ".\n",
    "```\n",
    "[\"Serotonin receptor antagonist\"\n",
    "\"Serotonin reuptake inhibitor\"\n",
    "\"Tubulin inhibitor\"\n",
    "```"
   ]
  },
  {
   "cell_type": "markdown",
   "metadata": {},
   "source": [
    "\n",
    "```\n",
    "@0.05 FDR\n",
    "Norepinephrine reuptake inhibitor\n",
    "Tubulin inhibitor\n",
    "Calcium channel blocker\n",
    "```"
   ]
  },
  {
   "cell_type": "markdown",
   "metadata": {},
   "source": [
    "\n",
    "```\n",
    "@0.1 FDR\n",
    "Tubulin inhibitor\n",
    "Dopamine receptor antagonist\n",
    "Calcium channel blocker\n",
    "```"
   ]
  },
  {
   "cell_type": "markdown",
   "metadata": {},
   "source": [
    "Is there overlap in drugs? Overlap in morphological space? Map of the 9 Compounds."
   ]
  },
  {
   "cell_type": "code",
   "execution_count": 25,
   "metadata": {
    "scrolled": true
   },
   "outputs": [
    {
     "data": {
      "text/plain": [
       "49-element Named Array{Int64,1}\n",
       "Dim1                                              │ \n",
       "──────────────────────────────────────────────────┼──\n",
       "Calcium channel blocker                           │ 3\n",
       "Dopamine receptor antagonist                      │ 3\n",
       "Tubulin inhibitor                                 │ 3\n",
       "CDK inhibitor                                     │ 2\n",
       "Glycogen synthase kinase inhibitor                │ 2\n",
       "Norepinephrine reuptake inhibitor                 │ 2\n",
       "Opioid receptor agonist                           │ 2\n",
       "Ribonucleotide reductase inhibitor                │ 2\n",
       "Selective serotonin reuptake inhibitor (SSRI)     │ 2\n",
       "Topoisomerase inhibitor                           │ 2\n",
       "Tricyclic antidepressant                          │ 2\n",
       "ATPase inhibitor                                  │ 1\n",
       "⋮                                                   ⋮\n",
       "Phosphodiesterase inhibitor                       │ 1\n",
       "Potassium channel antagonist                      │ 1\n",
       "Protein synthesis inhibitor                       │ 1\n",
       "Ribonucleoside reductase inhibitor                │ 1\n",
       "Selective estrogen receptor modulator (SERM)      │ 1\n",
       "Serotonin receptor antagonist                     │ 1\n",
       "Serotonin reuptake inhibitor                      │ 1\n",
       "Sodium channel blocker                            │ 1\n",
       "Sterol demethylase inhibitor                      │ 1\n",
       "T-type calcium channel blocker                    │ 1\n",
       "Thymidylate synthase inhibitor                    │ 1\n",
       "Vesicular monoamine transporter inhibitor         │ 1"
      ]
     },
     "execution_count": 25,
     "metadata": {},
     "output_type": "execute_result"
    }
   ],
   "source": [
    "freqHitMOA"
   ]
  },
  {
   "cell_type": "markdown",
   "metadata": {},
   "source": [
    "### Load aggregated data"
   ]
  },
  {
   "cell_type": "code",
   "execution_count": 77,
   "metadata": {
    "scrolled": true
   },
   "outputs": [],
   "source": [
    "aggregatedData = CSV.read(\"data/aggregatedData_750cells.csv\", DataFrame);"
   ]
  },
  {
   "cell_type": "markdown",
   "metadata": {},
   "source": [
    "### Transform aggregated data - Normalization\n",
    "We want to focus on variables that are changing more overall than inside of reference condition (untreated WT)."
   ]
  },
  {
   "cell_type": "code",
   "execution_count": 78,
   "metadata": {},
   "outputs": [
    {
     "data": {
      "text/plain": [
       "\"Experiment with 6444/6444 entries and 390/390 features selected.\""
      ]
     },
     "execution_count": 78,
     "metadata": {},
     "output_type": "execute_result"
    }
   ],
   "source": [
    "expAgg = Experiment(aggregatedData, description = \"Median values for aggregated FOV measurements\")"
   ]
  },
  {
   "cell_type": "code",
   "execution_count": 79,
   "metadata": {},
   "outputs": [],
   "source": [
    "filters = Array{RMP.AbstractSelector,1}()\n",
    "# Remove metadata\n",
    "strToRemove = [\"Metadata_Well\", \"CompoundName\", \"Metadata_Field\", \"Metadata_Row\", \"Metadata_Column\"]\n",
    "push!(filters, NameSelector(x -> !any(occursin.(strToRemove, String(x)))))\n",
    "# Remove constant columns\n",
    "push!(filters, Selector(x -> mad(x, normalize = true) != 0, description = \"Remove constant features\"));\n",
    "push!(filters, Selector(x -> mad(x, normalize = true) != 0, \n",
    "                        subset = x -> x.CompoundName .== \"DMSO\", \n",
    "                        description = \"Remove features constant for reference\"))\n",
    "selectFeaturesExperiment!(expAgg, filters)"
   ]
  },
  {
   "cell_type": "code",
   "execution_count": 80,
   "metadata": {
    "scrolled": true
   },
   "outputs": [
    {
     "data": {
      "text/plain": [
       "\"Transformed values for aggregated FOV measurements\""
      ]
     },
     "execution_count": 80,
     "metadata": {},
     "output_type": "execute_result"
    }
   ],
   "source": [
    "expTransformed = deepcopy(expAgg)\n",
    "logtransform!(expTransformed)\n",
    "expTransformed.description = \"Transformed values for aggregated FOV measurements\""
   ]
  },
  {
   "cell_type": "markdown",
   "metadata": {},
   "source": [
    "Here we apply a correction based on the specific details of the experimental design:\n",
    "All rows and columns include DMSO (negative) controls and we normalize all values based on these matchings controls (same row and column).  \n",
    "\n",
    "This examplifies how to directly modify the data of an `Experiment` object.  \n",
    "\n",
    "NB: One might want to check that more iterations are not needed (cf. Median-polish method)."
   ]
  },
  {
   "cell_type": "code",
   "execution_count": 81,
   "metadata": {
    "scrolled": true
   },
   "outputs": [],
   "source": [
    "# Normalize on matching DMSO wells median values\n",
    "\n",
    "# Entries in both data frames are matching\n",
    "@assert nrow(aggregatedData) == nrow(getdata(expTransformed))\n",
    "\n",
    "# Copy data before correction\n",
    "ndf = getdata(expTransformed)\n",
    "\n",
    "for (i, (fx, fy)) in enumerate(eachrow(aggregatedData[:,[:Metadata_Row, :Metadata_Column]])) \n",
    "    c1 = aggregatedData.CompoundName .== \"DMSO\"\n",
    "    c2 = aggregatedData.Metadata_Row .== fx\n",
    "    c3 = aggregatedData.Metadata_Column .== fy\n",
    "    @assert sum((c1 .& (c2 .| c3))) > 0\n",
    "    expTransformed.data[i:i, expTransformed.selectedFeatures] .-= \n",
    "        mapcols(median, ndf[(c1 .& (c2 .| c3)),:]) \n",
    "end"
   ]
  },
  {
   "cell_type": "code",
   "execution_count": 82,
   "metadata": {
    "scrolled": true
   },
   "outputs": [],
   "source": [
    "compare_in(x,y) = x in y\n",
    "Broadcast.broadcasted(::typeof(compare_in), x, y) = broadcast(in, x, Ref(y)) \n",
    "# We now only keep compounds having one of the most common MOA\n",
    "filterEntriesExperiment!(expTransformed, Filter(cpdTopMOA, :CompoundName, compare = compare_in));"
   ]
  },
  {
   "cell_type": "markdown",
   "metadata": {},
   "source": [
    "## Visualization"
   ]
  },
  {
   "cell_type": "code",
   "execution_count": 86,
   "metadata": {
    "scrolled": true
   },
   "outputs": [
    {
     "name": "stderr",
     "output_type": "stream",
     "text": [
      "┌ Warning: `names!(df::AbstractDataFrame, vals::Vector{Symbol}; makeunique::Bool = false)` is deprecated, use `rename!(df, vals, makeunique = makeunique)` instead.\n",
      "│   caller = top-level scope at In[86]:4\n",
      "└ @ Core In[86]:4\n"
     ]
    }
   ],
   "source": [
    "Random.seed!(3895)\n",
    "umTPM = umap(expTransformed)\n",
    "umTPM = convert(DataFrame, umTPM')\n",
    "names!(umTPM, [:UMAP1, :UMAP2]);\n",
    "umTPM.Compound = expTransformed.data.CompoundName[expTransformed.selectedEntries]\n",
    "umTPM.MOA = CategoricalArray([MOA[x] for x in umTPM.Compound]);"
   ]
  },
  {
   "cell_type": "code",
   "execution_count": 87,
   "metadata": {
    "scrolled": true
   },
   "outputs": [
    {
     "data": {
      "text/html": [
       "<table class=\"data-frame\"><thead><tr><th></th><th>UMAP1</th><th>UMAP2</th><th>Compound</th><th>MOA</th></tr><tr><th></th><th>Float64</th><th>Float64</th><th>String</th><th>Cat…</th></tr></thead><tbody><p>740 rows × 4 columns</p><tr><th>1</th><td>-1.86325</td><td>0.599231</td><td>Acepromazine maleate</td><td>Any[\"Dopamine receptor antagonist\"]</td></tr><tr><th>2</th><td>0.974221</td><td>0.767866</td><td>Trimipramine maleate</td><td>Any[\"Norepinephrine reuptake inhibitor\", \"Tricyclic antidepressant\"]</td></tr><tr><th>3</th><td>-3.68234</td><td>-2.75174</td><td>Pazopanib</td><td>Any[\"KIT inhibitor\", \"PDGFR receptor inhibitor\", \"VEGFR inhibitor\"]</td></tr><tr><th>4</th><td>-3.57406</td><td>-2.86182</td><td>Protriptyline hydrochloride</td><td>Any[\"Tricyclic antidepressant\"]</td></tr><tr><th>5</th><td>-2.32456</td><td>-2.74235</td><td>Chlorpromazine hydrochloride</td><td>Any[\"Dopamine receptor antagonist\"]</td></tr><tr><th>6</th><td>-1.10051</td><td>-2.16933</td><td>Pimozide</td><td>Any[\"Dopamine receptor antagonist\"]</td></tr><tr><th>7</th><td>-0.711413</td><td>-2.50244</td><td>Dantrolene sodium</td><td>Any[\"Calcium channel blocker\"]</td></tr><tr><th>8</th><td>-1.2969</td><td>0.519123</td><td>Cilnidipine</td><td>Any[\"Calcium channel blocker\"]</td></tr><tr><th>9</th><td>-0.927242</td><td>-0.812589</td><td>Nicardipine hydrochloride</td><td>Any[\"Calcium channel blocker\"]</td></tr><tr><th>10</th><td>-1.34191</td><td>-2.59839</td><td>Doxazosin mesylate</td><td>Any[\"Adrenergic receptor antagonist\"]</td></tr><tr><th>11</th><td>1.05236</td><td>-0.482659</td><td>Benidipine hydrochloride</td><td>Any[\"Calcium channel blocker\"]</td></tr><tr><th>12</th><td>1.04763</td><td>0.376855</td><td>Imipramine hydrochloride</td><td>Any[\"Norepinephrine reuptake inhibitor\", \"Serotonin reuptake inhibitor\"]</td></tr><tr><th>13</th><td>-3.27186</td><td>-0.324613</td><td>Topotecan hydrochloride hydrate</td><td>Any[\"Topoisomerase inhibitor\"]</td></tr><tr><th>14</th><td>-3.24314</td><td>-1.6704</td><td>Chlorpromazine hydrochloride</td><td>Any[\"Dopamine receptor antagonist\"]</td></tr><tr><th>15</th><td>-1.08132</td><td>-0.0517939</td><td>Maprotiline</td><td>Any[\"Norepinephrine reuptake inhibitor\", \"Tricyclic antidepressant\"]</td></tr><tr><th>16</th><td>-2.32967</td><td>-0.58246</td><td>Acepromazine maleate</td><td>Any[\"Dopamine receptor antagonist\"]</td></tr><tr><th>17</th><td>-2.39516</td><td>-1.57481</td><td>Maprotiline</td><td>Any[\"Norepinephrine reuptake inhibitor\", \"Tricyclic antidepressant\"]</td></tr><tr><th>18</th><td>1.92056</td><td>3.92151</td><td>Nocodazole</td><td>Any[\"Tubulin inhibitor\"]</td></tr><tr><th>19</th><td>-0.760344</td><td>-0.0113957</td><td>Olanzapine</td><td>Any[\"Dopamine receptor antagonist\", \"Serotonin receptor antagonist\"]</td></tr><tr><th>20</th><td>0.398252</td><td>0.278599</td><td>Imipramine hydrochloride</td><td>Any[\"Norepinephrine reuptake inhibitor\", \"Serotonin reuptake inhibitor\"]</td></tr><tr><th>21</th><td>-2.38732</td><td>-0.137609</td><td>Topotecan hydrochloride hydrate</td><td>Any[\"Topoisomerase inhibitor\"]</td></tr><tr><th>22</th><td>-0.854884</td><td>1.81193</td><td>Benidipine hydrochloride</td><td>Any[\"Calcium channel blocker\"]</td></tr><tr><th>23</th><td>-1.16753</td><td>1.07873</td><td>Perphenazine</td><td>Any[\"Dopamine receptor antagonist\"]</td></tr><tr><th>24</th><td>-0.000692465</td><td>2.20015</td><td>Tolazoline</td><td>Any[\"Adrenergic receptor antagonist\"]</td></tr><tr><th>25</th><td>3.05027</td><td>4.43123</td><td>Ellipticine</td><td>Any[\"Topoisomerase inhibitor\"]</td></tr><tr><th>26</th><td>3.12356</td><td>4.41148</td><td>Irinotecan</td><td>Any[\"Topoisomerase inhibitor\"]</td></tr><tr><th>27</th><td>0.824663</td><td>0.0814844</td><td>Benidipine hydrochloride</td><td>Any[\"Calcium channel blocker\"]</td></tr><tr><th>28</th><td>-2.43233</td><td>-2.63334</td><td>Perphenazine</td><td>Any[\"Dopamine receptor antagonist\"]</td></tr><tr><th>29</th><td>-3.16075</td><td>-0.803982</td><td>Amsacrine hydrochloride</td><td>Any[\"Topoisomerase inhibitor\"]</td></tr><tr><th>30</th><td>0.203564</td><td>1.05075</td><td>Tolazoline</td><td>Any[\"Adrenergic receptor antagonist\"]</td></tr><tr><th>&vellip;</th><td>&vellip;</td><td>&vellip;</td><td>&vellip;</td><td>&vellip;</td></tr></tbody></table>"
      ],
      "text/latex": [
       "\\begin{tabular}{r|cccc}\n",
       "\t& UMAP1 & UMAP2 & Compound & MOA\\\\\n",
       "\t\\hline\n",
       "\t& Float64 & Float64 & String & Cat…\\\\\n",
       "\t\\hline\n",
       "\t1 & -1.86325 & 0.599231 & Acepromazine maleate & Any[\"Dopamine receptor antagonist\"] \\\\\n",
       "\t2 & 0.974221 & 0.767866 & Trimipramine maleate & Any[\"Norepinephrine reuptake inhibitor\", \"Tricyclic antidepressant\"] \\\\\n",
       "\t3 & -3.68234 & -2.75174 & Pazopanib & Any[\"KIT inhibitor\", \"PDGFR receptor inhibitor\", \"VEGFR inhibitor\"] \\\\\n",
       "\t4 & -3.57406 & -2.86182 & Protriptyline hydrochloride & Any[\"Tricyclic antidepressant\"] \\\\\n",
       "\t5 & -2.32456 & -2.74235 & Chlorpromazine hydrochloride & Any[\"Dopamine receptor antagonist\"] \\\\\n",
       "\t6 & -1.10051 & -2.16933 & Pimozide & Any[\"Dopamine receptor antagonist\"] \\\\\n",
       "\t7 & -0.711413 & -2.50244 & Dantrolene sodium & Any[\"Calcium channel blocker\"] \\\\\n",
       "\t8 & -1.2969 & 0.519123 & Cilnidipine & Any[\"Calcium channel blocker\"] \\\\\n",
       "\t9 & -0.927242 & -0.812589 & Nicardipine hydrochloride & Any[\"Calcium channel blocker\"] \\\\\n",
       "\t10 & -1.34191 & -2.59839 & Doxazosin mesylate & Any[\"Adrenergic receptor antagonist\"] \\\\\n",
       "\t11 & 1.05236 & -0.482659 & Benidipine hydrochloride & Any[\"Calcium channel blocker\"] \\\\\n",
       "\t12 & 1.04763 & 0.376855 & Imipramine hydrochloride & Any[\"Norepinephrine reuptake inhibitor\", \"Serotonin reuptake inhibitor\"] \\\\\n",
       "\t13 & -3.27186 & -0.324613 & Topotecan hydrochloride hydrate & Any[\"Topoisomerase inhibitor\"] \\\\\n",
       "\t14 & -3.24314 & -1.6704 & Chlorpromazine hydrochloride & Any[\"Dopamine receptor antagonist\"] \\\\\n",
       "\t15 & -1.08132 & -0.0517939 & Maprotiline & Any[\"Norepinephrine reuptake inhibitor\", \"Tricyclic antidepressant\"] \\\\\n",
       "\t16 & -2.32967 & -0.58246 & Acepromazine maleate & Any[\"Dopamine receptor antagonist\"] \\\\\n",
       "\t17 & -2.39516 & -1.57481 & Maprotiline & Any[\"Norepinephrine reuptake inhibitor\", \"Tricyclic antidepressant\"] \\\\\n",
       "\t18 & 1.92056 & 3.92151 & Nocodazole & Any[\"Tubulin inhibitor\"] \\\\\n",
       "\t19 & -0.760344 & -0.0113957 & Olanzapine & Any[\"Dopamine receptor antagonist\", \"Serotonin receptor antagonist\"] \\\\\n",
       "\t20 & 0.398252 & 0.278599 & Imipramine hydrochloride & Any[\"Norepinephrine reuptake inhibitor\", \"Serotonin reuptake inhibitor\"] \\\\\n",
       "\t21 & -2.38732 & -0.137609 & Topotecan hydrochloride hydrate & Any[\"Topoisomerase inhibitor\"] \\\\\n",
       "\t22 & -0.854884 & 1.81193 & Benidipine hydrochloride & Any[\"Calcium channel blocker\"] \\\\\n",
       "\t23 & -1.16753 & 1.07873 & Perphenazine & Any[\"Dopamine receptor antagonist\"] \\\\\n",
       "\t24 & -0.000692465 & 2.20015 & Tolazoline & Any[\"Adrenergic receptor antagonist\"] \\\\\n",
       "\t25 & 3.05027 & 4.43123 & Ellipticine & Any[\"Topoisomerase inhibitor\"] \\\\\n",
       "\t26 & 3.12356 & 4.41148 & Irinotecan & Any[\"Topoisomerase inhibitor\"] \\\\\n",
       "\t27 & 0.824663 & 0.0814844 & Benidipine hydrochloride & Any[\"Calcium channel blocker\"] \\\\\n",
       "\t28 & -2.43233 & -2.63334 & Perphenazine & Any[\"Dopamine receptor antagonist\"] \\\\\n",
       "\t29 & -3.16075 & -0.803982 & Amsacrine hydrochloride & Any[\"Topoisomerase inhibitor\"] \\\\\n",
       "\t30 & 0.203564 & 1.05075 & Tolazoline & Any[\"Adrenergic receptor antagonist\"] \\\\\n",
       "\t$\\dots$ & $\\dots$ & $\\dots$ & $\\dots$ & $\\dots$ \\\\\n",
       "\\end{tabular}\n"
      ],
      "text/plain": [
       "740×4 DataFrame. Omitted printing of 1 columns\n",
       "│ Row │ UMAP1     │ UMAP2     │ Compound                        │\n",
       "│     │ \u001b[90mFloat64\u001b[39m   │ \u001b[90mFloat64\u001b[39m   │ \u001b[90mString\u001b[39m                          │\n",
       "├─────┼───────────┼───────────┼─────────────────────────────────┤\n",
       "│ 1   │ -1.86325  │ 0.599231  │ Acepromazine maleate            │\n",
       "│ 2   │ 0.974221  │ 0.767866  │ Trimipramine maleate            │\n",
       "│ 3   │ -3.68234  │ -2.75174  │ Pazopanib                       │\n",
       "│ 4   │ -3.57406  │ -2.86182  │ Protriptyline hydrochloride     │\n",
       "│ 5   │ -2.32456  │ -2.74235  │ Chlorpromazine hydrochloride    │\n",
       "│ 6   │ -1.10051  │ -2.16933  │ Pimozide                        │\n",
       "│ 7   │ -0.711413 │ -2.50244  │ Dantrolene sodium               │\n",
       "│ 8   │ -1.2969   │ 0.519123  │ Cilnidipine                     │\n",
       "│ 9   │ -0.927242 │ -0.812589 │ Nicardipine hydrochloride       │\n",
       "│ 10  │ -1.34191  │ -2.59839  │ Doxazosin mesylate              │\n",
       "⋮\n",
       "│ 730 │ -1.62776  │ -2.77542  │ Vinblastine                     │\n",
       "│ 731 │ 3.11803   │ 4.28868   │ Irinotecan                      │\n",
       "│ 732 │ -0.274766 │ -1.97891  │ Vinblastine                     │\n",
       "│ 733 │ 0.0576134 │ 1.86434   │ Imipramine hydrochloride        │\n",
       "│ 734 │ -1.28589  │ -0.462253 │ Topotecan hydrochloride hydrate │\n",
       "│ 735 │ 1.25984   │ 1.3294    │ Vinblastine                     │\n",
       "│ 736 │ 0.942752  │ 2.73834   │ Maprotiline hydrochloride       │\n",
       "│ 737 │ -0.39688  │ 1.26785   │ Levetiracetam                   │\n",
       "│ 738 │ -0.885969 │ -2.25561  │ Carvedilol                      │\n",
       "│ 739 │ -3.14322  │ -0.820896 │ Fluspirilene                    │\n",
       "│ 740 │ -1.76027  │ -0.829363 │ Promazine hydrochloride         │"
      ]
     },
     "execution_count": 87,
     "metadata": {},
     "output_type": "execute_result"
    }
   ],
   "source": [
    "umTPM"
   ]
  },
  {
   "cell_type": "code",
   "execution_count": 88,
   "metadata": {},
   "outputs": [
    {
     "data": {
      "image/png": "[encoded data removed]"
     },
     "metadata": {},
     "output_type": "display_data"
    },
    {
     "data": {
      "text/plain": [
       "RObject{VecSxp}\n"
      ]
     },
     "execution_count": 88,
     "metadata": {},
     "output_type": "execute_result"
    }
   ],
   "source": [
    "ggplot(umTPM, aes(:UMAP1, :UMAP2)) + \n",
    "    geom_point(aes(color = :MOA), alpha = 0.8) +\n",
    "    coord_fixed() + \n",
    "    theme(var\"legend.position\"=\"bottom\", var\"legend.spacing.x\" = unit(0.35, \"cm\"), \n",
    "    var\"legend.spacing.y\" = unit(0, \"cm\")) + \n",
    "    guides(color=guide_legend(nrow=3,byrow=true))"
   ]
  },
  {
   "cell_type": "markdown",
   "metadata": {},
   "source": [
    "NB: Morphological distance between MOA?\n",
    "Start with 2 MOAs that could be similar and 2 that should be distinct."
   ]
  },
  {
   "cell_type": "code",
   "execution_count": null,
   "metadata": {},
   "outputs": [],
   "source": [
    "\"Serotonin receptor antagonist\"\n",
    "\"Serotonin reuptake inhibitor\"\n",
    "\"Tubulin inhibitor\""
   ]
  },
  {
   "cell_type": "markdown",
   "metadata": {},
   "source": [
    "## MOA similarity network"
   ]
  },
  {
   "cell_type": "markdown",
   "metadata": {},
   "source": [
    "### Based on median cosine similarity at the image-level."
   ]
  },
  {
   "cell_type": "code",
   "execution_count": 101,
   "metadata": {
    "scrolled": true
   },
   "outputs": [
    {
     "data": {
      "text/plain": [
       "23-element Array{String,1}:\n",
       " \"Loperamide\"\n",
       " \"Roscovitine\"\n",
       " \"Vinblastine\"\n",
       " \"Nortriptyline hydrochloride\"\n",
       " \"Maprotiline hydrochloride\"\n",
       " \"SB 415286\"\n",
       " \"Nocodazole\"\n",
       " \"Kenpaullone\"\n",
       " \"Domperidone\"\n",
       " \"Triflupromazine hydrochloride\"\n",
       " \"Fluoxetine hydrochloride\"\n",
       " \"Gemcitabine hydrochloride\"\n",
       " \"Nisoldipine\"\n",
       " \"Irinotecan\"\n",
       " \"Albendazole\"\n",
       " \"Imipramine hydrochloride\"\n",
       " \"Ellipticine\"\n",
       " \"Flunarizine dihydrochloride\"\n",
       " \"Paroxetine hydrochloride hemihydrate (MW = 374.83)\"\n",
       " \"Pimozide\"\n",
       " \"Cytarabine\"\n",
       " \"Cilnidipine\"\n",
       " \"Loperamide hydrochloride\""
      ]
     },
     "execution_count": 101,
     "metadata": {},
     "output_type": "execute_result"
    }
   ],
   "source": [
    "# We focus on MOAs with at least 2 compounds\n",
    "selected_moa = names(freqHitMOA)[1][freqHitMOA .>= 2]\n",
    "selected_cpd = [k for (k,v) in hitMOA if any([x in v for x in selected_moa])]"
   ]
  },
  {
   "cell_type": "code",
   "execution_count": 102,
   "metadata": {
    "scrolled": true
   },
   "outputs": [
    {
     "data": {
      "text/plain": [
       "\"Transformed values for aggregated FOV measurements\""
      ]
     },
     "execution_count": 102,
     "metadata": {},
     "output_type": "execute_result"
    }
   ],
   "source": [
    "expTransformed = deepcopy(expAgg)\n",
    "logtransform!(expTransformed)\n",
    "expTransformed.description = \"Transformed values for aggregated FOV measurements\""
   ]
  },
  {
   "cell_type": "markdown",
   "metadata": {},
   "source": [
    "Here we apply a correction based on the specific details of the experimental design:\n",
    "All rows and columns include DMSO (negative) controls and we normalize all values based on these matchings controls (same row and column).  \n",
    "\n",
    "This examplifies how to directly modify the data of an `Experiment` object.  \n",
    "\n",
    "NB: One might want to check that more iterations are not needed (cf. Median-polish method)."
   ]
  },
  {
   "cell_type": "code",
   "execution_count": 103,
   "metadata": {
    "scrolled": true
   },
   "outputs": [],
   "source": [
    "# Normalize on matching DMSO wells median values\n",
    "\n",
    "# Entries in both data frames are matching\n",
    "@assert nrow(aggregatedData) == nrow(getdata(expTransformed))\n",
    "\n",
    "# Copy data before correction\n",
    "ndf = getdata(expTransformed)\n",
    "\n",
    "for (i, (fx, fy)) in enumerate(eachrow(aggregatedData[:,[:Metadata_Row, :Metadata_Column]])) \n",
    "    c1 = aggregatedData.CompoundName .== \"DMSO\"\n",
    "    c2 = aggregatedData.Metadata_Row .== fx\n",
    "    c3 = aggregatedData.Metadata_Column .== fy\n",
    "    @assert sum((c1 .& (c2 .| c3))) > 0\n",
    "    expTransformed.data[i:i, expTransformed.selectedFeatures] .-= \n",
    "        mapcols(median, ndf[(c1 .& (c2 .| c3)),:]) \n",
    "end"
   ]
  },
  {
   "cell_type": "code",
   "execution_count": 104,
   "metadata": {
    "scrolled": true
   },
   "outputs": [],
   "source": [
    "compare_in(x,y) = x in y\n",
    "Broadcast.broadcasted(::typeof(compare_in), x, y) = broadcast(in, x, Ref(y)) \n",
    "# We now only keep compounds having one of the most common MOA\n",
    "filterEntriesExperiment!(expTransformed, Filter(selected_cpd, :CompoundName, compare = compare_in));"
   ]
  },
  {
   "cell_type": "code",
   "execution_count": 116,
   "metadata": {
    "scrolled": true
   },
   "outputs": [],
   "source": [
    "# Image cosine similarities\n",
    "imgCosSim = 1 .- pairwise(CosineDist(), Array(getdata(expTransformed))');"
   ]
  },
  {
   "cell_type": "code",
   "execution_count": 155,
   "metadata": {},
   "outputs": [],
   "source": [
    "# Store MOA cosine similarity\n",
    "moaCosSim = Dict()\n",
    "cmp_names = expTransformed.data[expTransformed.selectedEntries, :CompoundName] \n",
    "# For all combinations (avoiding duplicates)\n",
    "for (moa1, moa2) in [(x,y) for (x,y) in Iterators.product(selected_moa, selected_moa) if x >= y]\n",
    "    # Get compounds and corresponding images for each MOA\n",
    "    cmp_moa1 = [k for (k,v) in hitMOA if moa1 in v]\n",
    "    ind_moa1 = findall([x in cmp_moa1 for x in cmp_names])\n",
    "    cmp_moa2 = [k for (k,v) in hitMOA if moa2 in v]\n",
    "    ind_moa2 = findall([x in cmp_moa2 for x in cmp_names])\n",
    "    # Take median value\n",
    "    moaCosSim[(moa1, moa2)] = median([imgCosSim[x...] for x in Iterators.product(ind_moa1, ind_moa2)])\n",
    "end"
   ]
  },
  {
   "cell_type": "code",
   "execution_count": 159,
   "metadata": {},
   "outputs": [
    {
     "name": "stdout",
     "output_type": "stream",
     "text": [
      "Calcium channel blocker: 0.2729110243281319\n",
      "Dopamine receptor antagonist: 0.17718574976274848\n",
      "Tubulin inhibitor: 0.5301019352185802\n",
      "CDK inhibitor: 0.7942336704452968\n",
      "Glycogen synthase kinase inhibitor: 0.546640598358231\n",
      "Norepinephrine reuptake inhibitor: 0.38453363960112874\n",
      "Opioid receptor agonist: 0.7693112563276429\n",
      "Ribonucleotide reductase inhibitor: 0.6174389639853555\n",
      "Selective serotonin reuptake inhibitor (SSRI): 0.5042558830050818\n",
      "Topoisomerase inhibitor: 0.8693563610498366\n",
      "Tricyclic antidepressant: 0.5599603707021951\n"
     ]
    }
   ],
   "source": [
    "# Display for MOA self-similarity\n",
    "for moa in selected_moa\n",
    "    println(moa, \": \", moaCosSim[(moa, moa)])\n",
    "end"
   ]
  },
  {
   "cell_type": "code",
   "execution_count": 199,
   "metadata": {},
   "outputs": [
    {
     "name": "stdout",
     "output_type": "stream",
     "text": [
      "11\n"
     ]
    },
    {
     "data": {
      "text/plain": [
       "50"
      ]
     },
     "execution_count": 199,
     "metadata": {},
     "output_type": "execute_result"
    }
   ],
   "source": [
    "# Get all link with values higher than x\n",
    "edgesMoaNet = Dict(k => v for (k,v) in moaCosSim if v > 0.35)\n",
    "println(length(unique([y for x in keys(edgesMoaNet) for y in x ])))\n",
    "length(edgesMoaNet)"
   ]
  },
  {
   "cell_type": "code",
   "execution_count": 220,
   "metadata": {
    "scrolled": true
   },
   "outputs": [],
   "source": [
    "moaToInt = Dict(x => i for (i, x) in enumerate(selected_moa))\n",
    "g = SimpleWeightedGraph(11)\n",
    "# NB: self-edges are kept\n",
    "[add_edge!(g, moaToInt[k[1]], moaToInt[k[2]], v) for (k,v) in edgesMoaNet];"
   ]
  },
  {
   "cell_type": "code",
   "execution_count": 248,
   "metadata": {},
   "outputs": [
    {
     "data": {
      "text/plain": [
       "Dict{String,Int64} with 11 entries:\n",
       "  \"Glycogen synthase kinase inhibitor\"            => 5\n",
       "  \"Calcium channel blocker\"                       => 1\n",
       "  \"Tubulin inhibitor\"                             => 3\n",
       "  \"Tricyclic antidepressant\"                      => 11\n",
       "  \"CDK inhibitor\"                                 => 4\n",
       "  \"Opioid receptor agonist\"                       => 7\n",
       "  \"Topoisomerase inhibitor\"                       => 10\n",
       "  \"Dopamine receptor antagonist\"                  => 2\n",
       "  \"Selective serotonin reuptake inhibitor (SSRI)\" => 9\n",
       "  \"Norepinephrine reuptake inhibitor\"             => 6\n",
       "  \"Ribonucleotide reductase inhibitor\"            => 8"
      ]
     },
     "execution_count": 248,
     "metadata": {},
     "output_type": "execute_result"
    }
   ],
   "source": [
    "moaToInt"
   ]
  },
  {
   "cell_type": "code",
   "execution_count": 247,
   "metadata": {},
   "outputs": [
    {
     "data": {
      "text/plain": [
       "1"
      ]
     },
     "execution_count": 247,
     "metadata": {},
     "output_type": "execute_result"
    }
   ],
   "source": [
    "savegraph(\"Fig/MOA_similarity_per_image.gml\", g, \"MOA_similarity\", GraphIO.GML.GMLFormat())"
   ]
  },
  {
   "cell_type": "markdown",
   "metadata": {},
   "source": [
    "### Based on cosine similarity of median profile at the MOA-level."
   ]
  },
  {
   "cell_type": "code",
   "execution_count": 258,
   "metadata": {},
   "outputs": [],
   "source": [
    "cmp_moas = [MOA[x] for x in cmp_names];"
   ]
  },
  {
   "cell_type": "code",
   "execution_count": 270,
   "metadata": {},
   "outputs": [
    {
     "data": {
      "text/plain": [
       "moaMedProfile"
      ]
     },
     "execution_count": 270,
     "metadata": {},
     "output_type": "execute_result"
    }
   ],
   "source": [
    "\"\"\" For a given `moa`, return the median profile across all\n",
    "    selected images.\n",
    "\"\"\"\n",
    "function moaMedProfile(moa::String)\n",
    "    moa_ind = [moa in cm for cm in cmp_moas]\n",
    "    return(map(median, eachcol(getdata(expTransformed)[moa_ind,:])))\n",
    "end"
   ]
  },
  {
   "cell_type": "code",
   "execution_count": 278,
   "metadata": {
    "scrolled": true
   },
   "outputs": [],
   "source": [
    "moaProf = hcat(map(moaMedProfile, selected_moa)...)\n",
    "moaCosSim2 = 1 .- pairwise(CosineDist(), moaProf);"
   ]
  },
  {
   "cell_type": "code",
   "execution_count": 304,
   "metadata": {},
   "outputs": [
    {
     "name": "stdout",
     "output_type": "stream",
     "text": [
      "11\n"
     ]
    },
    {
     "data": {
      "text/plain": [
       "35"
      ]
     },
     "execution_count": 304,
     "metadata": {},
     "output_type": "execute_result"
    }
   ],
   "source": [
    "# Get all link with values higher than x\n",
    "edgesMoaNet2 = Dict((x,y) => moaCosSim2[x,y] for x in 1:11 for y in 1:11 if (x < y) & (moaCosSim2[x,y] > 0.74))\n",
    "println(length(unique([y for x in keys(edgesMoaNet2) for y in x ])))\n",
    "length(edgesMoaNet2)"
   ]
  },
  {
   "cell_type": "code",
   "execution_count": 305,
   "metadata": {},
   "outputs": [],
   "source": [
    "g = SimpleWeightedGraph(11)\n",
    "[add_edge!(g, k[1], k[2], v) for (k,v) in edgesMoaNet2];"
   ]
  },
  {
   "cell_type": "markdown",
   "metadata": {},
   "source": [
    "We export \"manually\" to GML format a the GraphIO library does not export edge weights."
   ]
  },
  {
   "cell_type": "code",
   "execution_count": 370,
   "metadata": {},
   "outputs": [],
   "source": [
    "io = open(\"Fig/MOA_similarity_per_moa.gml\", \"w\")\n",
    "\n",
    "str_pre = \"\"\"graph\n",
    "[\n",
    "label \"MOA_similarity\" \"\"\"\n",
    "\n",
    "write(io, str_pre);"
   ]
  },
  {
   "cell_type": "code",
   "execution_count": 371,
   "metadata": {
    "scrolled": true
   },
   "outputs": [],
   "source": [
    "str1 = \"\\n\tnode\\n\t[\\n\t\tid \"\n",
    "str2 = \"\\n\t\tmoa \\\"\"\n",
    "str3 = \"\\\"\\n\t]\"\n",
    "for (k,v) in moaToInt\n",
    "    str_moa = str1 * string(v) * str2 * k * str3\n",
    "    write(io, str_moa)\n",
    "end"
   ]
  },
  {
   "cell_type": "code",
   "execution_count": 372,
   "metadata": {},
   "outputs": [],
   "source": [
    "str1 = \"\\n\tedge\\n\t[\\n\t\tsource \"\n",
    "str2 = \"\\n\t\ttarget \"\n",
    "str3 = \"\\n\t\tweight \"\n",
    "str4 = \"\\n\t]\"\n",
    "\n",
    "for e in edges(g)\n",
    "    str_moa = str1 * string(e.src) * str2 *\n",
    "        string(e.dst) * str3 * string(e.weight) * str4\n",
    "    write(io, str_moa)\n",
    "end"
   ]
  },
  {
   "cell_type": "code",
   "execution_count": 373,
   "metadata": {},
   "outputs": [],
   "source": [
    "str_post = \"\\n]\\n\"\n",
    "write(io, str_post);"
   ]
  },
  {
   "cell_type": "code",
   "execution_count": 374,
   "metadata": {},
   "outputs": [],
   "source": [
    "close(io);"
   ]
  },
  {
   "cell_type": "markdown",
   "metadata": {},
   "source": [
    "## UMAP of 3 hits per top 3 hit MOAs"
   ]
  },
  {
   "cell_type": "code",
   "execution_count": 23,
   "metadata": {
    "scrolled": true
   },
   "outputs": [
    {
     "data": {
      "text/plain": [
       "9-element Array{String,1}:\n",
       " \"Vinblastine\"\n",
       " \"Nocodazole\"\n",
       " \"Domperidone\"\n",
       " \"Triflupromazine hydrochloride\"\n",
       " \"Nisoldipine\"\n",
       " \"Albendazole\"\n",
       " \"Flunarizine dihydrochloride\"\n",
       " \"Pimozide\"\n",
       " \"Cilnidipine\""
      ]
     },
     "execution_count": 23,
     "metadata": {},
     "output_type": "execute_result"
    }
   ],
   "source": [
    "selected_moa = [\"Tubulin inhibitor\", \"Dopamine receptor antagonist\", \"Calcium channel blocker\"]\n",
    "selected_cpd = [k for (k,v) in hitMOA if any([x in v for x in selected_moa])]"
   ]
  },
  {
   "cell_type": "code",
   "execution_count": 24,
   "metadata": {},
   "outputs": [
    {
     "data": {
      "text/plain": [
       "9-element Array{Array{Any,1},1}:\n",
       " [\"Microtubule inhibitor\", \"Tubulin inhibitor\"]\n",
       " [\"Tubulin inhibitor\"]\n",
       " [\"Dopamine receptor antagonist\"]\n",
       " [\"Dopamine receptor antagonist\"]\n",
       " [\"Calcium channel blocker\"]\n",
       " [\"Anthelmintic\", \"Tubulin inhibitor\"]\n",
       " [\"Calcium channel blocker\"]\n",
       " [\"Dopamine receptor antagonist\"]\n",
       " [\"Calcium channel blocker\"]"
      ]
     },
     "execution_count": 24,
     "metadata": {},
     "output_type": "execute_result"
    }
   ],
   "source": [
    "[MOA[x] for x in selected_cpd]"
   ]
  },
  {
   "cell_type": "code",
   "execution_count": 38,
   "metadata": {},
   "outputs": [
    {
     "data": {
      "text/plain": [
       "9-element Array{String,1}:\n",
       " \"Vinblastine\"\n",
       " \"Nocodazole\"\n",
       " \"Domperidone\"\n",
       " \"Triflupromazine hydrochloride\"\n",
       " \"Nisoldipine\"\n",
       " \"Albendazole\"\n",
       " \"Flunarizine dihydrochloride\"\n",
       " \"Pimozide\"\n",
       " \"Cilnidipine\""
      ]
     },
     "execution_count": 38,
     "metadata": {},
     "output_type": "execute_result"
    }
   ],
   "source": [
    "selected_cpd"
   ]
  },
  {
   "cell_type": "code",
   "execution_count": 39,
   "metadata": {
    "scrolled": true
   },
   "outputs": [
    {
     "data": {
      "text/plain": [
       "\"Transformed values for aggregated FOV measurements\""
      ]
     },
     "execution_count": 39,
     "metadata": {},
     "output_type": "execute_result"
    }
   ],
   "source": [
    "expTransformed = deepcopy(expAgg)\n",
    "logtransform!(expTransformed)\n",
    "expTransformed.description = \"Transformed values for aggregated FOV measurements\""
   ]
  },
  {
   "cell_type": "markdown",
   "metadata": {},
   "source": [
    "Here we apply a correction based on the specific details of the experimental design:\n",
    "All rows and columns include DMSO (negative) controls and we normalize all values based on these matchings controls (same row and column).  \n",
    "\n",
    "This examplifies how to directly modify the data of an `Experiment` object.  \n",
    "\n",
    "NB: One might want to check that more iterations are not needed (cf. Median-polish method)."
   ]
  },
  {
   "cell_type": "code",
   "execution_count": 40,
   "metadata": {
    "scrolled": true
   },
   "outputs": [],
   "source": [
    "# Normalize on matching DMSO wells median values\n",
    "\n",
    "# Entries in both data frames are matching\n",
    "@assert nrow(aggregatedData) == nrow(getdata(expTransformed))\n",
    "\n",
    "# Copy data before correction\n",
    "ndf = getdata(expTransformed)\n",
    "\n",
    "for (i, (fx, fy)) in enumerate(eachrow(aggregatedData[:,[:Metadata_Row, :Metadata_Column]])) \n",
    "    c1 = aggregatedData.CompoundName .== \"DMSO\"\n",
    "    c2 = aggregatedData.Metadata_Row .== fx\n",
    "    c3 = aggregatedData.Metadata_Column .== fy\n",
    "    @assert sum((c1 .& (c2 .| c3))) > 0\n",
    "    expTransformed.data[i:i, expTransformed.selectedFeatures] .-= \n",
    "        mapcols(median, ndf[(c1 .& (c2 .| c3)),:]) \n",
    "end"
   ]
  },
  {
   "cell_type": "code",
   "execution_count": 41,
   "metadata": {
    "scrolled": true
   },
   "outputs": [],
   "source": [
    "compare_in(x,y) = x in y\n",
    "Broadcast.broadcasted(::typeof(compare_in), x, y) = broadcast(in, x, Ref(y)) \n",
    "# We now only keep compounds having one of the most common MOA\n",
    "filterEntriesExperiment!(expTransformed, Filter(selected_cpd, :CompoundName, compare = compare_in));"
   ]
  },
  {
   "cell_type": "code",
   "execution_count": 42,
   "metadata": {
    "scrolled": true
   },
   "outputs": [
    {
     "name": "stderr",
     "output_type": "stream",
     "text": [
      "┌ Warning: `names!(df::AbstractDataFrame, vals::Vector{Symbol}; makeunique::Bool = false)` is deprecated, use `rename!(df, vals, makeunique = makeunique)` instead.\n",
      "│   caller = top-level scope at In[42]:4\n",
      "└ @ Core In[42]:4\n"
     ]
    }
   ],
   "source": [
    "Random.seed!(3895)\n",
    "umTPM = umap(expTransformed, 2, n_neighbors = 5, spread = 1, min_dist = 0.5)\n",
    "umTPM = convert(DataFrame, umTPM')\n",
    "names!(umTPM, [:UMAP1, :UMAP2]);\n",
    "umTPM.Compound = expTransformed.data.CompoundName[expTransformed.selectedEntries]\n",
    "umTPM.allMOAs = [MOA[x] for x in umTPM.Compound]\n",
    "umTPM.MOA = [length(m) > 1 ? m[2] : m[1] for m in umTPM.allMOAs];"
   ]
  },
  {
   "cell_type": "code",
   "execution_count": 43,
   "metadata": {},
   "outputs": [],
   "source": [
    "umTPM.Compound = replace.(umTPM.Compound, \" dihydrochloride\" => s\"\")\n",
    "umTPM.Compound = replace.(umTPM.Compound, \" hydrochloride\" => s\"\");"
   ]
  },
  {
   "cell_type": "code",
   "execution_count": 44,
   "metadata": {},
   "outputs": [],
   "source": [
    "# Order levels by MOA and alphabetical order\n",
    "cpd_lvl = [\"Albendazole\", \"Nocodazole\", \"Vinblastine\", \n",
    "           \"Domperidone\", \"Pimozide\", \"Triflupromazine\", \n",
    "           \"Cilnidipine\", \"Flunarizine\", \"Nisoldipine\"]\n",
    "umTPM.Compound = CategoricalArray(umTPM.Compound, levels = cpd_lvl, ordered = true);"
   ]
  },
  {
   "cell_type": "code",
   "execution_count": 45,
   "metadata": {},
   "outputs": [],
   "source": [
    "# Highlight MOAs of each compound\n",
    "moa_palette = [\"#5A463C\",\"#8B726A\",\"#BDA7A3\",\"#463C5A\",\"#7D768B\",\"#B5B1BD\",\"#3C5A46\",\"#768B7D\",\"#B1BDB5\"];"
   ]
  },
  {
   "cell_type": "code",
   "execution_count": 46,
   "metadata": {},
   "outputs": [],
   "source": [
    "moa_palette = [\"#FF1998\",\"#FF5FB9\",\"#FFA3D7\",\"#1B9CFF\",\"#5FB9FF\",\"#A3D7FF\",\"#9CFF1B\",\"#B9FF5F\",\"#D7FFA3\"];"
   ]
  },
  {
   "cell_type": "code",
   "execution_count": 48,
   "metadata": {
    "scrolled": false
   },
   "outputs": [
    {
     "data": {
      "image/png": "[encoded data removed]"
     },
     "metadata": {},
     "output_type": "display_data"
    },
    {
     "data": {
      "text/plain": [
       "RObject{VecSxp}\n"
      ]
     },
     "execution_count": 48,
     "metadata": {},
     "output_type": "execute_result"
    }
   ],
   "source": [
    "gp = ggplot(umTPM, aes(:UMAP1, :UMAP2)) + \n",
    "    geom_point(aes(color = :Compound), alpha = 1) +\n",
    "    coord_fixed() + scale_color_manual(values = moa_palette) + \n",
    "    theme(var\"legend.position\"=\"bottom\", var\"legend.spacing.x\" = unit(0.35, \"cm\"), \n",
    "    var\"legend.spacing.y\" = unit(0, \"cm\")) + \n",
    "    guides(color=guide_legend(nrow=3,byrow=false))"
   ]
  },
  {
   "cell_type": "code",
   "execution_count": null,
   "metadata": {},
   "outputs": [],
   "source": [
    "ggsave(\"Fig/topMOA_UMAP2.pdf\", gp)"
   ]
  }
 ],
 "metadata": {
  "kernelspec": {
   "display_name": "Julia 1.4.1",
   "language": "julia",
   "name": "julia-1.4"
  },
  "language_info": {
   "file_extension": ".jl",
   "mimetype": "application/julia",
   "name": "julia",
   "version": "1.4.1"
  }
 },
 "nbformat": 4,
 "nbformat_minor": 4
}
