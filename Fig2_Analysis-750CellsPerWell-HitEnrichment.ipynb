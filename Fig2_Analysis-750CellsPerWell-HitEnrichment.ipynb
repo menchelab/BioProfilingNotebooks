{
 "cells": [
  {
   "cell_type": "code",
   "execution_count": null,
   "metadata": {},
   "outputs": [],
   "source": [
    "using CSV, StatsBase, Statistics, DataFrames, UMAP, RCall, FreqTables\n",
    "using MultipleTesting, Random, MultivariateStats, Distributed, CategoricalArrays\n",
    "using LightGraphs, SimpleWeightedGraphs\n",
    "using HTTP, JSON\n",
    "using BioProfiling\n",
    "using LightGraphs"
   ]
  },
  {
   "cell_type": "code",
   "execution_count": null,
   "metadata": {},
   "outputs": [],
   "source": [
    "using Dates: now\n",
    "now()"
   ]
  },
  {
   "cell_type": "markdown",
   "metadata": {},
   "source": [
    "## R Calls"
   ]
  },
  {
   "cell_type": "code",
   "execution_count": null,
   "metadata": {},
   "outputs": [],
   "source": [
    "@rlibrary ggplot2\n",
    "@rlibrary extrafont\n",
    "@rlibrary viridis\n",
    "@rlibrary heatmaply\n",
    "@rlibrary ggrepel"
   ]
  },
  {
   "cell_type": "code",
   "execution_count": null,
   "metadata": {
    "scrolled": true
   },
   "outputs": [],
   "source": [
    "R\"\"\"\n",
    "# Used later for MCD computation\n",
    "\n",
    "library(robustbase)\n",
    "\n",
    "# Customize ggplot appearance\n",
    "\n",
    "library(ggplot2)\n",
    "library(extrafont)\n",
    "\n",
    "\n",
    "# Load extra fonts\n",
    "# ttf_import(\"/tmp/.fonts\")\n",
    "# loadfonts()\n",
    "\n",
    "# Change theme\n",
    "customTheme <- theme_light() + \n",
    "               theme(panel.grid.minor=element_blank(), text=element_text(size=17, family=\"Arial\", colour = \"#333333\"),\n",
    "                     line=element_line(colour = \"#333333\"), \n",
    "                     legend.background = element_rect(fill=alpha('#CCCCCC', 0.1)), legend.key = element_blank())\n",
    "\n",
    "# Change default colors\n",
    "scale_colour_continuous <- function (..., begin = 0.1, end = 0.9, direction = -1, option = \"plasma\", \n",
    "                                     type = getOption(\"ggplot2.continuous.colour\", default = \"viridis\")) {\n",
    "    switch(type, gradient = scale_colour_gradient(...), \n",
    "        viridis = scale_colour_viridis_c(option = option, begin = begin, end = end, direction = direction, ...), \n",
    "        stop(\"Unknown scale type\", call. = FALSE))\n",
    "}\n",
    "scale_color_continuous <- scale_colour_continuous\n",
    "\n",
    "scale_fill_continuous <- function (..., begin = 0.1, end = 0.9, direction = -1, option = \"plasma\", \n",
    "                                     type = getOption(\"ggplot2.continuous.colour\", default = \"viridis\")) {\n",
    "    switch(type, gradient = scale_fill_gradient(...), \n",
    "        viridis = scale_fill_viridis_c(option = option, begin = begin, end = end, direction = direction, ...), \n",
    "        stop(\"Unknown scale type\", call. = FALSE))\n",
    "\n",
    "}\n",
    "\n",
    "cemm_pal = colorRampPalette(c(\"#5A463C\", \"#008CAD\", \"#40B9D4\", \"#D4ECF2\", \"#D2323C\", \"#F8B100\", \"#DFDC00\"))\n",
    "scale_fill_discrete <- function (..., type = \"CeMM\", h = c(0, 360) + 15, c = 100, l = 65, h.start = 0, \n",
    "    direction = 1, na.value = \"grey50\", aesthetics = \"fill\") \n",
    "{\n",
    "    if (type == \"CeMM\"){\n",
    "        discrete_scale(aesthetics, \"CeMM\", cemm_pal, na.value = na.value, ...)\n",
    "    } else {\n",
    "        discrete_scale(aesthetics, \"hue\", hue_pal(h, c, l, h.start, \n",
    "            direction), na.value = na.value, ...)\n",
    "    }\n",
    "}\n",
    "\n",
    "scale_color_discrete <- function (..., type = \"CeMM\", h = c(0, 360) + 15, c = 100, l = 65, h.start = 0, \n",
    "    direction = 1, na.value = \"grey50\", aesthetics = \"colour\") {\n",
    "    if (type == \"CeMM\"){\n",
    "        discrete_scale(aesthetics, \"CeMM\", cemm_pal, na.value = na.value, ...)\n",
    "    } else {\n",
    "        discrete_scale(aesthetics, \"hue\", scales::hue_pal(h, c, l, h.start, \n",
    "            direction), na.value = na.value, ...)\n",
    "    }\n",
    "}\n",
    "scale_colour_discrete <- scale_color_discrete\n",
    "\n",
    "noGridTheme <- function(...){\n",
    "    theme(panel.grid.major=element_blank(), axis.text.x=element_text(size=12), axis.text.y=element_text(size=12),\n",
    "                      axis.line=element_line(color=\"#333333\", size = 0.2), panel.border = element_blank(), ...)\n",
    "}\n",
    "\n",
    "darkTheme <- function(...){\n",
    "    theme(panel.background = element_rect(fill = '#333333'), plot.background = element_rect(fill = '#333333'), \n",
    "          axis.line=element_line(color=\"#CCCCCC\", size = 0.2), \n",
    "          text=element_text(size=17, family=\"Arial\", colour = \"#CCCCCC\"),\n",
    "          line=element_line(colour = \"#CCCCCC\"))\n",
    "}\n",
    "\n",
    "theme_set(customTheme)\n",
    "\n",
    "options(repr.plot.width=10, repr.plot.height=10)\n",
    "\"\"\""
   ]
  },
  {
   "cell_type": "markdown",
   "metadata": {},
   "source": [
    "## Load pre-computed statistical distances to DMSO"
   ]
  },
  {
   "cell_type": "code",
   "execution_count": null,
   "metadata": {
    "scrolled": true
   },
   "outputs": [],
   "source": [
    "RMPV = CSV.read(\"data/RMPV.csv\", DataFrame) "
   ]
  },
  {
   "cell_type": "code",
   "execution_count": null,
   "metadata": {
    "scrolled": true
   },
   "outputs": [],
   "source": [
    "RMPV.Condition[RMPV.RMPV .< 0.1]"
   ]
  },
  {
   "cell_type": "markdown",
   "metadata": {},
   "source": [
    "## Get annotations"
   ]
  },
  {
   "cell_type": "code",
   "execution_count": null,
   "metadata": {
    "scrolled": true
   },
   "outputs": [],
   "source": [
    "salt_to_remove = [\" maleate\", \" hydrochloride\", \" nitrate\", \n",
    "                  \" dihydrochloride\", \" chloride\", \" sulfate\", \n",
    "                  \" hydrate\", \" mesylate\", \" oxalate\", \" salt\",\n",
    "                  \" from Penicillium brefeldianum\", \" monohydrate\",\n",
    "                  \" trifluoroacetate\", \" acetate\", \" isethionate\",\n",
    "                  \" hemisulfate\", \" angular\", \" sodium\", \" fumarate\",\n",
    "                  \" methanesulfonate\", \" hemihydrate\", \" (MW = 374.83)\",\n",
    "                  \"(+/-)-\", \"(+)-\", \"(-)-\", \"S-(+)-\", \"(S)-\", \"(±)-\", \"D-\"]\n",
    "\n",
    "# It seems removing this set of enantiomer indications leads\n",
    "# to retrieving the correct compound annotation, as of the current release of the API.\n",
    "\n",
    "\"\"\"Other compounds might include salts but are anyway not found in the LINCS database at all:\n",
    "    AC-93253 iodide\n",
    "    N-p-Tosyl-L-phenylalanine chloromethyl ketone\n",
    "    4-(2-Aminoethyl)benzenesulfonyl fluoride hydrochloride\n",
    "    UNC0379 trifluoroacetate salt\"\"\"\n",
    "\n",
    "salt_dict = Dict(s => s\"\" for s in salt_to_remove)"
   ]
  },
  {
   "cell_type": "markdown",
   "metadata": {},
   "source": [
    "```\n",
    "https://api.clue.io/api/perts?filter={\"where\":{\"pert_iname\":\"(-)-Quinpirole\"}}&user_key=1fee664f310c86c5cb009c323de941db\n",
    "```"
   ]
  },
  {
   "cell_type": "code",
   "execution_count": null,
   "metadata": {
    "scrolled": true
   },
   "outputs": [],
   "source": [
    "\"\"\"\n",
    "This function parse a list of compound canonical IDs and extract mechanism of actions (MOA)\n",
    "annotated in the LINCS perturbation database when provided. Returns a list of annotates MOAs\n",
    "See https://clue.io/developer-resources#apisection\n",
    "\"\"\"\n",
    "function getMOA(cpd::String)\n",
    "    user_key = \"1fee664f310c86c5cb009c323de941db\"\n",
    "    rootURL = \"https://api.clue.io/api/perts?filter={\\\"where\\\":{\\\"pert_iname\\\":\\\"\"\n",
    "    typeURL = \"\\\"},\\\"fields\\\":{\\\"moa\\\":true}}&user_key=\"\n",
    "    # NB: case-dependent. Dashes are handled. Spaces are usually replaced by dashes.\n",
    "    \n",
    "    cpd_no_salt = reduce(replace, salt_dict, init=cpd)\n",
    "    \n",
    "    rq = rootURL * lowercase(cpd_no_salt) * typeURL * user_key\n",
    "    \n",
    "    try\n",
    "        resRq = HTTP.get(rq)\n",
    "        moaRQ = JSON.Parser.parse(String(resRq.body))[1]\n",
    "        return(moaRQ[\"moa\"])\n",
    "    catch e\n",
    "        if isa(e, BoundsError)\n",
    "            rq = rootURL * uppercase(cpd_no_salt) * typeURL * user_key\n",
    "            try\n",
    "                resRq = HTTP.get(rq)\n",
    "                moaRQ = JSON.Parser.parse(String(resRq.body))[1]\n",
    "                return(moaRQ[\"moa\"])\n",
    "            catch e\n",
    "                if isa(e, BoundsError)\n",
    "                println(cpd*\" does not have an MOA annotation.\")\n",
    "                end\n",
    "            end\n",
    "        elseif isa(e, HTTP.ExceptionRequest.StatusError)\n",
    "            println(cpd*\" raises a 502 error.\")\n",
    "        end\n",
    "        return()\n",
    "    end\n",
    "end"
   ]
  },
  {
   "cell_type": "code",
   "execution_count": null,
   "metadata": {},
   "outputs": [],
   "source": [
    "\"\"\"\n",
    "This function parse a list of compound canonical IDs and extract mechanism of actions (MOA)\n",
    "annotated in the LINCS perturbation database when provided. Returns a list of annotates MOAs\n",
    "See https://clue.io/developer-resources#apisection\n",
    "\"\"\"\n",
    "function get_MOA_and_target(cpd::String)\n",
    "    user_key = \"1fee664f310c86c5cb009c323de941db\"\n",
    "    rootURL = \"https://api.clue.io/api/perts?filter={\\\"where\\\":{\\\"pert_iname\\\":\\\"\"\n",
    "    typeURL = \"\\\"},\\\"fields\\\":{\\\"moa\\\":true,\\\"target\\\":true}}&user_key=\"\n",
    "    # NB: case-dependent. Dashes are handled. Spaces are usually replaced by dashes.\n",
    "    \n",
    "    cpd_no_salt = reduce(replace, salt_dict, init=cpd)\n",
    "    \n",
    "    rq = rootURL * lowercase(cpd_no_salt) * typeURL * user_key\n",
    "    \n",
    "    try\n",
    "        resRq = HTTP.get(rq)\n",
    "        moaRQ = JSON.Parser.parse(String(resRq.body))[1]\n",
    "        return(moaRQ)\n",
    "    catch e\n",
    "        if isa(e, BoundsError)\n",
    "            rq = rootURL * uppercase(cpd_no_salt) * typeURL * user_key\n",
    "            try\n",
    "                resRq = HTTP.get(rq)\n",
    "                moaRQ = JSON.Parser.parse(String(resRq.body))[1]\n",
    "                return(moaRQ)\n",
    "            catch e\n",
    "                if isa(e, BoundsError)\n",
    "                println(cpd*\" does not have an MOA annotation.\")\n",
    "                end\n",
    "            end\n",
    "        elseif isa(e, HTTP.ExceptionRequest.StatusError)\n",
    "            println(cpd*\" raises a 502 error.\")\n",
    "        end\n",
    "        return()\n",
    "    end\n",
    "end"
   ]
  },
  {
   "cell_type": "code",
   "execution_count": null,
   "metadata": {
    "scrolled": true
   },
   "outputs": [],
   "source": [
    "MOA = Dict()\n",
    "targets = Dict()\n",
    "for cpd in RMPV.Condition\n",
    "    moa = get_MOA_and_target(cpd)\n",
    "    if length(moa) > 0\n",
    "        if \"moa\" in keys(moa)\n",
    "            MOA[cpd] = moa[\"moa\"]\n",
    "        end\n",
    "        if \"target\" in keys(moa)\n",
    "            targets[cpd] = moa[\"target\"]\n",
    "        end\n",
    "    end\n",
    "end"
   ]
  },
  {
   "cell_type": "code",
   "execution_count": null,
   "metadata": {
    "scrolled": true
   },
   "outputs": [],
   "source": [
    "cpd_list = RMPV.Condition\n",
    "cpd_list = map(x -> reduce(replace, salt_dict, init=x), cpd_list)\n",
    "cpd_list = map(x -> replace(x,  \" \" => s\"-\"), cpd_list)"
   ]
  },
  {
   "cell_type": "code",
   "execution_count": null,
   "metadata": {
    "scrolled": true
   },
   "outputs": [],
   "source": [
    "short_to_initial_cpd = Dict(y => x for (x,y) in zip(RMPV.Condition, cpd_list))"
   ]
  },
  {
   "cell_type": "code",
   "execution_count": null,
   "metadata": {},
   "outputs": [],
   "source": [
    "for cpd in cpd_list\n",
    "    moa = get_MOA_and_target(cpd)\n",
    "    if length(moa) > 0\n",
    "        if \"moa\" in keys(moa)\n",
    "            MOA[short_to_initial_cpd[cpd]] = moa[\"moa\"]\n",
    "        end\n",
    "        if \"target\" in keys(moa)\n",
    "            targets[short_to_initial_cpd[cpd]] = moa[\"target\"]\n",
    "        end\n",
    "    end\n",
    "end"
   ]
  },
  {
   "cell_type": "code",
   "execution_count": null,
   "metadata": {},
   "outputs": [],
   "source": [
    "using HDF5, JLD\n",
    "save(\"data/MOA2.jld\", \"data\", MOA)\n",
    "save(\"data/target2.jld\", \"data\", targets)"
   ]
  },
  {
   "cell_type": "code",
   "execution_count": null,
   "metadata": {
    "scrolled": true
   },
   "outputs": [],
   "source": [
    "MOA"
   ]
  },
  {
   "cell_type": "code",
   "execution_count": null,
   "metadata": {
    "scrolled": true
   },
   "outputs": [],
   "source": [
    "targets"
   ]
  },
  {
   "cell_type": "markdown",
   "metadata": {},
   "source": [
    "You can save the MOA dictionary for later use:\n",
    "```julia\n",
    "using HDF5, JLD\n",
    "save(\"data/MOA.jld\", \"data\", MOA)\n",
    "save(\"data/target.jld\", \"data\", targets)\n",
    "MOA = load(\"data/MOA.jld\")[\"data\"]\n",
    "targets = load(\"data/target.jld\")[\"data\"]\n",
    "```"
   ]
  },
  {
   "cell_type": "code",
   "execution_count": null,
   "metadata": {},
   "outputs": [],
   "source": [
    "freqMOA = sort(freqtable(vcat(collect(values(MOA))...)), rev = true);"
   ]
  },
  {
   "cell_type": "code",
   "execution_count": null,
   "metadata": {},
   "outputs": [],
   "source": [
    "hitMOA = Dict(x => MOA[x] for x in RMPV.Condition[RMPV.RMPV .< 0.1] if x in keys(MOA))\n",
    "freqHitMOA = sort(freqtable(vcat(collect(values(hitMOA))...)), rev = true);"
   ]
  },
  {
   "cell_type": "code",
   "execution_count": null,
   "metadata": {
    "scrolled": false
   },
   "outputs": [],
   "source": [
    "dfMOA = DataFrame()\n",
    "dfMOA.MOA = repeat(names(freqMOA)[1][freqMOA .> 3], 2)\n",
    "dfMOA.Hits = repeat([true, false], inner = Int(length(dfMOA.MOA)/2))\n",
    "dfMOA.Count = zeros(length(dfMOA.MOA));"
   ]
  },
  {
   "cell_type": "code",
   "execution_count": null,
   "metadata": {},
   "outputs": [],
   "source": [
    "for row in eachrow(dfMOA)\n",
    "    if row.Hits\n",
    "        if row.MOA in names(freqHitMOA)[1]\n",
    "            row.Count = Dict(freqHitMOA)[row.MOA]\n",
    "        end\n",
    "    else\n",
    "        if row.MOA in names(freqHitMOA)[1]\n",
    "            row.Count = Dict(freqMOA)[row.MOA] - Dict(freqHitMOA)[row.MOA]\n",
    "        else\n",
    "            row.Count = Dict(freqMOA)[row.MOA]\n",
    "        end\n",
    "        \n",
    "        \n",
    "    end\n",
    "end\n",
    "dfMOA.MOA = CategoricalArray{String,1}(dfMOA.MOA, levels = reverse(names(freqMOA)[1][freqMOA .> 3]), ordered=true);"
   ]
  },
  {
   "cell_type": "code",
   "execution_count": null,
   "metadata": {},
   "outputs": [],
   "source": [
    "gp = ggplot(dfMOA, aes(x = :MOA, y = :Count, fill = :Hits)) + \n",
    "     geom_bar(position=\"stack\", stat=\"identity\") + coord_flip() + \n",
    "     scale_y_continuous(breaks = 0:2:12) +\n",
    "     theme(var\"legend.position\"=\"bottom\") +\n",
    "     RObject(nothing)"
   ]
  },
  {
   "cell_type": "code",
   "execution_count": null,
   "metadata": {},
   "outputs": [],
   "source": [
    "ggsave(\"fig/HitEnrichment.pdf\", gp);"
   ]
  },
  {
   "cell_type": "markdown",
   "metadata": {},
   "source": [
    "## MOA analysis"
   ]
  },
  {
   "cell_type": "markdown",
   "metadata": {},
   "source": [
    "Now we focus on MOAs with at least 2 hit compounds:"
   ]
  },
  {
   "cell_type": "code",
   "execution_count": null,
   "metadata": {},
   "outputs": [],
   "source": [
    "top_moa = names(freqHitMOA)[1][freqHitMOA .>= 2]"
   ]
  },
  {
   "cell_type": "markdown",
   "metadata": {},
   "source": [
    "This means focusing on the following hit compounds:"
   ]
  },
  {
   "cell_type": "code",
   "execution_count": null,
   "metadata": {},
   "outputs": [],
   "source": [
    "top_moa_hit_cpd = Set([k for (k,v) in MOA \n",
    "                         for m in v \n",
    "                         if m in top_moa]) ∩\n",
    "                  RMPV.Condition[RMPV.RMPV .< 0.1]"
   ]
  },
  {
   "cell_type": "markdown",
   "metadata": {},
   "source": [
    "Targets are known for all these compounds:"
   ]
  },
  {
   "cell_type": "code",
   "execution_count": null,
   "metadata": {},
   "outputs": [],
   "source": [
    "@assert all([x in keys(targets) for x in top_moa_hit_cpd])"
   ]
  },
  {
   "cell_type": "markdown",
   "metadata": {},
   "source": [
    "### MOA morphological similarity"
   ]
  },
  {
   "cell_type": "markdown",
   "metadata": {},
   "source": [
    "#### Load aggregated data"
   ]
  },
  {
   "cell_type": "code",
   "execution_count": null,
   "metadata": {
    "scrolled": true
   },
   "outputs": [],
   "source": [
    "aggregatedData = CSV.read(\"data/aggregatedData_750cells.csv\", DataFrame);"
   ]
  },
  {
   "cell_type": "markdown",
   "metadata": {},
   "source": [
    "#### Transform aggregated data - Normalization\n",
    "We want to focus on variables that are changing more overall than inside of reference condition (untreated WT)."
   ]
  },
  {
   "cell_type": "code",
   "execution_count": null,
   "metadata": {},
   "outputs": [],
   "source": [
    "expAgg = Experiment(aggregatedData, description = \"Median values for aggregated FOV measurements\")"
   ]
  },
  {
   "cell_type": "code",
   "execution_count": null,
   "metadata": {},
   "outputs": [],
   "source": [
    "filters = Array{BioProfiling.AbstractSelector,1}()\n",
    "# Remove metadata\n",
    "strToRemove = [\"Metadata_Well\", \"CompoundName\", \"Metadata_Field\", \"Metadata_Row\", \"Metadata_Column\"]\n",
    "push!(filters, NameSelector(x -> !any(occursin.(strToRemove, String(x)))))\n",
    "# Remove constant columns\n",
    "push!(filters, Selector(x -> mad(x, normalize = true) != 0, description = \"Remove constant features\"));\n",
    "push!(filters, Selector(x -> mad(x, normalize = true) != 0, \n",
    "                        subset = x -> x.CompoundName .== \"DMSO\", \n",
    "                        description = \"Remove features constant for reference\"))\n",
    "select_features!(expAgg, filters)"
   ]
  },
  {
   "cell_type": "code",
   "execution_count": null,
   "metadata": {
    "scrolled": true
   },
   "outputs": [],
   "source": [
    "expTransformed = deepcopy(expAgg)\n",
    "logtransform!(expTransformed)\n",
    "expTransformed.description = \"Transformed values for aggregated FOV measurements\""
   ]
  },
  {
   "cell_type": "markdown",
   "metadata": {},
   "source": [
    "Here we apply a correction based on the specific details of the experimental design:\n",
    "All rows and columns include DMSO (negative) controls and we normalize all values based on these matchings controls (same row and column).  \n",
    "\n",
    "This examplifies how to directly modify the data of an `Experiment` object.  \n",
    "\n",
    "NB: One might want to check that more iterations are not needed (cf. Median-polish method)."
   ]
  },
  {
   "cell_type": "code",
   "execution_count": null,
   "metadata": {
    "scrolled": true
   },
   "outputs": [],
   "source": [
    "# Normalize on matching DMSO wells median values\n",
    "\n",
    "# Entries in both data frames are matching\n",
    "@assert nrow(aggregatedData) == nrow(getdata(expTransformed))\n",
    "\n",
    "# Copy data before correction\n",
    "ndf = getdata(expTransformed)\n",
    "\n",
    "for (i, (fx, fy)) in enumerate(eachrow(aggregatedData[:,[:Metadata_Row, :Metadata_Column]])) \n",
    "    c1 = aggregatedData.CompoundName .== \"DMSO\"\n",
    "    c2 = aggregatedData.Metadata_Row .== fx\n",
    "    c3 = aggregatedData.Metadata_Column .== fy\n",
    "    @assert sum((c1 .& (c2 .| c3))) > 0\n",
    "    expTransformed.data[i:i, expTransformed.selected_features] .-= \n",
    "        mapcols(median, ndf[(c1 .& (c2 .| c3)),:]) \n",
    "end"
   ]
  },
  {
   "cell_type": "code",
   "execution_count": null,
   "metadata": {},
   "outputs": [],
   "source": [
    "compare_in(x,y) = x in y\n",
    "Broadcast.broadcasted(::typeof(compare_in), x, y) = broadcast(in, x, Ref(y)) \n",
    "# We now only keep hit compounds\n",
    "filter_entries!(expTransformed, Filter(top_moa_hit_cpd, :CompoundName, compare = compare_in));"
   ]
  },
  {
   "cell_type": "code",
   "execution_count": null,
   "metadata": {},
   "outputs": [],
   "source": [
    "expTransformed"
   ]
  },
  {
   "cell_type": "markdown",
   "metadata": {},
   "source": [
    "### Dimensionality reduction"
   ]
  },
  {
   "cell_type": "code",
   "execution_count": null,
   "metadata": {},
   "outputs": [],
   "source": [
    "using Distances\n",
    "Random.seed!(3895)\n",
    "umTPM = umap(expTransformed, 4, metric = CosineDist())\n",
    "umTPM = convert(DataFrame, umTPM')\n",
    "rename!(umTPM, Symbol.(\"UMAP\" .* string.(1:ncol(umTPM))));"
   ]
  },
  {
   "cell_type": "code",
   "execution_count": null,
   "metadata": {},
   "outputs": [],
   "source": [
    "top_moa"
   ]
  },
  {
   "cell_type": "code",
   "execution_count": null,
   "metadata": {
    "scrolled": false
   },
   "outputs": [],
   "source": [
    "umTPM.Compound = expTransformed.data.CompoundName[expTransformed.selected_entries]\n",
    "umTPM.MOA = [[y for y in MOA[x] if y in top_moa] for x in umTPM.Compound]\n",
    "umTPM.MOA2 = CategoricalArray(string.(umTPM.MOA));"
   ]
  },
  {
   "cell_type": "code",
   "execution_count": null,
   "metadata": {},
   "outputs": [],
   "source": [
    "ggplot(umTPM, aes(:UMAP1, :UMAP2)) + \n",
    "    geom_point(aes(color = :MOA2), alpha = 0.8) +\n",
    "    coord_fixed() + \n",
    "    theme(var\"legend.position\"=\"bottom\", var\"legend.spacing.x\" = unit(0.35, \"cm\"), \n",
    "    var\"legend.spacing.y\" = unit(0, \"cm\")) + \n",
    "    guides(color=guide_legend(nrow=3,byrow=true))"
   ]
  },
  {
   "cell_type": "code",
   "execution_count": null,
   "metadata": {},
   "outputs": [],
   "source": [
    "ggplot(umTPM, aes(:UMAP3, :UMAP4)) + \n",
    "    geom_point(aes(color = :MOA2), alpha = 0.8) +\n",
    "    coord_fixed() + \n",
    "    theme(var\"legend.position\"=\"bottom\", var\"legend.spacing.x\" = unit(0.35, \"cm\"), \n",
    "    var\"legend.spacing.y\" = unit(0, \"cm\")) + \n",
    "    guides(color=guide_legend(nrow=3,byrow=true))"
   ]
  },
  {
   "cell_type": "code",
   "execution_count": null,
   "metadata": {},
   "outputs": [],
   "source": [
    "expUMAP = Experiment(umTPM, description = \"UMAP projection of profiling data\")\n",
    "filters = Array{BioProfiling.AbstractReduce,1}()\n",
    "# Remove (categorical) compound column from analysis\n",
    "push!(filters, NameSelector(x -> x != \"Compound\"))\n",
    "push!(filters, NameSelector(x -> x != \"MOA\"))\n",
    "push!(filters, NameSelector(x -> x != \"MOA2\"))\n",
    "# Apply filters\n",
    "filter!(expUMAP, filters)\n",
    "expUMAP"
   ]
  },
  {
   "cell_type": "code",
   "execution_count": null,
   "metadata": {
    "scrolled": true
   },
   "outputs": [],
   "source": [
    "pairwise_hellinger = DataFrame([(x, y) for x in levels(top_moa_hit_cpd) for y in levels(top_moa_hit_cpd) if x != y]);\n",
    "exp_cpd = expTransformed.data[expTransformed.selected_entries, :CompoundName]\n",
    "pairwise_hellinger.distance = [distance_robust_hellinger(getdata(expUMAP), \n",
    "                                                         exp_cpd.==x, \n",
    "                                                         exp_cpd.==y) \n",
    "                               for (x,y) in eachrow(pairwise_hellinger)]\n",
    "rename!(pairwise_hellinger, [\"X\", \"Y\", \"distance\"]);"
   ]
  },
  {
   "cell_type": "code",
   "execution_count": null,
   "metadata": {},
   "outputs": [],
   "source": [
    "RCall.rcall_p(:options, rcalljl_options=Dict(:width => 1000, :height => 800))\n",
    "ggplot(pairwise_hellinger, aes(x = :X, y = :Y, fill = :distance)) +\n",
    "    geom_tile() +\n",
    "    xlab(\"\") +\n",
    "    ylab(\"\") + \n",
    "    theme(var\"axis.text.x\" = element_text(angle = 45, hjust = 1)) +\n",
    "    RObject(nothing)"
   ]
  },
  {
   "cell_type": "code",
   "execution_count": null,
   "metadata": {},
   "outputs": [],
   "source": [
    "MOA[\"Nisoldipine\"]"
   ]
  },
  {
   "cell_type": "code",
   "execution_count": null,
   "metadata": {},
   "outputs": [],
   "source": [
    "MOA[\"Paroxetine hydrochloride hemihydrate (MW = 374.83)\"]"
   ]
  },
  {
   "cell_type": "code",
   "execution_count": null,
   "metadata": {},
   "outputs": [],
   "source": [
    "MOA[\"Fluoxetine hydrochloride\"]"
   ]
  },
  {
   "cell_type": "code",
   "execution_count": null,
   "metadata": {},
   "outputs": [],
   "source": [
    "MOA[\"Cilnidipine\"]"
   ]
  },
  {
   "cell_type": "code",
   "execution_count": null,
   "metadata": {},
   "outputs": [],
   "source": [
    "MOA[\"Flunarizine dihydrochloride\"]"
   ]
  },
  {
   "cell_type": "code",
   "execution_count": null,
   "metadata": {},
   "outputs": [],
   "source": [
    "top_hits_per_moa = Dict(moa => [x for x in top_moa_hit_cpd if moa in MOA[x]] for moa in top_moa)"
   ]
  },
  {
   "cell_type": "code",
   "execution_count": null,
   "metadata": {},
   "outputs": [],
   "source": [
    "moa1 = \"Selective serotonin reuptake inhibitor (SSRI)\"\n",
    "moa2 = \"Calcium channel blocker\""
   ]
  },
  {
   "cell_type": "code",
   "execution_count": null,
   "metadata": {},
   "outputs": [],
   "source": [
    "[mean(pairwise_hellinger[\n",
    "        [x in top_hits_per_moa[moa1] for x in pairwise_hellinger.X] .&\n",
    "        [x in top_hits_per_moa[moa2] for x in pairwise_hellinger.Y],\n",
    "        :distance])\n",
    " for (moa1,moa2) in eachrow(moa_pairwise_hellinger)]"
   ]
  },
  {
   "cell_type": "code",
   "execution_count": null,
   "metadata": {},
   "outputs": [],
   "source": [
    "moa_pairwise_hellinger = DataFrame([(x, y) for x in top_moa \n",
    "                                           for y in top_moa if x != y]);\n",
    "moa_pairwise_hellinger.distance = [mean(pairwise_hellinger[\n",
    "                                        [x in top_hits_per_moa[moa1] for x in pairwise_hellinger.X] .&\n",
    "                                        [x in top_hits_per_moa[moa2] for x in pairwise_hellinger.Y],\n",
    "                                        :distance])\n",
    "                                   for (moa1,moa2) in eachrow(moa_pairwise_hellinger)]\n",
    "rename!(moa_pairwise_hellinger, [\"X\", \"Y\", \"distance\"]);"
   ]
  },
  {
   "cell_type": "code",
   "execution_count": null,
   "metadata": {},
   "outputs": [],
   "source": [
    "RCall.rcall_p(:options, rcalljl_options=Dict(:width => 1000, :height => 800))\n",
    "ggplot(moa_pairwise_hellinger, aes(x = :X, y = :Y, fill = :distance)) +\n",
    "    geom_tile() +\n",
    "    xlab(\"\") +\n",
    "    ylab(\"\") + \n",
    "    theme(var\"axis.text.x\" = element_text(angle = 45, hjust = 1)) +\n",
    "    RObject(nothing)"
   ]
  },
  {
   "cell_type": "markdown",
   "metadata": {},
   "source": [
    "### MOA target PPI similarity"
   ]
  },
  {
   "cell_type": "markdown",
   "metadata": {},
   "source": [
    "#### Load PPI from HIPPIE database"
   ]
  },
  {
   "cell_type": "code",
   "execution_count": null,
   "metadata": {
    "scrolled": true
   },
   "outputs": [],
   "source": [
    "# Fetch last version of HIPPIE database (2.2 when writing this notebook)\n",
    "hippie = HTTP.get(\"http://cbdm-01.zdv.uni-mainz.de/~mschaefer/hippie/hippie_current.txt\")\n",
    "hippie = CSV.read(hippie.body, DataFrame, header = false)\n",
    "rename!(hippie, [\"Uniprot1\", \"Entrez1\", \"Uniprot2\", \"Entrez2\", \"Confidence\", \"Experiments\"])"
   ]
  },
  {
   "cell_type": "markdown",
   "metadata": {},
   "source": [
    "HIPPIE's Q&A section suggests:  \n",
    "```medium confidence (0.63 - second quartile of the HIPPIE score distribution) or high confidence (0.73 - third quartile)```"
   ]
  },
  {
   "cell_type": "code",
   "execution_count": null,
   "metadata": {},
   "outputs": [],
   "source": [
    "ggplot(hippie, aes(x = :Confidence, y = \"All\")) +\n",
    "    geom_violin() +\n",
    "    geom_vline(xintercept = 0.63)"
   ]
  },
  {
   "cell_type": "code",
   "execution_count": null,
   "metadata": {
    "scrolled": true
   },
   "outputs": [],
   "source": [
    "hippie = hippie[hippie.Confidence .>= 0.63, 1:4]\n",
    "hippie = hippie[.!(ismissing.(hippie.Entrez1)), :]\n",
    "hippie = hippie[.!(ismissing.(hippie.Entrez2)), :]"
   ]
  },
  {
   "cell_type": "markdown",
   "metadata": {},
   "source": [
    "#### Construct PPI network"
   ]
  },
  {
   "cell_type": "code",
   "execution_count": null,
   "metadata": {},
   "outputs": [],
   "source": [
    "allgenes = hippie.Entrez1 ∪ hippie.Entrez2\n",
    "gene_to_ID = Dict(v => i  for (i,v) in enumerate(allgenes))\n",
    "ID_to_gene = Dict(i => v  for (i,v) in enumerate(allgenes));"
   ]
  },
  {
   "cell_type": "code",
   "execution_count": null,
   "metadata": {},
   "outputs": [],
   "source": [
    "# Duplicated links and self-edges are discarded\n",
    "G = SimpleGraph(length(allgenes))\n",
    "map(x -> add_edge!(G, Tuple(x)), eachrow(map(x -> gene_to_ID[x], Array(hippie[:, [:Entrez1, :Entrez2]]))));"
   ]
  },
  {
   "cell_type": "code",
   "execution_count": null,
   "metadata": {},
   "outputs": [],
   "source": [
    "function symbol_to_entrez_mygeneinfo(s::String)\n",
    "    prefix = \"http://mygene.info/v3/query?q=symbol:\"\n",
    "    suffix = \"&species=human&fields=entrez\"\n",
    "    rq = prefix*s*suffix\n",
    "    resRq = HTTP.get(rq)\n",
    "    entrezRQ = JSON.Parser.parse(String(resRq.body))\n",
    "    if entrezRQ[\"total\"] > 0\n",
    "        return(entrezRQ[\"hits\"][1][\"_id\"])\n",
    "    else\n",
    "        return(NaN)\n",
    "    end\n",
    "end\n",
    "\n",
    "alltargets = unique(collect(Iterators.flatten(values(targets))))\n",
    "alltargets_entrez = symbol_to_entrez_mygeneinfo.(alltargets);"
   ]
  },
  {
   "cell_type": "markdown",
   "metadata": {},
   "source": [
    "# The following sections need to be reworked:"
   ]
  },
  {
   "cell_type": "markdown",
   "metadata": {},
   "source": [
    "# ! The gene string values are not symbols but UniProt names!"
   ]
  },
  {
   "cell_type": "code",
   "execution_count": null,
   "metadata": {},
   "outputs": [],
   "source": [
    "hippie = hippie[.!(ismissing.(hippie.Symbol1)), :]\n",
    "hippie = hippie[.!(ismissing.(hippie.Symbol2)), :]"
   ]
  },
  {
   "cell_type": "code",
   "execution_count": null,
   "metadata": {},
   "outputs": [],
   "source": [
    "@assert all([occursin(\"_HUMAN\", x) for x in hippie.Symbol1])\n",
    "@assert all([occursin(\"_HUMAN\", x) for x in hippie.Symbol2])"
   ]
  },
  {
   "cell_type": "code",
   "execution_count": null,
   "metadata": {},
   "outputs": [],
   "source": [
    "hippie.Symbol1 = map(x -> replace(x, \"_HUMAN\" => s\"\"), hippie.Symbol1)\n",
    "hippie.Symbol2 = map(x -> replace(x, \"_HUMAN\" => s\"\"), hippie.Symbol2);"
   ]
  },
  {
   "cell_type": "code",
   "execution_count": null,
   "metadata": {},
   "outputs": [],
   "source": [
    "allgenes = hippie.Symbol1 ∪ hippie.Symbol2\n",
    "gene_to_ID = Dict(v => i  for (i,v) in enumerate(allgenes))\n",
    "ID_to_gene = Dict(i => v  for (i,v) in enumerate(allgenes));"
   ]
  },
  {
   "cell_type": "code",
   "execution_count": null,
   "metadata": {},
   "outputs": [],
   "source": [
    "gene_to_ID[\"SRGN\"]"
   ]
  },
  {
   "cell_type": "code",
   "execution_count": null,
   "metadata": {},
   "outputs": [],
   "source": [
    "gene_to_ID[\"CD44\"]"
   ]
  },
  {
   "cell_type": "code",
   "execution_count": null,
   "metadata": {
    "scrolled": true
   },
   "outputs": [],
   "source": [
    "(4, 6109) in edges(G)"
   ]
  },
  {
   "cell_type": "markdown",
   "metadata": {},
   "source": [
    "To quantify closeness of drug modules, we use the $s_{AB}$ score from Menche et al. (Science, 2015) defined as follows:\n",
    "$s_{AB} = <d_{AB}> - \\frac{<d_{AA}>+<d_{BB}>}{2}$"
   ]
  },
  {
   "cell_type": "code",
   "execution_count": null,
   "metadata": {},
   "outputs": [],
   "source": [
    "IDlist(x) = [gene_to_ID[y] for y in targets[x] if y in keys(gene_to_ID)]\n",
    "\n",
    "IDlist(\"Fluoxetine hydrochloride\")\n",
    "IDlist(\"Flunarizine dihydrochloride\")"
   ]
  },
  {
   "cell_type": "code",
   "execution_count": null,
   "metadata": {},
   "outputs": [],
   "source": [
    "[y in keys(gene_to_ID) for y in targets[\"Fluoxetine hydrochloride\"]]"
   ]
  },
  {
   "cell_type": "code",
   "execution_count": null,
   "metadata": {
    "scrolled": true
   },
   "outputs": [],
   "source": [
    "\"HTR2B\" in allgenes"
   ]
  },
  {
   "cell_type": "code",
   "execution_count": null,
   "metadata": {},
   "outputs": [],
   "source": []
  },
  {
   "cell_type": "code",
   "execution_count": null,
   "metadata": {},
   "outputs": [],
   "source": [
    "gene_to_ID[\"ANO1\"]"
   ]
  },
  {
   "cell_type": "code",
   "execution_count": null,
   "metadata": {},
   "outputs": [],
   "source": []
  },
  {
   "cell_type": "code",
   "execution_count": null,
   "metadata": {
    "scrolled": true
   },
   "outputs": [],
   "source": [
    "[ID_to_gene[x] for x in IDlist(\"Fluoxetine hydrochloride\")]"
   ]
  },
  {
   "cell_type": "code",
   "execution_count": null,
   "metadata": {},
   "outputs": [],
   "source": [
    "targets[\"Fluoxetine hydrochloride\"]"
   ]
  },
  {
   "cell_type": "code",
   "execution_count": null,
   "metadata": {},
   "outputs": [],
   "source": []
  },
  {
   "cell_type": "code",
   "execution_count": null,
   "metadata": {},
   "outputs": [],
   "source": []
  },
  {
   "cell_type": "code",
   "execution_count": null,
   "metadata": {},
   "outputs": [],
   "source": []
  },
  {
   "cell_type": "code",
   "execution_count": null,
   "metadata": {},
   "outputs": [],
   "source": []
  },
  {
   "cell_type": "code",
   "execution_count": null,
   "metadata": {},
   "outputs": [],
   "source": [
    "hippie"
   ]
  },
  {
   "cell_type": "code",
   "execution_count": null,
   "metadata": {},
   "outputs": [],
   "source": []
  },
  {
   "cell_type": "code",
   "execution_count": null,
   "metadata": {},
   "outputs": [],
   "source": [
    "Edge.(Array(hippie[:, [:Symbol1, :Symbol2]]))"
   ]
  },
  {
   "cell_type": "code",
   "execution_count": null,
   "metadata": {},
   "outputs": [],
   "source": [
    "Array(hippie[:, [:Symbol1, :Symbol2]])"
   ]
  },
  {
   "cell_type": "code",
   "execution_count": null,
   "metadata": {},
   "outputs": [],
   "source": []
  },
  {
   "cell_type": "code",
   "execution_count": null,
   "metadata": {},
   "outputs": [],
   "source": []
  },
  {
   "cell_type": "code",
   "execution_count": null,
   "metadata": {
    "scrolled": true
   },
   "outputs": [],
   "source": [
    "cpdTopMOA = Set([k for (k,v) in MOA for m in v if m in names(freqMOA)[1][freqMOA .> 3]]) "
   ]
  },
  {
   "cell_type": "markdown",
   "metadata": {},
   "source": [
    "## Top MOAs "
   ]
  },
  {
   "cell_type": "code",
   "execution_count": null,
   "metadata": {
    "scrolled": true
   },
   "outputs": [],
   "source": [
    "cpdTopMOA = Set([k for (k,v) in MOA for m in v if m in names(freqMOA)[1][freqMOA .> 3]])"
   ]
  },
  {
   "cell_type": "code",
   "execution_count": null,
   "metadata": {
    "scrolled": true
   },
   "outputs": [],
   "source": [
    "compare_in(x,y) = x in y\n",
    "Broadcast.broadcasted(::typeof(compare_in), x, y) = broadcast(in, x, Ref(y)) \n",
    "# We now only keep compounds having one of the most common MOA\n",
    "filterEntriesExperiment!(expTransformed, Filter(cpdTopMOA, :CompoundName, compare = compare_in));"
   ]
  },
  {
   "cell_type": "markdown",
   "metadata": {},
   "source": [
    "## Visualization"
   ]
  },
  {
   "cell_type": "code",
   "execution_count": null,
   "metadata": {
    "scrolled": true
   },
   "outputs": [],
   "source": [
    "Random.seed!(3895)\n",
    "umTPM = umap(expTransformed)\n",
    "umTPM = convert(DataFrame, umTPM')\n",
    "rename!(umTPM, [:UMAP1, :UMAP2]);\n",
    "umTPM.Compound = expTransformed.data.CompoundName[expTransformed.selectedEntries]\n",
    "# Warning: compounds with multiple MOAs are not yet properly handled\n",
    "umTPM.MOA = CategoricalArray([MOA[x][end] for x in umTPM.Compound]);"
   ]
  },
  {
   "cell_type": "code",
   "execution_count": null,
   "metadata": {},
   "outputs": [],
   "source": [
    "ggplot(umTPM, aes(:UMAP1, :UMAP2)) + \n",
    "    geom_point(aes(color = :MOA), alpha = 0.8) +\n",
    "    coord_fixed() + \n",
    "    theme(var\"legend.position\"=\"bottom\", var\"legend.spacing.x\" = unit(0.35, \"cm\"), \n",
    "    var\"legend.spacing.y\" = unit(0, \"cm\")) + \n",
    "    guides(color=guide_legend(nrow=3,byrow=true))"
   ]
  },
  {
   "cell_type": "markdown",
   "metadata": {},
   "source": [
    "## Drug similarity network and embedding"
   ]
  },
  {
   "cell_type": "code",
   "execution_count": null,
   "metadata": {},
   "outputs": [],
   "source": [
    "expTransformed = deepcopy(expAgg)\n",
    "logtransform!(expTransformed)\n",
    "expTransformed.description = \"Transformed values for aggregated FOV measurements\""
   ]
  },
  {
   "cell_type": "code",
   "execution_count": null,
   "metadata": {},
   "outputs": [],
   "source": [
    "# Normalize on matching DMSO wells median values\n",
    "\n",
    "# Entries in both data frames are matching\n",
    "@assert nrow(aggregatedData) == nrow(getdata(expTransformed))\n",
    "\n",
    "# Copy data before correction\n",
    "ndf = getdata(expTransformed)\n",
    "\n",
    "for (i, (fx, fy)) in enumerate(eachrow(aggregatedData[:,[:Metadata_Row, :Metadata_Column]])) \n",
    "    c1 = aggregatedData.CompoundName .== \"DMSO\"\n",
    "    c2 = aggregatedData.Metadata_Row .== fx\n",
    "    c3 = aggregatedData.Metadata_Column .== fy\n",
    "    @assert sum((c1 .& (c2 .| c3))) > 0\n",
    "    expTransformed.data[i:i, expTransformed.selectedFeatures] .-= \n",
    "        mapcols(median, ndf[(c1 .& (c2 .| c3)),:]) \n",
    "end"
   ]
  },
  {
   "cell_type": "markdown",
   "metadata": {
    "scrolled": true
   },
   "source": [
    "Alternatively, one can discard unannotated compounds:\n",
    "```\n",
    "# We focus on all hits with known MOA\n",
    "selected_moa = names(freqHitMOA)[1]\n",
    "selected_cpd = [k for (k,v) in hitMOA if any([x in v for x in selected_moa])];\n",
    "```"
   ]
  },
  {
   "cell_type": "code",
   "execution_count": null,
   "metadata": {
    "scrolled": true
   },
   "outputs": [],
   "source": [
    "selected_cpd = RMPV.Condition[RMPV.RMPV .< 0.1]"
   ]
  },
  {
   "cell_type": "code",
   "execution_count": null,
   "metadata": {},
   "outputs": [],
   "source": [
    "compare_in(x,y) = x in y\n",
    "Broadcast.broadcasted(::typeof(compare_in), x, y) = broadcast(in, x, Ref(y)) \n",
    "# We now only keep hit compounds\n",
    "filterEntriesExperiment!(expTransformed, Filter(selected_cpd, :CompoundName, compare = compare_in));"
   ]
  },
  {
   "cell_type": "code",
   "execution_count": null,
   "metadata": {},
   "outputs": [],
   "source": [
    "using Distances"
   ]
  },
  {
   "cell_type": "code",
   "execution_count": null,
   "metadata": {},
   "outputs": [],
   "source": [
    "using Distances\n",
    "Random.seed!(3895)\n",
    "umTPM = umap(expTransformed, 2, metric = CosineDist())\n",
    "umTPM = convert(DataFrame, umTPM')\n",
    "rename!(umTPM, Symbol.(\"UMAP\" .* string.(1:ncol(umTPM))));\n",
    "umTPM.Compound = expTransformed.data.CompoundName[expTransformed.selectedEntries]\n",
    "\n",
    "# Warning: compounds with multiple MOAs are not yet properly handled\n",
    "umTPM.MOA = CategoricalArray([x in keys(MOA) ? MOA[x][end] : \"Other\" for x in umTPM.Compound]);\n",
    "\n",
    "# Highlight top 3 MOAs (3 compounds each)\n",
    "selected_moa = [\"Tubulin inhibitor\", \"Dopamine receptor antagonist\", \"Calcium channel blocker\"]\n",
    "umTPM[!, Symbol(\"Mechanism of action\")] = [m in selected_moa ? String(m) : \"Other\" for m in umTPM.MOA]\n",
    "umTPM[!, Symbol(\"Mechanism of action\")] = CategoricalArray(\n",
    "    umTPM[:, Symbol(\"Mechanism of action\")], levels = [selected_moa..., \"Other\"]);"
   ]
  },
  {
   "cell_type": "code",
   "execution_count": null,
   "metadata": {},
   "outputs": [],
   "source": [
    "freqtable(umTPM[:, Symbol(\"Mechanism of action\")])"
   ]
  },
  {
   "cell_type": "code",
   "execution_count": null,
   "metadata": {},
   "outputs": [],
   "source": [
    "ggplot(umTPM, aes(:UMAP1, :UMAP2)) + \n",
    "    geom_point(aes(color = Symbol(\"Mechanism of action\")), alpha = 0.8) +\n",
    "    coord_fixed() + \n",
    "    theme(var\"legend.position\"=\"bottom\", var\"legend.spacing.x\" = unit(0.35, \"cm\"), \n",
    "    var\"legend.spacing.y\" = unit(0, \"cm\")) + \n",
    "    guides(color=guide_legend(title = \"\", nrow=2,byrow=true)) +\n",
    "    RObject(nothing)"
   ]
  },
  {
   "cell_type": "code",
   "execution_count": null,
   "metadata": {},
   "outputs": [],
   "source": [
    "Random.seed!(3895)\n",
    "umTPM = umap(expTransformed, 6)\n",
    "umTPM = convert(DataFrame, umTPM')\n",
    "rename!(umTPM, Symbol.(\"UMAP\" .* string.(1:ncol(umTPM))));\n",
    "umTPM.Compound = expTransformed.data.CompoundName[expTransformed.selectedEntries]\n",
    "\n",
    "# Warning: compounds with multiple MOAs are not yet properly handled\n",
    "umTPM.MOA = CategoricalArray([x in keys(MOA) ? MOA[x][end] : \"Other\" for x in umTPM.Compound]);"
   ]
  },
  {
   "cell_type": "code",
   "execution_count": null,
   "metadata": {},
   "outputs": [],
   "source": [
    "ggplot(umTPM, aes(:UMAP1, :UMAP2)) + \n",
    "    geom_point(aes(color = :MOA), alpha = 0.8) +\n",
    "    coord_fixed() + \n",
    "    theme(var\"legend.position\"=\"bottom\", var\"legend.spacing.x\" = unit(0.35, \"cm\"), \n",
    "    var\"legend.spacing.y\" = unit(0, \"cm\")) + \n",
    "    guides(color=false)"
   ]
  },
  {
   "cell_type": "code",
   "execution_count": null,
   "metadata": {},
   "outputs": [],
   "source": [
    "expUMAP = Experiment(umTPM, description = \"UMAP projection of profiling data\")"
   ]
  },
  {
   "cell_type": "code",
   "execution_count": null,
   "metadata": {},
   "outputs": [],
   "source": [
    "filters = Array{RMP.AbstractReduce,1}()\n",
    "# Remove (categorical) compound column from analysis\n",
    "push!(filters, NameSelector(x -> x != \"Compound\"))\n",
    "push!(filters, NameSelector(x -> x != \"MOA\"))\n",
    "# Apply filters\n",
    "filterExperiment!(expUMAP, filters)\n",
    "expUMAP"
   ]
  },
  {
   "cell_type": "code",
   "execution_count": null,
   "metadata": {
    "scrolled": true
   },
   "outputs": [],
   "source": [
    "pairwise_hellinger = DataFrame([(x, y) for x in levels(selected_cpd) for y in levels(selected_cpd) if x != y]);"
   ]
  },
  {
   "cell_type": "code",
   "execution_count": null,
   "metadata": {
    "scrolled": true
   },
   "outputs": [],
   "source": [
    "exp_cpd = expTransformed.data[expTransformed.selectedEntries, :CompoundName]\n",
    "pairwise_hellinger.distance = [distance_robust_hellinger(getdata(expUMAP), \n",
    "                                                         exp_cpd.==x, \n",
    "                                                         exp_cpd.==y) \n",
    "                               for (x,y) in eachrow(pairwise_hellinger)]"
   ]
  },
  {
   "cell_type": "code",
   "execution_count": null,
   "metadata": {},
   "outputs": [],
   "source": [
    "ggplot(pairwise_hellinger, aes(x = :distance, y = \"All pairs\")) +\n",
    "    geom_violin() + ylab(\"\")"
   ]
  },
  {
   "cell_type": "code",
   "execution_count": null,
   "metadata": {},
   "outputs": [],
   "source": [
    "# Get all link with values higher than x\n",
    "# Distance is symmetrical so there is no issue with duplicates\n",
    "# edgesDrugNet = Dict(sort([x,y]) => 1 - v for (x,y,v) in eachrow(pairwise_hellinger) if v < 0.8)\n",
    "edgesDrugNet = Dict(sort([x,y]) => 1 - v for (x,y,v) in eachrow(pairwise_hellinger) if (!ismissing(v))&(v < 0.98))\n",
    "length(edgesDrugNet)"
   ]
  },
  {
   "cell_type": "code",
   "execution_count": null,
   "metadata": {},
   "outputs": [],
   "source": [
    "drugToInt = Dict(x => i for (i, x) in enumerate(selected_cpd))\n",
    "g = SimpleWeightedGraph(length(selected_cpd))\n",
    "[add_edge!(g, drugToInt[k[1]], drugToInt[k[2]], v) for (k,v) in edgesDrugNet];"
   ]
  },
  {
   "cell_type": "code",
   "execution_count": null,
   "metadata": {},
   "outputs": [],
   "source": [
    "# Network density\n",
    "length(edgesDrugNet)/((length(vertices(g))*(length(vertices(g)) - 1))/2)"
   ]
  },
  {
   "cell_type": "code",
   "execution_count": null,
   "metadata": {
    "scrolled": false
   },
   "outputs": [],
   "source": [
    "using GraphRecipes, Plots\n",
    "graphplot(g, curves=true, nodeshape = :circle, nodesize = 0.25)"
   ]
  },
  {
   "cell_type": "markdown",
   "metadata": {},
   "source": [
    "### Network embedding"
   ]
  },
  {
   "cell_type": "code",
   "execution_count": null,
   "metadata": {
    "scrolled": true
   },
   "outputs": [],
   "source": [
    "import Pkg\n",
    "Pkg.add(Pkg.PackageSpec(url = \"https://github.com/ollin18/Node2Vec.jl\")) "
   ]
  },
  {
   "cell_type": "code",
   "execution_count": null,
   "metadata": {},
   "outputs": [],
   "source": [
    "using Node2Vec"
   ]
  },
  {
   "cell_type": "code",
   "execution_count": null,
   "metadata": {
    "scrolled": true
   },
   "outputs": [],
   "source": [
    "walks = simulate_walks(g,5,50,2,2)"
   ]
  },
  {
   "cell_type": "code",
   "execution_count": null,
   "metadata": {},
   "outputs": [],
   "source": [
    "embmodel = learn_embeddings(walks)"
   ]
  },
  {
   "cell_type": "code",
   "execution_count": null,
   "metadata": {},
   "outputs": [],
   "source": [
    "# Note why there is an extra entry but this follows\n",
    "# the example of the node2vec package\n",
    "embeddings = embmodel.vectors[:,2:end];"
   ]
  },
  {
   "cell_type": "code",
   "execution_count": null,
   "metadata": {},
   "outputs": [],
   "source": [
    "Random.seed!(3895)\n",
    "umEmb = umap(embeddings)\n",
    "umEmb = convert(DataFrame, umEmb')\n",
    "rename!(umEmb, [:UMAP1, :UMAP2]);\n",
    "intToDrug = Dict(v => k for (k,v) in drugToInt)\n",
    "umEmb.Compound = [intToDrug[x] for x in 1:length(selected_cpd)]\n",
    "\n",
    "# Warning: compounds with multiple MOAs are not yet properly handled\n",
    "umEmb.MOA = CategoricalArray([x in keys(MOA) ? MOA[x][end] : \"Other\" for x in umEmb.Compound]);"
   ]
  },
  {
   "cell_type": "code",
   "execution_count": null,
   "metadata": {
    "scrolled": false
   },
   "outputs": [],
   "source": [
    "# Highlight top 3 MOAs (3 compounds each)\n",
    "selected_moa = [\"Tubulin inhibitor\", \"Dopamine receptor antagonist\", \"Calcium channel blocker\"]\n",
    "umEmb[!, Symbol(\"Mechanism of action\")] = [m in selected_moa ? String(m) : \"Other\" for m in umEmb.MOA]\n",
    "umEmb[!, Symbol(\"Mechanism of action\")] = CategoricalArray(\n",
    "    umEmb[:, Symbol(\"Mechanism of action\")], levels = [selected_moa..., \"Other\"]);"
   ]
  },
  {
   "cell_type": "code",
   "execution_count": null,
   "metadata": {},
   "outputs": [],
   "source": [
    "gp = ggplot(umEmb, aes(:UMAP1, :UMAP2)) + \n",
    "    geom_point(aes(color = Symbol(\"Mechanism of action\")), alpha = 0.8) +\n",
    "    coord_fixed() + \n",
    "    theme(var\"legend.position\"=\"bottom\", var\"legend.spacing.x\" = unit(0.35, \"cm\"), \n",
    "    var\"legend.spacing.y\" = unit(0, \"cm\")) +\n",
    "    guides(color=guide_legend(title = \"\", nrow=2,byrow=true)) +\n",
    "    RObject(nothing)\n",
    "print(gp)\n",
    "ggsave(\"fig/allhits_embedding_topMOA.pdf\", gp)"
   ]
  },
  {
   "cell_type": "code",
   "execution_count": null,
   "metadata": {},
   "outputs": [],
   "source": [
    "gp = ggplot(umEmb, aes(:UMAP1, :UMAP2)) + \n",
    "    geom_point(aes(color = Symbol(\"Mechanism of action\")), alpha = 0.8) +\n",
    "    coord_fixed() + \n",
    "    theme(var\"legend.position\"=\"bottom\", var\"legend.spacing.x\" = unit(0.35, \"cm\"), \n",
    "    var\"legend.spacing.y\" = unit(0, \"cm\")) +\n",
    "    guides(color=guide_legend(title = \"\", nrow=2,byrow=true)) +\n",
    "    RObject(nothing)\n",
    "print(gp)\n",
    "ggsave(\"fig/allhits_embedding_topMOA.pdf\", gp)"
   ]
  },
  {
   "cell_type": "code",
   "execution_count": null,
   "metadata": {},
   "outputs": [],
   "source": [
    "gp = ggplot(umEmb, aes(:UMAP1, :UMAP2)) + \n",
    "    geom_point(aes(color = Symbol(\"Mechanism of action\")), alpha = 0.8) +\n",
    "    coord_fixed() + \n",
    "    theme(var\"legend.position\"=\"bottom\", var\"legend.spacing.x\" = unit(0.35, \"cm\"), \n",
    "    var\"legend.spacing.y\" = unit(0, \"cm\")) +\n",
    "    guides(color=guide_legend(title = \"\", nrow=2,byrow=true)) +\n",
    "    RObject(nothing)\n",
    "print(gp)"
   ]
  },
  {
   "cell_type": "markdown",
   "metadata": {},
   "source": [
    "## MOA similarity network"
   ]
  },
  {
   "cell_type": "markdown",
   "metadata": {},
   "source": [
    "### Based on median cosine similarity at the image-level."
   ]
  },
  {
   "cell_type": "code",
   "execution_count": null,
   "metadata": {
    "scrolled": true
   },
   "outputs": [],
   "source": [
    "# We focus on MOAs with at least 2 compounds\n",
    "selected_moa = names(freqHitMOA)[1][freqHitMOA .>= 2]\n",
    "selected_cpd = [k for (k,v) in hitMOA if any([x in v for x in selected_moa])]"
   ]
  },
  {
   "cell_type": "code",
   "execution_count": null,
   "metadata": {
    "scrolled": true
   },
   "outputs": [],
   "source": [
    "expTransformed = deepcopy(expAgg)\n",
    "logtransform!(expTransformed)\n",
    "expTransformed.description = \"Transformed values for aggregated FOV measurements\""
   ]
  },
  {
   "cell_type": "markdown",
   "metadata": {},
   "source": [
    "Here we apply a correction based on the specific details of the experimental design:\n",
    "All rows and columns include DMSO (negative) controls and we normalize all values based on these matchings controls (same row and column).  \n",
    "\n",
    "This examplifies how to directly modify the data of an `Experiment` object.  \n",
    "\n",
    "NB: One might want to check that more iterations are not needed (cf. Median-polish method)."
   ]
  },
  {
   "cell_type": "code",
   "execution_count": null,
   "metadata": {
    "scrolled": true
   },
   "outputs": [],
   "source": [
    "# Normalize on matching DMSO wells median values\n",
    "\n",
    "# Entries in both data frames are matching\n",
    "@assert nrow(aggregatedData) == nrow(getdata(expTransformed))\n",
    "\n",
    "# Copy data before correction\n",
    "ndf = getdata(expTransformed)\n",
    "\n",
    "for (i, (fx, fy)) in enumerate(eachrow(aggregatedData[:,[:Metadata_Row, :Metadata_Column]])) \n",
    "    c1 = aggregatedData.CompoundName .== \"DMSO\"\n",
    "    c2 = aggregatedData.Metadata_Row .== fx\n",
    "    c3 = aggregatedData.Metadata_Column .== fy\n",
    "    @assert sum((c1 .& (c2 .| c3))) > 0\n",
    "    expTransformed.data[i:i, expTransformed.selectedFeatures] .-= \n",
    "        mapcols(median, ndf[(c1 .& (c2 .| c3)),:]) \n",
    "end"
   ]
  },
  {
   "cell_type": "code",
   "execution_count": null,
   "metadata": {
    "scrolled": true
   },
   "outputs": [],
   "source": [
    "compare_in(x,y) = x in y\n",
    "Broadcast.broadcasted(::typeof(compare_in), x, y) = broadcast(in, x, Ref(y)) \n",
    "# We now only keep compounds having one of the most common MOA\n",
    "filterEntriesExperiment!(expTransformed, Filter(selected_cpd, :CompoundName, compare = compare_in));"
   ]
  },
  {
   "cell_type": "code",
   "execution_count": null,
   "metadata": {},
   "outputs": [],
   "source": [
    "using Distances"
   ]
  },
  {
   "cell_type": "code",
   "execution_count": null,
   "metadata": {
    "scrolled": true
   },
   "outputs": [],
   "source": [
    "# Image cosine similarities\n",
    "imgCosSim = 1 .- pairwise(CosineDist(), Array(getdata(expTransformed))');"
   ]
  },
  {
   "cell_type": "code",
   "execution_count": null,
   "metadata": {},
   "outputs": [],
   "source": [
    "# Store MOA cosine similarity\n",
    "moaCosSim = Dict()\n",
    "cmp_names = expTransformed.data[expTransformed.selectedEntries, :CompoundName] \n",
    "# For all combinations (avoiding duplicates)\n",
    "for (moa1, moa2) in [(x,y) for (x,y) in Iterators.product(selected_moa, selected_moa) if x >= y]\n",
    "    # Get compounds and corresponding images for each MOA\n",
    "    cmp_moa1 = [k for (k,v) in hitMOA if moa1 in v]\n",
    "    ind_moa1 = findall([x in cmp_moa1 for x in cmp_names])\n",
    "    cmp_moa2 = [k for (k,v) in hitMOA if moa2 in v]\n",
    "    ind_moa2 = findall([x in cmp_moa2 for x in cmp_names])\n",
    "    # Take median value\n",
    "    moaCosSim[(moa1, moa2)] = median([imgCosSim[x...] for x in Iterators.product(ind_moa1, ind_moa2)])\n",
    "end"
   ]
  },
  {
   "cell_type": "code",
   "execution_count": null,
   "metadata": {},
   "outputs": [],
   "source": [
    "# Display for MOA self-similarity\n",
    "for moa in selected_moa\n",
    "    println(moa, \": \", moaCosSim[(moa, moa)])\n",
    "end"
   ]
  },
  {
   "cell_type": "code",
   "execution_count": null,
   "metadata": {},
   "outputs": [],
   "source": [
    "# Get all link with values higher than x\n",
    "edgesMoaNet = Dict(k => v for (k,v) in moaCosSim if v > 0.35)\n",
    "println(length(unique([y for x in keys(edgesMoaNet) for y in x ])))\n",
    "length(edgesMoaNet)"
   ]
  },
  {
   "cell_type": "code",
   "execution_count": null,
   "metadata": {
    "scrolled": true
   },
   "outputs": [],
   "source": [
    "moaToInt = Dict(x => i for (i, x) in enumerate(selected_moa))\n",
    "g = SimpleWeightedGraph(11)\n",
    "# NB: self-edges are kept\n",
    "[add_edge!(g, moaToInt[k[1]], moaToInt[k[2]], v) for (k,v) in edgesMoaNet];"
   ]
  },
  {
   "cell_type": "code",
   "execution_count": null,
   "metadata": {},
   "outputs": [],
   "source": [
    "moaToInt"
   ]
  },
  {
   "cell_type": "code",
   "execution_count": null,
   "metadata": {},
   "outputs": [],
   "source": [
    "savegraph(\"fig/MOA_similarity_per_image.gml\", g, \"MOA_similarity\", GraphIO.GML.GMLFormat())"
   ]
  },
  {
   "cell_type": "markdown",
   "metadata": {},
   "source": [
    "### Based on cosine similarity of median profile at the MOA-level."
   ]
  },
  {
   "cell_type": "code",
   "execution_count": null,
   "metadata": {},
   "outputs": [],
   "source": [
    "cmp_moas = [MOA[x] for x in cmp_names];"
   ]
  },
  {
   "cell_type": "code",
   "execution_count": null,
   "metadata": {},
   "outputs": [],
   "source": [
    "\"\"\" For a given `moa`, return the median profile across all\n",
    "    selected images.\n",
    "\"\"\"\n",
    "function moaMedProfile(moa::String)\n",
    "    moa_ind = [moa in cm for cm in cmp_moas]\n",
    "    return(map(median, eachcol(getdata(expTransformed)[moa_ind,:])))\n",
    "end"
   ]
  },
  {
   "cell_type": "code",
   "execution_count": null,
   "metadata": {
    "scrolled": true
   },
   "outputs": [],
   "source": [
    "moaProf = hcat(map(moaMedProfile, selected_moa)...)\n",
    "moaCosSim2 = 1 .- pairwise(CosineDist(), moaProf);"
   ]
  },
  {
   "cell_type": "code",
   "execution_count": null,
   "metadata": {},
   "outputs": [],
   "source": [
    "# Get all link with values higher than x\n",
    "edgesMoaNet2 = Dict((x,y) => moaCosSim2[x,y] for x in 1:11 for y in 1:11 if (x < y) & (moaCosSim2[x,y] > 0.74))\n",
    "println(length(unique([y for x in keys(edgesMoaNet2) for y in x ])))\n",
    "length(edgesMoaNet2)"
   ]
  },
  {
   "cell_type": "code",
   "execution_count": null,
   "metadata": {},
   "outputs": [],
   "source": [
    "g = SimpleWeightedGraph(11)\n",
    "[add_edge!(g, k[1], k[2], v) for (k,v) in edgesMoaNet2];"
   ]
  },
  {
   "cell_type": "markdown",
   "metadata": {},
   "source": [
    "We export \"manually\" to GML format a the GraphIO library does not export edge weights."
   ]
  },
  {
   "cell_type": "code",
   "execution_count": null,
   "metadata": {},
   "outputs": [],
   "source": [
    "io = open(\"Fig/MOA_similarity_per_moa.gml\", \"w\")\n",
    "\n",
    "str_pre = \"\"\"graph\n",
    "[\n",
    "label \"MOA_similarity\" \"\"\"\n",
    "\n",
    "write(io, str_pre);"
   ]
  },
  {
   "cell_type": "code",
   "execution_count": null,
   "metadata": {
    "scrolled": true
   },
   "outputs": [],
   "source": [
    "str1 = \"\\n\tnode\\n\t[\\n\t\tid \"\n",
    "str2 = \"\\n\t\tmoa \\\"\"\n",
    "str3 = \"\\\"\\n\t]\"\n",
    "for (k,v) in moaToInt\n",
    "    str_moa = str1 * string(v) * str2 * k * str3\n",
    "    write(io, str_moa)\n",
    "end"
   ]
  },
  {
   "cell_type": "code",
   "execution_count": null,
   "metadata": {},
   "outputs": [],
   "source": [
    "str1 = \"\\n\tedge\\n\t[\\n\t\tsource \"\n",
    "str2 = \"\\n\t\ttarget \"\n",
    "str3 = \"\\n\t\tweight \"\n",
    "str4 = \"\\n\t]\"\n",
    "\n",
    "for e in edges(g)\n",
    "    str_moa = str1 * string(e.src) * str2 *\n",
    "        string(e.dst) * str3 * string(e.weight) * str4\n",
    "    write(io, str_moa)\n",
    "end"
   ]
  },
  {
   "cell_type": "code",
   "execution_count": null,
   "metadata": {},
   "outputs": [],
   "source": [
    "str_post = \"\\n]\\n\"\n",
    "write(io, str_post);"
   ]
  },
  {
   "cell_type": "code",
   "execution_count": null,
   "metadata": {},
   "outputs": [],
   "source": [
    "close(io);"
   ]
  },
  {
   "cell_type": "markdown",
   "metadata": {},
   "source": [
    "## UMAP of 3 hits per top 3 hit MOAs"
   ]
  },
  {
   "cell_type": "code",
   "execution_count": null,
   "metadata": {
    "scrolled": true
   },
   "outputs": [],
   "source": [
    "selected_moa = [\"Tubulin inhibitor\", \"Dopamine receptor antagonist\", \"Calcium channel blocker\"]\n",
    "selected_cpd = [k for (k,v) in hitMOA if any([x in v for x in selected_moa])]"
   ]
  },
  {
   "cell_type": "code",
   "execution_count": null,
   "metadata": {},
   "outputs": [],
   "source": [
    "[MOA[x] for x in selected_cpd]"
   ]
  },
  {
   "cell_type": "code",
   "execution_count": null,
   "metadata": {},
   "outputs": [],
   "source": [
    "selected_cpd"
   ]
  },
  {
   "cell_type": "code",
   "execution_count": null,
   "metadata": {
    "scrolled": true
   },
   "outputs": [],
   "source": [
    "expTransformed = deepcopy(expAgg)\n",
    "logtransform!(expTransformed)\n",
    "expTransformed.description = \"Transformed values for aggregated FOV measurements\""
   ]
  },
  {
   "cell_type": "markdown",
   "metadata": {},
   "source": [
    "Here we apply a correction based on the specific details of the experimental design:\n",
    "All rows and columns include DMSO (negative) controls and we normalize all values based on these matchings controls (same row and column).  \n",
    "\n",
    "This examplifies how to directly modify the data of an `Experiment` object.  \n",
    "\n",
    "NB: One might want to check that more iterations are not needed (cf. Median-polish method)."
   ]
  },
  {
   "cell_type": "code",
   "execution_count": null,
   "metadata": {
    "scrolled": true
   },
   "outputs": [],
   "source": [
    "# Normalize on matching DMSO wells median values\n",
    "\n",
    "# Entries in both data frames are matching\n",
    "@assert nrow(aggregatedData) == nrow(getdata(expTransformed))\n",
    "\n",
    "# Copy data before correction\n",
    "ndf = getdata(expTransformed)\n",
    "\n",
    "for (i, (fx, fy)) in enumerate(eachrow(aggregatedData[:,[:Metadata_Row, :Metadata_Column]])) \n",
    "    c1 = aggregatedData.CompoundName .== \"DMSO\"\n",
    "    c2 = aggregatedData.Metadata_Row .== fx\n",
    "    c3 = aggregatedData.Metadata_Column .== fy\n",
    "    @assert sum((c1 .& (c2 .| c3))) > 0\n",
    "    expTransformed.data[i:i, expTransformed.selectedFeatures] .-= \n",
    "        mapcols(median, ndf[(c1 .& (c2 .| c3)),:]) \n",
    "end"
   ]
  },
  {
   "cell_type": "code",
   "execution_count": null,
   "metadata": {
    "scrolled": true
   },
   "outputs": [],
   "source": [
    "compare_in(x,y) = x in y\n",
    "Broadcast.broadcasted(::typeof(compare_in), x, y) = broadcast(in, x, Ref(y)) \n",
    "# We now only keep compounds having one of the most common MOA\n",
    "filterEntriesExperiment!(expTransformed, Filter(selected_cpd, :CompoundName, compare = compare_in));"
   ]
  },
  {
   "cell_type": "code",
   "execution_count": null,
   "metadata": {
    "scrolled": true
   },
   "outputs": [],
   "source": [
    "Random.seed!(3895)\n",
    "umTPM = umap(expTransformed, 2, n_neighbors = 5, spread = 1, min_dist = 0.5)\n",
    "umTPM = convert(DataFrame, umTPM')\n",
    "names!(umTPM, [:UMAP1, :UMAP2]);\n",
    "umTPM.Compound = expTransformed.data.CompoundName[expTransformed.selectedEntries]\n",
    "umTPM.allMOAs = [MOA[x] for x in umTPM.Compound]\n",
    "umTPM.MOA = [length(m) > 1 ? m[2] : m[1] for m in umTPM.allMOAs];"
   ]
  },
  {
   "cell_type": "code",
   "execution_count": null,
   "metadata": {},
   "outputs": [],
   "source": [
    "umTPM.Compound = replace.(umTPM.Compound, \" dihydrochloride\" => s\"\")\n",
    "umTPM.Compound = replace.(umTPM.Compound, \" hydrochloride\" => s\"\");"
   ]
  },
  {
   "cell_type": "code",
   "execution_count": null,
   "metadata": {},
   "outputs": [],
   "source": [
    "# Order levels by MOA and alphabetical order\n",
    "cpd_lvl = [\"Albendazole\", \"Nocodazole\", \"Vinblastine\", \n",
    "           \"Domperidone\", \"Pimozide\", \"Triflupromazine\", \n",
    "           \"Cilnidipine\", \"Flunarizine\", \"Nisoldipine\"]\n",
    "umTPM.Compound = CategoricalArray(umTPM.Compound, levels = cpd_lvl, ordered = true);"
   ]
  },
  {
   "cell_type": "code",
   "execution_count": null,
   "metadata": {},
   "outputs": [],
   "source": [
    "# Highlight MOAs of each compound\n",
    "# moa_palette = [\"#5A463C\",\"#8B726A\",\"#BDA7A3\",\"#463C5A\",\"#7D768B\",\"#B5B1BD\",\"#3C5A46\",\"#768B7D\",\"#B1BDB5\"];\n",
    "moa_palette = [\"#FF1998\",\"#FF5FB9\",\"#FFA3D7\",\"#1B9CFF\",\"#5FB9FF\",\"#A3D7FF\",\"#9CFF1B\",\"#B9FF5F\",\"#D7FFA3\"];"
   ]
  },
  {
   "cell_type": "code",
   "execution_count": null,
   "metadata": {
    "scrolled": false
   },
   "outputs": [],
   "source": [
    "gp = ggplot(umTPM, aes(:UMAP1, :UMAP2)) + \n",
    "    geom_point(aes(color = :Compound), alpha = 1) +\n",
    "    coord_fixed() + scale_color_manual(values = moa_palette) + \n",
    "    theme(var\"legend.position\"=\"bottom\", var\"legend.spacing.x\" = unit(0.35, \"cm\"), \n",
    "    var\"legend.spacing.y\" = unit(0, \"cm\")) + \n",
    "    guides(color=guide_legend(nrow=3,byrow=false))"
   ]
  },
  {
   "cell_type": "code",
   "execution_count": null,
   "metadata": {},
   "outputs": [],
   "source": [
    "ggsave(\"Fig/topMOA_UMAP2.pdf\", gp)"
   ]
  }
 ],
 "metadata": {
  "kernelspec": {
   "display_name": "Julia 1.5.3",
   "language": "julia",
   "name": "julia-1.5"
  },
  "language_info": {
   "file_extension": ".jl",
   "mimetype": "application/julia",
   "name": "julia",
   "version": "1.5.3"
  }
 },
 "nbformat": 4,
 "nbformat_minor": 4
}
