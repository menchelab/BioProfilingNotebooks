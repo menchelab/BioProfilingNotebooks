{
 "cells": [
  {
   "cell_type": "markdown",
   "metadata": {},
   "source": [
    "# Generate artificial data sets\n",
    "Here, we generate data sets to explore the behavior of scores describing differences between high-dimensional point clouds in presence of noise and outliers.  "
   ]
  },
  {
   "cell_type": "code",
   "execution_count": null,
   "metadata": {},
   "outputs": [],
   "source": [
    "import numpy as np"
   ]
  },
  {
   "cell_type": "code",
   "execution_count": null,
   "metadata": {},
   "outputs": [],
   "source": [
    "# Number of points in control dataset\n",
    "NR = 2000\n",
    "# Number of points in other datasets\n",
    "N = 1000\n",
    "# Number of dimensions in each dataset\n",
    "D = 100"
   ]
  },
  {
   "cell_type": "markdown",
   "metadata": {},
   "source": [
    "## Dataset 1 - Reference R\n",
    "We assume our data of interest to follow a multivariate normal distribution: In a morphological profiling, components are to some extent *independent (by removing correlated morphological features) and* normally distributed (by using a log-transformation)."
   ]
  },
  {
   "cell_type": "code",
   "execution_count": null,
   "metadata": {},
   "outputs": [],
   "source": [
    "np.random.seed(1)"
   ]
  },
  {
   "cell_type": "markdown",
   "metadata": {},
   "source": [
    "### Data center"
   ]
  },
  {
   "cell_type": "code",
   "execution_count": null,
   "metadata": {},
   "outputs": [],
   "source": [
    "# The reference is centered on 0\n",
    "refMu = [0]*D"
   ]
  },
  {
   "cell_type": "markdown",
   "metadata": {},
   "source": [
    "### Data covariance"
   ]
  },
  {
   "cell_type": "code",
   "execution_count": null,
   "metadata": {},
   "outputs": [],
   "source": [
    "# Diagonal: variances follow a Beta distribution of shape and scale parameters equal to 2 and 2\n",
    "# Rationale: Some variability in scales with some high values, and no negative values\n",
    "sigma_diag = np.eye(D)\n",
    "sigma_diag = sigma_diag * np.random.gamma(2,2,D)"
   ]
  },
  {
   "cell_type": "markdown",
   "metadata": {},
   "source": [
    "The following may lead to non positive-semidefinite matrices:\n",
    "\n",
    "```\n",
    "# Lower and upper triangles: some relation but no strong covariances\n",
    "# Rationale: in a morphological profiling, we remove highly correlated features\n",
    "# E.g. for a correlation threshold of 0.5, since cov(x,y) = corr(x,y) * sigma(x) * sigma(y)\n",
    "# This corresponds to a covariance threshold of 0.5 * sigma(x) * sigma(y) which is 2 in average\n",
    "# We select a centered normal distribution of variance 0.75 based on the 99-th percentile\n",
    "sigma_tril = np.random.normal(0, 0.75, [D,D])\n",
    "sigma_tril = np.tril(sigma_tril ) + np.tril(sigma_tril , -1).T\n",
    "# Possible improvement: rescale all values based on the actual standard deviations of the features studied \n",
    "# (instead of using the expectation)\n",
    "```"
   ]
  },
  {
   "cell_type": "code",
   "execution_count": null,
   "metadata": {},
   "outputs": [],
   "source": [
    "sigma_tril = np.random.normal(0, 0.05, [D,D])\n",
    "sigma_tril = np.tril(sigma_tril ) + np.tril(sigma_tril , -1).T"
   ]
  },
  {
   "cell_type": "code",
   "execution_count": null,
   "metadata": {},
   "outputs": [],
   "source": [
    "refSigma = sigma_diag + sigma_tril - np.eye(D)*np.diag(sigma_tril)"
   ]
  },
  {
   "cell_type": "code",
   "execution_count": null,
   "metadata": {},
   "outputs": [],
   "source": [
    "# Matrix is symmetrical\n",
    "assert all([refSigma[i,j] == refSigma[j,i] for i in range(D) for j in range(D) if j>i])\n",
    "# Sylvester's criterion of positive semidefinite matrices\n",
    "assert all([np.linalg.det(refSigma[:(size+1),:(size+1)]) > 0 for size in range(D)])"
   ]
  },
  {
   "cell_type": "code",
   "execution_count": null,
   "metadata": {},
   "outputs": [],
   "source": [
    "matR = np.random.multivariate_normal(refMu, refSigma, NR)"
   ]
  },
  {
   "cell_type": "code",
   "execution_count": null,
   "metadata": {},
   "outputs": [],
   "source": [
    "np.savetxt(\"Data/matR.csv\", matR, delimiter=\",\")"
   ]
  },
  {
   "cell_type": "markdown",
   "metadata": {},
   "source": [
    "## Dataset 2 - Negative control N\n",
    "This is generated with the same generator as the positive control"
   ]
  },
  {
   "cell_type": "code",
   "execution_count": null,
   "metadata": {},
   "outputs": [],
   "source": [
    "np.random.seed(2)"
   ]
  },
  {
   "cell_type": "markdown",
   "metadata": {},
   "source": [
    "### Data covariance"
   ]
  },
  {
   "cell_type": "code",
   "execution_count": null,
   "metadata": {},
   "outputs": [],
   "source": [
    "matN = np.random.multivariate_normal(refMu, refSigma, N)"
   ]
  },
  {
   "cell_type": "code",
   "execution_count": null,
   "metadata": {},
   "outputs": [],
   "source": [
    "np.savetxt(\"Data/matN.csv\", matN, delimiter=\",\")"
   ]
  },
  {
   "cell_type": "markdown",
   "metadata": {},
   "source": [
    "## Dataset 3 - Positive control (shifted) PS"
   ]
  },
  {
   "cell_type": "code",
   "execution_count": null,
   "metadata": {},
   "outputs": [],
   "source": [
    "np.random.seed(3)"
   ]
  },
  {
   "cell_type": "markdown",
   "metadata": {},
   "source": [
    "### Data center"
   ]
  },
  {
   "cell_type": "code",
   "execution_count": null,
   "metadata": {},
   "outputs": [],
   "source": [
    "# The reference is not centered on 0 anymore\n",
    "mu = np.random.normal(0, 1, D)"
   ]
  },
  {
   "cell_type": "code",
   "execution_count": null,
   "metadata": {},
   "outputs": [],
   "source": [
    "matPS = np.random.multivariate_normal(mu, refSigma, N)"
   ]
  },
  {
   "cell_type": "code",
   "execution_count": null,
   "metadata": {},
   "outputs": [],
   "source": [
    "np.savetxt(\"Data/matPS.csv\", matPS, delimiter=\",\")"
   ]
  },
  {
   "cell_type": "markdown",
   "metadata": {},
   "source": [
    "## Dataset 4 - Positive control (reshaped) PR\n",
    "This is generated with the same parameters but a different generator as the reference data set, so the covariance of is different."
   ]
  },
  {
   "cell_type": "code",
   "execution_count": null,
   "metadata": {},
   "outputs": [],
   "source": [
    "np.random.seed(4)"
   ]
  },
  {
   "cell_type": "markdown",
   "metadata": {},
   "source": [
    "### Data covariance"
   ]
  },
  {
   "cell_type": "code",
   "execution_count": null,
   "metadata": {},
   "outputs": [],
   "source": [
    "# Diagonal: variances follow a Beta distribution of shape and scale parameters equal to 2 and 2\n",
    "# Rationale: Some variability in scales with some high values, and no negative values\n",
    "sigma_diag = np.eye(D)\n",
    "sigma_diag = sigma_diag * np.random.gamma(2,2,D)"
   ]
  },
  {
   "cell_type": "code",
   "execution_count": null,
   "metadata": {},
   "outputs": [],
   "source": [
    "sigma_tril = np.random.normal(0, 0.05, [D,D])\n",
    "sigma_tril = np.tril(sigma_tril ) + np.tril(sigma_tril , -1).T"
   ]
  },
  {
   "cell_type": "code",
   "execution_count": null,
   "metadata": {},
   "outputs": [],
   "source": [
    "sigma = sigma_diag + sigma_tril - np.eye(D)*np.diag(sigma_tril)"
   ]
  },
  {
   "cell_type": "code",
   "execution_count": null,
   "metadata": {},
   "outputs": [],
   "source": [
    "# Matrix is symmetrical\n",
    "assert all([sigma[i,j] == sigma[j,i] for i in range(D) for j in range(D) if j>i])\n",
    "# Sylvester's criterion of positive semidefinite matrices\n",
    "assert all([np.linalg.det(sigma[:(size+1),:(size+1)]) > 0 for size in range(D)])"
   ]
  },
  {
   "cell_type": "code",
   "execution_count": null,
   "metadata": {},
   "outputs": [],
   "source": [
    "matPR = np.random.multivariate_normal(refMu, sigma, N)"
   ]
  },
  {
   "cell_type": "code",
   "execution_count": null,
   "metadata": {},
   "outputs": [],
   "source": [
    "np.savetxt(\"Data/matPR.csv\", matPR, delimiter=\",\")"
   ]
  },
  {
   "cell_type": "markdown",
   "metadata": {},
   "source": [
    "## Dataset 5 - Uniform noise U"
   ]
  },
  {
   "cell_type": "code",
   "execution_count": null,
   "metadata": {},
   "outputs": [],
   "source": [
    "np.random.seed(5)"
   ]
  },
  {
   "cell_type": "code",
   "execution_count": null,
   "metadata": {},
   "outputs": [],
   "source": [
    "matU = np.random.multivariate_normal(refMu, refSigma, N) + np.random.uniform(-1,1, size = [N,D])"
   ]
  },
  {
   "cell_type": "code",
   "execution_count": null,
   "metadata": {},
   "outputs": [],
   "source": [
    "np.savetxt(\"Data/matU.csv\", matU, delimiter=\",\")"
   ]
  },
  {
   "cell_type": "markdown",
   "metadata": {},
   "source": [
    "## Dataset 6 - Negative with few outliers NF"
   ]
  },
  {
   "cell_type": "code",
   "execution_count": null,
   "metadata": {},
   "outputs": [],
   "source": [
    "np.random.seed(6)"
   ]
  },
  {
   "cell_type": "code",
   "execution_count": null,
   "metadata": {},
   "outputs": [],
   "source": [
    "matNF = np.random.multivariate_normal(refMu, refSigma, N)"
   ]
  },
  {
   "cell_type": "code",
   "execution_count": null,
   "metadata": {},
   "outputs": [],
   "source": [
    "print(matNF.mean())\n",
    "print(np.median(matNF))\n",
    "print(np.std(matNF))"
   ]
  },
  {
   "cell_type": "code",
   "execution_count": null,
   "metadata": {},
   "outputs": [],
   "source": [
    "# For 1 out of k points, multiply 1 out of k features by 2\n",
    "for iOutlier in np.random.choice(N, round(N/10), replace = False):\n",
    "    matNF[iOutlier,np.random.choice(D, round(D/10), replace = False)] *= 2"
   ]
  },
  {
   "cell_type": "code",
   "execution_count": null,
   "metadata": {},
   "outputs": [],
   "source": [
    "print(matNF.mean())\n",
    "print(np.median(matNF))\n",
    "print(np.std(matNF))"
   ]
  },
  {
   "cell_type": "code",
   "execution_count": null,
   "metadata": {},
   "outputs": [],
   "source": [
    "np.savetxt(\"Data/matNF.csv\", matNF, delimiter=\",\")"
   ]
  },
  {
   "cell_type": "markdown",
   "metadata": {},
   "source": [
    "## Dataset 7 - Negative with many outliers NM"
   ]
  },
  {
   "cell_type": "code",
   "execution_count": null,
   "metadata": {},
   "outputs": [],
   "source": [
    "np.random.seed(7)"
   ]
  },
  {
   "cell_type": "code",
   "execution_count": null,
   "metadata": {},
   "outputs": [],
   "source": [
    "matNM = np.random.multivariate_normal(refMu, refSigma, N)"
   ]
  },
  {
   "cell_type": "code",
   "execution_count": null,
   "metadata": {},
   "outputs": [],
   "source": [
    "print(matNM.mean())\n",
    "print(np.median(matNM))\n",
    "print(np.std(matNM))"
   ]
  },
  {
   "cell_type": "code",
   "execution_count": null,
   "metadata": {},
   "outputs": [],
   "source": [
    "# For 1 out of k points, multiply 1 out of k features by 2\n",
    "for iOutlier in np.random.choice(N, round(N/3), replace = False):\n",
    "    matNM[iOutlier,np.random.choice(D, round(D/3), replace = False)] *= 2"
   ]
  },
  {
   "cell_type": "code",
   "execution_count": null,
   "metadata": {},
   "outputs": [],
   "source": [
    "print(matNM.mean())\n",
    "print(np.median(matNM))\n",
    "print(np.std(matNM))"
   ]
  },
  {
   "cell_type": "code",
   "execution_count": null,
   "metadata": {},
   "outputs": [],
   "source": [
    "np.savetxt(\"Data/matNM.csv\", matNM, delimiter=\",\")"
   ]
  },
  {
   "cell_type": "markdown",
   "metadata": {},
   "source": [
    "## Dataset 8 - Positive with few outliers PF"
   ]
  },
  {
   "cell_type": "code",
   "execution_count": null,
   "metadata": {},
   "outputs": [],
   "source": [
    "np.random.seed(8)"
   ]
  },
  {
   "cell_type": "markdown",
   "metadata": {},
   "source": [
    "### Data center"
   ]
  },
  {
   "cell_type": "code",
   "execution_count": null,
   "metadata": {},
   "outputs": [],
   "source": [
    "# The reference is not centered on 0 anymore\n",
    "mu = np.random.normal(0, 1, D)"
   ]
  },
  {
   "cell_type": "code",
   "execution_count": null,
   "metadata": {},
   "outputs": [],
   "source": [
    "matPF = np.random.multivariate_normal(mu, refSigma, N)"
   ]
  },
  {
   "cell_type": "code",
   "execution_count": null,
   "metadata": {},
   "outputs": [],
   "source": [
    "print(matPF.mean())\n",
    "print(np.median(matPF))\n",
    "print(np.std(matPF))"
   ]
  },
  {
   "cell_type": "code",
   "execution_count": null,
   "metadata": {},
   "outputs": [],
   "source": [
    "# For 1 out of k points, multiply 1 out of k features by 2\n",
    "for iOutlier in np.random.choice(N, round(N/10), replace = False):\n",
    "    matPF[iOutlier,np.random.choice(D, round(D/10), replace = False)] *= 2"
   ]
  },
  {
   "cell_type": "code",
   "execution_count": null,
   "metadata": {},
   "outputs": [],
   "source": [
    "print(matPF.mean())\n",
    "print(np.median(matPF))\n",
    "print(np.std(matPF))"
   ]
  },
  {
   "cell_type": "code",
   "execution_count": null,
   "metadata": {},
   "outputs": [],
   "source": [
    "np.savetxt(\"Data/matPF.csv\", matPF, delimiter=\",\")"
   ]
  },
  {
   "cell_type": "markdown",
   "metadata": {},
   "source": [
    "## Dataset 9 - Positive with many outliers PM"
   ]
  },
  {
   "cell_type": "code",
   "execution_count": null,
   "metadata": {},
   "outputs": [],
   "source": [
    "np.random.seed(9)"
   ]
  },
  {
   "cell_type": "markdown",
   "metadata": {},
   "source": [
    "### Data center"
   ]
  },
  {
   "cell_type": "code",
   "execution_count": null,
   "metadata": {},
   "outputs": [],
   "source": [
    "# The reference is not centered on 0 anymore\n",
    "mu = np.random.normal(0, 1, D)"
   ]
  },
  {
   "cell_type": "code",
   "execution_count": null,
   "metadata": {},
   "outputs": [],
   "source": [
    "matPM = np.random.multivariate_normal(mu, refSigma, N)"
   ]
  },
  {
   "cell_type": "code",
   "execution_count": null,
   "metadata": {},
   "outputs": [],
   "source": [
    "print(matPM.mean())\n",
    "print(np.median(matPM))\n",
    "print(np.std(matPM))"
   ]
  },
  {
   "cell_type": "code",
   "execution_count": null,
   "metadata": {},
   "outputs": [],
   "source": [
    "# For 1 out of k points, multiply 1 out of k features by 2\n",
    "for iOutlier in np.random.choice(N, round(N/3), replace = False):\n",
    "    matPM[iOutlier,np.random.choice(D, round(D/3), replace = False)] *= 2"
   ]
  },
  {
   "cell_type": "code",
   "execution_count": null,
   "metadata": {},
   "outputs": [],
   "source": [
    "print(matPM.mean())\n",
    "print(np.median(matPM))\n",
    "print(np.std(matPM))"
   ]
  },
  {
   "cell_type": "code",
   "execution_count": null,
   "metadata": {},
   "outputs": [],
   "source": [
    "np.savetxt(\"Data/matPM.csv\", matPM, delimiter=\",\")"
   ]
  }
 ],
 "metadata": {
  "kernelspec": {
   "display_name": "Python 3",
   "language": "python",
   "name": "python3"
  },
  "language_info": {
   "codemirror_mode": {
    "name": "ipython",
    "version": 3
   },
   "file_extension": ".py",
   "mimetype": "text/x-python",
   "name": "python",
   "nbconvert_exporter": "python",
   "pygments_lexer": "ipython3",
   "version": "3.7.3"
  }
 },
 "nbformat": 4,
 "nbformat_minor": 2
}
