{
 "cells": [
  {
   "cell_type": "markdown",
   "metadata": {},
   "source": [
    "# Generate artificial data sets\n",
    "Here, we generate data sets to explore the behavior of scores describing differences between high-dimensional point clouds in presence of noise and outliers.  \n",
    "NB: We might want to keep the exact same generator and chang"
   ]
  },
  {
   "cell_type": "code",
   "execution_count": 2,
   "metadata": {},
   "outputs": [],
   "source": [
    "import numpy as np"
   ]
  },
  {
   "cell_type": "code",
   "execution_count": 3,
   "metadata": {},
   "outputs": [],
   "source": [
    "# Number of points in each dataset\n",
    "N = 1000\n",
    "# Number of dimensions in each dataset\n",
    "D = 100"
   ]
  },
  {
   "cell_type": "markdown",
   "metadata": {},
   "source": [
    "## Dataset 1 - Reference R\n",
    "We assume our data of interest to follow a multivariate normal distribution: In a morphological profiling, components are to some extent *independent (by removing correlated morphological features) and* normally distributed (by using a log-transformation)."
   ]
  },
  {
   "cell_type": "code",
   "execution_count": 4,
   "metadata": {},
   "outputs": [],
   "source": [
    "np.random.seed(1)"
   ]
  },
  {
   "cell_type": "markdown",
   "metadata": {},
   "source": [
    "### Data center"
   ]
  },
  {
   "cell_type": "code",
   "execution_count": 5,
   "metadata": {},
   "outputs": [],
   "source": [
    "# The reference is centered on 0\n",
    "mu = [0]*D"
   ]
  },
  {
   "cell_type": "markdown",
   "metadata": {},
   "source": [
    "### Data covariance"
   ]
  },
  {
   "cell_type": "code",
   "execution_count": 6,
   "metadata": {},
   "outputs": [],
   "source": [
    "# Diagonal: variances follow a Beta distribution of shape and scale parameters equal to 2 and 2\n",
    "# Rationale: Some variability in scales with some high values, and no negative values\n",
    "sigma_diag = np.eye(D)\n",
    "sigma_diag = sigma_diag * np.random.gamma(2,2,D)"
   ]
  },
  {
   "cell_type": "markdown",
   "metadata": {},
   "source": [
    "The following may lead to non positive-semidefinite matrices:\n",
    "\n",
    "```\n",
    "# Lower and upper triangles: some relation but no strong covariances\n",
    "# Rationale: in a morphological profiling, we remove highly correlated features\n",
    "# E.g. for a correlation threshold of 0.5, since cov(x,y) = corr(x,y) * sigma(x) * sigma(y)\n",
    "# This corresponds to a covariance threshold of 0.5 * sigma(x) * sigma(y) which is 2 in average\n",
    "# We select a centered normal distribution of variance 0.75 based on the 99-th percentile\n",
    "sigma_tril = np.random.normal(0, 0.75, [D,D])\n",
    "sigma_tril = np.tril(sigma_tril ) + np.tril(sigma_tril , -1).T\n",
    "# Possible improvement: rescale all values based on the actual standard deviations of the features studied \n",
    "# (instead of using the expectation)\n",
    "```"
   ]
  },
  {
   "cell_type": "code",
   "execution_count": 7,
   "metadata": {},
   "outputs": [],
   "source": [
    "sigma_tril = np.random.normal(0, 0.05, [D,D])\n",
    "sigma_tril = np.tril(sigma_tril ) + np.tril(sigma_tril , -1).T"
   ]
  },
  {
   "cell_type": "code",
   "execution_count": 8,
   "metadata": {},
   "outputs": [],
   "source": [
    "sigma = sigma_diag + sigma_tril - np.eye(D)*np.diag(sigma_tril)"
   ]
  },
  {
   "cell_type": "code",
   "execution_count": 9,
   "metadata": {},
   "outputs": [],
   "source": [
    "# Matrix is symmetrical\n",
    "assert all([sigma[i,j] == sigma[j,i] for i in range(D) for j in range(D) if j>i])\n",
    "# Sylvester's criterion of positive semidefinite matrices\n",
    "assert all([np.linalg.det(sigma[:(size+1),:(size+1)]) > 0 for size in range(D)])"
   ]
  },
  {
   "cell_type": "code",
   "execution_count": 10,
   "metadata": {},
   "outputs": [],
   "source": [
    "matR = np.random.multivariate_normal(mu, sigma, N)"
   ]
  },
  {
   "cell_type": "code",
   "execution_count": 11,
   "metadata": {},
   "outputs": [],
   "source": [
    "np.savetxt(\"Data/matR.csv\", matR, delimiter=\",\")"
   ]
  },
  {
   "cell_type": "markdown",
   "metadata": {},
   "source": [
    "## Dataset 2 - Negative control N\n",
    "This is generated with the same parameters as the positive control"
   ]
  },
  {
   "cell_type": "code",
   "execution_count": 21,
   "metadata": {},
   "outputs": [],
   "source": [
    "np.random.seed(2)"
   ]
  },
  {
   "cell_type": "code",
   "execution_count": 22,
   "metadata": {},
   "outputs": [],
   "source": [
    "# The reference is centered on 0\n",
    "mu = [0]*D"
   ]
  },
  {
   "cell_type": "markdown",
   "metadata": {},
   "source": [
    "### Data covariance"
   ]
  },
  {
   "cell_type": "code",
   "execution_count": 23,
   "metadata": {},
   "outputs": [],
   "source": [
    "# Diagonal: variances follow a Beta distribution of shape and scale parameters equal to 2 and 2\n",
    "# Rationale: Some variability in scales with some high values, and no negative values\n",
    "sigma_diag = np.eye(D)\n",
    "sigma_diag = sigma_diag * np.random.gamma(2,2,D)"
   ]
  },
  {
   "cell_type": "code",
   "execution_count": 25,
   "metadata": {},
   "outputs": [],
   "source": [
    "sigma_tril = np.random.normal(0, 0.05, [D,D])\n",
    "sigma_tril = np.tril(sigma_tril ) + np.tril(sigma_tril , -1).T"
   ]
  },
  {
   "cell_type": "code",
   "execution_count": 16,
   "metadata": {},
   "outputs": [],
   "source": [
    "sigma = sigma_diag + sigma_tril - np.eye(D)*np.diag(sigma_tril)"
   ]
  },
  {
   "cell_type": "code",
   "execution_count": 17,
   "metadata": {},
   "outputs": [],
   "source": [
    "# Matrix is symmetrical\n",
    "assert all([sigma[i,j] == sigma[j,i] for i in range(D) for j in range(D) if j>i])\n",
    "# Sylvester's criterion of positive semidefinite matrices\n",
    "assert all([np.linalg.det(sigma[:(size+1),:(size+1)]) > 0 for size in range(D)])"
   ]
  },
  {
   "cell_type": "code",
   "execution_count": 18,
   "metadata": {},
   "outputs": [],
   "source": [
    "matN = np.random.multivariate_normal(mu, sigma, N)"
   ]
  },
  {
   "cell_type": "code",
   "execution_count": 19,
   "metadata": {},
   "outputs": [],
   "source": [
    "np.savetxt(\"Data/matN.csv\", matN, delimiter=\",\")"
   ]
  },
  {
   "cell_type": "code",
   "execution_count": 24,
   "metadata": {},
   "outputs": [
    {
     "data": {
      "text/plain": [
       "array([[2.3689073 , 0.        , 0.        , ..., 0.        , 0.        ,\n",
       "        0.        ],\n",
       "       [0.        , 3.19015343, 0.        , ..., 0.        , 0.        ,\n",
       "        0.        ],\n",
       "       [0.        , 0.        , 0.51599864, ..., 0.        , 0.        ,\n",
       "        0.        ],\n",
       "       ...,\n",
       "       [0.        , 0.        , 0.        , ..., 2.02328286, 0.        ,\n",
       "        0.        ],\n",
       "       [0.        , 0.        , 0.        , ..., 0.        , 7.26938248,\n",
       "        0.        ],\n",
       "       [0.        , 0.        , 0.        , ..., 0.        , 0.        ,\n",
       "        2.2926934 ]])"
      ]
     },
     "execution_count": 24,
     "metadata": {},
     "output_type": "execute_result"
    }
   ],
   "source": [
    "sigma_diag"
   ]
  },
  {
   "cell_type": "code",
   "execution_count": 26,
   "metadata": {},
   "outputs": [
    {
     "data": {
      "text/plain": [
       "array([[ 0.02571854,  0.01138837, -0.06374812, ...,  0.06145864,\n",
       "        -0.06970232,  0.03289393],\n",
       "       [ 0.01138837,  0.03638444,  0.05242452, ...,  0.00722283,\n",
       "         0.02652863, -0.05766976],\n",
       "       [-0.06374812,  0.05242452,  0.08626016, ...,  0.05385503,\n",
       "        -0.01055927, -0.0617021 ],\n",
       "       ...,\n",
       "       [ 0.06145864,  0.00722283,  0.05385503, ..., -0.00786091,\n",
       "        -0.0336918 , -0.09713829],\n",
       "       [-0.06970232,  0.02652863, -0.01055927, ..., -0.0336918 ,\n",
       "        -0.00055249,  0.03202692],\n",
       "       [ 0.03289393, -0.05766976, -0.0617021 , ..., -0.09713829,\n",
       "         0.03202692,  0.05724172]])"
      ]
     },
     "execution_count": 26,
     "metadata": {},
     "output_type": "execute_result"
    }
   ],
   "source": [
    "sigma_tril"
   ]
  },
  {
   "cell_type": "code",
   "execution_count": 27,
   "metadata": {},
   "outputs": [
    {
     "data": {
      "text/plain": [
       "array([[ 2.36890730e+00,  1.13883686e-02, -6.37481218e-02, ...,\n",
       "         6.14586407e-02, -6.97023197e-02,  3.28939302e-02],\n",
       "       [ 1.13883686e-02,  3.19015343e+00,  5.24245169e-02, ...,\n",
       "         7.22283304e-03,  2.65286326e-02, -5.76697575e-02],\n",
       "       [-6.37481218e-02,  5.24245169e-02,  5.15998637e-01, ...,\n",
       "         5.38550277e-02, -1.05592689e-02, -6.17021022e-02],\n",
       "       ...,\n",
       "       [ 6.14586407e-02,  7.22283304e-03,  5.38550277e-02, ...,\n",
       "         2.02328286e+00, -3.36918009e-02, -9.71382858e-02],\n",
       "       [-6.97023197e-02,  2.65286326e-02, -1.05592689e-02, ...,\n",
       "        -3.36918009e-02,  7.26938248e+00,  3.20269216e-02],\n",
       "       [ 3.28939302e-02, -5.76697575e-02, -6.17021022e-02, ...,\n",
       "        -9.71382858e-02,  3.20269216e-02,  2.29269340e+00]])"
      ]
     },
     "execution_count": 27,
     "metadata": {},
     "output_type": "execute_result"
    }
   ],
   "source": [
    "sigma_diag + sigma_tril - np.eye(D)*np.diag(sigma_tril)"
   ]
  },
  {
   "cell_type": "markdown",
   "metadata": {},
   "source": [
    "## Dataset 3 - Positive control P"
   ]
  },
  {
   "cell_type": "markdown",
   "metadata": {},
   "source": [
    "## Dataset 4 - Uniform noise U"
   ]
  },
  {
   "cell_type": "markdown",
   "metadata": {},
   "source": [
    "## Dataset 5 - Negative with noise NO"
   ]
  },
  {
   "cell_type": "markdown",
   "metadata": {},
   "source": [
    "## Dataset 6 - Positive with noise PO"
   ]
  }
 ],
 "metadata": {
  "kernelspec": {
   "display_name": "Python 3",
   "language": "python",
   "name": "python3"
  },
  "language_info": {
   "codemirror_mode": {
    "name": "ipython",
    "version": 3
   },
   "file_extension": ".py",
   "mimetype": "text/x-python",
   "name": "python",
   "nbconvert_exporter": "python",
   "pygments_lexer": "ipython3",
   "version": "3.7.3"
  }
 },
 "nbformat": 4,
 "nbformat_minor": 2
}
