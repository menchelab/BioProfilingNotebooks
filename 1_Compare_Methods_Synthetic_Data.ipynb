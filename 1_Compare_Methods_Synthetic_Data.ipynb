{
 "cells": [
  {
   "cell_type": "markdown",
   "metadata": {},
   "source": [
    "# Comparison of differential analysis methods\n",
    "In this notebook, we compare the ability of different approaches to quantify and identify significant changes in statistical distributions of samples, corresponding to synthetic datasets having similarities to actual morphological measurement datasets from high-content imaging. \n",
    "\n",
    "We check if and how much a perturbed condition is inducing changes compared to a reference condition. We refer to all (simulated) measurements in a given condition as the *perturbed or reference sample* and correspondingly, an underlying *perturbed or reference distribution* can be infered from the samples.\n",
    "\n",
    "We include the following methods:\n",
    "* Comparing Mahalanobis distance from the center (mean) of the perturbed samples to the reference distribution *(WIP!)*\n",
    "* Comparing median Mahalanobis distance from the perturbed samples to the reference distribution *(WIP!)*\n",
    "* Comparing median robust Mahalanobis distance from the perturbed samples to the reference distribution\n",
    "* Comparing robust Hellinger distance from the perturbed distribution to the reference distribution\n",
    "\n",
    "We tried these approaches using different pre-processing approaches:\n",
    "* Based on row measurements *(WIP!)*\n",
    "* Based on variation-scaled PCA\n",
    "* Based on UMAP"
   ]
  },
  {
   "cell_type": "markdown",
   "metadata": {},
   "source": [
    "## Settings"
   ]
  },
  {
   "cell_type": "markdown",
   "metadata": {},
   "source": [
    "Load packages"
   ]
  },
  {
   "cell_type": "code",
   "execution_count": null,
   "metadata": {},
   "outputs": [],
   "source": [
    "using CSV, StatsBase, Statistics, DataFrames, UMAP, RCall\n",
    "using Distributed, RMP, Random \n",
    "using MultivariateStats, MultipleTesting\n",
    "using Dates: now"
   ]
  },
  {
   "cell_type": "code",
   "execution_count": null,
   "metadata": {},
   "outputs": [],
   "source": [
    "@rlibrary ggplot2\n",
    "@rlibrary extrafont"
   ]
  },
  {
   "cell_type": "code",
   "execution_count": null,
   "metadata": {},
   "outputs": [],
   "source": [
    "R\"\"\"\n",
    "# Used later for MCD computation\n",
    "\n",
    "library(robustbase)\n",
    "\n",
    "# Customize ggplot appearance\n",
    "\n",
    "library(ggplot2)\n",
    "library(extrafont)\n",
    "\n",
    "\n",
    "# Load extra fonts\n",
    "ttf_import(paths = \"/tmp/.fonts/\")\n",
    "loadfonts()\n",
    "\n",
    "# Change theme\n",
    "customTheme <- theme_light() + \n",
    "               theme(panel.grid.minor=element_blank(), text=element_text(size=17, family=\"Arial\", colour = \"#333333\"),\n",
    "                     line=element_line(colour = \"#333333\"), \n",
    "                     legend.background = element_rect(fill=alpha('#CCCCCC', 0.1)), legend.key = element_blank())\n",
    "\n",
    "# Change default colors\n",
    "scale_colour_continuous <- function (..., begin = 0.1, end = 0.9, direction = -1, option = \"plasma\", \n",
    "                                     type = getOption(\"ggplot2.continuous.colour\", default = \"viridis\")) {\n",
    "    switch(type, gradient = scale_colour_gradient(...), \n",
    "        viridis = scale_colour_viridis_c(option = option, begin = begin, end = end, direction = direction, ...), \n",
    "        stop(\"Unknown scale type\", call. = FALSE))\n",
    "}\n",
    "scale_color_continuous <- scale_colour_continuous\n",
    "\n",
    "scale_fill_continuous <- function (..., begin = 0.1, end = 0.9, direction = -1, option = \"plasma\", \n",
    "                                     type = getOption(\"ggplot2.continuous.colour\", default = \"viridis\")) {\n",
    "    switch(type, gradient = scale_fill_gradient(...), \n",
    "        viridis = scale_fill_viridis_c(option = option, begin = begin, end = end, direction = direction, ...), \n",
    "        stop(\"Unknown scale type\", call. = FALSE))\n",
    "\n",
    "}\n",
    "\n",
    "cemm_pal = colorRampPalette(c(\"#5A463C\", \"#008CAD\", \"#40B9D4\", \"#D4ECF2\", \"#D2323C\", \"#F8B100\", \"#DFDC00\"))\n",
    "scale_fill_discrete <- function (..., type = \"CeMM\", h = c(0, 360) + 15, c = 100, l = 65, h.start = 0, \n",
    "    direction = 1, na.value = \"grey50\", aesthetics = \"fill\") \n",
    "{\n",
    "    if (type == \"CeMM\"){\n",
    "        discrete_scale(aesthetics, \"CeMM\", cemm_pal, na.value = na.value, ...)\n",
    "    } else {\n",
    "        discrete_scale(aesthetics, \"hue\", hue_pal(h, c, l, h.start, \n",
    "            direction), na.value = na.value, ...)\n",
    "    }\n",
    "}\n",
    "\n",
    "scale_color_discrete <- function (..., type = \"CeMM\", h = c(0, 360) + 15, c = 100, l = 65, h.start = 0, \n",
    "    direction = 1, na.value = \"grey50\", aesthetics = \"colour\") {\n",
    "    if (type == \"CeMM\"){\n",
    "        discrete_scale(aesthetics, \"CeMM\", cemm_pal, na.value = na.value, ...)\n",
    "    } else {\n",
    "        discrete_scale(aesthetics, \"hue\", scales::hue_pal(h, c, l, h.start, \n",
    "            direction), na.value = na.value, ...)\n",
    "    }\n",
    "}\n",
    "scale_colour_discrete <- scale_color_discrete\n",
    "\n",
    "noGridTheme <- function(...){\n",
    "    theme(panel.grid.major=element_blank(), axis.text.x=element_text(size=12), axis.text.y=element_text(size=12),\n",
    "                      axis.line=element_line(color=\"#333333\", size = 0.2), panel.border = element_blank(), ...)\n",
    "}\n",
    "\n",
    "darkTheme <- function(...){\n",
    "    theme(panel.background = element_rect(fill = '#333333'), plot.background = element_rect(fill = '#333333'), \n",
    "          axis.line=element_line(color=\"#CCCCCC\", size = 0.2), \n",
    "          text=element_text(size=17, family=\"Arial\", colour = \"#CCCCCC\"),\n",
    "          line=element_line(colour = \"#CCCCCC\"))\n",
    "}\n",
    "\n",
    "theme_set(customTheme)\n",
    "\n",
    "options(repr.plot.width=10, repr.plot.height=10)\n",
    "\"\"\""
   ]
  },
  {
   "cell_type": "markdown",
   "metadata": {},
   "source": [
    "## Loading"
   ]
  },
  {
   "cell_type": "markdown",
   "metadata": {},
   "source": [
    "Load generated datasets and combine them"
   ]
  },
  {
   "cell_type": "code",
   "execution_count": null,
   "metadata": {},
   "outputs": [],
   "source": [
    "R = CSV.read(\"Data/matR.csv\", header = false) # Reference\n",
    "N = CSV.read(\"Data/matN.csv\", header = false) # Negative control\n",
    "PS = CSV.read(\"Data/matPS.csv\", header = false) # Shifted\n",
    "PR = CSV.read(\"Data/matPR.csv\", header = false) # Rescaled\n",
    "1 # Do not display last element"
   ]
  },
  {
   "cell_type": "code",
   "execution_count": null,
   "metadata": {
    "scrolled": true
   },
   "outputs": [],
   "source": [
    "dataset = vcat(R, N, PS, PR)"
   ]
  },
  {
   "cell_type": "code",
   "execution_count": null,
   "metadata": {
    "scrolled": true
   },
   "outputs": [],
   "source": [
    "# Remember how these records were generated\n",
    "origDataset = vcat(repeat([\"Reference\"], size(R, 1)),\n",
    "                   repeat([\"Negative control\"], size(N, 1)),\n",
    "                   repeat([\"Shifted control\"], size(PS, 1)),\n",
    "                   repeat([\"Rescaled control\"], size(PR, 1)))"
   ]
  },
  {
   "cell_type": "markdown",
   "metadata": {},
   "source": [
    "## Feature filtering"
   ]
  },
  {
   "cell_type": "code",
   "execution_count": null,
   "metadata": {},
   "outputs": [],
   "source": [
    "FILT_MAX_CORR = 0.6 # Keep uncorrelated variables\n",
    "dimUMAP = 5"
   ]
  },
  {
   "cell_type": "code",
   "execution_count": null,
   "metadata": {},
   "outputs": [],
   "source": [
    "# Center and scale on control values\n",
    "indRef = origDataset .== \"Reference\"\n",
    "normDataset = DataFrame(map(x -> normtransform(x, x[indRef]), eachcol(dataset)))\n",
    "1"
   ]
  },
  {
   "cell_type": "code",
   "execution_count": null,
   "metadata": {
    "scrolled": true
   },
   "outputs": [],
   "source": [
    "# Order features from biggest mad to smallest mad\n",
    "# Since features have mad(reference) = 1, it means that we rank features by how more variable they are\n",
    "# for all conditions compared to the reference\n",
    "orderFt = sortperm(convert(Array, map(x -> mad(x, normalize = true), eachcol(normDataset))), rev=true)"
   ]
  },
  {
   "cell_type": "code",
   "execution_count": null,
   "metadata": {
    "scrolled": true
   },
   "outputs": [],
   "source": [
    "uncorrFt = decorrelate(normDataset, orderCol = orderFt, threshold = FILT_MAX_CORR)\n",
    "normDataset = normDataset[uncorrFt]"
   ]
  },
  {
   "cell_type": "code",
   "execution_count": null,
   "metadata": {},
   "outputs": [],
   "source": [
    "# Visualization\n",
    "Random.seed!(3895)\n",
    "# import Pkg; Pkg.add(\"Distances\")\n",
    "# import Distances\n",
    "# umND = umap(convert(Matrix, normDataset)', 2; metric = Distances.CosineDist(), \n",
    "#     repulsion_strength = 10, n_epochs = 200)\n",
    "umND = umap(convert(Matrix, normDataset)', 2; min_dist = 0.01, n_epochs = 200)\n",
    "umND = convert(DataFrame, umND')\n",
    "names!(umND, [:UMAP1, :UMAP2])\n",
    "\n",
    "umND[:Condition] = origDataset"
   ]
  },
  {
   "cell_type": "code",
   "execution_count": null,
   "metadata": {},
   "outputs": [],
   "source": [
    "@rput umND\n",
    "R\"\"\"\n",
    "gp3 <- ggplot(umND, aes(UMAP1, UMAP2)) + geom_hex(aes(fill = ..density..), bins = 12) + facet_wrap(\"Condition\")\n",
    "print(gp3)\n",
    "\"\"\";"
   ]
  },
  {
   "cell_type": "code",
   "execution_count": null,
   "metadata": {},
   "outputs": [],
   "source": [
    "gp = ggplot(umND, aes(:UMAP1, :UMAP2)) + geom_point(aes(color = :Condition), alpha = 0.3)\n",
    "print(gp)\n",
    "mkpath(\"Fig\")\n",
    "ggsave(\"Fig/UMAP_test.pdf\", gp)\n",
    "1"
   ]
  },
  {
   "cell_type": "code",
   "execution_count": null,
   "metadata": {},
   "outputs": [],
   "source": [
    "unique(umND.Condition)"
   ]
  },
  {
   "cell_type": "code",
   "execution_count": null,
   "metadata": {},
   "outputs": [],
   "source": [
    "gp = ggplot(umND[umND.Condition .!= \"Reference\",:], \n",
    "            aes(:UMAP1, :UMAP2)) + geom_point(aes(color = :Condition), alpha = 0.3)\n",
    "print(gp)"
   ]
  },
  {
   "cell_type": "code",
   "execution_count": null,
   "metadata": {},
   "outputs": [],
   "source": [
    "gp = ggplot(umND[umND.Condition .!= \"Rescaled control\",:], \n",
    "            aes(:UMAP1, :UMAP2)) + geom_point(aes(color = :Condition), alpha = 0.3)\n",
    "print(gp)"
   ]
  },
  {
   "cell_type": "markdown",
   "metadata": {},
   "source": [
    "## Function definition\n",
    "The following can be partially moved to the RMP package once validated."
   ]
  },
  {
   "cell_type": "code",
   "execution_count": null,
   "metadata": {},
   "outputs": [],
   "source": [
    "\"\"\" Compute the Mahalanobis Distance to center (MDC)\n",
    "    in a dataset 'data' for a given perturbation of indices 'iPert' \n",
    "    compared to a reference of indices 'iRef'.\"\"\"\n",
    "function MDC(data, iPert, iRef)\n",
    "    setPert = Matrix(data[iPert,:])\n",
    "    setRef = Matrix(data[iRef,:])\n",
    "\n",
    "    mdCenter = dropdims(mean(setRef, dims = 1), dims = 1)\n",
    "    mdCov = cov(setRef)\n",
    "\n",
    "    pertCenter = dropdims(mean(setPert, dims = 1), dims = 1)\n",
    "    \n",
    "    MD = mahalanobis(pertCenter, mdCenter, mdCov)\n",
    "    \n",
    "    return(MD)\n",
    "end"
   ]
  },
  {
   "cell_type": "code",
   "execution_count": null,
   "metadata": {},
   "outputs": [],
   "source": [
    "\"\"\" Permute labels and compute the Mahalanobis Distance to center (MDC)\n",
    "    in a dataset 'data' for a given perturbation of indices 'iPert' \n",
    "    compared to a reference of indices 'iRef', to create an empirical distribution.\"\"\"\n",
    "function shuffMDC(data, iPert, iRef; nbRep = 250)\n",
    "    setPert = data[iPert,:]\n",
    "    setRef = data[iRef,:]  \n",
    "    set = Matrix(vcat(setRef, setPert))\n",
    "    \n",
    "    function iterShufMD()\n",
    "        nset = size(set, 1)\n",
    "        shuffSet = set[sample(1:nset, nset; replace = false),:]\n",
    "        # Take random subsets of corresponding sizes\n",
    "        shuffSetPert = shuffSet[1:nrow(setPert),:]\n",
    "        shuffSetRef = shuffSet[(nrow(setPert)+1):(nrow(setPert)+nrow(setRef)),:]\n",
    "\n",
    "        # Compute Mahalanobis Distance\n",
    "        \n",
    "        mdCenter = dropdims(mean(shuffSetRef, dims = 1), dims = 1)\n",
    "        mdCov = cov(shuffSetRef)\n",
    "        \n",
    "        pertCenter = dropdims(mean(shuffSetPert, dims = 1), dims = 1)\n",
    "    \n",
    "        MD = mahalanobis(pertCenter, mdCenter, mdCov)\n",
    "        return(MD)\n",
    "    end       \n",
    "    \n",
    "    return(map(x -> iterShufMD(), 1:nbRep))\n",
    "end"
   ]
  },
  {
   "cell_type": "code",
   "execution_count": null,
   "metadata": {},
   "outputs": [],
   "source": [
    "\"\"\" Compute the median Mahalanobis Distance (MD)\n",
    "    in a dataset 'data' for a given perturbation of indices 'iPert' \n",
    "    compared to a reference of indices 'iRef'.\"\"\"\n",
    "function MD(data, iPert, iRef)\n",
    "    setPert = data[iPert,:]\n",
    "    setRef = Matrix(data[iRef,:])\n",
    "\n",
    "    mdCenter = dropdims(mean(setRef, dims = 1), dims = 1)\n",
    "    mdCov = cov(setRef)\n",
    "    \n",
    "    MD = median(map(x -> mahalanobis(x, mdCenter, mdCov), eachrow(setPert)))\n",
    "    return(MD)\n",
    "end"
   ]
  },
  {
   "cell_type": "code",
   "execution_count": null,
   "metadata": {},
   "outputs": [],
   "source": [
    "\"\"\" Permute labels and compute the median Mahalanobis Distance (RMD)\n",
    "    in a dataset 'data' for a given perturbation of indices 'iPert' \n",
    "    compared to a reference of indices 'iRef', to create an empirical distribution.\"\"\"\n",
    "function shuffMD(data, iPert, iRef; nbRep = 250)\n",
    "    setPert = data[iPert,:]\n",
    "    setRef = data[iRef,:]  \n",
    "    set = Matrix(vcat(setRef, setPert))\n",
    "    \n",
    "    function iterShufMD()\n",
    "        nset = size(set, 1)\n",
    "        shuffSet = set[sample(1:nset, nset; replace = false),:]\n",
    "        # Take random subsets of corresponding sizes\n",
    "        shuffSetPert = shuffSet[1:nrow(setPert),:]\n",
    "        shuffSetRef = shuffSet[(nrow(setPert)+1):(nrow(setPert)+nrow(setRef)),:]\n",
    "\n",
    "        # Compute Mahalanobis Distance\n",
    "        \n",
    "        mdCenter = dropdims(mean(shuffSetRef, dims = 1), dims = 1)\n",
    "        mdCov = cov(shuffSetRef)\n",
    "\n",
    "        MD = median(map(x -> mahalanobis(x, mdCenter, mdCov), eachrow(DataFrame(shuffSetPert))))\n",
    "        return(MD)\n",
    "    end       \n",
    "    \n",
    "    return(map(x -> iterShufMD(), 1:nbRep))\n",
    "end"
   ]
  },
  {
   "cell_type": "code",
   "execution_count": null,
   "metadata": {},
   "outputs": [],
   "source": [
    "\"\"\" Compute the median Robust Mahalanobis Distance (RMD)\n",
    "    in a dataset 'data' for a given perturbation of indices 'iPert' \n",
    "    compared to a reference of indices 'iRef'.\n",
    "    See https://e-archivo.uc3m.es/bitstream/handle/10016/24613/ws201710.pdf \"\"\"\n",
    "function RMD(data, iPert, iRef)\n",
    "    setPert = data[iPert,:]\n",
    "    setRef = data[iRef,:] \n",
    "\n",
    "    # Ensure that we have enough points to compute distance\n",
    "    if ((size(setPert)[1] < 2*size(data, 2))|(size(setRef)[1] < 2*size(data, 2)))\n",
    "        return(missing)\n",
    "    end\n",
    "    # NB: having less points than twice the number of dimensions leads to singularity\n",
    "    \n",
    "    # Compute Minimum Covariance Determinant and corresponding Robust Mahalanobis Distance\n",
    "    @rput setRef\n",
    "\n",
    "    R\"\"\"\n",
    "    set.seed(3895)\n",
    "    mcd <- covMcd(setRef)\n",
    "    mcdCenter <- mcd$center\n",
    "    mcdCov <- mcd$cov\n",
    "    \"\"\"\n",
    "    @rget mcdCenter\n",
    "    @rget mcdCov\n",
    "    \n",
    "    RMD = median(map(x -> mahalanobis(x, mcdCenter, mcdCov), eachrow(setPert)))\n",
    "    return(RMD)\n",
    "end"
   ]
  },
  {
   "cell_type": "code",
   "execution_count": null,
   "metadata": {},
   "outputs": [],
   "source": [
    "\"\"\" Permute labels and compute the median Robust Mahalanobis Distance (RMD)\n",
    "    in a dataset 'data' for a given perturbation of indices 'iPert' \n",
    "    compared to a reference of indices 'iRef', to create an empirical distribution.\"\"\"\n",
    "function shuffRMD(data, iPert, iRef; nbRep = 250)\n",
    "    setPert = data[iPert,:]\n",
    "    setRef = data[iRef,:]  \n",
    "    set = vcat(setRef, setPert)\n",
    "    \n",
    "    # Ensure that we have enough points to compute distance\n",
    "    if ((size(setPert)[1] < 2*size(data, 2))|(size(setRef)[1] < 2*size(data, 2)))\n",
    "        return(repeat([missing], nbRep))\n",
    "    end\n",
    "    # NB: having less points than twice the number of dimensions leads to singularity\n",
    "    \n",
    "    function iterShufRMD()\n",
    "        shuffSet = set[sample(1:nrow(set), nrow(set); replace = false),:]\n",
    "        # Take random subsets of corresponding sizes\n",
    "        shuffSetPert = shuffSet[1:nrow(setPert),:]\n",
    "        shuffSetRef = shuffSet[(nrow(setPert)+1):(nrow(setPert)+nrow(setRef)),:]\n",
    "\n",
    "        # Compute Minimum Covariance Determinant and corresponding Robust Mahalanobis Distance\n",
    "        @rput shuffSetRef\n",
    "        \n",
    "        R\"\"\"\n",
    "        set.seed(3895)\n",
    "        mcd <- covMcd(shuffSetRef)\n",
    "        mcdCenter <- mcd$center\n",
    "        mcdCov <- mcd$cov\n",
    "        \"\"\"\n",
    "        @rget mcdCenter\n",
    "        @rget mcdCov\n",
    "\n",
    "        RMD = median(map(x -> mahalanobis(x, mcdCenter, mcdCov), eachrow(shuffSetPert)))\n",
    "        return(RMD)\n",
    "    end       \n",
    "    \n",
    "    return(map(x -> iterShufRMD(), 1:nbRep))\n",
    "end"
   ]
  },
  {
   "cell_type": "code",
   "execution_count": null,
   "metadata": {},
   "outputs": [],
   "source": [
    "\"\"\" Compute the Robust Hellinger Distance (RHD)\n",
    "    in a dataset `data` for a given perturbation of indices `iPert` \n",
    "    compared to a reference of indices `iRef`.\"\"\"\n",
    "function RHD(data, iPert, iRef)\n",
    "    setPert = data[iPert,:]\n",
    "    setRef = data[iRef,:] \n",
    "\n",
    "    # Ensure that we have enough points to compute distance\n",
    "    if ((size(setPert)[1] < 2*size(data, 2))|(size(setRef)[1] < 2*size(data, 2)))\n",
    "        return(missing)\n",
    "    end\n",
    "    # NB: having less points than twice the number of dimensions leads to singularity\n",
    "    \n",
    "    # Compute Minimum Covariance Determinant and corresponding Robust Hellinger Distance\n",
    "    @rput setRef\n",
    "    @rput setPert\n",
    "\n",
    "    R\"\"\"\n",
    "    set.seed(3895)\n",
    "    mcd1 <- covMcd(setRef)\n",
    "    mcdCenter1 <- mcd1$center\n",
    "    mcdCov1 <- mcd1$cov\n",
    "    \n",
    "    # We set the seed twice to always\n",
    "    # find the same estimators given\n",
    "    # the same sample\n",
    "    set.seed(3895)\n",
    "    mcd2 <- covMcd(setPert)\n",
    "    mcdCenter2 <- mcd2$center\n",
    "    mcdCov2 <- mcd2$cov\n",
    "    \"\"\"\n",
    "    @rget mcdCenter1\n",
    "    @rget mcdCov1\n",
    "    @rget mcdCenter2\n",
    "    @rget mcdCov2\n",
    "    \n",
    "    RHD = hellinger(mcdCenter1, mcdCov1, mcdCenter2, mcdCov2)\n",
    "    return(RHD)\n",
    "end"
   ]
  },
  {
   "cell_type": "code",
   "execution_count": null,
   "metadata": {},
   "outputs": [],
   "source": [
    "\"\"\" Permute labels and compute the Robust Hellinger Distance (RHD)\n",
    "    in a dataset `data` for a given perturbation of indices `iPert` \n",
    "    compared to a reference of indices `iRef`, to create an empirical distribution.\"\"\"\n",
    "function shuffRHD(data, iPert, iRef; nbRep = 250)\n",
    "    setPert = data[iPert,:]\n",
    "    setRef = data[iRef,:]  \n",
    "    set = vcat(setRef, setPert)\n",
    "    \n",
    "    # Ensure that we have enough points to compute distance\n",
    "    if ((size(setPert)[1] < 2*size(data, 2))|(size(setRef)[1] < 2*size(data, 2)))\n",
    "        return(repeat([missing], nbRep))\n",
    "    end\n",
    "    # NB: having less points than twice the number of dimensions leads to singularity\n",
    "    \n",
    "    function iterShufRHD()\n",
    "        shuffSet = set[sample(1:nrow(set), nrow(set); replace = false),:]\n",
    "        # Take random subsets of corresponding sizes\n",
    "        shuffSetPert = shuffSet[1:nrow(setPert),:]\n",
    "        shuffSetRef = shuffSet[(nrow(setPert)+1):(nrow(setPert)+nrow(setRef)),:]\n",
    "\n",
    "        # Compute Minimum Covariance Determinant and corresponding Robust Mahalanobis Distance\n",
    "        @rput shuffSetRef\n",
    "        @rput shuffSetPert\n",
    "        \n",
    "        R\"\"\"\n",
    "        set.seed(3895)\n",
    "        mcd <- covMcd(shuffSetRef)\n",
    "        mcdCenter1 <- mcd$center\n",
    "        mcdCov1 <- mcd$cov\n",
    "        \n",
    "        # We set the seed twice to always\n",
    "        # find the same estimators given\n",
    "        # the same sample\n",
    "        set.seed(3895)\n",
    "        mcd <- covMcd(shuffSetPert)\n",
    "        mcdCenter2 <- mcd$center\n",
    "        mcdCov2 <- mcd$cov\n",
    "        \"\"\"\n",
    "        @rget mcdCenter1\n",
    "        @rget mcdCov1        \n",
    "        @rget mcdCenter2\n",
    "        @rget mcdCov2\n",
    "        \n",
    "\n",
    "        RHD = hellinger(mcdCenter1, mcdCov1, mcdCenter2, mcdCov2)\n",
    "        return(RHD)\n",
    "    end       \n",
    "    \n",
    "    return(map(x -> iterShufRHD(), 1:nbRep))\n",
    "end"
   ]
  },
  {
   "cell_type": "markdown",
   "metadata": {},
   "source": [
    "## UMAP pre-processing"
   ]
  },
  {
   "cell_type": "code",
   "execution_count": null,
   "metadata": {
    "scrolled": false
   },
   "outputs": [],
   "source": [
    "# Re-run UMAP with more dimensions (to preserve more of the total information)\n",
    "Random.seed!(3895)\n",
    "umND = umap(convert(Matrix, normDataset)', dimUMAP; min_dist = 0.01, n_epochs = 200)\n",
    "umND = convert(DataFrame, umND')\n",
    "names!(umND, Symbol.(string.(\"UMAP\", 1:dimUMAP)))\n",
    "\n",
    "umND[:Condition] = origDataset"
   ]
  },
  {
   "cell_type": "markdown",
   "metadata": {},
   "source": [
    "### Mahalanobis Distance to Center"
   ]
  },
  {
   "cell_type": "code",
   "execution_count": null,
   "metadata": {},
   "outputs": [],
   "source": [
    "# The following MD values are displayed in the following order:\n",
    "unique(umND.Condition)"
   ]
  },
  {
   "cell_type": "code",
   "execution_count": null,
   "metadata": {},
   "outputs": [],
   "source": [
    "# Actual observed MD to center\n",
    "allMDC = map(x -> MDC(umND[:,1:dimUMAP], umND.Condition.==x, umND.Condition.==\"Reference\"), unique(umND.Condition))"
   ]
  },
  {
   "cell_type": "markdown",
   "metadata": {},
   "source": [
    "We then compute the expected distribution of RMDs under the assumption that the condition does not matter."
   ]
  },
  {
   "cell_type": "code",
   "execution_count": null,
   "metadata": {
    "scrolled": true
   },
   "outputs": [],
   "source": [
    "@time allShuffMDC = map(x -> shuffMDC(umND[:,1:dimUMAP], umND.Condition .== x, \n",
    "                        umND.Condition .== \"Reference\", nbRep = 500), \n",
    "    unique(umND.Condition))"
   ]
  },
  {
   "cell_type": "code",
   "execution_count": null,
   "metadata": {},
   "outputs": [],
   "source": [
    "# Missing values need to be handled in real case applications\n",
    "@assert !any(ismissing.(allMDC))"
   ]
  },
  {
   "cell_type": "code",
   "execution_count": null,
   "metadata": {},
   "outputs": [],
   "source": [
    "# Compute the Robust Morphological Perturbation Value\n",
    "plateRMPV = DataFrame()\n",
    "plateRMPV[:MPV] = adjust([mean(obs .< sim) for (obs, sim) \n",
    "            in zip(allMDC, allShuffMDC)], BenjaminiHochberg())\n",
    "plateRMPV[:MD] = allMDC\n",
    "plateRMPV[:Condition] = unique(umND.Condition);"
   ]
  },
  {
   "cell_type": "code",
   "execution_count": null,
   "metadata": {},
   "outputs": [],
   "source": [
    "plateRMPV"
   ]
  },
  {
   "cell_type": "code",
   "execution_count": null,
   "metadata": {
    "scrolled": false
   },
   "outputs": [],
   "source": [
    "# Display number of positive tests\n",
    "gp = ggplot(plateRMPV) + geom_point(aes(:MPV, :MD, color = :Condition)) + \n",
    "    geom_vline(xintercept = 0.05, linetype = \"dashed\")\n",
    "print(gp)\n",
    "ggsave(\"Fig/MPV_center_test_mahalanobis.pdf\", gp)"
   ]
  },
  {
   "cell_type": "markdown",
   "metadata": {},
   "source": [
    "### Median Mahalanobis Distance"
   ]
  },
  {
   "cell_type": "code",
   "execution_count": null,
   "metadata": {},
   "outputs": [],
   "source": [
    "# The following MD values are displayed in the following order:\n",
    "unique(umND.Condition)"
   ]
  },
  {
   "cell_type": "code",
   "execution_count": null,
   "metadata": {
    "scrolled": true
   },
   "outputs": [],
   "source": [
    "# Actual observed MD\n",
    "allMD = map(x -> MD(umND[:,1:dimUMAP], umND.Condition.==x, umND.Condition.==\"Reference\"), unique(umND.Condition))"
   ]
  },
  {
   "cell_type": "markdown",
   "metadata": {},
   "source": [
    "We then compute the expected distribution of RMDs under the assumption that the condition does not matter."
   ]
  },
  {
   "cell_type": "code",
   "execution_count": null,
   "metadata": {
    "scrolled": true
   },
   "outputs": [],
   "source": [
    "@time allShuffMD = map(x -> shuffMD(umND[:,1:dimUMAP], umND.Condition .== x, \n",
    "                        umND.Condition .== \"Reference\", nbRep = 500), \n",
    "    unique(umND.Condition))"
   ]
  },
  {
   "cell_type": "code",
   "execution_count": null,
   "metadata": {},
   "outputs": [],
   "source": [
    "# Missing values need to be handled in real case applications\n",
    "@assert !any(ismissing.(allMD))"
   ]
  },
  {
   "cell_type": "code",
   "execution_count": null,
   "metadata": {},
   "outputs": [],
   "source": [
    "# Compute the Robust Morphological Perturbation Value\n",
    "plateRMPV = DataFrame()\n",
    "plateRMPV[:MPV] = adjust([mean(obs .< sim) for (obs, sim) \n",
    "            in zip(allMD, allShuffMD)], BenjaminiHochberg())\n",
    "plateRMPV[:MD] = allMD\n",
    "plateRMPV[:Condition] = unique(umND.Condition);"
   ]
  },
  {
   "cell_type": "code",
   "execution_count": null,
   "metadata": {},
   "outputs": [],
   "source": [
    "plateRMPV"
   ]
  },
  {
   "cell_type": "code",
   "execution_count": null,
   "metadata": {
    "scrolled": true
   },
   "outputs": [],
   "source": [
    "# Display number of positive tests\n",
    "gp = ggplot(plateRMPV) + geom_point(aes(:MPV, :MD, color = :Condition)) + \n",
    "    geom_vline(xintercept = 0.05, linetype = \"dashed\")\n",
    "print(gp)\n",
    "ggsave(\"Fig/MPV_test_mahalanobis.pdf\", gp)"
   ]
  },
  {
   "cell_type": "markdown",
   "metadata": {},
   "source": [
    "### Median Robust Mahalanobis Distance "
   ]
  },
  {
   "cell_type": "code",
   "execution_count": null,
   "metadata": {},
   "outputs": [],
   "source": [
    "# The following RMD values are displayed in the following order:\n",
    "unique(umND.Condition)"
   ]
  },
  {
   "cell_type": "code",
   "execution_count": null,
   "metadata": {
    "scrolled": true
   },
   "outputs": [],
   "source": [
    "# Actual observed RMD\n",
    "allRMD = map(x -> RMD(umND[:,1:dimUMAP], umND.Condition.==x, umND.Condition.==\"Reference\"), unique(umND.Condition))"
   ]
  },
  {
   "cell_type": "markdown",
   "metadata": {},
   "source": [
    "We then compute the expected distribution of RMDs under the assumption that the condition does not matter."
   ]
  },
  {
   "cell_type": "code",
   "execution_count": null,
   "metadata": {
    "scrolled": true
   },
   "outputs": [],
   "source": [
    "@time allShuffRMD = map(x -> shuffRMD(umND[:,1:dimUMAP], umND.Condition .== x, \n",
    "                        umND.Condition .== \"Reference\", nbRep = 500), \n",
    "    unique(umND.Condition))"
   ]
  },
  {
   "cell_type": "code",
   "execution_count": null,
   "metadata": {},
   "outputs": [],
   "source": [
    "# Missing values need to be handled in real case applications\n",
    "@assert !any(ismissing.(allRMD))"
   ]
  },
  {
   "cell_type": "code",
   "execution_count": null,
   "metadata": {},
   "outputs": [],
   "source": [
    "# Compute the Robust Morphological Perturbation Value\n",
    "plateRMPV = DataFrame()\n",
    "plateRMPV[:RMPV] = adjust([mean(obs .< sim) for (obs, sim) \n",
    "            in zip(allRMD, allShuffRMD)], BenjaminiHochberg())\n",
    "plateRMPV[:RMD] = allRMD\n",
    "plateRMPV[:Condition] = unique(umND.Condition);"
   ]
  },
  {
   "cell_type": "code",
   "execution_count": null,
   "metadata": {},
   "outputs": [],
   "source": [
    "plateRMPV"
   ]
  },
  {
   "cell_type": "code",
   "execution_count": null,
   "metadata": {
    "scrolled": true
   },
   "outputs": [],
   "source": [
    "# Display number of positive tests\n",
    "gp = ggplot(plateRMPV) + geom_point(aes(:RMPV, :RMD, color = :Condition)) + \n",
    "    geom_vline(xintercept = 0.05, linetype = \"dashed\")\n",
    "print(gp)\n",
    "ggsave(\"Fig/RMPV_test_mahalanobis.pdf\", gp)"
   ]
  },
  {
   "cell_type": "markdown",
   "metadata": {},
   "source": [
    "### Robust Hellinger Distance "
   ]
  },
  {
   "cell_type": "code",
   "execution_count": null,
   "metadata": {},
   "outputs": [],
   "source": [
    "# The following RMD values are displayed in the following order:\n",
    "unique(umND.Condition)"
   ]
  },
  {
   "cell_type": "code",
   "execution_count": null,
   "metadata": {
    "scrolled": true
   },
   "outputs": [],
   "source": [
    "# Actual observed RHD\n",
    "allRHD = map(x -> RHD(umND[:,1:dimUMAP], umND.Condition.==x, umND.Condition.==\"Reference\"), unique(umND.Condition))"
   ]
  },
  {
   "cell_type": "markdown",
   "metadata": {},
   "source": [
    "NB: as expected, Hellinger distance is symmetrical.\n",
    "\n",
    "    map(x -> RHD(umND[:,1:dimUMAP], umND.Condition.==x, umND.Condition.==\"Negative control\"), unique(umND.Condition))\n",
    "    map(x -> RHD(umND[:,1:dimUMAP], umND.Condition.==x, umND.Condition.==\"Shifted control\"), unique(umND.Condition))\n",
    "    map(x -> RHD(umND[:,1:dimUMAP], umND.Condition.==x, umND.Condition.==\"Rescaled control\"), unique(umND.Condition))\n",
    "    \n",
    "We then compute the expected distribution of RHDs under the assumption that the condition does not matter."
   ]
  },
  {
   "cell_type": "code",
   "execution_count": null,
   "metadata": {
    "scrolled": false
   },
   "outputs": [],
   "source": [
    "@time allShuffRHD = map(x -> shuffRHD(umND[:,1:dimUMAP], umND.Condition .== x, \n",
    "                        umND.Condition .== \"Reference\", nbRep = 500), \n",
    "    unique(umND.Condition))"
   ]
  },
  {
   "cell_type": "code",
   "execution_count": null,
   "metadata": {},
   "outputs": [],
   "source": [
    "# Missing values need to be handled in real case applications\n",
    "@assert !any(ismissing.(allRHD))"
   ]
  },
  {
   "cell_type": "code",
   "execution_count": null,
   "metadata": {},
   "outputs": [],
   "source": [
    "# Compute the Robust Morphological Perturbation Value\n",
    "plateRMPV = DataFrame()\n",
    "plateRMPV[:RMPV] = adjust([mean(obs .< sim) for (obs, sim) \n",
    "            in zip(allRHD, allShuffRHD)], BenjaminiHochberg())\n",
    "plateRMPV[:RHD] = allRHD\n",
    "plateRMPV[:Condition] = unique(umND.Condition)"
   ]
  },
  {
   "cell_type": "code",
   "execution_count": null,
   "metadata": {},
   "outputs": [],
   "source": [
    "# Display number of positive tests\n",
    "gp = ggplot(plateRMPV) + geom_point(aes(:RMPV, :RHD, color = :Condition)) + \n",
    "    geom_vline(xintercept = 0.05, linetype = \"dashed\")\n",
    "print(gp)\n",
    "ggsave(\"Fig/RMPV_test_hellinger.pdf\", gp)"
   ]
  },
  {
   "cell_type": "markdown",
   "metadata": {},
   "source": [
    "## PCA pre-processing"
   ]
  },
  {
   "cell_type": "code",
   "execution_count": null,
   "metadata": {},
   "outputs": [],
   "source": [
    "Random.seed!(3895)\n",
    "modelPCA = fit(PCA, convert(Matrix, normDataset)'; pratio = 0.9)\n",
    "dimPCA = outdim(modelPCA)\n",
    "pcaND = transform(modelPCA, convert(Matrix, normDataset)')\n",
    "pcaND = convert(DataFrame, pcaND')\n",
    "# Scale by importance of each principal component\n",
    "pcaND = DataFrame(principalvars(modelPCA) .* eachcol(pcaND))\n",
    "names!(pcaND, Symbol.(string.(\"PC\", 1:dimPCA)))\n",
    "\n",
    "\n",
    "pcaND[:Condition] = origDataset"
   ]
  },
  {
   "cell_type": "code",
   "execution_count": null,
   "metadata": {
    "scrolled": false
   },
   "outputs": [],
   "source": [
    "gp = ggplot(pcaND, aes(:PC1, :PC2)) + geom_point(aes(color = :Condition), alpha = 0.3)\n",
    "print(gp)\n",
    "ggsave(\"Fig/PCA_test.pdf\", gp)\n",
    "1"
   ]
  },
  {
   "cell_type": "markdown",
   "metadata": {},
   "source": [
    "### Mahalanobis Distance to Center"
   ]
  },
  {
   "cell_type": "code",
   "execution_count": null,
   "metadata": {},
   "outputs": [],
   "source": [
    "# The following MD values are displayed in the following order:\n",
    "unique(pcaND.Condition)"
   ]
  },
  {
   "cell_type": "code",
   "execution_count": null,
   "metadata": {},
   "outputs": [],
   "source": [
    "# Actual observed MD to center\n",
    "allMDCpca = map(x -> MDC(pcaND[:,1:dimPCA], pcaND.Condition.==x,\n",
    "             pcaND.Condition.==\"Reference\"), unique(pcaND.Condition))"
   ]
  },
  {
   "cell_type": "markdown",
   "metadata": {},
   "source": [
    "We then compute the expected distribution of RMDs under the assumption that the condition does not matter."
   ]
  },
  {
   "cell_type": "code",
   "execution_count": null,
   "metadata": {},
   "outputs": [],
   "source": [
    "@time allShuffMDCpca = map(x -> shuffMDC(pcaND[:,1:dimPCA], pcaND.Condition .== x, \n",
    "                        pcaND.Condition .== \"Reference\", nbRep = 500), \n",
    "    unique(pcaND.Condition))"
   ]
  },
  {
   "cell_type": "code",
   "execution_count": null,
   "metadata": {},
   "outputs": [],
   "source": [
    "# Missing values need to be handled in real case applications\n",
    "@assert !any(ismissing.(allMDCpca))"
   ]
  },
  {
   "cell_type": "code",
   "execution_count": null,
   "metadata": {},
   "outputs": [],
   "source": [
    "# Compute the Robust Morphological Perturbation Value\n",
    "plateRMPV = DataFrame()\n",
    "plateRMPV[:MPV] = adjust([mean(obs .< sim) for (obs, sim) \n",
    "            in zip(allMDCpca, allShuffMDCpca)], BenjaminiHochberg())\n",
    "plateRMPV[:MD] = allMDCpca\n",
    "plateRMPV[:Condition] = unique(pcaND.Condition);"
   ]
  },
  {
   "cell_type": "code",
   "execution_count": null,
   "metadata": {},
   "outputs": [],
   "source": [
    "plateRMPV"
   ]
  },
  {
   "cell_type": "code",
   "execution_count": null,
   "metadata": {},
   "outputs": [],
   "source": [
    "# Display number of positive tests\n",
    "gp = ggplot(plateRMPV) + geom_point(aes(:MPV, :MD, color = :Condition)) + \n",
    "    geom_vline(xintercept = 0.05, linetype = \"dashed\")\n",
    "print(gp)\n",
    "ggsave(\"Fig/PCA_MPV_center_test_mahalanobis.pdf\", gp)"
   ]
  },
  {
   "cell_type": "markdown",
   "metadata": {},
   "source": [
    "### Median Mahalanobis Distance"
   ]
  },
  {
   "cell_type": "code",
   "execution_count": null,
   "metadata": {},
   "outputs": [],
   "source": [
    "# The following MD values are displayed in the following order:\n",
    "unique(pcaND.Condition)"
   ]
  },
  {
   "cell_type": "code",
   "execution_count": null,
   "metadata": {
    "scrolled": true
   },
   "outputs": [],
   "source": [
    "# Actual observed MD\n",
    "allMDpca = map(x -> MD(pcaND[:,1:dimPCA], pcaND.Condition.==x, \n",
    "                       pcaND.Condition.==\"Reference\"), unique(pcaND.Condition))"
   ]
  },
  {
   "cell_type": "markdown",
   "metadata": {},
   "source": [
    "We then compute the expected distribution of MDs under the assumption that the condition does not matter."
   ]
  },
  {
   "cell_type": "code",
   "execution_count": null,
   "metadata": {
    "scrolled": true
   },
   "outputs": [],
   "source": [
    "@time allShuffMDpca = map(x -> shuffMD(pcaND[:,1:dimPCA], pcaND.Condition .== x, \n",
    "                        pcaND.Condition .== \"Reference\", nbRep = 500), \n",
    "    unique(pcaND.Condition))"
   ]
  },
  {
   "cell_type": "code",
   "execution_count": null,
   "metadata": {},
   "outputs": [],
   "source": [
    "# Missing values need to be handled in real case applications\n",
    "@assert !any(ismissing.(allMDpca))"
   ]
  },
  {
   "cell_type": "code",
   "execution_count": null,
   "metadata": {},
   "outputs": [],
   "source": [
    "# Compute the Robust Morphological Perturbation Value\n",
    "plateRMPV = DataFrame()\n",
    "plateRMPV[:MPV] = adjust([mean(obs .< sim) for (obs, sim) \n",
    "            in zip(allMDpca, allShuffMDpca)], BenjaminiHochberg())\n",
    "plateRMPV[:MD] = allMDpca\n",
    "plateRMPV[:Condition] = unique(umND.Condition);"
   ]
  },
  {
   "cell_type": "code",
   "execution_count": null,
   "metadata": {},
   "outputs": [],
   "source": [
    "plateRMPV"
   ]
  },
  {
   "cell_type": "code",
   "execution_count": null,
   "metadata": {
    "scrolled": true
   },
   "outputs": [],
   "source": [
    "# Display number of positive tests\n",
    "gp = ggplot(plateRMPV) + geom_point(aes(:MPV, :MD, color = :Condition)) + \n",
    "    geom_vline(xintercept = 0.05, linetype = \"dashed\")\n",
    "print(gp)\n",
    "ggsave(\"Fig/PCA_MPV_test_mahalanobis.pdf\", gp)"
   ]
  },
  {
   "cell_type": "markdown",
   "metadata": {},
   "source": [
    "### Median Robust Mahalanobis Distance "
   ]
  },
  {
   "cell_type": "code",
   "execution_count": null,
   "metadata": {},
   "outputs": [],
   "source": [
    "# The following RMD values are displayed in the following order:\n",
    "unique(pcaND.Condition)"
   ]
  },
  {
   "cell_type": "code",
   "execution_count": null,
   "metadata": {
    "scrolled": false
   },
   "outputs": [],
   "source": [
    "# Actual observed RMD\n",
    "allRMDpca = map(x -> RMD(pcaND[:,1:dimPCA], pcaND.Condition.==x, \n",
    "                pcaND.Condition.==\"Reference\"), unique(pcaND.Condition))"
   ]
  },
  {
   "cell_type": "markdown",
   "metadata": {},
   "source": [
    "We then compute the expected distribution of RMDs under the assumption that the condition does not matter."
   ]
  },
  {
   "cell_type": "code",
   "execution_count": null,
   "metadata": {},
   "outputs": [],
   "source": [
    "@time allShuffRMDpca = map(x -> shuffRMD(pcaND[:,1:dimPCA], pcaND.Condition .== x, \n",
    "                        pcaND.Condition .== \"Reference\", nbRep = 20), \n",
    "    unique(umND.Condition))"
   ]
  },
  {
   "cell_type": "code",
   "execution_count": null,
   "metadata": {},
   "outputs": [],
   "source": [
    "# Missing values need to be handled in real case applications\n",
    "@assert !any(ismissing.(allRMDpca))"
   ]
  },
  {
   "cell_type": "code",
   "execution_count": null,
   "metadata": {},
   "outputs": [],
   "source": [
    "# Compute the Robust Morphological Perturbation Value\n",
    "plateRMPV = DataFrame()\n",
    "plateRMPV[:RMPV] = adjust([mean(obs .< sim) for (obs, sim) \n",
    "            in zip(allRMDpca, allShuffRMDpca)], BenjaminiHochberg())\n",
    "plateRMPV[:RHD] = allRMDpca\n",
    "plateRMPV[:Condition] = unique(pcaND.Condition)"
   ]
  },
  {
   "cell_type": "code",
   "execution_count": null,
   "metadata": {},
   "outputs": [],
   "source": [
    "# Display number of positive tests\n",
    "gp = ggplot(plateRMPV) + geom_point(aes(:RMPV, :RHD, color = :Condition)) + \n",
    "    geom_vline(xintercept = 0.05, linetype = \"dashed\")\n",
    "print(gp)\n",
    "ggsave(\"Fig/PCA_test_mahalanobis.pdf\", gp)"
   ]
  },
  {
   "cell_type": "markdown",
   "metadata": {},
   "source": [
    "### Robust Hellinger Distance "
   ]
  },
  {
   "cell_type": "code",
   "execution_count": null,
   "metadata": {
    "scrolled": true
   },
   "outputs": [],
   "source": [
    "# Actual observed RHD\n",
    "allRHDpca = map(x -> RHD(pcaND[:,1:dimUMAP], pcaND.Condition.==x, pcaND.Condition.==\"Reference\"),\n",
    "                unique(pcaND.Condition))"
   ]
  },
  {
   "cell_type": "markdown",
   "metadata": {},
   "source": [
    "NB: as expected, Hellinger distance is symmetrical.\n",
    "\n",
    "    map(x -> RHD(umND[:,1:dimUMAP], umND.Condition.==x, umND.Condition.==\"Negative control\"), unique(umND.Condition))\n",
    "    map(x -> RHD(umND[:,1:dimUMAP], umND.Condition.==x, umND.Condition.==\"Shifted control\"), unique(umND.Condition))\n",
    "    map(x -> RHD(umND[:,1:dimUMAP], umND.Condition.==x, umND.Condition.==\"Rescaled control\"), unique(umND.Condition))\n",
    "    \n",
    "We then compute the expected distribution of RHDs under the assumption that the condition does not matter."
   ]
  },
  {
   "cell_type": "code",
   "execution_count": null,
   "metadata": {},
   "outputs": [],
   "source": [
    "@time allShuffRHDpca = map(x -> shuffRHD(pcaND[:,1:dimPCA], pcaND.Condition .== x, \n",
    "                        pcaND.Condition .== \"Reference\", nbRep = 12), \n",
    "    unique(umND.Condition))"
   ]
  },
  {
   "cell_type": "code",
   "execution_count": null,
   "metadata": {},
   "outputs": [],
   "source": [
    "# Missing values need to be handled in real case applications\n",
    "@assert !any(ismissing.(allRHDpca))"
   ]
  },
  {
   "cell_type": "code",
   "execution_count": null,
   "metadata": {},
   "outputs": [],
   "source": [
    "# Compute the Robust Morphological Perturbation Value\n",
    "plateRMPV = DataFrame()\n",
    "plateRMPV[:RMPV] = adjust([mean(obs .< sim) for (obs, sim) \n",
    "            in zip(allRHDpca, allShuffRHDpca)], BenjaminiHochberg())\n",
    "plateRMPV[:RHD] = allRHDpca\n",
    "plateRMPV[:Condition] = unique(pcaND.Condition)"
   ]
  },
  {
   "cell_type": "code",
   "execution_count": null,
   "metadata": {},
   "outputs": [],
   "source": [
    "# Display number of positive tests\n",
    "gp = ggplot(plateRMPV) + geom_point(aes(:RMPV, :RHD, color = :Condition)) + \n",
    "    geom_vline(xintercept = 0.05, linetype = \"dashed\")\n",
    "print(gp)\n",
    "ggsave(\"Fig/PCA_test_hellinger.pdf\", gp)"
   ]
  },
  {
   "cell_type": "markdown",
   "metadata": {},
   "source": [
    "## Full size dataset"
   ]
  },
  {
   "cell_type": "code",
   "execution_count": null,
   "metadata": {},
   "outputs": [],
   "source": [
    "Random.seed!(3895)\n",
    "dimRaw = size(normDataset, 2)"
   ]
  },
  {
   "cell_type": "code",
   "execution_count": null,
   "metadata": {
    "scrolled": false
   },
   "outputs": [],
   "source": [
    "odCode = Dict(x => i for (i,x) in enumerate(unique(origDataset)))\n",
    "gp = ggplot(normDataset, aes(:x1, :x2))  + \n",
    "     geom_point(color = [odCode[x] for x in origDataset], alpha = 0.3)\n",
    "print(gp)\n",
    "ggsave(\"Fig/Raw_test.pdf\", gp)\n",
    "1"
   ]
  },
  {
   "cell_type": "markdown",
   "metadata": {},
   "source": [
    "### Mahalanobis Distance to Center"
   ]
  },
  {
   "cell_type": "code",
   "execution_count": null,
   "metadata": {},
   "outputs": [],
   "source": [
    "# The following MD values are displayed in the following order:\n",
    "unique(origDataset)"
   ]
  },
  {
   "cell_type": "code",
   "execution_count": null,
   "metadata": {},
   "outputs": [],
   "source": [
    "# Actual observed MD to center\n",
    "allMDCraw = map(x -> MDC(normDataset, origDataset.==x,\n",
    "                origDataset.==\"Reference\"), unique(origDataset))"
   ]
  },
  {
   "cell_type": "markdown",
   "metadata": {},
   "source": [
    "Why exactly 0?"
   ]
  },
  {
   "cell_type": "markdown",
   "metadata": {},
   "source": [
    "We then compute the expected distribution of RMDs under the assumption that the condition does not matter."
   ]
  },
  {
   "cell_type": "code",
   "execution_count": null,
   "metadata": {},
   "outputs": [],
   "source": [
    "@time allShuffMDCraw = map(x -> shuffMDC(normDataset, origDataset .== x, \n",
    "                        origDataset .== \"Reference\", nbRep = 10), unique(origDataset))"
   ]
  },
  {
   "cell_type": "code",
   "execution_count": null,
   "metadata": {},
   "outputs": [],
   "source": [
    "# Missing values need to be handled in real case applications\n",
    "@assert !any(ismissing.(allMDCraw))"
   ]
  },
  {
   "cell_type": "code",
   "execution_count": null,
   "metadata": {},
   "outputs": [],
   "source": [
    "# Compute the Robust Morphological Perturbation Value\n",
    "plateRMPV = DataFrame()\n",
    "plateRMPV[:MPV] = adjust([mean(obs .< sim) for (obs, sim) \n",
    "            in zip(allMDCraw, allShuffMDCraw)], BenjaminiHochberg())\n",
    "plateRMPV[:MD] = allMDCraw\n",
    "plateRMPV[:Condition] = unique(origDataset);"
   ]
  },
  {
   "cell_type": "code",
   "execution_count": null,
   "metadata": {},
   "outputs": [],
   "source": [
    "plateRMPV"
   ]
  },
  {
   "cell_type": "code",
   "execution_count": null,
   "metadata": {},
   "outputs": [],
   "source": [
    "# Display number of positive tests\n",
    "gp = ggplot(plateRMPV) + geom_point(aes(:MPV, :MD, color = :Condition)) + \n",
    "    geom_vline(xintercept = 0.05, linetype = \"dashed\")\n",
    "print(gp)\n",
    "ggsave(\"Fig/Raw_MPV_center_test_mahalanobis.pdf\", gp)"
   ]
  },
  {
   "cell_type": "markdown",
   "metadata": {},
   "source": [
    "### Median Mahalanobis Distance"
   ]
  },
  {
   "cell_type": "code",
   "execution_count": null,
   "metadata": {},
   "outputs": [],
   "source": [
    "# The following MD values are displayed in the following order:\n",
    "unique(origDataset)"
   ]
  },
  {
   "cell_type": "code",
   "execution_count": null,
   "metadata": {
    "scrolled": true
   },
   "outputs": [],
   "source": [
    "# Actual observed MD\n",
    "allMDraw = map(x -> MD(normDataset, origDataset.==x,\n",
    "                       origDataset.==\"Reference\"), unique(origDataset))"
   ]
  },
  {
   "cell_type": "markdown",
   "metadata": {},
   "source": [
    "Why exactly same distance?!"
   ]
  },
  {
   "cell_type": "markdown",
   "metadata": {},
   "source": [
    "We then compute the expected distribution of MDs under the assumption that the condition does not matter."
   ]
  },
  {
   "cell_type": "code",
   "execution_count": null,
   "metadata": {
    "scrolled": true
   },
   "outputs": [],
   "source": [
    "@time allShuffMDraw = map(x -> shuffMD(normDataset, origDataset .== x, \n",
    "                        origDataset .== \"Reference\", nbRep = 10), unique(origDataset))"
   ]
  },
  {
   "cell_type": "code",
   "execution_count": null,
   "metadata": {},
   "outputs": [],
   "source": [
    "# Missing values need to be handled in real case applications\n",
    "@assert !any(ismissing.(allMDraw))"
   ]
  },
  {
   "cell_type": "code",
   "execution_count": null,
   "metadata": {},
   "outputs": [],
   "source": [
    "# Compute the Robust Morphological Perturbation Value\n",
    "plateRMPV = DataFrame()\n",
    "plateRMPV[:MPV] = adjust([mean(obs .< sim) for (obs, sim) \n",
    "            in zip(allMDraw, allShuffMDraw)], BenjaminiHochberg())\n",
    "plateRMPV[:MD] = allMDraw\n",
    "plateRMPV[:Condition] = unique(origDataset);"
   ]
  },
  {
   "cell_type": "code",
   "execution_count": null,
   "metadata": {},
   "outputs": [],
   "source": [
    "plateRMPV"
   ]
  },
  {
   "cell_type": "code",
   "execution_count": null,
   "metadata": {
    "scrolled": true
   },
   "outputs": [],
   "source": [
    "# Display number of positive tests\n",
    "gp = ggplot(plateRMPV) + geom_point(aes(:MPV, :MD, color = :Condition)) + \n",
    "    geom_vline(xintercept = 0.05, linetype = \"dashed\")\n",
    "print(gp)\n",
    "ggsave(\"Fig/Raw_MPV_test_mahalanobis.pdf\", gp)"
   ]
  },
  {
   "cell_type": "markdown",
   "metadata": {},
   "source": [
    "### Median Robust Mahalanobis Distance "
   ]
  },
  {
   "cell_type": "code",
   "execution_count": null,
   "metadata": {},
   "outputs": [],
   "source": [
    "# The following RMD values are displayed in the following order:\n",
    "unique(origDataset)"
   ]
  },
  {
   "cell_type": "code",
   "execution_count": null,
   "metadata": {
    "scrolled": false
   },
   "outputs": [],
   "source": [
    "# Actual observed RMD\n",
    "allRMDraw = map(x -> RMD(normDataset, origDataset.==x, \n",
    "                origDataset.==\"Reference\"), unique(origDataset))"
   ]
  },
  {
   "cell_type": "markdown",
   "metadata": {},
   "source": [
    "We then compute the expected distribution of RMDs under the assumption that the condition does not matter."
   ]
  },
  {
   "cell_type": "code",
   "execution_count": null,
   "metadata": {},
   "outputs": [],
   "source": [
    "@time allShuffRMDraw = map(x -> shuffRMD(normDataset, origDataset .== x, \n",
    "                        origDataset .== \"Reference\", nbRep = 10), unique(origDataset))"
   ]
  },
  {
   "cell_type": "code",
   "execution_count": null,
   "metadata": {},
   "outputs": [],
   "source": [
    "# Missing values need to be handled in real case applications\n",
    "@assert !any(ismissing.(allRMDraw))"
   ]
  },
  {
   "cell_type": "code",
   "execution_count": null,
   "metadata": {},
   "outputs": [],
   "source": [
    "# Compute the Robust Morphological Perturbation Value\n",
    "plateRMPV = DataFrame()\n",
    "plateRMPV[:RMPV] = adjust([mean(obs .< sim) for (obs, sim) \n",
    "            in zip(allRMDraw, allShuffRMDraw)], BenjaminiHochberg())\n",
    "plateRMPV[:RMD] = allRMDraw\n",
    "plateRMPV[:Condition] = unique(origDataset)"
   ]
  },
  {
   "cell_type": "code",
   "execution_count": null,
   "metadata": {},
   "outputs": [],
   "source": [
    "# Display number of positive tests\n",
    "gp = ggplot(plateRMPV) + geom_point(aes(:RMPV, :RMD, color = :Condition)) + \n",
    "    geom_vline(xintercept = 0.05, linetype = \"dashed\")\n",
    "print(gp)\n",
    "ggsave(\"Fig/Raw_test_mahalanobis.pdf\", gp)"
   ]
  },
  {
   "cell_type": "markdown",
   "metadata": {},
   "source": [
    "### Robust Hellinger Distance "
   ]
  },
  {
   "cell_type": "code",
   "execution_count": null,
   "metadata": {
    "scrolled": true
   },
   "outputs": [],
   "source": [
    "# Actual observed RHD\n",
    "allRHDraw = map(x -> RHD(normDataset, origDataset.==x, origDataset.==\"Reference\"),\n",
    "                unique(origDataset))"
   ]
  },
  {
   "cell_type": "code",
   "execution_count": null,
   "metadata": {},
   "outputs": [],
   "source": [
    "@time allShuffRHDraw = map(x -> shuffRHD(normDataset, origDataset .== x, \n",
    "                           origDataset .== \"Reference\", nbRep = 6), unique(umND.Condition))"
   ]
  },
  {
   "cell_type": "code",
   "execution_count": null,
   "metadata": {},
   "outputs": [],
   "source": [
    "# Missing values need to be handled in real case applications\n",
    "@assert !any(ismissing.(allRHDraw))"
   ]
  },
  {
   "cell_type": "code",
   "execution_count": null,
   "metadata": {},
   "outputs": [],
   "source": [
    "# Compute the Robust Morphological Perturbation Value\n",
    "plateRMPV = DataFrame()\n",
    "plateRMPV[:RMPV] = adjust([mean(obs .< sim) for (obs, sim) \n",
    "            in zip(allRHDraw, allShuffRHDraw)], BenjaminiHochberg())\n",
    "plateRMPV[:RHD] = allRHDraw\n",
    "plateRMPV[:Condition] = unique(origDataset)"
   ]
  },
  {
   "cell_type": "code",
   "execution_count": null,
   "metadata": {},
   "outputs": [],
   "source": [
    "# Display number of positive tests\n",
    "gp = ggplot(plateRMPV) + geom_point(aes(:RMPV, :RHD, color = :Condition)) + \n",
    "    geom_vline(xintercept = 0.05, linetype = \"dashed\")\n",
    "print(gp)\n",
    "ggsave(\"Fig/Raw_test_hellinger.pdf\", gp)"
   ]
  },
  {
   "cell_type": "code",
   "execution_count": null,
   "metadata": {},
   "outputs": [],
   "source": [
    "1+1"
   ]
  }
 ],
 "metadata": {
  "kernelspec": {
   "display_name": "Julia 1.1.0",
   "language": "julia",
   "name": "julia-1.1"
  },
  "language_info": {
   "file_extension": ".jl",
   "mimetype": "application/julia",
   "name": "julia",
   "version": "1.1.0"
  }
 },
 "nbformat": 4,
 "nbformat_minor": 2
}
