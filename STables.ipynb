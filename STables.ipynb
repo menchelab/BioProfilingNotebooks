{
 "cells": [
  {
   "cell_type": "markdown",
   "metadata": {},
   "source": [
    "# Notebook - Supplementary tables\n",
    "In this notebook, we explore intermediate results from other notebooks and format them in descriptive tables."
   ]
  },
  {
   "cell_type": "code",
   "execution_count": 1,
   "metadata": {},
   "outputs": [],
   "source": [
    "using HDF5, JLD"
   ]
  },
  {
   "cell_type": "code",
   "execution_count": 2,
   "metadata": {
    "scrolled": false
   },
   "outputs": [],
   "source": [
    "using CSV, StatsBase, Statistics, DataFrames, FreqTables\n",
    "using BioProfiling"
   ]
  },
  {
   "cell_type": "code",
   "execution_count": 3,
   "metadata": {
    "scrolled": true
   },
   "outputs": [
    {
     "data": {
      "text/plain": [
       "2021-11-06T15:14:47.504"
      ]
     },
     "execution_count": 3,
     "metadata": {},
     "output_type": "execute_result"
    }
   ],
   "source": [
    "using Dates: now\n",
    "now()"
   ]
  },
  {
   "cell_type": "markdown",
   "metadata": {},
   "source": [
    "## Load measurements"
   ]
  },
  {
   "cell_type": "markdown",
   "metadata": {},
   "source": [
    "### Coarse-grain aggregation"
   ]
  },
  {
   "cell_type": "code",
   "execution_count": 4,
   "metadata": {
    "scrolled": true
   },
   "outputs": [],
   "source": [
    "aggregatedData = CSV.read(\"data/aggregatedData_750cells_noSparse.csv\", DataFrame);"
   ]
  },
  {
   "cell_type": "markdown",
   "metadata": {},
   "source": [
    "### Transform aggregated data - Normalization\n",
    "We want to focus on variables that are changing more overall than inside of reference condition (untreated WT)."
   ]
  },
  {
   "cell_type": "code",
   "execution_count": 5,
   "metadata": {},
   "outputs": [
    {
     "data": {
      "text/plain": [
       "\"Experiment with 6622/6622 entries and 390/390 features selected.\""
      ]
     },
     "execution_count": 5,
     "metadata": {},
     "output_type": "execute_result"
    }
   ],
   "source": [
    "expAgg = Experiment(aggregatedData, description = \"Median values for aggregated FOV measurements\")"
   ]
  },
  {
   "cell_type": "code",
   "execution_count": 6,
   "metadata": {},
   "outputs": [],
   "source": [
    "filters = Array{BioProfiling.AbstractSelector,1}()\n",
    "# Remove metadata\n",
    "strToRemove = [\"Metadata_Well\", \"CompoundName\", \"Metadata_Field\", \"Metadata_Row\", \"Metadata_Column\"]\n",
    "push!(filters, NameSelector(x -> !any(occursin.(strToRemove, String(x)))))\n",
    "# Remove constant columns\n",
    "push!(filters, Selector(x -> mad(x, normalize = true) != 0, description = \"Remove constant features\"));\n",
    "push!(filters, Selector(x -> mad(x, normalize = true) != 0, \n",
    "                        subset = x -> x.CompoundName .== \"DMSO\", \n",
    "                        description = \"Remove features constant for reference\"))\n",
    "select_features!(expAgg, filters)"
   ]
  },
  {
   "cell_type": "code",
   "execution_count": 7,
   "metadata": {
    "scrolled": true
   },
   "outputs": [
    {
     "data": {
      "text/plain": [
       "\"Transformed values for aggregated FOV measurements\""
      ]
     },
     "execution_count": 7,
     "metadata": {},
     "output_type": "execute_result"
    }
   ],
   "source": [
    "expTransformed = deepcopy(expAgg)\n",
    "logtransform!(expTransformed)\n",
    "expTransformed.description = \"Transformed values for aggregated FOV measurements\""
   ]
  },
  {
   "cell_type": "markdown",
   "metadata": {},
   "source": [
    "Here we apply a correction based on the specific details of the experimental design:\n",
    "All rows and columns include DMSO (negative) controls and we normalize all values based on these matchings controls (same row and column).  \n",
    "\n",
    "This examplifies how to directly modify the data of an `Experiment` object.  \n",
    "\n",
    "NB: One might want to check that more iterations are not needed (cf. Median-polish method)."
   ]
  },
  {
   "cell_type": "code",
   "execution_count": 8,
   "metadata": {},
   "outputs": [],
   "source": [
    "# Normalize on matching DMSO wells median values\n",
    "\n",
    "# Entries in both data frames are matching\n",
    "@assert nrow(aggregatedData) == nrow(getdata(expTransformed))\n",
    "\n",
    "# Copy data before correction\n",
    "ndf = getdata(expTransformed)\n",
    "\n",
    "for (i, (fx, fy)) in enumerate(eachrow(aggregatedData[:,[:Metadata_Row, :Metadata_Column]])) \n",
    "    c1 = aggregatedData.CompoundName .== \"DMSO\"\n",
    "    c2 = aggregatedData.Metadata_Row .== fx\n",
    "    c3 = aggregatedData.Metadata_Column .== fy\n",
    "    @assert sum((c1 .& (c2 .| c3))) > 0\n",
    "    expTransformed.data[i:i, expTransformed.selected_features] .-= \n",
    "        mapcols(median, ndf[(c1 .& (c2 .| c3)),:]) \n",
    "    expTransformed.data[i:i, expTransformed.selected_features] ./= \n",
    "        mapcols(mad, ndf[(c1 .& (c2 .| c3)),:]) \n",
    "end\n",
    "\n",
    "select_features!(expTransformed,\n",
    "                 Selector(x -> !any(isinf.(x)), \n",
    "                        description = \"Remove features with infinite values \" *\n",
    "                            \"(i.e. with no variation for a subset of the DMSO images)\"));\n",
    "\n",
    "decorrelate_by_mad!(expTransformed);"
   ]
  },
  {
   "cell_type": "code",
   "execution_count": 9,
   "metadata": {
    "scrolled": true
   },
   "outputs": [
    {
     "name": "stdout",
     "output_type": "stream",
     "text": [
      "Granularity_10_CorrCM_median\n",
      "Granularity_9_CorrCM_median\n",
      "AreaShape_FormFactor_1_median\n",
      "AreaShape_Solidity_median\n",
      "AreaShape_Zernike_3_1_1_median\n",
      "Intensity_MassDisplacement_CorrDNA_1_median\n",
      "Granularity_7_CorrActin_median\n",
      "AreaShape_Compactness_median\n",
      "AreaShape_Compactness_1_median\n",
      "RadialDistribution_RadialCV_CorrActin_2of3_median\n",
      "Granularity_3_CorrDNA_median\n",
      "AreaShape_FormFactor_2_median\n",
      "AreaShape_Zernike_6_4_median\n",
      "AreaShape_Zernike_8_6_2_median\n",
      "AreaShape_Zernike_8_8_2_median\n",
      "Intensity_MADIntensity_CorrCM_1_median\n",
      "RadialDistribution_RadialCV_CorrActin_1of3_median\n",
      "Intensity_MassDisplacement_CorrActin_median\n",
      "AreaShape_Zernike_9_9_2_median\n",
      "Granularity_1_CorrCM_median\n",
      "Granularity_2_CorrDNA_median\n",
      "AreaShape_Zernike_2_2_2_median\n",
      "AreaShape_Zernike_8_2_2_median\n",
      "AreaShape_Zernike_6_4_1_median\n",
      "AreaShape_Zernike_4_2_median\n",
      "Intensity_MinIntensityEdge_CorrActin_median\n",
      "AreaShape_Zernike_3_1_median\n",
      "RadialDistribution_FracAtD_CorrDNA_1of3_median\n",
      "Intensity_MassDisplacement_CorrActin_1_median\n",
      "AreaShape_Zernike_6_4_2_median\n",
      "Granularity_2_CorrActin_median\n",
      "AreaShape_MajorAxisLength_2_median\n",
      "Granularity_6_CorrActin_median\n",
      "Intensity_StdIntensityEdge_CorrActin_median\n",
      "AreaShape_Zernike_2_0_2_median\n",
      "AreaShape_Zernike_6_6_2_median\n",
      "AreaShape_Zernike_7_5_2_median\n",
      "RadialDistribution_RadialCV_CorrCM_2of3_median\n",
      "AreaShape_Zernike_7_7_2_median\n",
      "AreaShape_Eccentricity_median\n",
      "AreaShape_Zernike_5_5_2_median\n",
      "RadialDistribution_RadialCV_CorrDNA_2of3_median\n",
      "AreaShape_Zernike_4_4_2_median\n",
      "AreaShape_Zernike_2_0_median\n",
      "AreaShape_Zernike_3_3_median\n",
      "Intensity_IntegratedIntensity_CorrCM_1_median\n",
      "AreaShape_Zernike_8_6_median\n",
      "AreaShape_Solidity_2_median\n",
      "Granularity_1_CorrActin_median\n",
      "AreaShape_Zernike_5_5_median\n",
      "AreaShape_Zernike_8_0_2_median\n",
      "AreaShape_Zernike_9_7_2_median\n",
      "Granularity_2_CorrCM_median\n",
      "Granularity_7_CorrDNA_median\n",
      "AreaShape_Zernike_7_1_2_median\n",
      "AreaShape_Zernike_5_1_2_median\n",
      "AreaShape_Zernike_6_2_2_median\n",
      "RadialDistribution_FracAtD_CorrActin_1of3_median\n",
      "AreaShape_Zernike_6_0_2_median\n",
      "AreaShape_Zernike_7_7_median\n",
      "RadialDistribution_FracAtD_CorrActin_2of3_median\n",
      "AreaShape_Zernike_8_2_1_median\n",
      "Intensity_MassDisplacement_CorrCM_median\n",
      "AreaShape_Zernike_3_3_2_median\n",
      "RadialDistribution_ZernikeMagnitude_CorrCM_4_2_median\n",
      "Intensity_MADIntensity_CorrDNA_1_median\n",
      "AreaShape_Zernike_7_1_median\n",
      "Intensity_IntegratedIntensity_CorrActin_median\n",
      "AreaShape_Zernike_6_2_median\n",
      "RadialDistribution_FracAtD_CorrCM_1of3_median\n",
      "Granularity_3_CorrCM_median\n",
      "AreaShape_Zernike_8_4_2_median\n",
      "Intensity_IntegratedIntensityEdge_CorrActin_median\n",
      "AreaShape_Zernike_9_1_2_median\n",
      "AreaShape_Perimeter_median\n",
      "AreaShape_Zernike_8_6_1_median\n",
      "Granularity_4_CorrDNA_median\n",
      "AreaShape_Zernike_5_1_median\n",
      "Granularity_8_CorrDNA_median\n",
      "RadialDistribution_ZernikeMagnitude_CorrDNA_3_1_median\n",
      "AreaShape_Zernike_4_0_2_median\n",
      "AreaShape_Zernike_5_3_2_median\n",
      "AreaShape_Zernike_5_3_median\n",
      "Intensity_IntegratedIntensity_CorrDNA_1_median\n",
      "AreaShape_Zernike_9_3_median\n",
      "AreaShape_Eccentricity_2_median\n",
      "AreaShape_Zernike_9_9_median\n",
      "AreaShape_Zernike_8_4_median\n",
      "AreaShape_Zernike_5_1_1_median\n",
      "AreaShape_Zernike_6_2_1_median\n",
      "AreaShape_Zernike_7_3_1_median\n",
      "Intensity_MADIntensity_CorrCM_median\n",
      "AreaShape_Zernike_6_6_median\n",
      "AreaShape_Zernike_9_3_1_median\n",
      "Granularity_5_CorrActin_median\n",
      "AreaShape_Zernike_0_0_2_median\n",
      "AreaShape_Zernike_9_1_median\n",
      "RadialDistribution_ZernikeMagnitude_CorrCM_3_1_median\n",
      "AreaShape_Zernike_8_8_median\n",
      "AreaShape_Zernike_9_3_2_median\n",
      "RadialDistribution_ZernikeMagnitude_CorrCM_8_6_median\n",
      "Intensity_IntegratedIntensity_CorrActin_1_median\n",
      "AreaShape_Zernike_7_3_2_median\n",
      "AreaShape_Zernike_9_1_1_median\n",
      "RadialDistribution_ZernikeMagnitude_CorrActin_2_0_median\n",
      "AreaShape_Zernike_8_2_median\n",
      "AreaShape_Zernike_8_4_1_median\n",
      "AreaShape_Zernike_9_5_2_median\n",
      "Granularity_4_CorrActin_median\n",
      "Intensity_StdIntensity_CorrCM_median\n",
      "AreaShape_Zernike_7_3_median\n",
      "AreaShape_Zernike_1_1_median\n",
      "AreaShape_Zernike_6_0_median\n",
      "AreaShape_Zernike_1_1_1_median\n",
      "AreaShape_Zernike_7_5_1_median\n",
      "AreaShape_Zernike_3_3_1_median\n",
      "AreaShape_Zernike_4_4_median\n",
      "RadialDistribution_ZernikeMagnitude_CorrActin_3_1_median\n",
      "RadialDistribution_ZernikeMagnitude_CorrCM_9_3_median\n",
      "AreaShape_Zernike_7_5_median\n",
      "RadialDistribution_ZernikeMagnitude_CorrCM_6_0_median\n",
      "AreaShape_Zernike_9_9_1_median\n",
      "AreaShape_Zernike_9_7_median\n",
      "Intensity_StdIntensityEdge_CorrDNA_1_median\n",
      "RadialDistribution_ZernikeMagnitude_CorrCM_4_0_median\n",
      "AreaShape_Zernike_2_2_median\n",
      "AreaShape_Zernike_7_7_1_median\n",
      "Intensity_IntegratedIntensityEdge_CorrActin_1_median\n",
      "AreaShape_Zernike_5_3_1_median\n",
      "AreaShape_Zernike_1_1_2_median\n",
      "AreaShape_Zernike_9_5_1_median\n",
      "RadialDistribution_ZernikeMagnitude_CorrDNA_6_0_median\n",
      "AreaShape_Zernike_6_0_1_median\n",
      "AreaShape_Zernike_2_2_1_median\n",
      "AreaShape_Zernike_8_0_median\n",
      "AreaShape_Zernike_9_7_1_median\n",
      "RadialDistribution_MeanFrac_CorrCM_1of3_median\n",
      "AreaShape_Zernike_9_5_median\n",
      "AreaShape_Zernike_7_1_1_median\n",
      "RadialDistribution_RadialCV_CorrCM_1of3_median\n",
      "RadialDistribution_ZernikeMagnitude_CorrCM_8_2_median\n",
      "RadialDistribution_ZernikeMagnitude_CorrDNA_7_1_median\n",
      "RadialDistribution_ZernikeMagnitude_CorrDNA_5_1_median\n",
      "RadialDistribution_ZernikeMagnitude_CorrDNA_6_4_median\n",
      "RadialDistribution_RadialCV_CorrCM_3of3_median\n",
      "AreaShape_Zernike_5_5_1_median\n",
      "RadialDistribution_ZernikeMagnitude_CorrActin_8_0_median\n",
      "Intensity_MaxIntensity_CorrCM_median\n",
      "Granularity_8_CorrCM_median\n",
      "RadialDistribution_ZernikeMagnitude_CorrActin_8_6_median\n",
      "AreaShape_Zernike_8_0_1_median\n",
      "RadialDistribution_ZernikeMagnitude_CorrDNA_4_0_median\n",
      "RadialDistribution_ZernikeMagnitude_CorrCM_8_0_median\n",
      "AreaShape_Zernike_4_0_median\n",
      "Granularity_3_CorrActin_median\n",
      "AreaShape_Zernike_4_0_1_median\n",
      "AreaShape_Zernike_2_0_1_median\n",
      "RadialDistribution_ZernikeMagnitude_CorrActin_4_2_median\n",
      "RadialDistribution_ZernikeMagnitude_CorrDNA_6_2_median\n",
      "Intensity_StdIntensityEdge_CorrCM_1_median\n",
      "RadialDistribution_ZernikeMagnitude_CorrCM_9_1_median\n",
      "Granularity_5_CorrDNA_median\n",
      "Granularity_4_CorrCM_median\n",
      "Intensity_MinIntensity_CorrCM_1_median\n",
      "Granularity_16_CorrCM_median\n",
      "Intensity_IntegratedIntensityEdge_CorrCM_median\n",
      "Intensity_MassDisplacement_CorrCM_1_median\n",
      "RadialDistribution_ZernikeMagnitude_CorrDNA_3_3_median\n",
      "RadialDistribution_FracAtD_CorrCM_2of3_median\n",
      "AreaShape_Zernike_4_2_2_median\n",
      "AreaShape_Zernike_4_4_1_median\n",
      "RadialDistribution_RadialCV_CorrDNA_1of3_median\n",
      "Intensity_MassDisplacement_CorrDNA_median\n",
      "RadialDistribution_ZernikeMagnitude_CorrCM_3_3_median\n",
      "Intensity_MaxIntensity_CorrDNA_1_median\n",
      "RadialDistribution_ZernikeMagnitude_CorrDNA_7_3_median\n",
      "AreaShape_Zernike_3_1_2_median\n",
      "Intensity_IntegratedIntensityEdge_CorrDNA_1_median\n",
      "AreaShape_Zernike_8_8_1_median\n",
      "Intensity_MedianIntensity_CorrCM_median\n",
      "RadialDistribution_ZernikeMagnitude_CorrActin_6_0_median\n",
      "AreaShape_Zernike_6_6_1_median\n",
      "Intensity_IntegratedIntensityEdge_CorrDNA_median\n",
      "Granularity_15_CorrCM_median\n",
      "RadialDistribution_ZernikeMagnitude_CorrCM_9_9_median\n",
      "Granularity_13_CorrCM_median\n",
      "RadialDistribution_MeanFrac_CorrActin_2of3_median\n",
      "Intensity_MaxIntensityEdge_CorrCM_median\n",
      "Granularity_7_CorrCM_median\n",
      "RadialDistribution_ZernikeMagnitude_CorrActin_4_0_median\n",
      "Intensity_UpperQuartileIntensity_CorrDNA_median\n",
      "Granularity_5_CorrCM_median\n",
      "Intensity_MeanIntensityEdge_CorrCM_median\n",
      "Granularity_15_CorrActin_median\n",
      "Intensity_MinIntensity_CorrCM_median\n",
      "Granularity_14_CorrCM_median\n",
      "Granularity_14_CorrActin_median\n",
      "Granularity_16_CorrDNA_median\n",
      "Granularity_15_CorrDNA_median\n"
     ]
    },
    {
     "data": {
      "text/plain": [
       "199-element Array{Nothing,1}:\n",
       " nothing\n",
       " nothing\n",
       " nothing\n",
       " nothing\n",
       " nothing\n",
       " nothing\n",
       " nothing\n",
       " nothing\n",
       " nothing\n",
       " nothing\n",
       " nothing\n",
       " nothing\n",
       " nothing\n",
       " ⋮\n",
       " nothing\n",
       " nothing\n",
       " nothing\n",
       " nothing\n",
       " nothing\n",
       " nothing\n",
       " nothing\n",
       " nothing\n",
       " nothing\n",
       " nothing\n",
       " nothing\n",
       " nothing"
      ]
     },
     "execution_count": 9,
     "metadata": {},
     "output_type": "execute_result"
    }
   ],
   "source": [
    "println.(names(getdata(expTransformed)))"
   ]
  },
  {
   "cell_type": "markdown",
   "metadata": {},
   "source": [
    "## Interpretation - STable 2"
   ]
  },
  {
   "cell_type": "code",
   "execution_count": 10,
   "metadata": {},
   "outputs": [
    {
     "data": {
      "text/plain": [
       "10-element Array{String,1}:\n",
       " \"Granularity_10_CorrCM_median\"\n",
       " \"Granularity_9_CorrCM_median\"\n",
       " \"AreaShape_FormFactor_1_median\"\n",
       " \"AreaShape_Solidity_median\"\n",
       " \"AreaShape_Zernike_3_1_1_median\"\n",
       " \"Intensity_MassDisplacement_CorrDNA_1_median\"\n",
       " \"Granularity_7_CorrActin_median\"\n",
       " \"AreaShape_Compactness_median\"\n",
       " \"AreaShape_Compactness_1_median\"\n",
       " \"RadialDistribution_RadialCV_CorrActin_2of3_median\""
      ]
     },
     "execution_count": 10,
     "metadata": {},
     "output_type": "execute_result"
    }
   ],
   "source": [
    "most_variable_features(expTransformed, top = 10)"
   ]
  },
  {
   "cell_type": "markdown",
   "metadata": {},
   "source": [
    "## Interpret MOAs - Stable 3"
   ]
  },
  {
   "cell_type": "code",
   "execution_count": 11,
   "metadata": {
    "scrolled": true
   },
   "outputs": [
    {
     "data": {
      "text/plain": [
       "Dict{Any,Any} with 112 entries:\n",
       "  \"Amsacrine hydrochloride\"         => Any[\"Topoisomerase inhibitor\"]\n",
       "  \"CP466722\"                        => Any[\"ATM kinase inhibitor\"]\n",
       "  \"Nicardipine hydrochloride\"       => Any[\"Calcium channel blocker\"]\n",
       "  \"Ro 90-7501\"                      => Any[\"Beta amyloid inhibitor\"]\n",
       "  \"Trimipramine maleate\"            => Any[\"Norepinephrine reuptake inhibitor\",…\n",
       "  \"Sertaconazole nitrate\"           => Any[\"Sterol demethylase inhibitor\"]\n",
       "  \"Tizanidine hydrochloride\"        => Any[\"Adrenergic receptor agonist\"]\n",
       "  \"Y-27632 dihydrochloride\"         => Any[\"Rho associated kinase inhibitor\"]\n",
       "  \"Diphenyleneiodonium chloride\"    => Any[\"Nitric oxide synthase inhibitor\"]\n",
       "  \"Emetine dihydrochloride hydrate\" => Any[\"Protein synthesis inhibitor\"]\n",
       "  \"Gefitinib\"                       => Any[\"EGFR inhibitor\"]\n",
       "  \"Mibefradil dihydrochloride\"      => Any[\"T-type calcium channel blocker\"]\n",
       "  \"Mycophenolic Acid\"               => Any[\"Dehydrogenase inhibitor\", \"Inositol…\n",
       "  \"BW 723C86\"                       => Any[\"Serotonin receptor agonist\"]\n",
       "  \"(S)-Propranolol hydrochloride\"   => Any[\"Adrenergic receptor antagonist\"]\n",
       "  \"KU-55933\"                        => Any[\"ATM kinase inhibitor\"]\n",
       "  \"Maprotiline hydrochloride\"       => Any[\"Norepinephrine reuptake inhibitor\",…\n",
       "  \"SB 415286\"                       => Any[\"Glycogen synthase kinase inhibitor\"]\n",
       "  \"SR 59230A oxalate\"               => Any[\"Adrenergic receptor antagonist\"]\n",
       "  \"Nocodazole\"                      => Any[\"Tubulin inhibitor\"]\n",
       "  \"Niclosamide\"                     => Any[\"DNA replication inhibitor\", \"STAT i…\n",
       "  \"Mifepristone\"                    => Any[\"Glucocorticoid receptor antagonist\"…\n",
       "  \"Carmofur\"                        => Any[\"Thymidylate synthase inhibitor\"]\n",
       "  \"Kenpaullone\"                     => Any[\"CDK inhibitor\", \"Glycogen synthase …\n",
       "  \"Domperidone\"                     => Any[\"Dopamine receptor antagonist\"]\n",
       "  ⋮                                 => ⋮"
      ]
     },
     "execution_count": 11,
     "metadata": {},
     "output_type": "execute_result"
    }
   ],
   "source": [
    "MOA = load(\"data/MOA.jld\")[\"data\"]"
   ]
  },
  {
   "cell_type": "code",
   "execution_count": 12,
   "metadata": {
    "scrolled": true
   },
   "outputs": [
    {
     "data": {
      "text/plain": [
       "74-element Named Array{Int64,1}\n",
       "Dim1                                                                                                                                                                                                                         │ \n",
       "─────────────────────────────────────────────────────────────────────────────────────────────────────────────────────────────────────────────────────────────────────────────────────────────────────────────────────────────┼───\n",
       "Any[\"ATPase inhibitor\"]                                                                                                                                                                                                      │  1\n",
       "Any[\"ATPase inhibitor\", \"Gastrin inhibitor\"]                                                                                                                                                                                 │  1\n",
       "Any[\"Acetylcholinesterase inhibitor\", \"Acetylcholine release stimulant\", \"Butyrylcholinesterase inhibitor\", \"Potassium channel antagonist\"]                                                                                  │  1\n",
       "Any[\"Adenosine receptor antagonist\"]                                                                                                                                                                                         │  1\n",
       "Any[\"Adrenergic receptor agonist\"]                                                                                                                                                                                           │  1\n",
       "Any[\"Androgen receptor agonist\"]                                                                                                                                                                                             │  1\n",
       "Any[\"Androgen receptor antagonist\", \"Progesterone receptor agonist\", \"Testosterone receptor antagonist\"]                                                                                                                     │  1\n",
       "Any[\"Anthelmintic\", \"Tubulin inhibitor\"]                                                                                                                                                                                     │  1\n",
       "Any[\"Antiarrhythmic\"]                                                                                                                                                                                                        │  1\n",
       "Any[\"Antihypertensive\", \"Peptidase inhibitor\", \"Protease inhibitor\", \"Renin inhibitor\"]                                                                                                                                      │  1\n",
       "Any[\"Antimalarial\"]                                                                                                                                                                                                          │  1\n",
       "⋮                                                                                                                                                                                                                               ⋮\n",
       "Any[\"Opioid receptor agonist\"]                                                                                                                                                                                               │  2\n",
       "Any[\"Ribonucleotide reductase inhibitor\"]                                                                                                                                                                                    │  2\n",
       "Any[\"Selective serotonin reuptake inhibitor (SSRI)\"]                                                                                                                                                                         │  2\n",
       "Any[\"Sterol demethylase inhibitor\"]                                                                                                                                                                                          │  2\n",
       "Any[\"TRPV antagonist\"]                                                                                                                                                                                                       │  2\n",
       "Any[\"Tricyclic antidepressant\"]                                                                                                                                                                                              │  2\n",
       "Any[\"Norepinephrine reuptake inhibitor\", \"Tricyclic antidepressant\"]                                                                                                                                                         │  3\n",
       "Any[\"Topoisomerase inhibitor\"]                                                                                                                                                                                               │  4\n",
       "Any[\"Adrenergic receptor antagonist\"]                                                                                                                                                                                        │  6\n",
       "Any[\"Calcium channel blocker\"]                                                                                                                                                                                               │  8\n",
       "Any[\"Dopamine receptor antagonist\"]                                                                                                                                                                                          │ 11"
      ]
     },
     "execution_count": 12,
     "metadata": {},
     "output_type": "execute_result"
    }
   ],
   "source": [
    "sort(freqtable(collect(values(MOA))))"
   ]
  },
  {
   "cell_type": "code",
   "execution_count": 13,
   "metadata": {},
   "outputs": [
    {
     "name": "stdout",
     "output_type": "stream",
     "text": [
      "Fluoxetine hydrochlorideAny[\"Selective serotonin reuptake inhibitor (SSRI)\"]\n",
      "Paroxetine hydrochloride hemihydrate (MW = 374.83)Any[\"Selective serotonin reuptake inhibitor (SSRI)\"]\n"
     ]
    }
   ],
   "source": [
    "for (k,v) in MOA\n",
    "    if \"Selective serotonin reuptake inhibitor (SSRI)\" in v\n",
    "        println(k,v)\n",
    "    end\n",
    "end"
   ]
  },
  {
   "cell_type": "code",
   "execution_count": 14,
   "metadata": {},
   "outputs": [
    {
     "name": "stdout",
     "output_type": "stream",
     "text": [
      "Trimipramine maleateAny[\"Norepinephrine reuptake inhibitor\", \"Tricyclic antidepressant\"]\n",
      "Maprotiline hydrochlorideAny[\"Norepinephrine reuptake inhibitor\", \"Tricyclic antidepressant\"]\n",
      "Imipramine hydrochlorideAny[\"Norepinephrine reuptake inhibitor\", \"Serotonin reuptake inhibitor\"]\n",
      "MaprotilineAny[\"Norepinephrine reuptake inhibitor\", \"Tricyclic antidepressant\"]\n"
     ]
    }
   ],
   "source": [
    "for (k,v) in MOA\n",
    "    if \"Norepinephrine reuptake inhibitor\" in v\n",
    "        println(k,v)\n",
    "    end\n",
    "end"
   ]
  },
  {
   "cell_type": "code",
   "execution_count": 15,
   "metadata": {},
   "outputs": [
    {
     "name": "stdout",
     "output_type": "stream",
     "text": [
      "LoratadineAny[\"Histamine receptor antagonist\"]\n",
      "Pheniramine maleateAny[\"Histamine receptor antagonist\"]\n"
     ]
    }
   ],
   "source": [
    "for (k,v) in MOA\n",
    "    if \"Histamine receptor antagonist\" in v\n",
    "        println(k,v)\n",
    "    end\n",
    "end"
   ]
  },
  {
   "cell_type": "code",
   "execution_count": 16,
   "metadata": {},
   "outputs": [
    {
     "name": "stdout",
     "output_type": "stream",
     "text": [
      "KenpaulloneAny[\"CDK inhibitor\", \"Glycogen synthase kinase inhibitor\"]\n",
      "RoscovitineAny[\"CDK inhibitor\"]\n"
     ]
    }
   ],
   "source": [
    "for (k,v) in MOA\n",
    "    if \"CDK inhibitor\" in v\n",
    "        println(k,v)\n",
    "    end\n",
    "end"
   ]
  },
  {
   "cell_type": "code",
   "execution_count": 17,
   "metadata": {},
   "outputs": [
    {
     "name": "stdout",
     "output_type": "stream",
     "text": [
      "SB 415286Any[\"Glycogen synthase kinase inhibitor\"]\n",
      "KenpaulloneAny[\"CDK inhibitor\", \"Glycogen synthase kinase inhibitor\"]\n"
     ]
    }
   ],
   "source": [
    "for (k,v) in MOA\n",
    "    if \"Glycogen synthase kinase inhibitor\" in v\n",
    "        println(k,v)\n",
    "    end\n",
    "end"
   ]
  },
  {
   "cell_type": "code",
   "execution_count": 18,
   "metadata": {
    "scrolled": true
   },
   "outputs": [],
   "source": [
    "expTransformed.data.MOA = [x in keys(MOA) ? MOA[x] : [] for x in expTransformed.data.CompoundName];"
   ]
  },
  {
   "cell_type": "code",
   "execution_count": 19,
   "metadata": {},
   "outputs": [
    {
     "data": {
      "text/plain": [
       "Filter(\"DMSO\", :CompoundName, isequal, \"No description provided\")"
      ]
     },
     "execution_count": 19,
     "metadata": {},
     "output_type": "execute_result"
    }
   ],
   "source": [
    "pert = \"Glycogen synthase kinase inhibitor\"\n",
    "filtpert = Filter(pert, :MOA, compare = (x,y) -> y in x)\n",
    "filtref = Filter(\"DMSO\", :CompoundName)"
   ]
  },
  {
   "cell_type": "code",
   "execution_count": 20,
   "metadata": {},
   "outputs": [
    {
     "data": {
      "text/plain": [
       "format_differences_moa (generic function with 1 method)"
      ]
     },
     "execution_count": 20,
     "metadata": {},
     "output_type": "execute_result"
    }
   ],
   "source": [
    "function format_differences_moa(pert::String)\n",
    "    filtpert = Filter(pert, :MOA, compare = (x,y) -> y in x)\n",
    "    filtref = Filter(\"DMSO\", :CompoundName)\n",
    "    \n",
    "    println(\"Perturbation: \"*pert)   \n",
    "    # Display how many profiles are averaged\n",
    "    println(freqtable(expTransformed, filtpert))\n",
    " \n",
    "    println(join([pert, characteristic_features(expTransformed,\n",
    "                            filtpert, \n",
    "                            filtref,\n",
    "                            top = 4)...], '\\t'))\n",
    "end"
   ]
  },
  {
   "cell_type": "code",
   "execution_count": 21,
   "metadata": {},
   "outputs": [
    {
     "name": "stdout",
     "output_type": "stream",
     "text": [
      "Perturbation: CDK inhibitor\n",
      "2-element Named Array{Int64,1}\n",
      "Dim1      │ \n",
      "──────────┼─────\n",
      "Discarded │ 6583\n",
      "Kept      │   39\n",
      "CDK inhibitor\tAreaShape_Zernike_8_6_1_median\tRadialDistribution_ZernikeMagnitude_CorrCM_9_3_median\tIntensity_MaxIntensity_CorrCM_median\tAreaShape_Zernike_4_0_1_median\n"
     ]
    }
   ],
   "source": [
    "cdk_top = format_differences_moa(\"CDK inhibitor\");"
   ]
  },
  {
   "cell_type": "code",
   "execution_count": 22,
   "metadata": {},
   "outputs": [
    {
     "name": "stdout",
     "output_type": "stream",
     "text": [
      "Perturbation: Glycogen synthase kinase inhibitor\n",
      "2-element Named Array{Int64,1}\n",
      "Dim1      │ \n",
      "──────────┼─────\n",
      "Discarded │ 6583\n",
      "Kept      │   39\n",
      "Glycogen synthase kinase inhibitor\tRadialDistribution_ZernikeMagnitude_CorrDNA_7_3_median\tAreaShape_Zernike_8_6_1_median\tRadialDistribution_ZernikeMagnitude_CorrCM_9_3_median\tIntensity_MADIntensity_CorrCM_median\n"
     ]
    }
   ],
   "source": [
    "glyco_top = format_differences_moa(\"Glycogen synthase kinase inhibitor\");"
   ]
  },
  {
   "cell_type": "code",
   "execution_count": 23,
   "metadata": {},
   "outputs": [
    {
     "name": "stdout",
     "output_type": "stream",
     "text": [
      "Perturbation: Histamine receptor antagonist\n",
      "2-element Named Array{Int64,1}\n",
      "Dim1      │ \n",
      "──────────┼─────\n",
      "Discarded │ 6582\n",
      "Kept      │   40\n",
      "Histamine receptor antagonist\tAreaShape_Zernike_4_2_2_median\tAreaShape_Zernike_4_0_1_median\tRadialDistribution_ZernikeMagnitude_CorrCM_9_3_median\tIntensity_MaxIntensity_CorrCM_median\n"
     ]
    }
   ],
   "source": [
    "hista_top = format_differences_moa(\"Histamine receptor antagonist\");"
   ]
  },
  {
   "cell_type": "code",
   "execution_count": 24,
   "metadata": {},
   "outputs": [
    {
     "name": "stdout",
     "output_type": "stream",
     "text": [
      "Perturbation: Selective serotonin reuptake inhibitor (SSRI)\n",
      "2-element Named Array{Int64,1}\n",
      "Dim1      │ \n",
      "──────────┼─────\n",
      "Discarded │ 6582\n",
      "Kept      │   40\n",
      "Selective serotonin reuptake inhibitor (SSRI)\tAreaShape_Zernike_4_2_2_median\tAreaShape_Zernike_4_0_1_median\tRadialDistribution_ZernikeMagnitude_CorrDNA_7_3_median\tGranularity_1_CorrActin_median\n"
     ]
    }
   ],
   "source": [
    "ssri_top = format_differences_moa(\"Selective serotonin reuptake inhibitor (SSRI)\");"
   ]
  },
  {
   "cell_type": "code",
   "execution_count": 25,
   "metadata": {},
   "outputs": [
    {
     "name": "stdout",
     "output_type": "stream",
     "text": [
      "Perturbation: Norepinephrine reuptake inhibitor\n",
      "2-element Named Array{Int64,1}\n",
      "Dim1      │ \n",
      "──────────┼─────\n",
      "Discarded │ 6544\n",
      "Kept      │   78\n",
      "Norepinephrine reuptake inhibitor\tAreaShape_Zernike_4_2_2_median\tAreaShape_Zernike_4_0_1_median\tRadialDistribution_ZernikeMagnitude_CorrDNA_7_3_median\tAreaShape_Zernike_9_3_2_median\n"
     ]
    }
   ],
   "source": [
    "nore_top = format_differences_moa(\"Norepinephrine reuptake inhibitor\");"
   ]
  },
  {
   "cell_type": "markdown",
   "metadata": {},
   "source": [
    "## STable 1"
   ]
  },
  {
   "cell_type": "code",
   "execution_count": 26,
   "metadata": {},
   "outputs": [],
   "source": [
    "using HDF5, JLD\n",
    "MOA = load(\"data/MOA.jld\")[\"data\"]\n",
    "targets = load(\"data/target.jld\")[\"data\"];"
   ]
  },
  {
   "cell_type": "code",
   "execution_count": 27,
   "metadata": {
    "scrolled": true
   },
   "outputs": [],
   "source": [
    "transferlist = CSV.read(\"data/transferList.txt\", DataFrame);"
   ]
  },
  {
   "cell_type": "code",
   "execution_count": 28,
   "metadata": {},
   "outputs": [],
   "source": [
    "sf1 = DataFrame(CompoundName = sort(collect(skipmissing(unique(transferlist.CompoundName)))));"
   ]
  },
  {
   "cell_type": "code",
   "execution_count": 29,
   "metadata": {},
   "outputs": [],
   "source": [
    "sf1.MOA = map(x -> x in keys(MOA) ? Array{String}(MOA[x]) : missing, sf1.CompoundName);"
   ]
  },
  {
   "cell_type": "code",
   "execution_count": 30,
   "metadata": {},
   "outputs": [],
   "source": [
    "sf1.Targets = map(x -> x in keys(targets) ? Array{String}(targets[x]) : missing, sf1.CompoundName);"
   ]
  },
  {
   "cell_type": "code",
   "execution_count": 31,
   "metadata": {
    "scrolled": true
   },
   "outputs": [],
   "source": [
    "RMPV = CSV.read(\"data/RMPV.csv\", DataFrame) \n",
    "RMPV1500 = CSV.read(\"data/RMPV_1500.csv\", DataFrame);"
   ]
  },
  {
   "cell_type": "code",
   "execution_count": 32,
   "metadata": {},
   "outputs": [],
   "source": [
    "dict_rmpv_750 = Dict(row.Condition => row.RMPV for row in eachrow(RMPV))\n",
    "dict_rmpv_1500 = Dict(row.Condition => row.RMPV for row in eachrow(RMPV1500));"
   ]
  },
  {
   "cell_type": "code",
   "execution_count": 33,
   "metadata": {},
   "outputs": [],
   "source": [
    "sf1.RMPV750 = map(x -> x in keys(dict_rmpv_750) ? dict_rmpv_750[x] : missing, sf1.CompoundName)\n",
    "sf1.RMPV1500 = map(x -> x in keys(dict_rmpv_1500) ? dict_rmpv_1500[x] : missing, sf1.CompoundName);"
   ]
  },
  {
   "cell_type": "code",
   "execution_count": 34,
   "metadata": {},
   "outputs": [],
   "source": [
    "sf1.RMPV750 = round.(sf1.RMPV750, digits = 4)\n",
    "sf1.RMPV1500 = round.(sf1.RMPV1500, digits = 4);"
   ]
  },
  {
   "cell_type": "code",
   "execution_count": 35,
   "metadata": {},
   "outputs": [
    {
     "data": {
      "text/plain": [
       "Dict{Union{Missing, String},Union{Missing, Float64}} with 312 entries:\n",
       "  \"Clodronic acid\"                     => 20.0\n",
       "  \"Amsacrine hydrochloride\"            => 2.0\n",
       "  \"SID 3712249\"                        => 20.0\n",
       "  \"CP466722\"                           => 20.0\n",
       "  \"U-101958 maleate\"                   => 2.0\n",
       "  \"5-azacytidine\"                      => 19.9982\n",
       "  \"AZ191\"                              => 20.0\n",
       "  \"Trimipramine maleate\"               => 20.0\n",
       "  \"Thiabendazole\"                      => 20.0\n",
       "  \"Sertaconazole nitrate\"              => 20.0\n",
       "  \"(\\xb1)-Isoproterenol hydrochloride\" => 20.0\n",
       "  \"Benoxathian hydrochloride\"          => 20.0\n",
       "  \"Tizanidine hydrochloride\"           => 20.0\n",
       "  \"Lubeluzole dihydrochloride\"         => 20.0\n",
       "  \"GW9662\"                             => 20.0\n",
       "  \"Emetine dihydrochloride hydrate\"    => 20.0\n",
       "  \"Tyrphostin AG 879\"                  => 20.0\n",
       "  \"Lorcainide hydrochloride\"           => 2.0\n",
       "  \"Mibefradil dihydrochloride\"         => 0.2\n",
       "  \"Ro 11-1464\"                         => 20.0\n",
       "  \"Methiothepin mesylate\"              => 20.0\n",
       "  \"Icaritin\"                           => 20.0\n",
       "  \"(S)-Propranolol hydrochloride\"      => 2.0\n",
       "  \"SU 5416\"                            => 2.0\n",
       "  \"KU-55933\"                           => 2.0\n",
       "  ⋮                                    => ⋮"
      ]
     },
     "execution_count": 35,
     "metadata": {},
     "output_type": "execute_result"
    }
   ],
   "source": [
    "# Concentration * volume in nL out of 50 µL * 1000 (convert to µM)\n",
    "transferlist.Concentration = 1000 * transferlist.SourceConc_mM .* transferlist.VolumeTransferred_A / 50000;\n",
    "concDict = Dict(row.CompoundName => row.Concentration  for row in eachrow(transferlist))"
   ]
  },
  {
   "cell_type": "code",
   "execution_count": 36,
   "metadata": {},
   "outputs": [],
   "source": [
    "sf1.Concentration = [concDict[x] for x in sf1.CompoundName];"
   ]
  },
  {
   "cell_type": "code",
   "execution_count": 37,
   "metadata": {},
   "outputs": [],
   "source": [
    "CSV.write(\"data/SuppTab1.csv\", sf1);"
   ]
  }
 ],
 "metadata": {
  "kernelspec": {
   "display_name": "Julia 1.5.3",
   "language": "julia",
   "name": "julia-1.5"
  },
  "language_info": {
   "file_extension": ".jl",
   "mimetype": "application/julia",
   "name": "julia",
   "version": "1.5.3"
  }
 },
 "nbformat": 4,
 "nbformat_minor": 4
}
