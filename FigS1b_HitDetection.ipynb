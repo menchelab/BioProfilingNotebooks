{
 "cells": [
  {
   "cell_type": "code",
   "execution_count": null,
   "metadata": {
    "scrolled": true
   },
   "outputs": [],
   "source": [
    "using CSV, StatsBase, Statistics, DataFrames, RCall, FreqTables\n",
    "using MultipleTesting, Random, MultivariateStats, Distributed\n",
    "using ParallelDataTransfer\n",
    "using BioProfiling, UMAP"
   ]
  },
  {
   "cell_type": "code",
   "execution_count": null,
   "metadata": {
    "scrolled": true
   },
   "outputs": [],
   "source": [
    "using Dates: now\n",
    "now()"
   ]
  },
  {
   "cell_type": "code",
   "execution_count": null,
   "metadata": {},
   "outputs": [],
   "source": [
    "# Set the number of processes to use for parallel computing\n",
    "addprocs(16)\n",
    "pool = CachingPool(workers())"
   ]
  },
  {
   "cell_type": "markdown",
   "metadata": {},
   "source": [
    "## R Calls"
   ]
  },
  {
   "cell_type": "code",
   "execution_count": null,
   "metadata": {},
   "outputs": [],
   "source": [
    "@rlibrary ggplot2\n",
    "@rlibrary extrafont\n",
    "@rlibrary viridis\n",
    "@rlibrary heatmaply\n",
    "@rlibrary ggrepel"
   ]
  },
  {
   "cell_type": "code",
   "execution_count": null,
   "metadata": {
    "scrolled": true
   },
   "outputs": [],
   "source": [
    "R\"\"\"\n",
    "# Used later for MCD computation\n",
    "\n",
    "library(robustbase)\n",
    "\n",
    "# Customize ggplot appearance\n",
    "\n",
    "library(ggplot2)\n",
    "library(extrafont)\n",
    "\n",
    "\n",
    "# Load extra fonts\n",
    "# ttf_import(\"/tmp/.fonts\")\n",
    "# loadfonts()\n",
    "\n",
    "# Change theme\n",
    "customTheme <- theme_light() + \n",
    "               theme(panel.grid.minor=element_blank(), text=element_text(size=17, family=\"Arial\", colour = \"#333333\"),\n",
    "                     line=element_line(colour = \"#333333\"), \n",
    "                     legend.background = element_rect(fill=alpha('#CCCCCC', 0.1)), legend.key = element_blank())\n",
    "\n",
    "# Change default colors\n",
    "scale_colour_continuous <- function (..., begin = 0.1, end = 0.9, direction = -1, option = \"plasma\", \n",
    "                                     type = getOption(\"ggplot2.continuous.colour\", default = \"viridis\")) {\n",
    "    switch(type, gradient = scale_colour_gradient(...), \n",
    "        viridis = scale_colour_viridis_c(option = option, begin = begin, end = end, direction = direction, ...), \n",
    "        stop(\"Unknown scale type\", call. = FALSE))\n",
    "}\n",
    "scale_color_continuous <- scale_colour_continuous\n",
    "\n",
    "scale_fill_continuous <- function (..., begin = 0.1, end = 0.9, direction = -1, option = \"plasma\", \n",
    "                                     type = getOption(\"ggplot2.continuous.colour\", default = \"viridis\")) {\n",
    "    switch(type, gradient = scale_fill_gradient(...), \n",
    "        viridis = scale_fill_viridis_c(option = option, begin = begin, end = end, direction = direction, ...), \n",
    "        stop(\"Unknown scale type\", call. = FALSE))\n",
    "\n",
    "}\n",
    "\n",
    "cemm_pal = colorRampPalette(c(\"#5A463C\", \"#008CAD\", \"#40B9D4\", \"#D4ECF2\", \"#D2323C\", \"#F8B100\", \"#DFDC00\"))\n",
    "scale_fill_discrete <- function (..., type = \"CeMM\", h = c(0, 360) + 15, c = 100, l = 65, h.start = 0, \n",
    "    direction = 1, na.value = \"grey50\", aesthetics = \"fill\") \n",
    "{\n",
    "    if (type == \"CeMM\"){\n",
    "        discrete_scale(aesthetics, \"CeMM\", cemm_pal, na.value = na.value, ...)\n",
    "    } else {\n",
    "        discrete_scale(aesthetics, \"hue\", hue_pal(h, c, l, h.start, \n",
    "            direction), na.value = na.value, ...)\n",
    "    }\n",
    "}\n",
    "\n",
    "scale_color_discrete <- function (..., type = \"CeMM\", h = c(0, 360) + 15, c = 100, l = 65, h.start = 0, \n",
    "    direction = 1, na.value = \"grey50\", aesthetics = \"colour\") {\n",
    "    if (type == \"CeMM\"){\n",
    "        discrete_scale(aesthetics, \"CeMM\", cemm_pal, na.value = na.value, ...)\n",
    "    } else {\n",
    "        discrete_scale(aesthetics, \"hue\", scales::hue_pal(h, c, l, h.start, \n",
    "            direction), na.value = na.value, ...)\n",
    "    }\n",
    "}\n",
    "scale_colour_discrete <- scale_color_discrete\n",
    "\n",
    "noGridTheme <- function(...){\n",
    "    theme(panel.grid.major=element_blank(), axis.text.x=element_text(size=12), axis.text.y=element_text(size=12),\n",
    "                      axis.line=element_line(color=\"#333333\", size = 0.2), panel.border = element_blank(), ...)\n",
    "}\n",
    "\n",
    "darkTheme <- function(...){\n",
    "    theme(panel.background = element_rect(fill = '#333333'), plot.background = element_rect(fill = '#333333'), \n",
    "          axis.line=element_line(color=\"#CCCCCC\", size = 0.2), \n",
    "          text=element_text(size=17, family=\"Arial\", colour = \"#CCCCCC\"),\n",
    "          line=element_line(colour = \"#CCCCCC\"))\n",
    "}\n",
    "\n",
    "theme_set(customTheme)\n",
    "\n",
    "options(repr.plot.width=10, repr.plot.height=10)\n",
    "\"\"\""
   ]
  },
  {
   "cell_type": "markdown",
   "metadata": {},
   "source": [
    "## Load measurements"
   ]
  },
  {
   "cell_type": "markdown",
   "metadata": {},
   "source": [
    "### Load annotations"
   ]
  },
  {
   "cell_type": "code",
   "execution_count": null,
   "metadata": {},
   "outputs": [],
   "source": [
    "annotations = CSV.read(\"data/transferList.txt\", DataFrame, header = 1, delim = \"\\t\")\n",
    "# Convert plate number to strings to make clear it is an ID and should not be used for computations\n",
    "annotations[!,:DestinationPlate] = string.(annotations[:,:DestinationPlate])\n",
    "# Wells in the transfer list without any compound name are filled with DMSO only\n",
    "annotations[!,:CompoundName][ismissing.(annotations[:,:CompoundName])] .= \"DMSO\"\n",
    "# A non-ASCII characters needs to be converted\n",
    "annotations.CompoundName = replace.(annotations.CompoundName, \"\\xb1\" => s\"±\");"
   ]
  },
  {
   "cell_type": "code",
   "execution_count": null,
   "metadata": {
    "scrolled": true
   },
   "outputs": [],
   "source": [
    "annotations"
   ]
  },
  {
   "cell_type": "markdown",
   "metadata": {},
   "source": [
    "### Load image data"
   ]
  },
  {
   "cell_type": "code",
   "execution_count": null,
   "metadata": {
    "scrolled": true
   },
   "outputs": [],
   "source": [
    "image = CSV.read(\"data/compiled_PilotDrugScreen_Image_1500.csv\", DataFrame)\n",
    "println(string.(names(image))[1:8])\n",
    "# Number of images and features available\n",
    "println(nrow(image))\n",
    "println(ncol(image))"
   ]
  },
  {
   "cell_type": "markdown",
   "metadata": {},
   "source": [
    "## Coarse-grain aggregation"
   ]
  },
  {
   "cell_type": "code",
   "execution_count": null,
   "metadata": {
    "scrolled": true
   },
   "outputs": [],
   "source": [
    "aggregatedData = CSV.read(\"data/aggregatedData_1500cells_noSparse.csv\", DataFrame);"
   ]
  },
  {
   "cell_type": "markdown",
   "metadata": {},
   "source": [
    "### Transform aggregated data - Normalization\n",
    "We want to focus on variables that are changing more overall than inside of reference condition (untreated WT)."
   ]
  },
  {
   "cell_type": "code",
   "execution_count": null,
   "metadata": {},
   "outputs": [],
   "source": [
    "expAgg = Experiment(aggregatedData, description = \"Median values for aggregated FOV measurements\")"
   ]
  },
  {
   "cell_type": "code",
   "execution_count": null,
   "metadata": {},
   "outputs": [],
   "source": [
    "filters = Array{BioProfiling.AbstractSelector,1}()\n",
    "# Remove metadata\n",
    "strToRemove = [\"Metadata_Well\", \"CompoundName\", \"Metadata_Field\", \"Metadata_Row\", \"Metadata_Column\"]\n",
    "push!(filters, NameSelector(x -> !any(occursin.(strToRemove, String(x)))))\n",
    "# Remove constant columns\n",
    "push!(filters, Selector(x -> mad(x, normalize = true) != 0, description = \"Remove constant features\"));\n",
    "push!(filters, Selector(x -> mad(x, normalize = true) != 0, \n",
    "                        subset = x -> x.CompoundName .== \"DMSO\", \n",
    "                        description = \"Remove features constant for reference\"))\n",
    "select_features!(expAgg, filters)"
   ]
  },
  {
   "cell_type": "code",
   "execution_count": null,
   "metadata": {
    "scrolled": true
   },
   "outputs": [],
   "source": [
    "expTransformed = deepcopy(expAgg)\n",
    "logtransform!(expTransformed)\n",
    "expTransformed.description = \"Transformed values for aggregated FOV measurements\""
   ]
  },
  {
   "cell_type": "markdown",
   "metadata": {},
   "source": [
    "Here we apply a correction based on the specific details of the experimental design:\n",
    "All rows and columns include DMSO (negative) controls and we normalize all values based on these matchings controls (same row and column).  \n",
    "\n",
    "This examplifies how to directly modify the data of an `Experiment` object.  \n",
    "\n",
    "NB: One might want to check that more iterations are not needed (cf. Median-polish method)."
   ]
  },
  {
   "cell_type": "code",
   "execution_count": null,
   "metadata": {},
   "outputs": [],
   "source": [
    "# Normalize on matching DMSO wells median values\n",
    "\n",
    "# Entries in both data frames are matching\n",
    "@assert nrow(aggregatedData) == nrow(getdata(expTransformed))\n",
    "\n",
    "# Copy data before correction\n",
    "ndf = getdata(expTransformed)\n",
    "\n",
    "for (i, (fx, fy)) in enumerate(eachrow(aggregatedData[:,[:Metadata_Row, :Metadata_Column]])) \n",
    "    c1 = aggregatedData.CompoundName .== \"DMSO\"\n",
    "    c2 = aggregatedData.Metadata_Row .== fx\n",
    "    c3 = aggregatedData.Metadata_Column .== fy\n",
    "    @assert sum((c1 .& (c2 .| c3))) > 0\n",
    "    expTransformed.data[i:i, expTransformed.selected_features] .-= \n",
    "        mapcols(median, ndf[(c1 .& (c2 .| c3)),:]) \n",
    "    expTransformed.data[i:i, expTransformed.selected_features] ./= \n",
    "        mapcols(mad, ndf[(c1 .& (c2 .| c3)),:]) \n",
    "end\n",
    "\n",
    "select_features!(expTransformed,\n",
    "                 Selector(x -> !any(isinf.(x)), \n",
    "                        description = \"Remove features with infinite values \" *\n",
    "                            \"(i.e. with no variation for a subset of the DMSO images)\"));\n",
    "\n",
    "decorrelate_by_mad!(expTransformed);"
   ]
  },
  {
   "cell_type": "markdown",
   "metadata": {},
   "source": [
    "## Visualization"
   ]
  },
  {
   "cell_type": "code",
   "execution_count": null,
   "metadata": {},
   "outputs": [],
   "source": [
    "using Distances"
   ]
  },
  {
   "cell_type": "code",
   "execution_count": null,
   "metadata": {},
   "outputs": [],
   "source": [
    "Random.seed!(3895)\n",
    "umTPM = umap(expTransformed, metric = CosineDist(), min_dist = 2)\n",
    "umTPM = convert(DataFrame, umTPM')\n",
    "rename!(umTPM, [:UMAP1, :UMAP2]);\n",
    "umTPM.Compound = aggregatedData.CompoundName\n",
    "\n",
    "subsetCompounds = [\"Vinblastine\", \"Pentamidine\", \"Furamidine\", \"DMSO\"]\n",
    "subsetEntries = Bool.(map(sum, eachcol(map(x -> occursin.(x, umTPM.Compound), subsetCompounds)))[1])\n",
    "ggplot(umTPM[subsetEntries,:], aes(:UMAP1, :UMAP2)) + \n",
    "    geom_point(aes(color = :Compound), alpha = 0.8) +\n",
    "    coord_fixed() + \n",
    "    theme(var\"legend.position\"=\"bottom\", var\"legend.spacing.x\" = unit(0.35, \"cm\"), \n",
    "    var\"legend.spacing.y\" = unit(0, \"cm\")) + \n",
    "    guides(color=guide_legend(nrow=3,byrow=true))"
   ]
  },
  {
   "cell_type": "markdown",
   "metadata": {},
   "source": [
    "## Distance to DMSO"
   ]
  },
  {
   "cell_type": "markdown",
   "metadata": {},
   "source": [
    "### UMAP-based distance"
   ]
  },
  {
   "cell_type": "code",
   "execution_count": null,
   "metadata": {},
   "outputs": [],
   "source": [
    "Random.seed!(3895)\n",
    "umTPM = umap(expTransformed, 4, metric = CosineDist(), min_dist = 2)\n",
    "umTPM = convert(DataFrame, umTPM')\n",
    "rename!(umTPM, [:UMAP1, :UMAP2, :UMAP3, :UMAP4])\n",
    "umTPM.Compound = aggregatedData.CompoundName;"
   ]
  },
  {
   "cell_type": "code",
   "execution_count": null,
   "metadata": {},
   "outputs": [],
   "source": [
    "expUMAP = Experiment(umTPM, description = \"UMAP projection of profiling data\")"
   ]
  },
  {
   "cell_type": "code",
   "execution_count": null,
   "metadata": {},
   "outputs": [],
   "source": [
    "filters = Array{BioProfiling.AbstractReduce,1}()\n",
    "# Remove (categorical) compound column from analysis\n",
    "push!(filters, NameSelector(x -> x != \"Compound\"))\n",
    "# Remove entries for compounds not present often enough\n",
    "cmpd_to_keep = levels(umTPM.Compound)[freqtable(umTPM.Compound) .>= 8]\n",
    "compare_in(x,y) = x in y\n",
    "Broadcast.broadcasted(::typeof(compare_in), x, y) = broadcast(in, x, Ref(y))\n",
    "push!(filters, Filter(cmpd_to_keep, :Compound, compare = compare_in))\n",
    "# Apply filters\n",
    "filter!(expUMAP, filters)\n",
    "expUMAP"
   ]
  },
  {
   "cell_type": "markdown",
   "metadata": {},
   "source": [
    "NB: because the `compare` function of Filter `f` is applied as f.compare.(entries, f.value)\n",
    "the value provided needs to be of the length of the entries or of length 1.  \n",
    "Otherwise, when broadcasting (calling `f.compare` on all elements with `f.compare.`), we need to specify that the `f.value` should be used \"as is\". This is done by overloading the broadcasting of the function. See:   \n",
    "https://discourse.julialang.org/t/how-to-broadcast-over-only-certain-function-arguments/19274/5  \n",
    "Another \"trick\" is to use a function that takes a length 1 value that is in practice not used:  \n",
    "```julia\n",
    "push!(filters, Filter(\"NotUsed\", :Compound, compare = (x,y) -> (x in cmpd_to_keep)))\n",
    "```"
   ]
  },
  {
   "cell_type": "code",
   "execution_count": null,
   "metadata": {
    "scrolled": true
   },
   "outputs": [],
   "source": [
    "# The following RMD values are displayed in the following order:\n",
    "selectedCompounds = expUMAP.data[expUMAP.selected_entries, :Compound]\n",
    "levels(selectedCompounds)"
   ]
  },
  {
   "cell_type": "markdown",
   "metadata": {},
   "source": [
    "### Compute Robust Morphological Perturbation Value (RMPV)"
   ]
  },
  {
   "cell_type": "markdown",
   "metadata": {},
   "source": [
    "Note: with previous versions of Julia, pmap was slower than using SharedArrays and a `@sync @distributed for` loops. This is not the case for Julia 1.5, so we use pmap for the sake of readability."
   ]
  },
  {
   "cell_type": "code",
   "execution_count": null,
   "metadata": {},
   "outputs": [],
   "source": [
    "now()"
   ]
  },
  {
   "cell_type": "markdown",
   "metadata": {},
   "source": [
    "Takes ~1h40mn with 16 cores"
   ]
  },
  {
   "cell_type": "code",
   "execution_count": null,
   "metadata": {
    "scrolled": true
   },
   "outputs": [],
   "source": [
    "@everywhere using BioProfiling\n",
    "plateRMPV = robust_morphological_perturbation_value(expUMAP, :Compound, \"DMSO\"; \n",
    "    nb_rep = 5000, dist = :RobHellinger, process_pool = pool)"
   ]
  },
  {
   "cell_type": "code",
   "execution_count": null,
   "metadata": {},
   "outputs": [],
   "source": [
    "now()"
   ]
  },
  {
   "cell_type": "code",
   "execution_count": null,
   "metadata": {},
   "outputs": [],
   "source": [
    "# Missing values might need to be handled\n",
    "@assert !any(ismissing.(plateRMPV.RMPV))"
   ]
  },
  {
   "cell_type": "code",
   "execution_count": null,
   "metadata": {},
   "outputs": [],
   "source": [
    "# Export to avoid recomputing if not necessary\n",
    "CSV.write(\"data/RMPV_1500.csv\", plateRMPV);"
   ]
  },
  {
   "cell_type": "code",
   "execution_count": null,
   "metadata": {
    "scrolled": true
   },
   "outputs": [],
   "source": [
    "cpd_to_label = [\"DMSO\", \"Vinblastine\", \"Pentamidine\", \"Wiskostatin\", \n",
    "     \"Gefitinib\", \"Imatinib\", \"Hydroxychloroquine\"]\n",
    "plateRMPV.Label = [x in cpd_to_label ? x : \"\" for x in plateRMPV.Condition];"
   ]
  },
  {
   "cell_type": "code",
   "execution_count": null,
   "metadata": {},
   "outputs": [],
   "source": [
    "# Display number of positive tests\n",
    "gp = ggplot(plateRMPV, aes(x = :RMPV, y = :Distance)) + geom_point(aes(color = :Condition)) + \n",
    "    geom_vline(xintercept = 0.05, linetype = \"dashed\") +\n",
    "    geom_label_repel(aes(label = :Label), size = 5) + \n",
    "    guides(color = false) +\n",
    "    xlab(\"FDR-corrected p-value\") +\n",
    "    ylab(\"Robust Hellinger Distance\") +\n",
    "    RObject(nothing)\n",
    "print(gp);"
   ]
  },
  {
   "cell_type": "code",
   "execution_count": null,
   "metadata": {},
   "outputs": [],
   "source": [
    "ggsave(\"fig/UMAP_RMPV_test_hellinger_annotated_1500.pdf\", gp);"
   ]
  },
  {
   "cell_type": "markdown",
   "metadata": {},
   "source": [
    "With this method, we find 229 strong hits (FDR .05) or 242 (FDR .1)."
   ]
  },
  {
   "cell_type": "code",
   "execution_count": null,
   "metadata": {},
   "outputs": [],
   "source": [
    "println.(plateRMPV[plateRMPV.RMPV .< 0.1,:Condition]);"
   ]
  },
  {
   "cell_type": "code",
   "execution_count": null,
   "metadata": {},
   "outputs": [],
   "source": [
    "println.(plateRMPV[plateRMPV.RMPV .< 0.05,:Condition]);"
   ]
  },
  {
   "cell_type": "markdown",
   "metadata": {},
   "source": [
    "## Display tops and flops"
   ]
  },
  {
   "cell_type": "code",
   "execution_count": null,
   "metadata": {},
   "outputs": [],
   "source": [
    "plateRMPV.Condition[sortperm(plateRMPV.Distance)[1:10]]"
   ]
  },
  {
   "cell_type": "code",
   "execution_count": null,
   "metadata": {},
   "outputs": [],
   "source": [
    "plateRMPV.Condition[sortperm(plateRMPV.Distance)[(end-9):end]]"
   ]
  },
  {
   "cell_type": "code",
   "execution_count": null,
   "metadata": {
    "scrolled": true
   },
   "outputs": [],
   "source": [
    "Random.seed!(3895)\n",
    "umTPM = umap(expTransformed, metric = CosineDist(), min_dist = 2)\n",
    "umTPM = convert(DataFrame, umTPM')\n",
    "rename!(umTPM, [:UMAP1, :UMAP2]);\n",
    "umTPM.Compound = aggregatedData.CompoundName;"
   ]
  },
  {
   "cell_type": "code",
   "execution_count": null,
   "metadata": {},
   "outputs": [],
   "source": [
    "subsetCompounds = [\"Tyrphostin AG 879\", \"Loperamide\", \"DMSO\", \"Endoxifen\"]\n",
    "subsetEntries = Bool.(map(sum, eachcol(map(x -> occursin.(x, umTPM.Compound), subsetCompounds)))[1])\n",
    "ggplot(umTPM[subsetEntries,:], aes(:UMAP1, :UMAP2)) + \n",
    "    geom_point(aes(color = :Compound), alpha = 0.8) +\n",
    "    coord_fixed() + \n",
    "    theme(var\"legend.position\"=\"bottom\", var\"legend.spacing.x\" = unit(0.35, \"cm\"), \n",
    "    var\"legend.spacing.y\" = unit(0, \"cm\")) + \n",
    "    guides(color=guide_legend(nrow=3,byrow=true))"
   ]
  },
  {
   "cell_type": "code",
   "execution_count": null,
   "metadata": {},
   "outputs": [],
   "source": [
    "subsetCompounds = [\"Azatadine\", \"Colchicine\", \"CGS-15943\", \"DMSO\", \"Dipyridamole\"]\n",
    "subsetEntries = Bool.(map(sum, eachcol(map(x -> occursin.(x, umTPM.Compound), subsetCompounds)))[1])\n",
    "ggplot(umTPM[subsetEntries,:], aes(:UMAP1, :UMAP2)) + \n",
    "    geom_point(aes(color = :Compound), alpha = 0.8) +\n",
    "    coord_fixed() + \n",
    "    theme(var\"legend.position\"=\"bottom\", var\"legend.spacing.x\" = unit(0.35, \"cm\"), \n",
    "    var\"legend.spacing.y\" = unit(0, \"cm\")) + \n",
    "    guides(color=guide_legend(nrow=3,byrow=true))"
   ]
  },
  {
   "cell_type": "markdown",
   "metadata": {},
   "source": [
    "## Compare to other plate\n",
    "Note that \"DMSO\" and \"None\" (control wells) are not hits. To judge the reproducibility of the experiments, we now want to compare the hit compounds found in both plates compared to the total numbers of compound tested (311) with an independence test."
   ]
  },
  {
   "cell_type": "code",
   "execution_count": null,
   "metadata": {},
   "outputs": [],
   "source": [
    "sparseRMPV = CSV.read(\"data/RMPV.csv\", DataFrame);"
   ]
  },
  {
   "cell_type": "code",
   "execution_count": null,
   "metadata": {},
   "outputs": [],
   "source": [
    "hit1500 = plateRMPV.Condition[plateRMPV.RMPV .< 0.1]\n",
    "hit750 = sparseRMPV.Condition[sparseRMPV.RMPV .< 0.1];"
   ]
  },
  {
   "cell_type": "code",
   "execution_count": null,
   "metadata": {},
   "outputs": [],
   "source": [
    "# Jaccard coeff\n",
    "length(hit750 ∩ hit1500) / length(hit750 ∪ hit1500)"
   ]
  },
  {
   "cell_type": "code",
   "execution_count": null,
   "metadata": {},
   "outputs": [],
   "source": [
    "# Total number of compounds\n",
    "N = 311\n",
    "# Contingency table \n",
    "# Rows = hits at 1500c/w or not\n",
    "# Columns = hits at 750c/w or not\n",
    "O = zeros(Int,2,2)\n",
    "O[1,1] = length(hit750 ∩ hit1500)\n",
    "O[2,1] = length(hit750) - O[1,1]\n",
    "O[1,2] = length(hit1500) - O[1,1]\n",
    "O[2,2] = N - sum(O)\n",
    "O"
   ]
  },
  {
   "cell_type": "code",
   "execution_count": null,
   "metadata": {
    "scrolled": true
   },
   "outputs": [],
   "source": [
    "# Expectation if plates are independent\n",
    "E = sum.(eachrow(O))./N * (sum.(eachcol(O))./N)'"
   ]
  },
  {
   "cell_type": "code",
   "execution_count": null,
   "metadata": {
    "scrolled": true
   },
   "outputs": [],
   "source": [
    "chisq = N*sum((O/N - E).^2 ./E)"
   ]
  },
  {
   "cell_type": "code",
   "execution_count": null,
   "metadata": {},
   "outputs": [],
   "source": [
    "using Distributions \n",
    "# (number of rows - 1)*(number of columns - 1)\n",
    "ccdf(Chisq(1), chisq)"
   ]
  },
  {
   "cell_type": "markdown",
   "metadata": {},
   "source": [
    "## Visualize distances in both plates"
   ]
  },
  {
   "cell_type": "code",
   "execution_count": null,
   "metadata": {
    "scrolled": true
   },
   "outputs": [],
   "source": [
    "bothRMPV = innerjoin(sparseRMPV, plateRMPV,\n",
    "          makeunique=true,\n",
    "          on = :Condition)"
   ]
  },
  {
   "cell_type": "code",
   "execution_count": null,
   "metadata": {},
   "outputs": [],
   "source": [
    "cpd_to_label = [\"DMSO\", \"Vinblastine\", \"Wiskostatin\"]\n",
    "bothRMPV.Label = [x in cpd_to_label ? x : \"\" for x in bothRMPV.Condition];"
   ]
  },
  {
   "cell_type": "code",
   "execution_count": null,
   "metadata": {},
   "outputs": [],
   "source": [
    "gp = ggplot(bothRMPV, aes(x = :RMPV, y = :RMPV_1)) +\n",
    "    geom_point(alpha = 0.2) +\n",
    "    geom_density_2d() +\n",
    "    geom_vline(xintercept = 0.1, lty = 2) + \n",
    "    geom_hline(yintercept = 0.1, lty = 2) + \n",
    "    geom_label_repel(aes(label = :Label), size = 5) + \n",
    "    xlab(\"Plate at 750 cells/well\") +\n",
    "    ylab(\"Plate at 1500 cells/well\") +\n",
    "    ggtitle(\"FDR-corrected p-value per treatment\") +\n",
    "    RObject(nothing)\n",
    "gp"
   ]
  },
  {
   "cell_type": "code",
   "execution_count": null,
   "metadata": {},
   "outputs": [],
   "source": [
    "ggsave(\"fig/RMPV_agreement.pdf\", gp);"
   ]
  }
 ],
 "metadata": {
  "kernelspec": {
   "display_name": "Julia 1.5.3",
   "language": "julia",
   "name": "julia-1.5"
  },
  "language_info": {
   "file_extension": ".jl",
   "mimetype": "application/julia",
   "name": "julia",
   "version": "1.5.3"
  }
 },
 "nbformat": 4,
 "nbformat_minor": 4
}
